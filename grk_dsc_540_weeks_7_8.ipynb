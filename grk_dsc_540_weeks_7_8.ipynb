{
 "cells": [
  {
   "cell_type": "markdown",
   "id": "ecda6e03",
   "metadata": {},
   "source": [
    "# DSC 540 Week 7-8\n",
    "# Kannur, Gyan\n"
   ]
  },
  {
   "cell_type": "markdown",
   "id": "1ab46ca5",
   "metadata": {},
   "source": [
    "**Activity : For this assignment you need to complete 8 of the following exercises against this data.**\n",
    "\n",
    "**Chapter 7**\n",
    "\n",
    "• Filter out missing data\n",
    "\n",
    "• Fill in missing data\n",
    "\n",
    "• Remove duplicates\n",
    "\n",
    "• Transform data using either mapping or a function\n",
    "\n",
    "• Replace values\n",
    "\n",
    "• Discretization and Binning\n",
    "\n",
    "• Manipulate Strings\n",
    "\n",
    "**Chapter 8**\n",
    "\n",
    "• Create hierarchical index\n",
    "\n",
    "• Combine and Merge Datasets (you will have to either create a new dataset from your existing data or create a relationship between the data I have provided)\n",
    "\n",
    "• Reshape\n",
    "\n",
    "• Pivot the data\n",
    "\n",
    "**Chapter 10**\n",
    "\n",
    "• Grouping with Dicts/Series\n",
    "\n",
    "• Grouping with Functions\n",
    "\n",
    "• Grouping with Index Levels\n",
    "\n",
    "• Split/Apply/Combine\n",
    "\n",
    "• Cross Tabs\n",
    "\n",
    "**Chapter 11**\n",
    "\n",
    "• Convert between string and date time\n",
    "\n",
    "• Generate date range\n",
    "\n",
    "• Frequencies and date offsets\n",
    "\n",
    "• Convert timestamps to periods and back\n",
    "\n",
    "• Period Frequency conversions"
   ]
  },
  {
   "cell_type": "code",
   "id": "8fd00dc8",
   "metadata": {
    "ExecuteTime": {
     "end_time": "2024-12-15T22:42:47.244599Z",
     "start_time": "2024-12-15T22:42:46.604070Z"
    }
   },
   "source": [
    "# Load the necessary libraries.\n",
    "\n",
    "import numpy as np\n",
    "import pandas as pd"
   ],
   "outputs": [],
   "execution_count": 1
  },
  {
   "cell_type": "code",
   "id": "7550b271",
   "metadata": {
    "ExecuteTime": {
     "end_time": "2024-12-15T22:42:50.390553Z",
     "start_time": "2024-12-15T22:42:48.726408Z"
    }
   },
   "source": [
    "# Reading the csv file and exploring contents\n",
    "\n",
    "candyDF = pd.read_excel('./datasets/candyhierarchy2017.xlsx') \n",
    "candyDF.head()"
   ],
   "outputs": [
    {
     "name": "stderr",
     "output_type": "stream",
     "text": [
      "C:\\Users\\gyanr\\gyan-python-workspace\\jup-workspace\\venv\\Lib\\site-packages\\openpyxl\\worksheet\\_reader.py:329: UserWarning: Unknown extension is not supported and will be removed\n",
      "  warn(msg)\n"
     ]
    },
    {
     "data": {
      "text/plain": [
       "   Internal ID Q1: GOING OUT? Q2: GENDER Q3: AGE Q4: COUNTRY  \\\n",
       "0     90258773            NaN        NaN     NaN         NaN   \n",
       "1     90272821             No       Male      44        USA    \n",
       "2     90272829            NaN       Male      49         USA   \n",
       "3     90272840             No       Male      40          us   \n",
       "4     90272841             No       Male      23         usa   \n",
       "\n",
       "  Q5: STATE, PROVINCE, COUNTY, ETC Q6 | 100 Grand Bar  \\\n",
       "0                              NaN                NaN   \n",
       "1                               NM                MEH   \n",
       "2                         Virginia                NaN   \n",
       "3                               or                MEH   \n",
       "4                         exton pa                JOY   \n",
       "\n",
       "  Q6 | Anonymous brown globs that come in black and orange wrappers\\t(a.k.a. Mary Janes)  \\\n",
       "0                                                NaN                                       \n",
       "1                                            DESPAIR                                       \n",
       "2                                                NaN                                       \n",
       "3                                            DESPAIR                                       \n",
       "4                                            DESPAIR                                       \n",
       "\n",
       "  Q6 | Any full-sized candy bar Q6 | Black Jacks  ... Q8: DESPAIR OTHER  \\\n",
       "0                           NaN              NaN  ...               NaN   \n",
       "1                           JOY              MEH  ...               NaN   \n",
       "2                           NaN              NaN  ...               NaN   \n",
       "3                           JOY              MEH  ...               NaN   \n",
       "4                           JOY          DESPAIR  ...               NaN   \n",
       "\n",
       "                                  Q9: OTHER COMMENTS      Q10: DRESS  \\\n",
       "0                                                NaN             NaN   \n",
       "1  Bottom line is Twix is really the only candy w...  White and gold   \n",
       "2                                                NaN             NaN   \n",
       "3                             Raisins can go to hell  White and gold   \n",
       "4                                                NaN  White and gold   \n",
       "\n",
       "  Unnamed: 113 Q11: DAY Q12: MEDIA [Daily Dish] Q12: MEDIA [Science]  \\\n",
       "0          NaN      NaN                     NaN                  NaN   \n",
       "1          NaN   Sunday                     NaN                  1.0   \n",
       "2          NaN      NaN                     NaN                  NaN   \n",
       "3          NaN   Sunday                     NaN                  1.0   \n",
       "4          NaN   Friday                     NaN                  1.0   \n",
       "\n",
       "  Q12: MEDIA [ESPN] Q12: MEDIA [Yahoo] Click Coordinates (x, y)  \n",
       "0               NaN                NaN                      NaN  \n",
       "1               NaN                NaN                 (84, 25)  \n",
       "2               NaN                NaN                      NaN  \n",
       "3               NaN                NaN                 (75, 23)  \n",
       "4               NaN                NaN                 (70, 10)  \n",
       "\n",
       "[5 rows x 120 columns]"
      ],
      "text/html": [
       "<div>\n",
       "<style scoped>\n",
       "    .dataframe tbody tr th:only-of-type {\n",
       "        vertical-align: middle;\n",
       "    }\n",
       "\n",
       "    .dataframe tbody tr th {\n",
       "        vertical-align: top;\n",
       "    }\n",
       "\n",
       "    .dataframe thead th {\n",
       "        text-align: right;\n",
       "    }\n",
       "</style>\n",
       "<table border=\"1\" class=\"dataframe\">\n",
       "  <thead>\n",
       "    <tr style=\"text-align: right;\">\n",
       "      <th></th>\n",
       "      <th>Internal ID</th>\n",
       "      <th>Q1: GOING OUT?</th>\n",
       "      <th>Q2: GENDER</th>\n",
       "      <th>Q3: AGE</th>\n",
       "      <th>Q4: COUNTRY</th>\n",
       "      <th>Q5: STATE, PROVINCE, COUNTY, ETC</th>\n",
       "      <th>Q6 | 100 Grand Bar</th>\n",
       "      <th>Q6 | Anonymous brown globs that come in black and orange wrappers\\t(a.k.a. Mary Janes)</th>\n",
       "      <th>Q6 | Any full-sized candy bar</th>\n",
       "      <th>Q6 | Black Jacks</th>\n",
       "      <th>...</th>\n",
       "      <th>Q8: DESPAIR OTHER</th>\n",
       "      <th>Q9: OTHER COMMENTS</th>\n",
       "      <th>Q10: DRESS</th>\n",
       "      <th>Unnamed: 113</th>\n",
       "      <th>Q11: DAY</th>\n",
       "      <th>Q12: MEDIA [Daily Dish]</th>\n",
       "      <th>Q12: MEDIA [Science]</th>\n",
       "      <th>Q12: MEDIA [ESPN]</th>\n",
       "      <th>Q12: MEDIA [Yahoo]</th>\n",
       "      <th>Click Coordinates (x, y)</th>\n",
       "    </tr>\n",
       "  </thead>\n",
       "  <tbody>\n",
       "    <tr>\n",
       "      <th>0</th>\n",
       "      <td>90258773</td>\n",
       "      <td>NaN</td>\n",
       "      <td>NaN</td>\n",
       "      <td>NaN</td>\n",
       "      <td>NaN</td>\n",
       "      <td>NaN</td>\n",
       "      <td>NaN</td>\n",
       "      <td>NaN</td>\n",
       "      <td>NaN</td>\n",
       "      <td>NaN</td>\n",
       "      <td>...</td>\n",
       "      <td>NaN</td>\n",
       "      <td>NaN</td>\n",
       "      <td>NaN</td>\n",
       "      <td>NaN</td>\n",
       "      <td>NaN</td>\n",
       "      <td>NaN</td>\n",
       "      <td>NaN</td>\n",
       "      <td>NaN</td>\n",
       "      <td>NaN</td>\n",
       "      <td>NaN</td>\n",
       "    </tr>\n",
       "    <tr>\n",
       "      <th>1</th>\n",
       "      <td>90272821</td>\n",
       "      <td>No</td>\n",
       "      <td>Male</td>\n",
       "      <td>44</td>\n",
       "      <td>USA</td>\n",
       "      <td>NM</td>\n",
       "      <td>MEH</td>\n",
       "      <td>DESPAIR</td>\n",
       "      <td>JOY</td>\n",
       "      <td>MEH</td>\n",
       "      <td>...</td>\n",
       "      <td>NaN</td>\n",
       "      <td>Bottom line is Twix is really the only candy w...</td>\n",
       "      <td>White and gold</td>\n",
       "      <td>NaN</td>\n",
       "      <td>Sunday</td>\n",
       "      <td>NaN</td>\n",
       "      <td>1.0</td>\n",
       "      <td>NaN</td>\n",
       "      <td>NaN</td>\n",
       "      <td>(84, 25)</td>\n",
       "    </tr>\n",
       "    <tr>\n",
       "      <th>2</th>\n",
       "      <td>90272829</td>\n",
       "      <td>NaN</td>\n",
       "      <td>Male</td>\n",
       "      <td>49</td>\n",
       "      <td>USA</td>\n",
       "      <td>Virginia</td>\n",
       "      <td>NaN</td>\n",
       "      <td>NaN</td>\n",
       "      <td>NaN</td>\n",
       "      <td>NaN</td>\n",
       "      <td>...</td>\n",
       "      <td>NaN</td>\n",
       "      <td>NaN</td>\n",
       "      <td>NaN</td>\n",
       "      <td>NaN</td>\n",
       "      <td>NaN</td>\n",
       "      <td>NaN</td>\n",
       "      <td>NaN</td>\n",
       "      <td>NaN</td>\n",
       "      <td>NaN</td>\n",
       "      <td>NaN</td>\n",
       "    </tr>\n",
       "    <tr>\n",
       "      <th>3</th>\n",
       "      <td>90272840</td>\n",
       "      <td>No</td>\n",
       "      <td>Male</td>\n",
       "      <td>40</td>\n",
       "      <td>us</td>\n",
       "      <td>or</td>\n",
       "      <td>MEH</td>\n",
       "      <td>DESPAIR</td>\n",
       "      <td>JOY</td>\n",
       "      <td>MEH</td>\n",
       "      <td>...</td>\n",
       "      <td>NaN</td>\n",
       "      <td>Raisins can go to hell</td>\n",
       "      <td>White and gold</td>\n",
       "      <td>NaN</td>\n",
       "      <td>Sunday</td>\n",
       "      <td>NaN</td>\n",
       "      <td>1.0</td>\n",
       "      <td>NaN</td>\n",
       "      <td>NaN</td>\n",
       "      <td>(75, 23)</td>\n",
       "    </tr>\n",
       "    <tr>\n",
       "      <th>4</th>\n",
       "      <td>90272841</td>\n",
       "      <td>No</td>\n",
       "      <td>Male</td>\n",
       "      <td>23</td>\n",
       "      <td>usa</td>\n",
       "      <td>exton pa</td>\n",
       "      <td>JOY</td>\n",
       "      <td>DESPAIR</td>\n",
       "      <td>JOY</td>\n",
       "      <td>DESPAIR</td>\n",
       "      <td>...</td>\n",
       "      <td>NaN</td>\n",
       "      <td>NaN</td>\n",
       "      <td>White and gold</td>\n",
       "      <td>NaN</td>\n",
       "      <td>Friday</td>\n",
       "      <td>NaN</td>\n",
       "      <td>1.0</td>\n",
       "      <td>NaN</td>\n",
       "      <td>NaN</td>\n",
       "      <td>(70, 10)</td>\n",
       "    </tr>\n",
       "  </tbody>\n",
       "</table>\n",
       "<p>5 rows × 120 columns</p>\n",
       "</div>"
      ]
     },
     "execution_count": 2,
     "metadata": {},
     "output_type": "execute_result"
    }
   ],
   "execution_count": 2
  },
  {
   "cell_type": "code",
   "id": "7ba739f1",
   "metadata": {
    "ExecuteTime": {
     "end_time": "2024-12-15T22:42:54.376772Z",
     "start_time": "2024-12-15T22:42:54.368477Z"
    }
   },
   "source": [
    "candyDF.columns"
   ],
   "outputs": [
    {
     "data": {
      "text/plain": [
       "Index(['Internal ID', 'Q1: GOING OUT?', 'Q2: GENDER', 'Q3: AGE', 'Q4: COUNTRY',\n",
       "       'Q5: STATE, PROVINCE, COUNTY, ETC', 'Q6 | 100 Grand Bar',\n",
       "       'Q6 | Anonymous brown globs that come in black and orange wrappers\\t(a.k.a. Mary Janes)',\n",
       "       'Q6 | Any full-sized candy bar', 'Q6 | Black Jacks',\n",
       "       ...\n",
       "       'Q8: DESPAIR OTHER', 'Q9: OTHER COMMENTS', 'Q10: DRESS', 'Unnamed: 113',\n",
       "       'Q11: DAY', 'Q12: MEDIA [Daily Dish]', 'Q12: MEDIA [Science]',\n",
       "       'Q12: MEDIA [ESPN]', 'Q12: MEDIA [Yahoo]', 'Click Coordinates (x, y)'],\n",
       "      dtype='object', length=120)"
      ]
     },
     "execution_count": 3,
     "metadata": {},
     "output_type": "execute_result"
    }
   ],
   "execution_count": 3
  },
  {
   "cell_type": "code",
   "id": "e5974d9c",
   "metadata": {
    "ExecuteTime": {
     "end_time": "2024-12-15T22:42:58.602945Z",
     "start_time": "2024-12-15T22:42:58.589674Z"
    }
   },
   "source": [
    "# Renaming partial columns\n",
    "\n",
    "candyDF = candyDF.rename(columns = {'Q1: GOING OUT?' : 'going_out', 'Q2: GENDER' : 'gender', 'Q3: AGE': 'age', \n",
    "                                    'Q4: COUNTRY' : 'country', 'Q5: STATE, PROVINCE, COUNTY, ETC' : 'area', \n",
    "                                    'Q10: DRESS' : 'dress', 'Q11: DAY': 'day','Q12: MEDIA [Daily Dish]' : 'media_DailyDish', \n",
    "                                    'Q12: MEDIA [Science]': 'media_Science', 'Q12: MEDIA [ESPN]' : 'media_ESPN', \n",
    "                                    'Q12: MEDIA [Yahoo]': 'media_Yahoo'}) \n",
    "candyDF.columns"
   ],
   "outputs": [
    {
     "data": {
      "text/plain": [
       "Index(['Internal ID', 'going_out', 'gender', 'age', 'country', 'area',\n",
       "       'Q6 | 100 Grand Bar',\n",
       "       'Q6 | Anonymous brown globs that come in black and orange wrappers\\t(a.k.a. Mary Janes)',\n",
       "       'Q6 | Any full-sized candy bar', 'Q6 | Black Jacks',\n",
       "       ...\n",
       "       'Q8: DESPAIR OTHER', 'Q9: OTHER COMMENTS', 'dress', 'Unnamed: 113',\n",
       "       'day', 'media_DailyDish', 'media_Science', 'media_ESPN', 'media_Yahoo',\n",
       "       'Click Coordinates (x, y)'],\n",
       "      dtype='object', length=120)"
      ]
     },
     "execution_count": 4,
     "metadata": {},
     "output_type": "execute_result"
    }
   ],
   "execution_count": 4
  },
  {
   "cell_type": "code",
   "id": "4b86fa9b",
   "metadata": {
    "ExecuteTime": {
     "end_time": "2024-12-15T22:43:12.265428Z",
     "start_time": "2024-12-15T22:43:12.249901Z"
    }
   },
   "source": [
    "# Dropping non required columns\n",
    "\n",
    "candyDF.drop(columns = ['Internal ID','Unnamed: 113', 'Click Coordinates (x, y)'], inplace = True) \n",
    "candyDF.shape"
   ],
   "outputs": [
    {
     "data": {
      "text/plain": [
       "(2460, 117)"
      ]
     },
     "execution_count": 5,
     "metadata": {},
     "output_type": "execute_result"
    }
   ],
   "execution_count": 5
  },
  {
   "cell_type": "code",
   "id": "0cf9e2cd",
   "metadata": {
    "ExecuteTime": {
     "end_time": "2024-12-15T22:43:16.124146Z",
     "start_time": "2024-12-15T22:43:16.110351Z"
    }
   },
   "source": [
    "# Handling null values\n",
    "\n",
    "candyDF.dropna(subset = ['going_out', 'gender', 'age', 'country', 'area'], how = 'all', inplace = True) \n",
    "candyDF.reset_index(drop = True, inplace = True) \n",
    "candyDF.shape"
   ],
   "outputs": [
    {
     "data": {
      "text/plain": [
       "(2435, 117)"
      ]
     },
     "execution_count": 6,
     "metadata": {},
     "output_type": "execute_result"
    }
   ],
   "execution_count": 6
  },
  {
   "cell_type": "code",
   "id": "249034dd",
   "metadata": {
    "ExecuteTime": {
     "end_time": "2024-12-15T22:43:19.207421Z",
     "start_time": "2024-12-15T22:43:19.198910Z"
    }
   },
   "source": [
    "# Formatting Columns\n",
    "# Going Out Column\n",
    "\n",
    "candyDF.going_out = candyDF.going_out.fillna('Not Sure') \n",
    "candyDF.going_out.unique()"
   ],
   "outputs": [
    {
     "data": {
      "text/plain": [
       "array(['No', 'Not Sure', 'Yes'], dtype=object)"
      ]
     },
     "execution_count": 7,
     "metadata": {},
     "output_type": "execute_result"
    }
   ],
   "execution_count": 7
  },
  {
   "cell_type": "code",
   "id": "47160a43",
   "metadata": {
    "ExecuteTime": {
     "end_time": "2024-12-15T22:43:21.396922Z",
     "start_time": "2024-12-15T22:43:21.389557Z"
    }
   },
   "source": [
    "# Gender Column\n",
    "\n",
    "candyDF.gender.value_counts()"
   ],
   "outputs": [
    {
     "data": {
      "text/plain": [
       "gender\n",
       "Male                  1467\n",
       "Female                 839\n",
       "I'd rather not say      83\n",
       "Other                   30\n",
       "Name: count, dtype: int64"
      ]
     },
     "execution_count": 8,
     "metadata": {},
     "output_type": "execute_result"
    }
   ],
   "execution_count": 8
  },
  {
   "cell_type": "code",
   "id": "7e9ae555",
   "metadata": {
    "ExecuteTime": {
     "end_time": "2024-12-15T22:43:24.148293Z",
     "start_time": "2024-12-15T22:43:24.136058Z"
    }
   },
   "source": [
    "# Adding NaN genders to type 3 - I'd rather not say, as it seems to be similar to unknown or NA \n",
    "candyDF[candyDF.gender == \"I'd rather not say\"].shape \n",
    "#checking for spaces in text - found none \n",
    "candyDF.gender = candyDF.gender.fillna(\"I'd rather not say\") \n",
    "candyDF.gender.value_counts()"
   ],
   "outputs": [
    {
     "data": {
      "text/plain": [
       "gender\n",
       "Male                  1467\n",
       "Female                 839\n",
       "I'd rather not say      99\n",
       "Other                   30\n",
       "Name: count, dtype: int64"
      ]
     },
     "execution_count": 9,
     "metadata": {},
     "output_type": "execute_result"
    }
   ],
   "execution_count": 9
  },
  {
   "cell_type": "code",
   "id": "ae35f393",
   "metadata": {
    "ExecuteTime": {
     "end_time": "2024-12-15T22:43:26.705266Z",
     "start_time": "2024-12-15T22:43:26.696038Z"
    }
   },
   "source": [
    "# Lets look at the country column and format \n",
    "\n",
    "candyDF.country.unique()"
   ],
   "outputs": [
    {
     "data": {
      "text/plain": [
       "array(['USA ', 'USA', 'us', 'usa', nan, 'canada', 'Canada', 'Us', 'US',\n",
       "       'Murica', 'United States', 'uk', 'United Kingdom', 'united states',\n",
       "       'Usa', 'United States ', 'United staes',\n",
       "       'United States of America', 'UAE', 'England', 'UK', 'canada ',\n",
       "       'Mexico', 'United states', 'u.s.a.', 'USAUSAUSA', 'america', 35,\n",
       "       'france', 'United States of America ', 'U.S.A.', 'finland',\n",
       "       'unhinged states', 'Canada ', 'united states of america',\n",
       "       'US of A', 'Unites States', 'The United States', 'North Carolina ',\n",
       "       'Unied States', 'Netherlands', 'germany', 'Europe', 'Earth', 'U S',\n",
       "       'u.s.', 'U.K. ', 'Costa Rica', 'The United States of America',\n",
       "       'unite states', 'U.S.', 46, 'cascadia', 'Australia',\n",
       "       'insanity lately', 'Greece', 'USA? Hard to tell anymore..',\n",
       "       \"'merica\", 'usas', 'Pittsburgh', 45, 'United State', 32, 'France',\n",
       "       'australia', 'A', 'Can', 'Canae', 'New York', 'Trumpistan',\n",
       "       'Ireland', 'United Sates', 'Korea', 'California', 'Japan', 'USa',\n",
       "       'South africa',\n",
       "       'I pretend to be from Canada, but I am really from the United States.',\n",
       "       'Usa ', 'Uk', 'Iceland', 'Germany', 'Canada`', 'Scotland', 'UK ',\n",
       "       'Denmark', 'United Stated', 'France ', 'Switzerland',\n",
       "       'Ahem....Amerca', 'UD', 'Scotland ', 'South Korea', 'New Jersey',\n",
       "       'CANADA', 'Indonesia', 'United ststes', 'America',\n",
       "       'The Netherlands', 'United Statss', 'endland', 'Atlantis',\n",
       "       'murrika', 'USA! USA! USA!', 'USAA', 'Alaska', 'united States ',\n",
       "       'soviet canuckistan', 'N. America', 'Singapore', 'USSA', 'China',\n",
       "       'Taiwan', 'Ireland ', 'hong kong', 'spain', 'Sweden', 'Hong Kong',\n",
       "       'U.S. ', 'Narnia', 'u s a', 'United Statea', 'united ststes', 1,\n",
       "       'subscribe to dm4uz3 on youtube', 'United kingdom',\n",
       "       'USA USA USA!!!!', \"I don't know anymore\", 'Fear and Loathing'],\n",
       "      dtype=object)"
      ]
     },
     "execution_count": 10,
     "metadata": {},
     "output_type": "execute_result"
    }
   ],
   "execution_count": 10
  },
  {
   "cell_type": "code",
   "id": "53614ff8",
   "metadata": {
    "ExecuteTime": {
     "end_time": "2024-12-15T22:43:29.292612Z",
     "start_time": "2024-12-15T22:43:29.280508Z"
    }
   },
   "source": [
    "candyDF.country.value_counts(dropna = False).sort_values(ascending = False)"
   ],
   "outputs": [
    {
     "data": {
      "text/plain": [
       "country\n",
       "USA                     699\n",
       "United States           497\n",
       "usa                     217\n",
       "Canada                  179\n",
       "Usa                     139\n",
       "                       ... \n",
       "United kingdom            1\n",
       "USA USA USA!!!!           1\n",
       "I don't know anymore      1\n",
       "France                    1\n",
       "Fear and Loathing         1\n",
       "Name: count, Length: 129, dtype: int64"
      ]
     },
     "execution_count": 11,
     "metadata": {},
     "output_type": "execute_result"
    }
   ],
   "execution_count": 11
  },
  {
   "cell_type": "code",
   "id": "9fcd4e7d",
   "metadata": {
    "ExecuteTime": {
     "end_time": "2024-12-15T22:43:31.886918Z",
     "start_time": "2024-12-15T22:43:31.880368Z"
    }
   },
   "source": [
    "candyDF.country = candyDF.country.fillna('Unknown')"
   ],
   "outputs": [],
   "execution_count": 12
  },
  {
   "cell_type": "code",
   "id": "55f715a4",
   "metadata": {
    "ExecuteTime": {
     "end_time": "2024-12-15T22:43:33.979684Z",
     "start_time": "2024-12-15T22:43:33.968145Z"
    }
   },
   "source": [
    "set([x for x in candyDF.country if 'u' in str(x)])   # unique values with 'u'"
   ],
   "outputs": [
    {
     "data": {
      "text/plain": [
       "{'Australia',\n",
       " 'Europe',\n",
       " 'I pretend to be from Canada, but I am really from the United States.',\n",
       " 'Murica',\n",
       " 'Pittsburgh',\n",
       " 'South Korea',\n",
       " 'South africa',\n",
       " 'Trumpistan',\n",
       " 'australia',\n",
       " 'murrika',\n",
       " 'soviet canuckistan',\n",
       " 'subscribe to dm4uz3 on youtube',\n",
       " 'u s a',\n",
       " 'u.s.',\n",
       " 'u.s.a.',\n",
       " 'uk',\n",
       " 'unhinged states',\n",
       " 'unite states',\n",
       " 'united States ',\n",
       " 'united states',\n",
       " 'united states of america',\n",
       " 'united ststes',\n",
       " 'us',\n",
       " 'usa',\n",
       " 'usas'}"
      ]
     },
     "execution_count": 13,
     "metadata": {},
     "output_type": "execute_result"
    }
   ],
   "execution_count": 13
  },
  {
   "cell_type": "code",
   "id": "60ea14ee",
   "metadata": {
    "ExecuteTime": {
     "end_time": "2024-12-15T22:43:36.768610Z",
     "start_time": "2024-12-15T22:43:36.498455Z"
    }
   },
   "source": [
    "USA = [x for x in candyDF.country if (('u' in str(x) or 'U' in str(x)) and\n",
    "        'ingdom' not in str(x) and 'urope' not in str(x) and 'stralia' not in str(x) and 'South Korea' not in str(x) \n",
    "        and 'South africa' not in str(x) and 'uk' not in str(x))]\n",
    "\n",
    "candyDF.country = candyDF.country.replace(to_replace = USA, value = 'USA') \n",
    "candyDF.country.unique()"
   ],
   "outputs": [
    {
     "data": {
      "text/plain": [
       "array(['USA', 'canada', 'Canada', 'uk', 'United Kingdom', 'England',\n",
       "       'canada ', 'Mexico', 'america', 35, 'france', 'finland', 'Canada ',\n",
       "       'North Carolina ', 'Netherlands', 'germany', 'Europe', 'Earth',\n",
       "       'Costa Rica', 46, 'cascadia', 'Australia', 'insanity lately',\n",
       "       'Greece', \"'merica\", 45, 32, 'France', 'australia', 'A', 'Can',\n",
       "       'Canae', 'New York', 'Ireland', 'Korea', 'California', 'Japan',\n",
       "       'South africa', 'Iceland', 'Germany', 'Canada`', 'Scotland',\n",
       "       'Denmark', 'France ', 'Switzerland', 'Ahem....Amerca', 'Scotland ',\n",
       "       'South Korea', 'New Jersey', 'CANADA', 'Indonesia', 'America',\n",
       "       'The Netherlands', 'endland', 'Atlantis', 'Alaska', 'N. America',\n",
       "       'Singapore', 'China', 'Taiwan', 'Ireland ', 'hong kong', 'spain',\n",
       "       'Sweden', 'Hong Kong', 'Narnia', 1, 'United kingdom',\n",
       "       \"I don't know anymore\", 'Fear and Loathing'], dtype=object)"
      ]
     },
     "execution_count": 14,
     "metadata": {},
     "output_type": "execute_result"
    }
   ],
   "execution_count": 14
  },
  {
   "cell_type": "code",
   "id": "892c42d1",
   "metadata": {
    "ExecuteTime": {
     "end_time": "2024-12-15T22:43:38.810194Z",
     "start_time": "2024-12-15T22:43:38.774061Z"
    }
   },
   "source": [
    "# removing duplicates , wrongly or differently names and updating \n",
    "\n",
    "candyDF.country = candyDF.country.replace(to_replace = ['america','Ahem....Amerca',\"'merica\",'North Carolina ',\n",
    "                'cascadia', 'New York','A','California','New Jersey','America','Alaska','N. America'], \n",
    "                                          value ='USA') \n",
    "canada = [x for x in candyDF.country if 'anada' in str(x).strip() or 'ANADA' in str(x) or 'Can' in str(x)]\n",
    "\n",
    "candyDF.country = candyDF.country.replace(to_replace = canada, value = 'Canada') \n",
    "candyDF.country = candyDF.country.replace(to_replace = ['uk', 'United kingdom', 'England','endland'], \n",
    "                                          value = 'United Kingdom') \n",
    "candyDF.country = candyDF.country.replace(to_replace = 'germany', value = 'Germany') \n",
    "candyDF.country = candyDF.country.replace(to_replace = 'The Netherlands', value = 'Netherlands') \n",
    "candyDF.country = candyDF.country.replace(to_replace = 'australia', value = 'Australia') \n",
    "candyDF.country = candyDF.country.replace(to_replace = [1,\"I don't know anymore\",32,45,35,46,'Fear and Loathing','insanity lately'], \n",
    "                                          value = 'Others')\n",
    "candyDF.country.value_counts()"
   ],
   "outputs": [
    {
     "data": {
      "text/plain": [
       "country\n",
       "USA               2111\n",
       "Canada             227\n",
       "United Kingdom      18\n",
       "Germany             10\n",
       "Others               8\n",
       "Netherlands          7\n",
       "Australia            7\n",
       "Japan                5\n",
       "Scotland             4\n",
       "Mexico               4\n",
       "Ireland              3\n",
       "Switzerland          3\n",
       "China                2\n",
       "Denmark              2\n",
       "Sweden               2\n",
       "South Korea          1\n",
       "Taiwan               1\n",
       "Hong Kong            1\n",
       "Singapore            1\n",
       "Ireland              1\n",
       "hong kong            1\n",
       "Atlantis             1\n",
       "spain                1\n",
       "Indonesia            1\n",
       "South africa         1\n",
       "Scotland             1\n",
       "France               1\n",
       "Iceland              1\n",
       "Korea                1\n",
       "France               1\n",
       "Greece               1\n",
       "Costa Rica           1\n",
       "Earth                1\n",
       "Europe               1\n",
       "finland              1\n",
       "france               1\n",
       "Narnia               1\n",
       "Name: count, dtype: int64"
      ]
     },
     "execution_count": 15,
     "metadata": {},
     "output_type": "execute_result"
    }
   ],
   "execution_count": 15
  },
  {
   "cell_type": "code",
   "id": "068554a1",
   "metadata": {
    "ExecuteTime": {
     "end_time": "2024-12-15T22:43:41.169029Z",
     "start_time": "2024-12-15T22:43:41.158024Z"
    }
   },
   "source": [
    "# Grouping Dataset to 3 Countries - USA, Canada, Others\n",
    "\n",
    "# creating a dataset Other from existing one which we will merge later \n",
    "\n",
    "other = [x for x in candyDF.country.unique()] \n",
    "other.remove('USA') \n",
    "other.remove('Canada') \n",
    "other"
   ],
   "outputs": [
    {
     "data": {
      "text/plain": [
       "['United Kingdom',\n",
       " 'Mexico',\n",
       " 'Others',\n",
       " 'france',\n",
       " 'finland',\n",
       " 'Netherlands',\n",
       " 'Germany',\n",
       " 'Europe',\n",
       " 'Earth',\n",
       " 'Costa Rica',\n",
       " 'Australia',\n",
       " 'Greece',\n",
       " 'France',\n",
       " 'Ireland',\n",
       " 'Korea',\n",
       " 'Japan',\n",
       " 'South africa',\n",
       " 'Iceland',\n",
       " 'Scotland',\n",
       " 'Denmark',\n",
       " 'France ',\n",
       " 'Switzerland',\n",
       " 'Scotland ',\n",
       " 'South Korea',\n",
       " 'Indonesia',\n",
       " 'Atlantis',\n",
       " 'Singapore',\n",
       " 'China',\n",
       " 'Taiwan',\n",
       " 'Ireland ',\n",
       " 'hong kong',\n",
       " 'spain',\n",
       " 'Sweden',\n",
       " 'Hong Kong',\n",
       " 'Narnia']"
      ]
     },
     "execution_count": 16,
     "metadata": {},
     "output_type": "execute_result"
    }
   ],
   "execution_count": 16
  },
  {
   "cell_type": "code",
   "id": "afdfd6ea",
   "metadata": {
    "ExecuteTime": {
     "end_time": "2024-12-15T22:43:43.720618Z",
     "start_time": "2024-12-15T22:43:43.706001Z"
    }
   },
   "source": [
    "candyDF.country = candyDF.country.replace(to_replace = other, value = 'Other') \n",
    "candyDF.country.value_counts()"
   ],
   "outputs": [
    {
     "data": {
      "text/plain": [
       "country\n",
       "USA       2111\n",
       "Canada     227\n",
       "Other       97\n",
       "Name: count, dtype: int64"
      ]
     },
     "execution_count": 17,
     "metadata": {},
     "output_type": "execute_result"
    }
   ],
   "execution_count": 17
  },
  {
   "cell_type": "code",
   "id": "1720d1ed",
   "metadata": {
    "ExecuteTime": {
     "end_time": "2024-12-15T22:43:47.070968Z",
     "start_time": "2024-12-15T22:43:47.062499Z"
    }
   },
   "source": [
    "candyDF.columns"
   ],
   "outputs": [
    {
     "data": {
      "text/plain": [
       "Index(['going_out', 'gender', 'age', 'country', 'area', 'Q6 | 100 Grand Bar',\n",
       "       'Q6 | Anonymous brown globs that come in black and orange wrappers\\t(a.k.a. Mary Janes)',\n",
       "       'Q6 | Any full-sized candy bar', 'Q6 | Black Jacks',\n",
       "       'Q6 | Bonkers (the candy)',\n",
       "       ...\n",
       "       'Q6 | York Peppermint Patties', 'Q7: JOY OTHER', 'Q8: DESPAIR OTHER',\n",
       "       'Q9: OTHER COMMENTS', 'dress', 'day', 'media_DailyDish',\n",
       "       'media_Science', 'media_ESPN', 'media_Yahoo'],\n",
       "      dtype='object', length=117)"
      ]
     },
     "execution_count": 18,
     "metadata": {},
     "output_type": "execute_result"
    }
   ],
   "execution_count": 18
  },
  {
   "cell_type": "code",
   "id": "7482cee3",
   "metadata": {
    "ExecuteTime": {
     "end_time": "2024-12-15T22:43:48.851476Z",
     "start_time": "2024-12-15T22:43:48.826387Z"
    }
   },
   "source": [
    "# Converting Datatype\n",
    "candyDF = candyDF.astype({'going_out':'category', 'gender':'category', 'country':'category', 'dress':'category', \n",
    "                          'day':'category'}) \n",
    "candyDF.describe(include = 'category')"
   ],
   "outputs": [
    {
     "data": {
      "text/plain": [
       "       going_out gender country           dress     day\n",
       "count       2435   2435    2435            1714    1733\n",
       "unique         3      4       3               2       2\n",
       "top           No   Male     USA  White and gold  Friday\n",
       "freq        2038   1467    2111            1080    1089"
      ],
      "text/html": [
       "<div>\n",
       "<style scoped>\n",
       "    .dataframe tbody tr th:only-of-type {\n",
       "        vertical-align: middle;\n",
       "    }\n",
       "\n",
       "    .dataframe tbody tr th {\n",
       "        vertical-align: top;\n",
       "    }\n",
       "\n",
       "    .dataframe thead th {\n",
       "        text-align: right;\n",
       "    }\n",
       "</style>\n",
       "<table border=\"1\" class=\"dataframe\">\n",
       "  <thead>\n",
       "    <tr style=\"text-align: right;\">\n",
       "      <th></th>\n",
       "      <th>going_out</th>\n",
       "      <th>gender</th>\n",
       "      <th>country</th>\n",
       "      <th>dress</th>\n",
       "      <th>day</th>\n",
       "    </tr>\n",
       "  </thead>\n",
       "  <tbody>\n",
       "    <tr>\n",
       "      <th>count</th>\n",
       "      <td>2435</td>\n",
       "      <td>2435</td>\n",
       "      <td>2435</td>\n",
       "      <td>1714</td>\n",
       "      <td>1733</td>\n",
       "    </tr>\n",
       "    <tr>\n",
       "      <th>unique</th>\n",
       "      <td>3</td>\n",
       "      <td>4</td>\n",
       "      <td>3</td>\n",
       "      <td>2</td>\n",
       "      <td>2</td>\n",
       "    </tr>\n",
       "    <tr>\n",
       "      <th>top</th>\n",
       "      <td>No</td>\n",
       "      <td>Male</td>\n",
       "      <td>USA</td>\n",
       "      <td>White and gold</td>\n",
       "      <td>Friday</td>\n",
       "    </tr>\n",
       "    <tr>\n",
       "      <th>freq</th>\n",
       "      <td>2038</td>\n",
       "      <td>1467</td>\n",
       "      <td>2111</td>\n",
       "      <td>1080</td>\n",
       "      <td>1089</td>\n",
       "    </tr>\n",
       "  </tbody>\n",
       "</table>\n",
       "</div>"
      ]
     },
     "execution_count": 19,
     "metadata": {},
     "output_type": "execute_result"
    }
   ],
   "execution_count": 19
  },
  {
   "cell_type": "code",
   "id": "8c63db5f",
   "metadata": {
    "ExecuteTime": {
     "end_time": "2024-12-15T22:43:51.239219Z",
     "start_time": "2024-12-15T22:43:51.233055Z"
    }
   },
   "source": [
    "# Method to Convert 4 Columns into one \n",
    "\n",
    "def melt1(row):\n",
    "    for c in data.columns:\n",
    "        if row[c] == 1:\n",
    "            return c"
   ],
   "outputs": [],
   "execution_count": 20
  },
  {
   "cell_type": "code",
   "id": "056794bc",
   "metadata": {
    "ExecuteTime": {
     "end_time": "2024-12-15T22:43:52.903663Z",
     "start_time": "2024-12-15T22:43:52.882777Z"
    }
   },
   "source": [
    "# Checking Media columsn which we will merge into one \n",
    "\n",
    "data = candyDF[candyDF.columns[-4:]] \n",
    "data"
   ],
   "outputs": [
    {
     "data": {
      "text/plain": [
       "      media_DailyDish  media_Science  media_ESPN  media_Yahoo\n",
       "0                 NaN            1.0         NaN          NaN\n",
       "1                 NaN            NaN         NaN          NaN\n",
       "2                 NaN            1.0         NaN          NaN\n",
       "3                 NaN            1.0         NaN          NaN\n",
       "4                 NaN            1.0         NaN          NaN\n",
       "...               ...            ...         ...          ...\n",
       "2430              NaN            NaN         NaN          NaN\n",
       "2431              NaN            1.0         NaN          NaN\n",
       "2432              NaN            1.0         NaN          NaN\n",
       "2433              NaN            NaN         NaN          NaN\n",
       "2434              1.0            NaN         NaN          NaN\n",
       "\n",
       "[2435 rows x 4 columns]"
      ],
      "text/html": [
       "<div>\n",
       "<style scoped>\n",
       "    .dataframe tbody tr th:only-of-type {\n",
       "        vertical-align: middle;\n",
       "    }\n",
       "\n",
       "    .dataframe tbody tr th {\n",
       "        vertical-align: top;\n",
       "    }\n",
       "\n",
       "    .dataframe thead th {\n",
       "        text-align: right;\n",
       "    }\n",
       "</style>\n",
       "<table border=\"1\" class=\"dataframe\">\n",
       "  <thead>\n",
       "    <tr style=\"text-align: right;\">\n",
       "      <th></th>\n",
       "      <th>media_DailyDish</th>\n",
       "      <th>media_Science</th>\n",
       "      <th>media_ESPN</th>\n",
       "      <th>media_Yahoo</th>\n",
       "    </tr>\n",
       "  </thead>\n",
       "  <tbody>\n",
       "    <tr>\n",
       "      <th>0</th>\n",
       "      <td>NaN</td>\n",
       "      <td>1.0</td>\n",
       "      <td>NaN</td>\n",
       "      <td>NaN</td>\n",
       "    </tr>\n",
       "    <tr>\n",
       "      <th>1</th>\n",
       "      <td>NaN</td>\n",
       "      <td>NaN</td>\n",
       "      <td>NaN</td>\n",
       "      <td>NaN</td>\n",
       "    </tr>\n",
       "    <tr>\n",
       "      <th>2</th>\n",
       "      <td>NaN</td>\n",
       "      <td>1.0</td>\n",
       "      <td>NaN</td>\n",
       "      <td>NaN</td>\n",
       "    </tr>\n",
       "    <tr>\n",
       "      <th>3</th>\n",
       "      <td>NaN</td>\n",
       "      <td>1.0</td>\n",
       "      <td>NaN</td>\n",
       "      <td>NaN</td>\n",
       "    </tr>\n",
       "    <tr>\n",
       "      <th>4</th>\n",
       "      <td>NaN</td>\n",
       "      <td>1.0</td>\n",
       "      <td>NaN</td>\n",
       "      <td>NaN</td>\n",
       "    </tr>\n",
       "    <tr>\n",
       "      <th>...</th>\n",
       "      <td>...</td>\n",
       "      <td>...</td>\n",
       "      <td>...</td>\n",
       "      <td>...</td>\n",
       "    </tr>\n",
       "    <tr>\n",
       "      <th>2430</th>\n",
       "      <td>NaN</td>\n",
       "      <td>NaN</td>\n",
       "      <td>NaN</td>\n",
       "      <td>NaN</td>\n",
       "    </tr>\n",
       "    <tr>\n",
       "      <th>2431</th>\n",
       "      <td>NaN</td>\n",
       "      <td>1.0</td>\n",
       "      <td>NaN</td>\n",
       "      <td>NaN</td>\n",
       "    </tr>\n",
       "    <tr>\n",
       "      <th>2432</th>\n",
       "      <td>NaN</td>\n",
       "      <td>1.0</td>\n",
       "      <td>NaN</td>\n",
       "      <td>NaN</td>\n",
       "    </tr>\n",
       "    <tr>\n",
       "      <th>2433</th>\n",
       "      <td>NaN</td>\n",
       "      <td>NaN</td>\n",
       "      <td>NaN</td>\n",
       "      <td>NaN</td>\n",
       "    </tr>\n",
       "    <tr>\n",
       "      <th>2434</th>\n",
       "      <td>1.0</td>\n",
       "      <td>NaN</td>\n",
       "      <td>NaN</td>\n",
       "      <td>NaN</td>\n",
       "    </tr>\n",
       "  </tbody>\n",
       "</table>\n",
       "<p>2435 rows × 4 columns</p>\n",
       "</div>"
      ]
     },
     "execution_count": 21,
     "metadata": {},
     "output_type": "execute_result"
    }
   ],
   "execution_count": 21
  },
  {
   "cell_type": "code",
   "id": "fec7ff1d",
   "metadata": {
    "ExecuteTime": {
     "end_time": "2024-12-15T22:43:55.338233Z",
     "start_time": "2024-12-15T22:43:55.303856Z"
    }
   },
   "source": [
    "new_col = data.apply(melt1, axis = 1)\n",
    "\n",
    "# Adding newly created column \n",
    "candyDF['media_preference'] = new_col\n",
    "\n",
    "#dropping old columns \n",
    "candyDF.drop(columns =['media_DailyDish','media_Science','media_ESPN','media_Yahoo'], inplace = True)\n",
    "\n",
    "candyDF.media_preference.value_counts(dropna = False)"
   ],
   "outputs": [
    {
     "name": "stderr",
     "output_type": "stream",
     "text": [
      "C:\\Users\\gyanr\\AppData\\Local\\Temp\\ipykernel_10944\\2781002646.py:4: PerformanceWarning: DataFrame is highly fragmented.  This is usually the result of calling `frame.insert` many times, which has poor performance.  Consider joining all columns at once using pd.concat(axis=1) instead. To get a de-fragmented frame, use `newframe = frame.copy()`\n",
      "  candyDF['media_preference'] = new_col\n"
     ]
    },
    {
     "data": {
      "text/plain": [
       "media_preference\n",
       "media_Science      1361\n",
       "None                824\n",
       "media_ESPN           99\n",
       "media_DailyDish      84\n",
       "media_Yahoo          67\n",
       "Name: count, dtype: int64"
      ]
     },
     "execution_count": 22,
     "metadata": {},
     "output_type": "execute_result"
    }
   ],
   "execution_count": 22
  },
  {
   "cell_type": "code",
   "id": "85d90f0f",
   "metadata": {
    "ExecuteTime": {
     "end_time": "2024-12-15T22:43:58.343808Z",
     "start_time": "2024-12-15T22:43:58.337048Z"
    }
   },
   "source": [
    "# Getting personnal info and questionaire columns into separate dataframes\n",
    "\n",
    "personal_info_cols = candyDF.columns[:6] \n",
    "questionare_cols = candyDF.columns[5:] \n",
    "candyDF.columns"
   ],
   "outputs": [
    {
     "data": {
      "text/plain": [
       "Index(['going_out', 'gender', 'age', 'country', 'area', 'Q6 | 100 Grand Bar',\n",
       "       'Q6 | Anonymous brown globs that come in black and orange wrappers\\t(a.k.a. Mary Janes)',\n",
       "       'Q6 | Any full-sized candy bar', 'Q6 | Black Jacks',\n",
       "       'Q6 | Bonkers (the candy)',\n",
       "       ...\n",
       "       'Q6 | Whatchamacallit Bars', 'Q6 | White Bread',\n",
       "       'Q6 | Whole Wheat anything', 'Q6 | York Peppermint Patties',\n",
       "       'Q7: JOY OTHER', 'Q8: DESPAIR OTHER', 'Q9: OTHER COMMENTS', 'dress',\n",
       "       'day', 'media_preference'],\n",
       "      dtype='object', length=114)"
      ]
     },
     "execution_count": 23,
     "metadata": {},
     "output_type": "execute_result"
    }
   ],
   "execution_count": 23
  },
  {
   "cell_type": "code",
   "id": "c2baf609",
   "metadata": {
    "ExecuteTime": {
     "end_time": "2024-10-05T20:25:48.879216Z",
     "start_time": "2024-10-05T20:25:48.852127Z"
    }
   },
   "source": [
    "responses = len(questionare_cols) - candyDF[questionare_cols].isna().sum(axis =1) \n",
    "candyDF['responses'] = responses \n",
    "candyDF.head(3)"
   ],
   "outputs": [
    {
     "name": "stderr",
     "output_type": "stream",
     "text": [
      "C:\\Users\\gyanr\\AppData\\Local\\Temp\\ipykernel_47688\\2838608258.py:2: PerformanceWarning: DataFrame is highly fragmented.  This is usually the result of calling `frame.insert` many times, which has poor performance.  Consider joining all columns at once using pd.concat(axis=1) instead. To get a de-fragmented frame, use `newframe = frame.copy()`\n",
      "  candyDF['responses'] = responses\n"
     ]
    },
    {
     "data": {
      "text/plain": [
       "  going_out gender age country      area Q6 | 100 Grand Bar  \\\n",
       "0        No   Male  44     USA        NM                MEH   \n",
       "1  Not Sure   Male  49     USA  Virginia                NaN   \n",
       "2        No   Male  40     USA        or                MEH   \n",
       "\n",
       "  Q6 | Anonymous brown globs that come in black and orange wrappers\\t(a.k.a. Mary Janes)  \\\n",
       "0                                            DESPAIR                                       \n",
       "1                                                NaN                                       \n",
       "2                                            DESPAIR                                       \n",
       "\n",
       "  Q6 | Any full-sized candy bar Q6 | Black Jacks Q6 | Bonkers (the candy)  \\\n",
       "0                           JOY              MEH                  DESPAIR   \n",
       "1                           NaN              NaN                      NaN   \n",
       "2                           JOY              MEH                      MEH   \n",
       "\n",
       "   ... Q6 | White Bread Q6 | Whole Wheat anything  \\\n",
       "0  ...          DESPAIR                   DESPAIR   \n",
       "1  ...              NaN                       NaN   \n",
       "2  ...          DESPAIR                   DESPAIR   \n",
       "\n",
       "  Q6 | York Peppermint Patties  \\\n",
       "0                      DESPAIR   \n",
       "1                          NaN   \n",
       "2                      DESPAIR   \n",
       "\n",
       "                                       Q7: JOY OTHER Q8: DESPAIR OTHER  \\\n",
       "0                                             Mounds               NaN   \n",
       "1                                                NaN               NaN   \n",
       "2  Reese's crispy crunchy bars, 5th avenue bars, ...               NaN   \n",
       "\n",
       "                                  Q9: OTHER COMMENTS           dress     day  \\\n",
       "0  Bottom line is Twix is really the only candy w...  White and gold  Sunday   \n",
       "1                                                NaN             NaN     NaN   \n",
       "2                             Raisins can go to hell  White and gold  Sunday   \n",
       "\n",
       "  media_preference responses  \n",
       "0    media_Science       108  \n",
       "1             None         0  \n",
       "2    media_Science       108  \n",
       "\n",
       "[3 rows x 115 columns]"
      ],
      "text/html": [
       "<div>\n",
       "<style scoped>\n",
       "    .dataframe tbody tr th:only-of-type {\n",
       "        vertical-align: middle;\n",
       "    }\n",
       "\n",
       "    .dataframe tbody tr th {\n",
       "        vertical-align: top;\n",
       "    }\n",
       "\n",
       "    .dataframe thead th {\n",
       "        text-align: right;\n",
       "    }\n",
       "</style>\n",
       "<table border=\"1\" class=\"dataframe\">\n",
       "  <thead>\n",
       "    <tr style=\"text-align: right;\">\n",
       "      <th></th>\n",
       "      <th>going_out</th>\n",
       "      <th>gender</th>\n",
       "      <th>age</th>\n",
       "      <th>country</th>\n",
       "      <th>area</th>\n",
       "      <th>Q6 | 100 Grand Bar</th>\n",
       "      <th>Q6 | Anonymous brown globs that come in black and orange wrappers\\t(a.k.a. Mary Janes)</th>\n",
       "      <th>Q6 | Any full-sized candy bar</th>\n",
       "      <th>Q6 | Black Jacks</th>\n",
       "      <th>Q6 | Bonkers (the candy)</th>\n",
       "      <th>...</th>\n",
       "      <th>Q6 | White Bread</th>\n",
       "      <th>Q6 | Whole Wheat anything</th>\n",
       "      <th>Q6 | York Peppermint Patties</th>\n",
       "      <th>Q7: JOY OTHER</th>\n",
       "      <th>Q8: DESPAIR OTHER</th>\n",
       "      <th>Q9: OTHER COMMENTS</th>\n",
       "      <th>dress</th>\n",
       "      <th>day</th>\n",
       "      <th>media_preference</th>\n",
       "      <th>responses</th>\n",
       "    </tr>\n",
       "  </thead>\n",
       "  <tbody>\n",
       "    <tr>\n",
       "      <th>0</th>\n",
       "      <td>No</td>\n",
       "      <td>Male</td>\n",
       "      <td>44</td>\n",
       "      <td>USA</td>\n",
       "      <td>NM</td>\n",
       "      <td>MEH</td>\n",
       "      <td>DESPAIR</td>\n",
       "      <td>JOY</td>\n",
       "      <td>MEH</td>\n",
       "      <td>DESPAIR</td>\n",
       "      <td>...</td>\n",
       "      <td>DESPAIR</td>\n",
       "      <td>DESPAIR</td>\n",
       "      <td>DESPAIR</td>\n",
       "      <td>Mounds</td>\n",
       "      <td>NaN</td>\n",
       "      <td>Bottom line is Twix is really the only candy w...</td>\n",
       "      <td>White and gold</td>\n",
       "      <td>Sunday</td>\n",
       "      <td>media_Science</td>\n",
       "      <td>108</td>\n",
       "    </tr>\n",
       "    <tr>\n",
       "      <th>1</th>\n",
       "      <td>Not Sure</td>\n",
       "      <td>Male</td>\n",
       "      <td>49</td>\n",
       "      <td>USA</td>\n",
       "      <td>Virginia</td>\n",
       "      <td>NaN</td>\n",
       "      <td>NaN</td>\n",
       "      <td>NaN</td>\n",
       "      <td>NaN</td>\n",
       "      <td>NaN</td>\n",
       "      <td>...</td>\n",
       "      <td>NaN</td>\n",
       "      <td>NaN</td>\n",
       "      <td>NaN</td>\n",
       "      <td>NaN</td>\n",
       "      <td>NaN</td>\n",
       "      <td>NaN</td>\n",
       "      <td>NaN</td>\n",
       "      <td>NaN</td>\n",
       "      <td>None</td>\n",
       "      <td>0</td>\n",
       "    </tr>\n",
       "    <tr>\n",
       "      <th>2</th>\n",
       "      <td>No</td>\n",
       "      <td>Male</td>\n",
       "      <td>40</td>\n",
       "      <td>USA</td>\n",
       "      <td>or</td>\n",
       "      <td>MEH</td>\n",
       "      <td>DESPAIR</td>\n",
       "      <td>JOY</td>\n",
       "      <td>MEH</td>\n",
       "      <td>MEH</td>\n",
       "      <td>...</td>\n",
       "      <td>DESPAIR</td>\n",
       "      <td>DESPAIR</td>\n",
       "      <td>DESPAIR</td>\n",
       "      <td>Reese's crispy crunchy bars, 5th avenue bars, ...</td>\n",
       "      <td>NaN</td>\n",
       "      <td>Raisins can go to hell</td>\n",
       "      <td>White and gold</td>\n",
       "      <td>Sunday</td>\n",
       "      <td>media_Science</td>\n",
       "      <td>108</td>\n",
       "    </tr>\n",
       "  </tbody>\n",
       "</table>\n",
       "<p>3 rows × 115 columns</p>\n",
       "</div>"
      ]
     },
     "execution_count": 28,
     "metadata": {},
     "output_type": "execute_result"
    }
   ],
   "execution_count": 28
  },
  {
   "cell_type": "code",
   "id": "20181b3b",
   "metadata": {
    "ExecuteTime": {
     "end_time": "2024-12-15T22:44:08.773230Z",
     "start_time": "2024-12-15T22:44:08.761145Z"
    }
   },
   "source": [
    "candyDF['age'].unique() "
   ],
   "outputs": [
    {
     "data": {
      "text/plain": [
       "array([44, 49, 40, 23, nan, 53, 33, 43, 56, 64, 37, 59, 48, 54, 36, 45,\n",
       "       25, 34, 35, 38, 58, 50, 47, 16, 52, 63, 65, 41, 27, 31, 61, 46, 42,\n",
       "       62, 29, 39, 32, 28, 69, 67, 30, 22, 26, 51, 70, 24, 18, 19,\n",
       "       'Old enough', 57, 60, 66, 12, 'Many', 55, 72, '?', 21, 11, 'no', 9,\n",
       "       68, 20, 6, 10, 71, 90, 13, '45-55', 312, 99, 7, 'hahahahaha', 88,\n",
       "       39.4, 74, 102, 'older than dirt', 17, 15, 8, 75, '5u', 'Enough',\n",
       "       'See question 2', '24-50', 14, 'Over 50', 100, 76, 1000,\n",
       "       'sixty-nine', '46 Halloweens.', 'ancient', 77, 'OLD', 'old', 73,\n",
       "       70.5, 1, 'MY NAME JEFF', 4, '59 on the day after Halloween',\n",
       "       'old enough', 'your mom',\n",
       "       'I can remember when Java was a cool new language', '60+'],\n",
       "      dtype=object)"
      ]
     },
     "execution_count": 24,
     "metadata": {},
     "output_type": "execute_result"
    }
   ],
   "execution_count": 24
  },
  {
   "cell_type": "code",
   "id": "0b870f3b",
   "metadata": {
    "ExecuteTime": {
     "end_time": "2024-12-15T22:44:11.193081Z",
     "start_time": "2024-12-15T22:44:11.139657Z"
    }
   },
   "source": [
    "# Data Type Conversion\n",
    "\n",
    "candyDF.drop_duplicates(inplace=True) \n",
    "s = pd.to_numeric(candyDF['age'],downcast='float',errors='ignore') \n",
    "s=pd.to_numeric(s,downcast='float',errors='coerce') \n",
    "candyDF['age'].unique() \n",
    "candyDF.replace(candyDF['age'],s,inplace=True) \n",
    "candyDF['age'].replace(['old enough','45-55','24-50','?','no','Many','hahahahaha','older than dirt','Enough',\n",
    "                        'See question 2','old','ancient','old enough'],np.nan,inplace=True)\n",
    "\n",
    "candyDF['age'].replace(['5u','46 Halloweens.','sixty-nine','Over 50','OLD','MY NAME JEFF','59 on the day after Halloween',\n",
    "                        'your mom' 'I can remember when Java was a cool new language','60+'],np.nan,inplace=True)\n",
    "\n",
    "candyDF['age'].replace([312,1000,'Old enough','your mom','I can remember when Java was a cool new language'],np.nan,inplace=True)\n",
    "\n",
    "pd.to_numeric(candyDF['age']).head()"
   ],
   "outputs": [
    {
     "name": "stderr",
     "output_type": "stream",
     "text": [
      "C:\\Users\\gyanr\\AppData\\Local\\Temp\\ipykernel_10944\\591081076.py:4: FutureWarning: errors='ignore' is deprecated and will raise in a future version. Use to_numeric without passing `errors` and catch exceptions explicitly instead\n",
      "  s = pd.to_numeric(candyDF['age'],downcast='float',errors='ignore')\n",
      "C:\\Users\\gyanr\\AppData\\Local\\Temp\\ipykernel_10944\\591081076.py:8: FutureWarning: A value is trying to be set on a copy of a DataFrame or Series through chained assignment using an inplace method.\n",
      "The behavior will change in pandas 3.0. This inplace method will never work because the intermediate object on which we are setting values always behaves as a copy.\n",
      "\n",
      "For example, when doing 'df[col].method(value, inplace=True)', try using 'df.method({col: value}, inplace=True)' or df[col] = df[col].method(value) instead, to perform the operation inplace on the original object.\n",
      "\n",
      "\n",
      "  candyDF['age'].replace(['old enough','45-55','24-50','?','no','Many','hahahahaha','older than dirt','Enough',\n",
      "C:\\Users\\gyanr\\AppData\\Local\\Temp\\ipykernel_10944\\591081076.py:14: FutureWarning: Downcasting behavior in `replace` is deprecated and will be removed in a future version. To retain the old behavior, explicitly call `result.infer_objects(copy=False)`. To opt-in to the future behavior, set `pd.set_option('future.no_silent_downcasting', True)`\n",
      "  candyDF['age'].replace([312,1000,'Old enough','your mom','I can remember when Java was a cool new language'],np.nan,inplace=True)\n"
     ]
    },
    {
     "data": {
      "text/plain": [
       "0    44.0\n",
       "1    49.0\n",
       "2    40.0\n",
       "3    23.0\n",
       "4     NaN\n",
       "Name: age, dtype: float64"
      ]
     },
     "execution_count": 25,
     "metadata": {},
     "output_type": "execute_result"
    }
   ],
   "execution_count": 25
  },
  {
   "cell_type": "code",
   "id": "ab6dd97a",
   "metadata": {
    "ExecuteTime": {
     "end_time": "2024-12-15T22:44:14.860042Z",
     "start_time": "2024-12-15T22:44:14.853522Z"
    }
   },
   "source": [
    "nam=candyDF.columns \n",
    "nam"
   ],
   "outputs": [
    {
     "data": {
      "text/plain": [
       "Index(['going_out', 'gender', 'age', 'country', 'area', 'Q6 | 100 Grand Bar',\n",
       "       'Q6 | Anonymous brown globs that come in black and orange wrappers\\t(a.k.a. Mary Janes)',\n",
       "       'Q6 | Any full-sized candy bar', 'Q6 | Black Jacks',\n",
       "       'Q6 | Bonkers (the candy)',\n",
       "       ...\n",
       "       'Q6 | Whatchamacallit Bars', 'Q6 | White Bread',\n",
       "       'Q6 | Whole Wheat anything', 'Q6 | York Peppermint Patties',\n",
       "       'Q7: JOY OTHER', 'Q8: DESPAIR OTHER', 'Q9: OTHER COMMENTS', 'dress',\n",
       "       'day', 'media_preference'],\n",
       "      dtype='object', length=114)"
      ]
     },
     "execution_count": 26,
     "metadata": {},
     "output_type": "execute_result"
    }
   ],
   "execution_count": 26
  },
  {
   "cell_type": "code",
   "id": "35d53cb8",
   "metadata": {
    "ExecuteTime": {
     "end_time": "2024-10-05T20:25:48.937614Z",
     "start_time": "2024-10-05T20:25:48.934037Z"
    }
   },
   "source": [],
   "outputs": [],
   "execution_count": 31
  }
 ],
 "metadata": {
  "kernelspec": {
   "display_name": "Python 3 (ipykernel)",
   "language": "python",
   "name": "python3"
  },
  "language_info": {
   "codemirror_mode": {
    "name": "ipython",
    "version": 3
   },
   "file_extension": ".py",
   "mimetype": "text/x-python",
   "name": "python",
   "nbconvert_exporter": "python",
   "pygments_lexer": "ipython3",
   "version": "3.9.13"
  }
 },
 "nbformat": 4,
 "nbformat_minor": 5
}
