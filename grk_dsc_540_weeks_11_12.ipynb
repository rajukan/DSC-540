{
 "cells": [
  {
   "cell_type": "markdown",
   "id": "83f129b0",
   "metadata": {},
   "source": [
    "# Weeks 11 & 12 Exercises\n",
    "\n",
    "Name: Gyan Kannur <br>\n",
    "Course: DSC540 - Data Preparation <br>\n"
   ]
  },
  {
   "cell_type": "markdown",
   "id": "73d1bf07",
   "metadata": {},
   "source": ""
  },
  {
   "cell_type": "markdown",
   "id": "cee14ba8",
   "metadata": {},
   "source": "##### ACTIVITY 8.01: RETRIEVING DATA CORRECTLY FROM DATABASES"
  },
  {
   "cell_type": "markdown",
   "id": "5d13995e",
   "metadata": {},
   "source": [
    "As we can see, the id column in the persons table (which is an integer) serves as the primary key for that table and as a foreign key for the pet table, which is linked via the owner_id column.\n",
    "\n",
    "The persons table has the following columns:\n",
    "\n",
    "first_name: The first name of the person\n",
    "last_name: The last name of the person (can be 'null')\n",
    "age: The age of the person\n",
    "city: The city from where he/she is from\n",
    "zip_code: The zip code of the city\n",
    "The pets table has the following columns:\n",
    "\n",
    "pet_name: The name of the pet.\n",
    "pet_type: What type of pet it is, for example, cat, dog, and so on. Due to a lack of further information, we do not know which number represents what, but it is an integer and can be null.\n",
    "treatment_done: It is also an integer column, and 0 here represents 'No', whereas 1 represents 'Yes'.\n",
    "The name of the SQLite DB is petsdb and it is supplied along with the Activity notebook."
   ]
  },
  {
   "cell_type": "code",
   "id": "f6e3adb5",
   "metadata": {
    "ExecuteTime": {
     "end_time": "2025-01-11T19:33:22.571063Z",
     "start_time": "2025-01-11T19:33:22.565947Z"
    }
   },
   "source": [
    "## 1. Importing the libraries required for these exercises.\n",
    "\n",
    "import sqlite3"
   ],
   "outputs": [],
   "execution_count": 2
  },
  {
   "cell_type": "markdown",
   "id": "d46704ff",
   "metadata": {},
   "source": [
    "##### 1. Connect to petsDB and check whether the connection has been successful."
   ]
  },
  {
   "cell_type": "code",
   "id": "a22fe184",
   "metadata": {
    "ExecuteTime": {
     "end_time": "2025-01-11T19:33:24.294458Z",
     "start_time": "2025-01-11T19:33:24.286740Z"
    }
   },
   "source": [
    "## 2. Connect to DB and check if the connection is successful\n",
    "## Below program validates the connection and print the successfull or failure message\n",
    "## Close the connection\n",
    "\n",
    "with sqlite3.connect('./datasets/petsdb') as conn:\n",
    "    cursor = conn.cursor()\n",
    "#     rows = cursor.execute('PRAGMA foreign_keys = 1')\n",
    "    try:\n",
    "        conn.execute(\"SELECT * FROM persons LIMIT 1\")\n",
    "        print(\"Connection is sucessfull\")\n",
    "    except sqlite3.ProgrammingError as e:\n",
    "        print(f\"Error: {e}\")\n",
    "        print(\"Connection Failure\")\n",
    "conn.close()"
   ],
   "outputs": [
    {
     "name": "stdout",
     "output_type": "stream",
     "text": [
      "Connection is sucessfull\n"
     ]
    }
   ],
   "execution_count": 3
  },
  {
   "cell_type": "code",
   "id": "5df862e7",
   "metadata": {
    "ExecuteTime": {
     "end_time": "2025-01-11T19:33:30.886530Z",
     "start_time": "2025-01-11T19:33:30.876889Z"
    }
   },
   "source": [
    "### Checking the connection for failure scenario\n",
    "\n",
    "try:\n",
    "    conn.execute(\"SELECT * FROM persons\")\n",
    "    print(\"Connection is sucessfull\")\n",
    "except sqlite3.ProgrammingError as e:\n",
    "    print(f\"Error: {e}\")\n",
    "    print(False)"
   ],
   "outputs": [
    {
     "name": "stdout",
     "output_type": "stream",
     "text": [
      "Error: Cannot operate on a closed database.\n",
      "False\n"
     ]
    }
   ],
   "execution_count": 5
  },
  {
   "cell_type": "markdown",
   "id": "defe2e2b",
   "metadata": {},
   "source": [
    "##### 2. Find the different age groups in the persons database."
   ]
  },
  {
   "cell_type": "code",
   "id": "cb4de7ed",
   "metadata": {
    "ExecuteTime": {
     "end_time": "2025-01-11T19:33:40.815973Z",
     "start_time": "2025-01-11T19:33:40.811550Z"
    }
   },
   "source": [
    "## EStablishing the connecion\n",
    "\n",
    "conn = sqlite3.connect('./datasets/petsdb')\n",
    "cursor = conn.cursor()"
   ],
   "outputs": [],
   "execution_count": 7
  },
  {
   "cell_type": "code",
   "id": "8d8a9cd3",
   "metadata": {
    "ExecuteTime": {
     "end_time": "2025-01-11T19:33:43.100448Z",
     "start_time": "2025-01-11T19:33:43.094173Z"
    }
   },
   "source": [
    "## Establishing the connection to petsdb and printing the output showing different age groups and the count\n",
    "\n",
    "rows = cursor.execute(\"SELECT COUNT(*), age FROM persons GROUP BY age\")\n",
    "for c, a in rows:\n",
    "    print(f\"Age {a}:\\t{c} person(s)\")"
   ],
   "outputs": [
    {
     "name": "stdout",
     "output_type": "stream",
     "text": [
      "Age 5:\t2 person(s)\n",
      "Age 6:\t1 person(s)\n",
      "Age 7:\t1 person(s)\n",
      "Age 8:\t3 person(s)\n",
      "Age 9:\t1 person(s)\n",
      "Age 11:\t2 person(s)\n",
      "Age 12:\t3 person(s)\n",
      "Age 13:\t1 person(s)\n",
      "Age 14:\t4 person(s)\n",
      "Age 16:\t2 person(s)\n",
      "Age 17:\t2 person(s)\n",
      "Age 18:\t3 person(s)\n",
      "Age 19:\t1 person(s)\n",
      "Age 22:\t3 person(s)\n",
      "Age 23:\t2 person(s)\n",
      "Age 24:\t3 person(s)\n",
      "Age 25:\t2 person(s)\n",
      "Age 27:\t1 person(s)\n",
      "Age 30:\t1 person(s)\n",
      "Age 31:\t3 person(s)\n",
      "Age 32:\t1 person(s)\n",
      "Age 33:\t1 person(s)\n",
      "Age 34:\t2 person(s)\n",
      "Age 35:\t3 person(s)\n",
      "Age 36:\t3 person(s)\n",
      "Age 37:\t1 person(s)\n",
      "Age 39:\t2 person(s)\n",
      "Age 40:\t1 person(s)\n",
      "Age 42:\t1 person(s)\n",
      "Age 44:\t2 person(s)\n",
      "Age 48:\t2 person(s)\n",
      "Age 49:\t1 person(s)\n",
      "Age 50:\t1 person(s)\n",
      "Age 51:\t2 person(s)\n",
      "Age 52:\t2 person(s)\n",
      "Age 53:\t2 person(s)\n",
      "Age 54:\t2 person(s)\n",
      "Age 58:\t1 person(s)\n",
      "Age 59:\t1 person(s)\n",
      "Age 60:\t1 person(s)\n",
      "Age 61:\t1 person(s)\n",
      "Age 62:\t2 person(s)\n",
      "Age 63:\t1 person(s)\n",
      "Age 65:\t2 person(s)\n",
      "Age 66:\t2 person(s)\n",
      "Age 67:\t1 person(s)\n",
      "Age 68:\t3 person(s)\n",
      "Age 69:\t1 person(s)\n",
      "Age 70:\t1 person(s)\n",
      "Age 71:\t4 person(s)\n",
      "Age 72:\t1 person(s)\n",
      "Age 73:\t5 person(s)\n",
      "Age 74:\t3 person(s)\n"
     ]
    }
   ],
   "execution_count": 8
  },
  {
   "cell_type": "markdown",
   "id": "1d588466",
   "metadata": {},
   "source": [
    "##### 3. Find the age group that has the maximum number of people."
   ]
  },
  {
   "cell_type": "code",
   "id": "3d4b9086",
   "metadata": {
    "ExecuteTime": {
     "end_time": "2025-01-11T19:33:45.223880Z",
     "start_time": "2025-01-11T19:33:45.213907Z"
    }
   },
   "source": [
    "## Calculating the age group having maximum number of people\n",
    "\n",
    "rows = cursor.execute(\"SELECT COUNT(*), age FROM persons GROUP BY age ORDER BY count(*) DESC\")\n",
    "for c, a in rows:\n",
    "    print(f\"Most people ({c} total) were {a} years old.\")\n",
    "    break"
   ],
   "outputs": [
    {
     "name": "stdout",
     "output_type": "stream",
     "text": [
      "Most people (5 total) were 73 years old.\n"
     ]
    }
   ],
   "execution_count": 9
  },
  {
   "cell_type": "markdown",
   "id": "9164f37e",
   "metadata": {},
   "source": [
    "##### 4. Find the people who do not have a last name."
   ]
  },
  {
   "cell_type": "code",
   "id": "4a7ee0bb",
   "metadata": {
    "ExecuteTime": {
     "end_time": "2025-01-11T19:33:47.487606Z",
     "start_time": "2025-01-11T19:33:47.477240Z"
    }
   },
   "source": [
    "## Query to find the persons who don't have last name\n",
    "\n",
    "rows = cursor.execute(\"SELECT * FROM persons WHERE last_name is Null\")\n",
    "for row in rows:\n",
    "    print(row)"
   ],
   "outputs": [
    {
     "name": "stdout",
     "output_type": "stream",
     "text": [
      "(1, 'Erica', None, 22, 'south port', 2345678)\n",
      "(2, 'Jordi', None, 73, 'east port', 123456)\n",
      "(3, 'Chasity', None, 70, 'new port', 76856785)\n",
      "(4, 'Gregg', None, 31, 'new port', 76856785)\n",
      "(6, 'Cary', None, 73, 'new port', 76856785)\n",
      "(8, 'Francisca', None, 14, 'west port', 123456)\n",
      "(10, 'Raleigh', None, 68, 'new port', 2345678)\n",
      "(11, 'Maria', None, 42, 'west port', 123456)\n",
      "(12, 'Mariane', None, 62, 'south port', 9756543)\n",
      "(13, 'Mona', None, 44, 'south port', 76856785)\n",
      "(14, 'Kayla', None, 36, 'south port', 2345678)\n",
      "(15, 'Karlie', None, 35, 'west port', 123456)\n",
      "(16, 'Morris', None, 71, 'west port', 76856785)\n",
      "(17, 'Sandy', None, 23, 'east port', 2345678)\n",
      "(18, 'Hector', None, 63, 'east port', 9756543)\n",
      "(19, 'Hiram', None, 52, 'west port', 2345678)\n",
      "(20, 'Tressa', None, 59, 'new port', 123456)\n",
      "(21, 'Berry', None, 22, 'south port', 2345678)\n",
      "(22, 'Pearline', None, 73, 'new port', 9756543)\n",
      "(23, 'Maynard', None, 25, 'east port', 123456)\n",
      "(24, 'Dorian', None, 40, 'east port', 123456)\n",
      "(25, 'Mylene', None, 5, 'east port', 76856785)\n",
      "(26, 'Lafayette', None, 34, 'new port', 2345678)\n",
      "(29, 'Tara', None, 39, 'west port', 123456)\n",
      "(30, 'Destiny', None, 18, 'south port', 2345678)\n",
      "(31, 'Lesly', None, 31, 'west port', 123456)\n",
      "(32, 'Perry', None, 19, 'south port', 76856785)\n",
      "(35, 'Maritza', None, 73, 'east port', 9756543)\n",
      "(37, 'Grant', None, 61, 'east port', 76856785)\n",
      "(39, 'Laury', None, 17, 'east port', 9756543)\n",
      "(40, 'Name', None, 52, 'east port', 9756543)\n",
      "(41, 'Estefania', None, 32, 'new port', 76856785)\n",
      "(42, 'Destiney', None, 65, 'west port', 2345678)\n",
      "(43, 'Jaquelin', None, 73, 'west port', 9756543)\n",
      "(45, 'Alfonzo', None, 16, 'east port', 2345678)\n",
      "(46, 'Lisandro', None, 11, 'new port', 76856785)\n",
      "(49, 'Priscilla', None, 65, 'east port', 76856785)\n",
      "(50, 'Elenora', None, 11, 'new port', 76856785)\n",
      "(52, 'Rudolph', None, 14, 'east port', 76856785)\n",
      "(56, 'Ona', None, 35, 'east port', 9756543)\n",
      "(57, 'Rebeca', None, 50, 'new port', 76856785)\n",
      "(59, 'Sigurd', None, 12, 'west port', 76856785)\n",
      "(63, 'Alice', None, 8, 'west port', 76856785)\n",
      "(64, 'Dane', None, 24, 'west port', 9756543)\n",
      "(65, 'Judge', None, 17, 'south port', 76856785)\n",
      "(66, 'Allene', None, 9, 'new port', 9756543)\n",
      "(67, 'Jalen', None, 33, 'new port', 2345678)\n",
      "(70, 'Myron', None, 36, 'new port', 9756543)\n",
      "(73, 'Travon', None, 16, 'south port', 2345678)\n",
      "(74, 'Shayna', None, 60, 'new port', 2345678)\n",
      "(75, 'Myah', None, 14, 'east port', 2345678)\n",
      "(82, 'Letha', None, 44, 'new port', 9756543)\n",
      "(84, 'Felton', None, 74, 'east port', 2345678)\n",
      "(85, 'London', None, 66, 'east port', 9756543)\n",
      "(86, 'Koby', None, 31, 'west port', 9756543)\n",
      "(87, 'Golden', None, 35, 'east port', 76856785)\n",
      "(89, 'Anissa', None, 8, 'south port', 76856785)\n",
      "(91, 'Sid', None, 22, 'west port', 123456)\n",
      "(96, 'Ernesto', None, 69, 'east port', 9756543)\n",
      "(97, 'Josianne', None, 14, 'west port', 76856785)\n"
     ]
    }
   ],
   "execution_count": 10
  },
  {
   "cell_type": "code",
   "id": "823970ae",
   "metadata": {
    "ExecuteTime": {
     "end_time": "2025-01-11T19:33:50.568484Z",
     "start_time": "2025-01-11T19:33:50.558947Z"
    }
   },
   "source": [
    "## Calculating the count of persons having null last name\n",
    "\n",
    "for row in cursor.execute(\"SELECT count(*) FROM persons WHERE last_name is Null\"):\n",
    "    print(\"The number of persons not having last name: {}\".format(row[0]))"
   ],
   "outputs": [
    {
     "name": "stdout",
     "output_type": "stream",
     "text": [
      "The number of persons not having last name: 60\n"
     ]
    }
   ],
   "execution_count": 11
  },
  {
   "cell_type": "markdown",
   "id": "21390fb4",
   "metadata": {},
   "source": [
    "##### 5. Find out how many people have more than one pet."
   ]
  },
  {
   "cell_type": "code",
   "id": "f926eae9",
   "metadata": {
    "ExecuteTime": {
     "end_time": "2025-01-11T19:33:53.833212Z",
     "start_time": "2025-01-11T19:33:53.827602Z"
    }
   },
   "source": [
    "## Number of people having more than one pet\n",
    "\n",
    "sql = \"\"\"\n",
    "        SELECT count(*) FROM (SELECT count(owner_id) FROM pets \n",
    "        GROUP BY owner_id HAVING count(owner_id) >1)\n",
    "    \"\"\"\n",
    "rows = cursor.execute(sql)\n",
    "for row in rows:\n",
    "    print(f\"{row[0]} people have more than 1 pet.\")"
   ],
   "outputs": [
    {
     "name": "stdout",
     "output_type": "stream",
     "text": [
      "43 people have more than 1 pet.\n"
     ]
    }
   ],
   "execution_count": 12
  },
  {
   "cell_type": "markdown",
   "id": "8890a887",
   "metadata": {},
   "source": [
    "##### 6. Find out how many pets have received treatment."
   ]
  },
  {
   "cell_type": "code",
   "id": "de652cd8",
   "metadata": {
    "ExecuteTime": {
     "end_time": "2025-01-11T19:33:56.054136Z",
     "start_time": "2025-01-11T19:33:56.047894Z"
    }
   },
   "source": [
    "## Get number of treated pets\n",
    "sql = \"SELECT count(*) FROM pets WHERE treatment_done=1\"\n",
    "for row in cursor.execute(sql):\n",
    "    treated = row[0]\n",
    "        \n",
    "## Get total number of pets\n",
    "rows = cursor.execute(\"SELECT count(*) FROM pets\")\n",
    "for row in rows:\n",
    "    total = row[0]\n",
    "    \n",
    "print(f\"{treated} out of {total} pets have been treated.\")"
   ],
   "outputs": [
    {
     "name": "stdout",
     "output_type": "stream",
     "text": [
      "36 out of 150 pets have been treated.\n"
     ]
    }
   ],
   "execution_count": 13
  },
  {
   "cell_type": "markdown",
   "id": "51230edd",
   "metadata": {},
   "source": [
    "##### 7. Find out how many pets have received treatment and the type of pet is known."
   ]
  },
  {
   "cell_type": "code",
   "id": "c4636baf",
   "metadata": {
    "ExecuteTime": {
     "end_time": "2025-01-11T19:33:58.152471Z",
     "start_time": "2025-01-11T19:33:58.142661Z"
    }
   },
   "source": [
    "## Get number of treated pets of known type\n",
    "\n",
    "sql = \"SELECT count(*) FROM pets WHERE treatment_done=1 AND pet_type IS NOT Null\"\n",
    "for row in cursor.execute(sql):\n",
    "    treatAndType = row[0]\n",
    "    \n",
    "## Get total number of pets with known type\n",
    "\n",
    "sql = \"SELECT count(*) FROM pets WHERE pet_type IS NOT Null\"\n",
    "for row in cursor.execute(sql):\n",
    "    totalKnownType = row[0]    \n",
    "    \n",
    "print(f\"{treatAndType} pets out of {totalKnownType} with known type have been treated.\")"
   ],
   "outputs": [
    {
     "name": "stdout",
     "output_type": "stream",
     "text": [
      "16 pets out of 68 with known type have been treated.\n"
     ]
    }
   ],
   "execution_count": 14
  },
  {
   "cell_type": "markdown",
   "id": "c54b337f",
   "metadata": {},
   "source": [
    "##### 8. Find out how many pets are from the city called east port."
   ]
  },
  {
   "cell_type": "code",
   "id": "270b8981",
   "metadata": {
    "ExecuteTime": {
     "end_time": "2025-01-11T19:34:00.335548Z",
     "start_time": "2025-01-11T19:34:00.324661Z"
    }
   },
   "source": [
    "# For total number of people from 'east port':\n",
    "# SELECT count(*) FROM persons WHERE city='east port'\n",
    "\n",
    "sql = \"\"\"\n",
    "        SELECT count(*) FROM pets\n",
    "        JOIN persons ON pets.owner_id = id\n",
    "        WHERE persons.city='east port'\n",
    "\"\"\"    \n",
    "for row in cursor.execute(sql):\n",
    "    print(f\"There are {row[0]} pets from the city called 'east port'.\")"
   ],
   "outputs": [
    {
     "name": "stdout",
     "output_type": "stream",
     "text": [
      "There are 49 pets from the city called 'east port'.\n"
     ]
    }
   ],
   "execution_count": 15
  },
  {
   "cell_type": "markdown",
   "id": "412ead2a",
   "metadata": {},
   "source": [
    "##### 9. Find out how many pets are from the city called east port and who received a treatment."
   ]
  },
  {
   "cell_type": "code",
   "id": "82c78817",
   "metadata": {
    "ExecuteTime": {
     "end_time": "2025-01-11T19:34:02.563358Z",
     "start_time": "2025-01-11T19:34:02.557688Z"
    }
   },
   "source": [
    "## Calculate the count of pet from east port and received a treatment\n",
    "\n",
    "sql = \"\"\"\n",
    "        SELECT count(*) FROM pets\n",
    "        JOIN persons ON pets.owner_id = id\n",
    "        WHERE persons.city='east port' AND pets.treatment_done=1\n",
    "\"\"\"    \n",
    "for row in cursor.execute(sql):\n",
    "    print(f\"There are {row[0]} pets from 'east port' who received treatment.\")"
   ],
   "outputs": [
    {
     "name": "stdout",
     "output_type": "stream",
     "text": [
      "There are 11 pets from 'east port' who received treatment.\n"
     ]
    }
   ],
   "execution_count": 16
  },
  {
   "cell_type": "code",
   "execution_count": null,
   "id": "be8f6a6a",
   "metadata": {},
   "outputs": [],
   "source": []
  }
 ],
 "metadata": {
  "kernelspec": {
   "display_name": "Python 3",
   "language": "python",
   "name": "python3"
  },
  "language_info": {
   "codemirror_mode": {
    "name": "ipython",
    "version": 3
   },
   "file_extension": ".py",
   "mimetype": "text/x-python",
   "name": "python",
   "nbconvert_exporter": "python",
   "pygments_lexer": "ipython3",
   "version": "3.8.8"
  }
 },
 "nbformat": 4,
 "nbformat_minor": 5
}
