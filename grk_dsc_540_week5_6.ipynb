{
 "cells": [
  {
   "cell_type": "markdown",
   "metadata": {},
   "source": [
    "# DSC 540-Week 5 & 6 Exercises\n",
    "# Kannur, Gyan"
   ]
  },
  {
   "cell_type": "markdown",
   "metadata": {},
   "source": "## Data Wrangling with Python: Activity 5.01"
  },
  {
   "cell_type": "markdown",
   "metadata": {},
   "source": "### create a soup with bs4 and load the data "
  },
  {
   "cell_type": "code",
   "metadata": {
    "ExecuteTime": {
     "end_time": "2025-01-06T03:50:06.102441Z",
     "start_time": "2025-01-06T03:50:06.097272Z"
    }
   },
   "source": [
    "## loading the required packages\n",
    "from bs4 import BeautifulSoup\n",
    "import pandas as pd\n",
    "import warnings\n",
    "warnings.filterwarnings(\"ignore\")"
   ],
   "outputs": [],
   "execution_count": 12
  },
  {
   "cell_type": "code",
   "metadata": {
    "ExecuteTime": {
     "end_time": "2025-01-06T03:50:08.264135Z",
     "start_time": "2025-01-06T03:50:07.881641Z"
    }
   },
   "source": [
    "## Reading the html file\n",
    "fd = open('./datasets/countries_gdp.htm', 'r', encoding=\"utf-8\")\n",
    "soup = BeautifulSoup(fd)\n",
    "fd.close()"
   ],
   "outputs": [],
   "execution_count": 13
  },
  {
   "cell_type": "code",
   "metadata": {
    "ExecuteTime": {
     "end_time": "2025-01-06T03:51:21.661715Z",
     "start_time": "2025-01-06T03:51:21.649423Z"
    }
   },
   "source": [
    "## Fetch all tables using the 'table' tag\n",
    "all_tables = soup.find_all('table')\n",
    "count=len(all_tables)\n",
    "print(f\"Total number of tables {count}\")"
   ],
   "outputs": [
    {
     "name": "stdout",
     "output_type": "stream",
     "text": [
      "Total number of tables 9\n"
     ]
    }
   ],
   "execution_count": 14
  },
  {
   "cell_type": "code",
   "metadata": {
    "ExecuteTime": {
     "end_time": "2025-01-06T03:52:53.835721Z",
     "start_time": "2025-01-06T03:52:53.828503Z"
    }
   },
   "source": [
    "## Using the class attribute to find the right table\n",
    "data_table = soup.find(\"table\", {\"class\": '\"wikitable\"|}'})\n",
    "## this prints data type of the returned object\n",
    "dp=type(data_table) \n",
    "print(f\"data type of the returned object : {dp} \")"
   ],
   "outputs": [
    {
     "name": "stdout",
     "output_type": "stream",
     "text": [
      "data type of the returned object : <class 'bs4.element.Tag'> \n"
     ]
    }
   ],
   "execution_count": 16
  },
  {
   "cell_type": "code",
   "metadata": {
    "ExecuteTime": {
     "end_time": "2025-01-06T03:53:55.648516Z",
     "start_time": "2025-01-06T03:53:55.642439Z"
    }
   },
   "source": [
    "## Separating the source names and their corresponding data\n",
    "sources = data_table.tbody.findAll('tr', recursive=False)[0]\n",
    "sources_list = [td for td in sources.findAll('td')]\n",
    "### This shows data is from three sources\n",
    "print(len(sources_list))\n"
   ],
   "outputs": [
    {
     "name": "stdout",
     "output_type": "stream",
     "text": [
      "3\n"
     ]
    }
   ],
   "execution_count": 20
  },
  {
   "cell_type": "code",
   "metadata": {
    "ExecuteTime": {
     "end_time": "2025-01-06T03:54:11.021439Z",
     "start_time": "2025-01-06T03:54:11.009796Z"
    }
   },
   "source": [
    "data = data_table.tbody.findAll('tr', recursive=False)[1].findAll('td', recursive=False)\n",
    "## type of the actual data\n",
    "type(data) "
   ],
   "outputs": [
    {
     "data": {
      "text/plain": [
       "bs4.element.ResultSet"
      ]
     },
     "execution_count": 21,
     "metadata": {},
     "output_type": "execute_result"
    }
   ],
   "execution_count": 21
  },
  {
   "cell_type": "code",
   "metadata": {
    "ExecuteTime": {
     "end_time": "2025-01-06T03:56:25.474345Z",
     "start_time": "2025-01-06T03:56:25.466677Z"
    }
   },
   "source": [
    "## Get the source names from the list of sources you have created\n",
    "data_tables = []\n",
    "[data_tables.append(td.findAll('table')) for td in data]\n",
    "len(data_tables)\n",
    "  "
   ],
   "outputs": [
    {
     "data": {
      "text/plain": [
       "3"
      ]
     },
     "execution_count": 31,
     "metadata": {},
     "output_type": "execute_result"
    }
   ],
   "execution_count": 31
  },
  {
   "metadata": {},
   "cell_type": "markdown",
   "source": "## Separating the header and data from the data for the first source only"
  },
  {
   "cell_type": "code",
   "metadata": {
    "ExecuteTime": {
     "end_time": "2025-01-06T03:56:36.458366Z",
     "start_time": "2025-01-06T03:56:36.451977Z"
    }
   },
   "source": [
    "# extracting source names with the help of getText() by passing the values from sources_list in a loop\n",
    "source_names = [source.findAll('a')[0].getText() for source in sources_list]\n",
    "print(source_names)"
   ],
   "outputs": [
    {
     "name": "stdout",
     "output_type": "stream",
     "text": [
      "['International Monetary Fund', 'World Bank', 'United Nations']\n"
     ]
    }
   ],
   "execution_count": 32
  },
  {
   "cell_type": "code",
   "metadata": {
    "ExecuteTime": {
     "end_time": "2025-01-06T03:56:50.901912Z",
     "start_time": "2025-01-06T03:56:50.893776Z"
    }
   },
   "source": [
    "## Extracting the column headers for the data\n",
    "header1 = [th.getText().strip() for th in data_tables[0][0].findAll('thead')[0].findAll('th')]\n",
    "header1"
   ],
   "outputs": [
    {
     "data": {
      "text/plain": [
       "['Rank', 'Country', 'GDP(US$MM)']"
      ]
     },
     "execution_count": 34,
     "metadata": {},
     "output_type": "execute_result"
    }
   ],
   "execution_count": 34
  },
  {
   "cell_type": "code",
   "metadata": {
    "ExecuteTime": {
     "end_time": "2025-01-06T04:16:27.637601Z",
     "start_time": "2025-01-06T04:16:27.632051Z"
    }
   },
   "source": [
    "## Extracting the actual data from the first source\n",
    "rows1 = data_tables[0][0].findAll('tbody')[0].findAll('tr')[1:]\n"
   ],
   "outputs": [],
   "execution_count": 76
  },
  {
   "cell_type": "code",
   "metadata": {
    "ExecuteTime": {
     "end_time": "2025-01-06T04:16:55.854194Z",
     "start_time": "2025-01-06T04:16:55.847175Z"
    }
   },
   "source": [
    "### Removing the tags to remain with the actual observations by passing the values from \"rows1\" derived from above step\n",
    "data_rows1 = [[td.get_text().strip() for td in tr.findAll('td')] for tr in rows1]\n",
    "data_rows1[10]\n"
   ],
   "outputs": [
    {
     "data": {
      "text/plain": [
       "['11', 'South Korea', '1,538,030']"
      ]
     },
     "execution_count": 78,
     "metadata": {},
     "output_type": "execute_result"
    }
   ],
   "execution_count": 78
  },
  {
   "cell_type": "code",
   "metadata": {
    "ExecuteTime": {
     "end_time": "2025-01-06T03:57:26.342868Z",
     "start_time": "2025-01-06T03:57:26.332449Z"
    }
   },
   "source": [
    "## Creating the data frame from the observations  and headers from the first column\n",
    "df1 = pd.DataFrame(data_rows1, columns=header1)\n",
    "df1.head()"
   ],
   "outputs": [
    {
     "data": {
      "text/plain": [
       "  Rank         Country  GDP(US$MM)\n",
       "0    1   United States  19,390,600\n",
       "1    2      China[n 1]  12,014,610\n",
       "2    3           Japan   4,872,135\n",
       "3    4         Germany   3,684,816\n",
       "4    5  United Kingdom   2,624,529"
      ],
      "text/html": [
       "<div>\n",
       "<style scoped>\n",
       "    .dataframe tbody tr th:only-of-type {\n",
       "        vertical-align: middle;\n",
       "    }\n",
       "\n",
       "    .dataframe tbody tr th {\n",
       "        vertical-align: top;\n",
       "    }\n",
       "\n",
       "    .dataframe thead th {\n",
       "        text-align: right;\n",
       "    }\n",
       "</style>\n",
       "<table border=\"1\" class=\"dataframe\">\n",
       "  <thead>\n",
       "    <tr style=\"text-align: right;\">\n",
       "      <th></th>\n",
       "      <th>Rank</th>\n",
       "      <th>Country</th>\n",
       "      <th>GDP(US$MM)</th>\n",
       "    </tr>\n",
       "  </thead>\n",
       "  <tbody>\n",
       "    <tr>\n",
       "      <th>0</th>\n",
       "      <td>1</td>\n",
       "      <td>United States</td>\n",
       "      <td>19,390,600</td>\n",
       "    </tr>\n",
       "    <tr>\n",
       "      <th>1</th>\n",
       "      <td>2</td>\n",
       "      <td>China[n 1]</td>\n",
       "      <td>12,014,610</td>\n",
       "    </tr>\n",
       "    <tr>\n",
       "      <th>2</th>\n",
       "      <td>3</td>\n",
       "      <td>Japan</td>\n",
       "      <td>4,872,135</td>\n",
       "    </tr>\n",
       "    <tr>\n",
       "      <th>3</th>\n",
       "      <td>4</td>\n",
       "      <td>Germany</td>\n",
       "      <td>3,684,816</td>\n",
       "    </tr>\n",
       "    <tr>\n",
       "      <th>4</th>\n",
       "      <td>5</td>\n",
       "      <td>United Kingdom</td>\n",
       "      <td>2,624,529</td>\n",
       "    </tr>\n",
       "  </tbody>\n",
       "</table>\n",
       "</div>"
      ]
     },
     "execution_count": 38,
     "metadata": {},
     "output_type": "execute_result"
    }
   ],
   "execution_count": 38
  },
  {
   "cell_type": "code",
   "metadata": {
    "ExecuteTime": {
     "end_time": "2025-01-06T03:57:32.312279Z",
     "start_time": "2025-01-06T03:57:32.304947Z"
    }
   },
   "source": [
    "## Extracting the column header for the data from the second source\n",
    "header2 = [th.getText().strip() for th in data_tables[1][0].findAll('thead')[0].findAll('th')]\n",
    "header2"
   ],
   "outputs": [
    {
     "data": {
      "text/plain": [
       "['Rank', 'Country', 'GDP(US$MM)']"
      ]
     },
     "execution_count": 39,
     "metadata": {},
     "output_type": "execute_result"
    }
   ],
   "execution_count": 39
  },
  {
   "cell_type": "code",
   "metadata": {
    "ExecuteTime": {
     "end_time": "2025-01-06T04:17:05.000806Z",
     "start_time": "2025-01-06T04:17:04.989524Z"
    }
   },
   "source": [
    "### Extracting the observations with all elements and attributes from the second data source\n",
    "rows2 = data_tables[1][0].findAll('tbody')[0].findAll('tr')[1:]\n",
    "rows2[1]"
   ],
   "outputs": [
    {
     "data": {
      "text/plain": [
       "<tr style=\"background-color:#eaecf0\">\n",
       "<td align=\"right\" data-sort-value=\"0\"> </td>\n",
       "<td><i><span class=\"flagicon\"><img alt=\"\" class=\"thumbborder\" data-file-height=\"540\" data-file-width=\"810\" height=\"15\" src=\"./List of countries by GDP (nominal) - Wikipedia_files/23px-Flag_of_Europe.svg.png\" srcset=\"//upload.wikimedia.org/wikipedia/commons/thumb/b/b7/Flag_of_Europe.svg/35px-Flag_of_Europe.svg.png 1.5x, //upload.wikimedia.org/wikipedia/commons/thumb/b/b7/Flag_of_Europe.svg/45px-Flag_of_Europe.svg.png 2x\" width=\"23\"/> </span><a href=\"https://en.wikipedia.org/wiki/European_Union\" title=\"European Union\">European Union</a></i><sup class=\"reference\" id=\"cite_ref-26\"><a href=\"https://en.wikipedia.org/wiki/List_of_countries_by_GDP_(nominal)#cite_note-26\">[23]</a></sup></td>\n",
       "<td align=\"right\"><span class=\"sortkey\" style=\"display:none\">7007172776980000000♠</span>17,277,698\n",
       "</td></tr>"
      ]
     },
     "execution_count": 79,
     "metadata": {},
     "output_type": "execute_result"
    }
   ],
   "execution_count": 79
  },
  {
   "cell_type": "code",
   "metadata": {
    "ExecuteTime": {
     "end_time": "2025-01-06T03:57:37.802211Z",
     "start_time": "2025-01-06T03:57:37.796065Z"
    }
   },
   "source": [
    "def find_right_text(i, td):\n",
    "    if i == 0:\n",
    "        return td.getText().strip()\n",
    "    elif i == 1:\n",
    "        return td.getText().strip()\n",
    "    else:\n",
    "        index = td.text.find('♠')\n",
    "        return td.text[index+1:].strip()"
   ],
   "outputs": [],
   "execution_count": 41
  },
  {
   "cell_type": "code",
   "metadata": {
    "ExecuteTime": {
     "end_time": "2025-01-06T03:57:40.573301Z",
     "start_time": "2025-01-06T03:57:40.565112Z"
    }
   },
   "source": [
    "### Extracting only the useful data from the above row information to be used in creating the data frame\n",
    "data_rows2 = [[find_right_text(i, td) for i, td in enumerate(tr.findAll('td'))] for tr in rows2]"
   ],
   "outputs": [],
   "execution_count": 42
  },
  {
   "cell_type": "code",
   "metadata": {
    "ExecuteTime": {
     "end_time": "2025-01-06T03:57:42.527162Z",
     "start_time": "2025-01-06T03:57:42.521617Z"
    }
   },
   "source": [
    "### Combining the column headers and the row observations to form the second data frame\n",
    "df2 = pd.DataFrame(data_rows2, columns=header2)\n",
    "df2.head()"
   ],
   "outputs": [
    {
     "data": {
      "text/plain": [
       "  Rank             Country  GDP(US$MM)\n",
       "0    1       United States  19,390,604\n",
       "1       European Union[23]  17,277,698\n",
       "2    2          China[n 4]  12,237,700\n",
       "3    3               Japan   4,872,137\n",
       "4    4             Germany   3,677,439"
      ],
      "text/html": [
       "<div>\n",
       "<style scoped>\n",
       "    .dataframe tbody tr th:only-of-type {\n",
       "        vertical-align: middle;\n",
       "    }\n",
       "\n",
       "    .dataframe tbody tr th {\n",
       "        vertical-align: top;\n",
       "    }\n",
       "\n",
       "    .dataframe thead th {\n",
       "        text-align: right;\n",
       "    }\n",
       "</style>\n",
       "<table border=\"1\" class=\"dataframe\">\n",
       "  <thead>\n",
       "    <tr style=\"text-align: right;\">\n",
       "      <th></th>\n",
       "      <th>Rank</th>\n",
       "      <th>Country</th>\n",
       "      <th>GDP(US$MM)</th>\n",
       "    </tr>\n",
       "  </thead>\n",
       "  <tbody>\n",
       "    <tr>\n",
       "      <th>0</th>\n",
       "      <td>1</td>\n",
       "      <td>United States</td>\n",
       "      <td>19,390,604</td>\n",
       "    </tr>\n",
       "    <tr>\n",
       "      <th>1</th>\n",
       "      <td></td>\n",
       "      <td>European Union[23]</td>\n",
       "      <td>17,277,698</td>\n",
       "    </tr>\n",
       "    <tr>\n",
       "      <th>2</th>\n",
       "      <td>2</td>\n",
       "      <td>China[n 4]</td>\n",
       "      <td>12,237,700</td>\n",
       "    </tr>\n",
       "    <tr>\n",
       "      <th>3</th>\n",
       "      <td>3</td>\n",
       "      <td>Japan</td>\n",
       "      <td>4,872,137</td>\n",
       "    </tr>\n",
       "    <tr>\n",
       "      <th>4</th>\n",
       "      <td>4</td>\n",
       "      <td>Germany</td>\n",
       "      <td>3,677,439</td>\n",
       "    </tr>\n",
       "  </tbody>\n",
       "</table>\n",
       "</div>"
      ]
     },
     "execution_count": 43,
     "metadata": {},
     "output_type": "execute_result"
    }
   ],
   "execution_count": 43
  },
  {
   "cell_type": "code",
   "metadata": {
    "ExecuteTime": {
     "end_time": "2025-01-06T03:57:44.687516Z",
     "start_time": "2025-01-06T03:57:44.679472Z"
    }
   },
   "source": [
    "## Extracting the column headers from the third source\n",
    "header3 = [th.getText().strip() for th in data_tables[2][0].findAll('thead')[0].findAll('th')]\n",
    "header3"
   ],
   "outputs": [
    {
     "data": {
      "text/plain": [
       "['Rank', 'Country', 'GDP(US$MM)']"
      ]
     },
     "execution_count": 44,
     "metadata": {},
     "output_type": "execute_result"
    }
   ],
   "execution_count": 44
  },
  {
   "cell_type": "code",
   "metadata": {
    "ExecuteTime": {
     "end_time": "2025-01-06T03:57:46.353583Z",
     "start_time": "2025-01-06T03:57:46.345536Z"
    }
   },
   "source": [
    "## Extracting the row information from the third source\n",
    "rows3 = data_tables[2][0].findAll('tbody')[0].findAll('tr')[1:]"
   ],
   "outputs": [],
   "execution_count": 45
  },
  {
   "cell_type": "code",
   "metadata": {
    "ExecuteTime": {
     "end_time": "2025-01-06T03:57:48.193716Z",
     "start_time": "2025-01-06T03:57:48.184682Z"
    }
   },
   "source": [
    "## Extracting the row information from row3 \n",
    "data_rows3 = [[find_right_text(i, td) for i, td in enumerate(tr.findAll('td'))] for tr in rows3]"
   ],
   "outputs": [],
   "execution_count": 46
  },
  {
   "cell_type": "code",
   "metadata": {
    "ExecuteTime": {
     "end_time": "2025-01-06T03:57:50.279762Z",
     "start_time": "2025-01-06T03:57:50.264207Z"
    }
   },
   "source": [
    "## Creating a data frame using the column headers and the row informartion (observations)\n",
    "df3 = pd.DataFrame(data_rows3, columns=header3)\n",
    "df3.head()"
   ],
   "outputs": [
    {
     "data": {
      "text/plain": [
       "  Rank         Country  GDP(US$MM)\n",
       "0    1   United States  18,624,475\n",
       "1    2      China[n 4]  11,218,281\n",
       "2    3           Japan   4,936,211\n",
       "3    4         Germany   3,477,796\n",
       "4    5  United Kingdom   2,647,898"
      ],
      "text/html": [
       "<div>\n",
       "<style scoped>\n",
       "    .dataframe tbody tr th:only-of-type {\n",
       "        vertical-align: middle;\n",
       "    }\n",
       "\n",
       "    .dataframe tbody tr th {\n",
       "        vertical-align: top;\n",
       "    }\n",
       "\n",
       "    .dataframe thead th {\n",
       "        text-align: right;\n",
       "    }\n",
       "</style>\n",
       "<table border=\"1\" class=\"dataframe\">\n",
       "  <thead>\n",
       "    <tr style=\"text-align: right;\">\n",
       "      <th></th>\n",
       "      <th>Rank</th>\n",
       "      <th>Country</th>\n",
       "      <th>GDP(US$MM)</th>\n",
       "    </tr>\n",
       "  </thead>\n",
       "  <tbody>\n",
       "    <tr>\n",
       "      <th>0</th>\n",
       "      <td>1</td>\n",
       "      <td>United States</td>\n",
       "      <td>18,624,475</td>\n",
       "    </tr>\n",
       "    <tr>\n",
       "      <th>1</th>\n",
       "      <td>2</td>\n",
       "      <td>China[n 4]</td>\n",
       "      <td>11,218,281</td>\n",
       "    </tr>\n",
       "    <tr>\n",
       "      <th>2</th>\n",
       "      <td>3</td>\n",
       "      <td>Japan</td>\n",
       "      <td>4,936,211</td>\n",
       "    </tr>\n",
       "    <tr>\n",
       "      <th>3</th>\n",
       "      <td>4</td>\n",
       "      <td>Germany</td>\n",
       "      <td>3,477,796</td>\n",
       "    </tr>\n",
       "    <tr>\n",
       "      <th>4</th>\n",
       "      <td>5</td>\n",
       "      <td>United Kingdom</td>\n",
       "      <td>2,647,898</td>\n",
       "    </tr>\n",
       "  </tbody>\n",
       "</table>\n",
       "</div>"
      ]
     },
     "execution_count": 47,
     "metadata": {},
     "output_type": "execute_result"
    }
   ],
   "execution_count": 47
  },
  {
   "cell_type": "markdown",
   "metadata": {},
   "source": "# Data Wrangling with Python: Activity 6.0"
  },
  {
   "cell_type": "markdown",
   "metadata": {},
   "source": [
    "## Load data from Comma Delimited Data (CSV)"
   ]
  },
  {
   "cell_type": "code",
   "metadata": {
    "ExecuteTime": {
     "end_time": "2025-01-06T04:04:53.282937Z",
     "start_time": "2025-01-06T04:04:52.551724Z"
    }
   },
   "source": [
    "## loading the required packages\n",
    "import pandas as pd\n",
    "import matplotlib.pyplot as plt\n",
    "import numpy as np\n",
    "%matplotlib inline"
   ],
   "outputs": [],
   "execution_count": 58
  },
  {
   "cell_type": "code",
   "metadata": {
    "ExecuteTime": {
     "end_time": "2025-01-06T03:59:03.495795Z",
     "start_time": "2025-01-06T03:59:03.469225Z"
    }
   },
   "source": [
    "## Read csv using pandas\n",
    "visitors_data= pd.read_csv('./datasets/visit_data.csv')\n",
    "## show the first five observations of the dataset\n",
    "visitors_data.head(5)"
   ],
   "outputs": [
    {
     "data": {
      "text/plain": [
       "   id first_name last_name                       email gender  \\\n",
       "0   1      Sonny      Dahl            sdahl0@mysql.com   Male   \n",
       "1   2        NaN       NaN           dhoovart1@hud.gov    NaN   \n",
       "2   3        Gar     Armal      garmal2@technorati.com    NaN   \n",
       "3   4    Chiarra     Nulty       cnulty3@newyorker.com    NaN   \n",
       "4   5        NaN       NaN  sleaver4@elegantthemes.com    NaN   \n",
       "\n",
       "        ip_address   visit  \n",
       "0    135.36.96.183  1225.0  \n",
       "1  237.165.194.143   919.0  \n",
       "2   166.43.137.224   271.0  \n",
       "3   139.98.137.108  1002.0  \n",
       "4    46.117.117.27  2434.0  "
      ],
      "text/html": [
       "<div>\n",
       "<style scoped>\n",
       "    .dataframe tbody tr th:only-of-type {\n",
       "        vertical-align: middle;\n",
       "    }\n",
       "\n",
       "    .dataframe tbody tr th {\n",
       "        vertical-align: top;\n",
       "    }\n",
       "\n",
       "    .dataframe thead th {\n",
       "        text-align: right;\n",
       "    }\n",
       "</style>\n",
       "<table border=\"1\" class=\"dataframe\">\n",
       "  <thead>\n",
       "    <tr style=\"text-align: right;\">\n",
       "      <th></th>\n",
       "      <th>id</th>\n",
       "      <th>first_name</th>\n",
       "      <th>last_name</th>\n",
       "      <th>email</th>\n",
       "      <th>gender</th>\n",
       "      <th>ip_address</th>\n",
       "      <th>visit</th>\n",
       "    </tr>\n",
       "  </thead>\n",
       "  <tbody>\n",
       "    <tr>\n",
       "      <th>0</th>\n",
       "      <td>1</td>\n",
       "      <td>Sonny</td>\n",
       "      <td>Dahl</td>\n",
       "      <td>sdahl0@mysql.com</td>\n",
       "      <td>Male</td>\n",
       "      <td>135.36.96.183</td>\n",
       "      <td>1225.0</td>\n",
       "    </tr>\n",
       "    <tr>\n",
       "      <th>1</th>\n",
       "      <td>2</td>\n",
       "      <td>NaN</td>\n",
       "      <td>NaN</td>\n",
       "      <td>dhoovart1@hud.gov</td>\n",
       "      <td>NaN</td>\n",
       "      <td>237.165.194.143</td>\n",
       "      <td>919.0</td>\n",
       "    </tr>\n",
       "    <tr>\n",
       "      <th>2</th>\n",
       "      <td>3</td>\n",
       "      <td>Gar</td>\n",
       "      <td>Armal</td>\n",
       "      <td>garmal2@technorati.com</td>\n",
       "      <td>NaN</td>\n",
       "      <td>166.43.137.224</td>\n",
       "      <td>271.0</td>\n",
       "    </tr>\n",
       "    <tr>\n",
       "      <th>3</th>\n",
       "      <td>4</td>\n",
       "      <td>Chiarra</td>\n",
       "      <td>Nulty</td>\n",
       "      <td>cnulty3@newyorker.com</td>\n",
       "      <td>NaN</td>\n",
       "      <td>139.98.137.108</td>\n",
       "      <td>1002.0</td>\n",
       "    </tr>\n",
       "    <tr>\n",
       "      <th>4</th>\n",
       "      <td>5</td>\n",
       "      <td>NaN</td>\n",
       "      <td>NaN</td>\n",
       "      <td>sleaver4@elegantthemes.com</td>\n",
       "      <td>NaN</td>\n",
       "      <td>46.117.117.27</td>\n",
       "      <td>2434.0</td>\n",
       "    </tr>\n",
       "  </tbody>\n",
       "</table>\n",
       "</div>"
      ]
     },
     "execution_count": 48,
     "metadata": {},
     "output_type": "execute_result"
    }
   ],
   "execution_count": 48
  },
  {
   "cell_type": "code",
   "metadata": {
    "ExecuteTime": {
     "end_time": "2025-01-06T04:03:25.848526Z",
     "start_time": "2025-01-06T04:03:25.839466Z"
    }
   },
   "source": [
    "#Number of duplicates in each field\n",
    "## Try to find duplicates in the columns first_name, last_name, email and ip_address using duplicated method\n",
    "## value_counts() provides the counts of duplicate values in a given column.\n",
    "## using the filter to check the True values (indicated with 1) returned from duplicated() function, to identify counts.\n",
    "\n",
    "print('Number of duplicates in the First Name field: {}'.format(visitors_data.first_name.duplicated().sum()))\n",
    "print('Number of duplicates in the Last Name field: {}'.format(visitors_data.last_name.duplicated().sum()))\n",
    "\n",
    "print('Number of duplicates in the Email field: {}'.format(visitors_data.email.duplicated().sum()))\n",
    "print('Number of duplicates in the IP Address field: {}'.format(visitors_data.ip_address.duplicated().sum()))"
   ],
   "outputs": [
    {
     "name": "stdout",
     "output_type": "stream",
     "text": [
      "Number of duplicates in the First Name field: 320\n",
      "Number of duplicates in the Last Name field: 299\n",
      "Number of duplicates in the Email field: 0\n",
      "Number of duplicates in the IP Address field: 0\n"
     ]
    }
   ],
   "execution_count": 52
  },
  {
   "cell_type": "code",
   "metadata": {
    "ExecuteTime": {
     "end_time": "2025-01-06T04:03:45.504437Z",
     "start_time": "2025-01-06T04:03:45.471698Z"
    }
   },
   "source": [
    "# Number of duplicate rows\n",
    "\n",
    "print('Number of duplicates rows present in the dataset: {}'.format(visitors_data.duplicated().sum()))"
   ],
   "outputs": [
    {
     "name": "stdout",
     "output_type": "stream",
     "text": [
      "Number of duplicates rows present in the dataset: 0\n"
     ]
    }
   ],
   "execution_count": 53
  },
  {
   "cell_type": "code",
   "metadata": {
    "ExecuteTime": {
     "end_time": "2025-01-06T04:04:12.529304Z",
     "start_time": "2025-01-06T04:04:12.523368Z"
    }
   },
   "source": [
    "### Checking whether there are any NAN in essential \n",
    "visit = visitors_data.visit.isnull().values.any()\n",
    "email = visitors_data.email.isnull().values.any()\n",
    "ip_address = visitors_data.ip_address.isnull().values.any()\n",
    "print(\"The column Email contains NaN - {}\".format(email))\n",
    "print(\"The column IP Address contains NaN - {}\".format(ip_address))\n",
    "print(\"The column Visit contains NaN - {}\".format(visit))\n",
    "## Only visits has NAN"
   ],
   "outputs": [
    {
     "name": "stdout",
     "output_type": "stream",
     "text": [
      "The column Email contains NaN - False\n",
      "The column IP Address contains NaN - False\n",
      "The column Visit contains NaN - True\n"
     ]
    }
   ],
   "execution_count": 54
  },
  {
   "cell_type": "code",
   "metadata": {
    "ExecuteTime": {
     "end_time": "2025-01-06T04:04:34.115968Z",
     "start_time": "2025-01-06T04:04:34.100614Z"
    }
   },
   "source": [
    "## Eliminating Outliers:: We consider the NaN in Visits as the outliers\n",
    "\n",
    "New_visitors_df = visitors_data[np.isfinite(visitors_data['visit'])] \n",
    "New_visitors_df.head()\n"
   ],
   "outputs": [
    {
     "data": {
      "text/plain": [
       "   id first_name last_name                       email gender  \\\n",
       "0   1      Sonny      Dahl            sdahl0@mysql.com   Male   \n",
       "1   2        NaN       NaN           dhoovart1@hud.gov    NaN   \n",
       "2   3        Gar     Armal      garmal2@technorati.com    NaN   \n",
       "3   4    Chiarra     Nulty       cnulty3@newyorker.com    NaN   \n",
       "4   5        NaN       NaN  sleaver4@elegantthemes.com    NaN   \n",
       "\n",
       "        ip_address   visit  \n",
       "0    135.36.96.183  1225.0  \n",
       "1  237.165.194.143   919.0  \n",
       "2   166.43.137.224   271.0  \n",
       "3   139.98.137.108  1002.0  \n",
       "4    46.117.117.27  2434.0  "
      ],
      "text/html": [
       "<div>\n",
       "<style scoped>\n",
       "    .dataframe tbody tr th:only-of-type {\n",
       "        vertical-align: middle;\n",
       "    }\n",
       "\n",
       "    .dataframe tbody tr th {\n",
       "        vertical-align: top;\n",
       "    }\n",
       "\n",
       "    .dataframe thead th {\n",
       "        text-align: right;\n",
       "    }\n",
       "</style>\n",
       "<table border=\"1\" class=\"dataframe\">\n",
       "  <thead>\n",
       "    <tr style=\"text-align: right;\">\n",
       "      <th></th>\n",
       "      <th>id</th>\n",
       "      <th>first_name</th>\n",
       "      <th>last_name</th>\n",
       "      <th>email</th>\n",
       "      <th>gender</th>\n",
       "      <th>ip_address</th>\n",
       "      <th>visit</th>\n",
       "    </tr>\n",
       "  </thead>\n",
       "  <tbody>\n",
       "    <tr>\n",
       "      <th>0</th>\n",
       "      <td>1</td>\n",
       "      <td>Sonny</td>\n",
       "      <td>Dahl</td>\n",
       "      <td>sdahl0@mysql.com</td>\n",
       "      <td>Male</td>\n",
       "      <td>135.36.96.183</td>\n",
       "      <td>1225.0</td>\n",
       "    </tr>\n",
       "    <tr>\n",
       "      <th>1</th>\n",
       "      <td>2</td>\n",
       "      <td>NaN</td>\n",
       "      <td>NaN</td>\n",
       "      <td>dhoovart1@hud.gov</td>\n",
       "      <td>NaN</td>\n",
       "      <td>237.165.194.143</td>\n",
       "      <td>919.0</td>\n",
       "    </tr>\n",
       "    <tr>\n",
       "      <th>2</th>\n",
       "      <td>3</td>\n",
       "      <td>Gar</td>\n",
       "      <td>Armal</td>\n",
       "      <td>garmal2@technorati.com</td>\n",
       "      <td>NaN</td>\n",
       "      <td>166.43.137.224</td>\n",
       "      <td>271.0</td>\n",
       "    </tr>\n",
       "    <tr>\n",
       "      <th>3</th>\n",
       "      <td>4</td>\n",
       "      <td>Chiarra</td>\n",
       "      <td>Nulty</td>\n",
       "      <td>cnulty3@newyorker.com</td>\n",
       "      <td>NaN</td>\n",
       "      <td>139.98.137.108</td>\n",
       "      <td>1002.0</td>\n",
       "    </tr>\n",
       "    <tr>\n",
       "      <th>4</th>\n",
       "      <td>5</td>\n",
       "      <td>NaN</td>\n",
       "      <td>NaN</td>\n",
       "      <td>sleaver4@elegantthemes.com</td>\n",
       "      <td>NaN</td>\n",
       "      <td>46.117.117.27</td>\n",
       "      <td>2434.0</td>\n",
       "    </tr>\n",
       "  </tbody>\n",
       "</table>\n",
       "</div>"
      ]
     },
     "execution_count": 55,
     "metadata": {},
     "output_type": "execute_result"
    }
   ],
   "execution_count": 55
  },
  {
   "cell_type": "code",
   "metadata": {
    "ExecuteTime": {
     "end_time": "2025-01-06T04:04:44.208435Z",
     "start_time": "2025-01-06T04:04:44.203031Z"
    }
   },
   "source": [
    "# reporting size difference\n",
    "### before and after removing the outliers\n",
    "df_size_before = visitors_data.shape[0]\n",
    "df_size_after = New_visitors_df.shape[0]\n",
    "print(\"The size of previous data was - {} rows\".format(df_size_before))\n",
    "print(\"The size of the new data is - {} rows\".format(df_size_after))\n"
   ],
   "outputs": [
    {
     "name": "stdout",
     "output_type": "stream",
     "text": [
      "The size of previous data was - 1000 rows\n",
      "The size of the new data is - 974 rows\n"
     ]
    }
   ],
   "execution_count": 56
  },
  {
   "cell_type": "code",
   "metadata": {
    "ExecuteTime": {
     "end_time": "2025-01-06T04:04:57.163344Z",
     "start_time": "2025-01-06T04:04:56.883927Z"
    }
   },
   "source": [
    "## Boxplot for checking outliers\n",
    "bp=plt.boxplot(New_visitors_df.visit, patch_artist = True,\n",
    "                notch ='True', vert = 1)\n"
   ],
   "outputs": [
    {
     "data": {
      "text/plain": [
       "<Figure size 640x480 with 1 Axes>"
      ],
      "image/png": "[encoded data removed]"
     },
     "metadata": {},
     "output_type": "display_data"
    }
   ],
   "execution_count": 59
  },
  {
   "metadata": {
    "ExecuteTime": {
     "end_time": "2025-01-06T04:09:39.060348Z",
     "start_time": "2025-01-06T04:09:37.548554Z"
    }
   },
   "cell_type": "code",
   "source": [
    "from scipy import stats\n",
    "cos_arr_z_score = stats.zscore(New_visitors_df.visit)"
   ],
   "outputs": [],
   "execution_count": 68
  },
  {
   "metadata": {
    "ExecuteTime": {
     "end_time": "2025-01-06T04:10:02.718211Z",
     "start_time": "2025-01-06T04:10:02.714560Z"
    }
   },
   "cell_type": "code",
   "source": [
    "#Any data point with a z-score greater than +3 or less then -3 is considered an outlier\n",
    "#Creating dataframe with zscore filter conditions\n",
    "cos_arr_without_outliers = New_visitors_df[(cos_arr_z_score < 3)]"
   ],
   "outputs": [],
   "execution_count": 69
  },
  {
   "metadata": {
    "ExecuteTime": {
     "end_time": "2025-01-06T04:10:28.123631Z",
     "start_time": "2025-01-06T04:10:28.116600Z"
    }
   },
   "cell_type": "code",
   "source": [
    "# Identifying the shape of dataframe to see if any record has been filtered out as part of outliers\n",
    "#Using zscore method, we could see that there is no outliers to be filtered out in the data\n",
    "cos_arr_without_outliers.shape"
   ],
   "outputs": [
    {
     "data": {
      "text/plain": [
       "(974, 7)"
      ]
     },
     "execution_count": 70,
     "metadata": {},
     "output_type": "execute_result"
    }
   ],
   "execution_count": 70
  },
  {
   "metadata": {},
   "cell_type": "markdown",
   "source": "##### Alternative method for outliers"
  },
  {
   "cell_type": "code",
   "metadata": {
    "ExecuteTime": {
     "end_time": "2025-01-06T04:12:50.735292Z",
     "start_time": "2025-01-06T04:12:50.730607Z"
    }
   },
   "source": [
    "## We will look to use minimum value of 150 and maximum value of 2900 as our potential valid range of values for visit column.\n",
    "## any other values outside this range will be considered as potential outliers for this exercise.\n",
    "\n",
    "cleaned_visit_df = New_visitors_df[(New_visitors_df.visit >= 150) & (New_visitors_df.visit <= 2900)]"
   ],
   "outputs": [],
   "execution_count": 74
  },
  {
   "metadata": {
    "ExecuteTime": {
     "end_time": "2025-01-06T04:12:53.838118Z",
     "start_time": "2025-01-06T04:12:53.834724Z"
    }
   },
   "cell_type": "code",
   "source": [
    "## shape function provides the number of rows and columns information\n",
    "cleaned_visit_df.shape"
   ],
   "outputs": [
    {
     "data": {
      "text/plain": [
       "(907, 7)"
      ]
     },
     "execution_count": 75,
     "metadata": {},
     "output_type": "execute_result"
    }
   ],
   "execution_count": 75
  },
  {
   "metadata": {},
   "cell_type": "markdown",
   "source": "Looking at above, with certain assumption about potential outlier values (as values below 150 and values above 2900 considered as outliers), we can see that the clean dataframe has 907 rows in it"
  },
  {
   "cell_type": "markdown",
   "metadata": {},
   "source": [
    "# 3. Insert data into a SQL Lite database – create a table with the following data (Hint: Python for Data Analysis page 191):\n",
    "\n",
    "a. Name, Address, City, State, Zip, Phone Number\n",
    "\n",
    "b. Add at least 10 rows of data and submit your code with a query generating your results."
   ]
  },
  {
   "cell_type": "code",
   "metadata": {
    "ExecuteTime": {
     "end_time": "2025-01-06T04:05:03.714089Z",
     "start_time": "2025-01-06T04:05:03.711265Z"
    }
   },
   "source": [
    "## load the sql library\n",
    "import sqlite3"
   ],
   "outputs": [],
   "execution_count": 61
  },
  {
   "cell_type": "code",
   "metadata": {
    "ExecuteTime": {
     "end_time": "2025-01-06T04:05:05.732418Z",
     "start_time": "2025-01-06T04:05:05.720501Z"
    }
   },
   "source": [
    "# making a connection to sql lite db \n",
    "\n",
    "con = sqlite3.connect('./datasets/mydata.sqlite')\n",
    "\n",
    "#defining DDL query \n",
    "\n",
    "query = \"CREATE TABLE UserDataTable (Name VARCHAR(50), Address VARCHAR(500),City VARCHAR(50), State VARCHAR(50),PhoneNumber VARCHAR(50),Zip INTEGER);\"\n",
    "\n",
    "#execute the query to create the table \n",
    "\n",
    "con.execute(query)\n",
    "\n",
    "con.commit()\n",
    "\n"
   ],
   "outputs": [],
   "execution_count": 62
  },
  {
   "cell_type": "code",
   "metadata": {
    "ExecuteTime": {
     "end_time": "2025-01-06T04:05:34.131397Z",
     "start_time": "2025-01-06T04:05:34.113081Z"
    }
   },
   "source": [
    "# Add data into table \n",
    "\n",
    "data = [('James Butt', '6649 N Blue Gum St', 'New Orleans', 'LA', 70116, '504-621-8927'), ('Josephine Darakjy','4 B Blue Ridge Blvd','Brighton','MI',48116,'810-292-9388'), ('Art Venere','8 W Cerritos Ave␣ , #54','Bridgeport','NJ',8014,'856-636-8749'),  ('Lenna Paprocki','639 Main St','Anchorage','AK',99501,'907-385-4412'), ('Donette Foller','34 Center St','Hamilton','OH',45011,'513-570-1893'), ('Simona Morasca','3 Mcauley Dr','Ashland','OH',44805,'419-503-2484'), ('Mitsue Tollner','7 Eads St','Chicago','IL',60632,'773-573-6914'), ('Leota Dilliard','7 W Jackson Blvd','San␣ , Jose','CA',95111,'408-752-3500'), ('Sage Wieser','5 Boston Ave #88','Sioux ,  Falls','SD',57105,'605-414-2147'), ('Kris Marrier','228 Runamuck Pl , #2808','Baltimore','MD',21224,'410-655-8723')]\n",
    "\n",
    "stmt = \"INSERT INTO UserDataTable VALUES(?, ?, ?, ?, ?, ?)\"\n",
    "\n",
    "con.executemany(stmt, data)\n",
    "#Dont forget to commit your transaction\n",
    "con.commit()"
   ],
   "outputs": [],
   "execution_count": 63
  },
  {
   "cell_type": "code",
   "metadata": {
    "ExecuteTime": {
     "end_time": "2025-01-06T04:05:37.356716Z",
     "start_time": "2025-01-06T04:05:37.353484Z"
    }
   },
   "source": [
    "## import the pandas data frame\n",
    "import pandas as pd"
   ],
   "outputs": [],
   "execution_count": 64
  },
  {
   "metadata": {
    "ExecuteTime": {
     "end_time": "2025-01-06T04:05:39.314072Z",
     "start_time": "2025-01-06T04:05:39.310968Z"
    }
   },
   "cell_type": "code",
   "source": "stm='select * from UserDataTable'",
   "outputs": [],
   "execution_count": 65
  },
  {
   "metadata": {
    "ExecuteTime": {
     "end_time": "2025-01-06T04:05:41.010523Z",
     "start_time": "2025-01-06T04:05:41.005359Z"
    }
   },
   "cell_type": "code",
   "source": [
    "cursor = con.execute(stm)\n",
    "rows = cursor.fetchall()\n",
    "rows[1]"
   ],
   "outputs": [
    {
     "data": {
      "text/plain": [
       "('Josephine Darakjy',\n",
       " '4 B Blue Ridge Blvd',\n",
       " 'Brighton',\n",
       " 'MI',\n",
       " '48116',\n",
       " '810-292-9388')"
      ]
     },
     "execution_count": 66,
     "metadata": {},
     "output_type": "execute_result"
    }
   ],
   "execution_count": 66
  },
  {
   "metadata": {
    "ExecuteTime": {
     "end_time": "2025-01-06T04:05:43.490487Z",
     "start_time": "2025-01-06T04:05:43.476377Z"
    }
   },
   "cell_type": "code",
   "source": [
    "## sql query for selecting all the columns data\n",
    "pd.read_sql_query(stm, con)"
   ],
   "outputs": [
    {
     "data": {
      "text/plain": [
       "                Name                  Address            City State  \\\n",
       "0         James Butt       6649 N Blue Gum St     New Orleans    LA   \n",
       "1  Josephine Darakjy      4 B Blue Ridge Blvd        Brighton    MI   \n",
       "2         Art Venere  8 W Cerritos Ave␣ , #54      Bridgeport    NJ   \n",
       "3     Lenna Paprocki              639 Main St       Anchorage    AK   \n",
       "4     Donette Foller             34 Center St        Hamilton    OH   \n",
       "5     Simona Morasca             3 Mcauley Dr         Ashland    OH   \n",
       "6     Mitsue Tollner                7 Eads St         Chicago    IL   \n",
       "7     Leota Dilliard         7 W Jackson Blvd     San␣ , Jose    CA   \n",
       "8        Sage Wieser         5 Boston Ave #88  Sioux ,  Falls    SD   \n",
       "9       Kris Marrier  228 Runamuck Pl , #2808       Baltimore    MD   \n",
       "\n",
       "  PhoneNumber           Zip  \n",
       "0       70116  504-621-8927  \n",
       "1       48116  810-292-9388  \n",
       "2        8014  856-636-8749  \n",
       "3       99501  907-385-4412  \n",
       "4       45011  513-570-1893  \n",
       "5       44805  419-503-2484  \n",
       "6       60632  773-573-6914  \n",
       "7       95111  408-752-3500  \n",
       "8       57105  605-414-2147  \n",
       "9       21224  410-655-8723  "
      ],
      "text/html": [
       "<div>\n",
       "<style scoped>\n",
       "    .dataframe tbody tr th:only-of-type {\n",
       "        vertical-align: middle;\n",
       "    }\n",
       "\n",
       "    .dataframe tbody tr th {\n",
       "        vertical-align: top;\n",
       "    }\n",
       "\n",
       "    .dataframe thead th {\n",
       "        text-align: right;\n",
       "    }\n",
       "</style>\n",
       "<table border=\"1\" class=\"dataframe\">\n",
       "  <thead>\n",
       "    <tr style=\"text-align: right;\">\n",
       "      <th></th>\n",
       "      <th>Name</th>\n",
       "      <th>Address</th>\n",
       "      <th>City</th>\n",
       "      <th>State</th>\n",
       "      <th>PhoneNumber</th>\n",
       "      <th>Zip</th>\n",
       "    </tr>\n",
       "  </thead>\n",
       "  <tbody>\n",
       "    <tr>\n",
       "      <th>0</th>\n",
       "      <td>James Butt</td>\n",
       "      <td>6649 N Blue Gum St</td>\n",
       "      <td>New Orleans</td>\n",
       "      <td>LA</td>\n",
       "      <td>70116</td>\n",
       "      <td>504-621-8927</td>\n",
       "    </tr>\n",
       "    <tr>\n",
       "      <th>1</th>\n",
       "      <td>Josephine Darakjy</td>\n",
       "      <td>4 B Blue Ridge Blvd</td>\n",
       "      <td>Brighton</td>\n",
       "      <td>MI</td>\n",
       "      <td>48116</td>\n",
       "      <td>810-292-9388</td>\n",
       "    </tr>\n",
       "    <tr>\n",
       "      <th>2</th>\n",
       "      <td>Art Venere</td>\n",
       "      <td>8 W Cerritos Ave␣ , #54</td>\n",
       "      <td>Bridgeport</td>\n",
       "      <td>NJ</td>\n",
       "      <td>8014</td>\n",
       "      <td>856-636-8749</td>\n",
       "    </tr>\n",
       "    <tr>\n",
       "      <th>3</th>\n",
       "      <td>Lenna Paprocki</td>\n",
       "      <td>639 Main St</td>\n",
       "      <td>Anchorage</td>\n",
       "      <td>AK</td>\n",
       "      <td>99501</td>\n",
       "      <td>907-385-4412</td>\n",
       "    </tr>\n",
       "    <tr>\n",
       "      <th>4</th>\n",
       "      <td>Donette Foller</td>\n",
       "      <td>34 Center St</td>\n",
       "      <td>Hamilton</td>\n",
       "      <td>OH</td>\n",
       "      <td>45011</td>\n",
       "      <td>513-570-1893</td>\n",
       "    </tr>\n",
       "    <tr>\n",
       "      <th>5</th>\n",
       "      <td>Simona Morasca</td>\n",
       "      <td>3 Mcauley Dr</td>\n",
       "      <td>Ashland</td>\n",
       "      <td>OH</td>\n",
       "      <td>44805</td>\n",
       "      <td>419-503-2484</td>\n",
       "    </tr>\n",
       "    <tr>\n",
       "      <th>6</th>\n",
       "      <td>Mitsue Tollner</td>\n",
       "      <td>7 Eads St</td>\n",
       "      <td>Chicago</td>\n",
       "      <td>IL</td>\n",
       "      <td>60632</td>\n",
       "      <td>773-573-6914</td>\n",
       "    </tr>\n",
       "    <tr>\n",
       "      <th>7</th>\n",
       "      <td>Leota Dilliard</td>\n",
       "      <td>7 W Jackson Blvd</td>\n",
       "      <td>San␣ , Jose</td>\n",
       "      <td>CA</td>\n",
       "      <td>95111</td>\n",
       "      <td>408-752-3500</td>\n",
       "    </tr>\n",
       "    <tr>\n",
       "      <th>8</th>\n",
       "      <td>Sage Wieser</td>\n",
       "      <td>5 Boston Ave #88</td>\n",
       "      <td>Sioux ,  Falls</td>\n",
       "      <td>SD</td>\n",
       "      <td>57105</td>\n",
       "      <td>605-414-2147</td>\n",
       "    </tr>\n",
       "    <tr>\n",
       "      <th>9</th>\n",
       "      <td>Kris Marrier</td>\n",
       "      <td>228 Runamuck Pl , #2808</td>\n",
       "      <td>Baltimore</td>\n",
       "      <td>MD</td>\n",
       "      <td>21224</td>\n",
       "      <td>410-655-8723</td>\n",
       "    </tr>\n",
       "  </tbody>\n",
       "</table>\n",
       "</div>"
      ]
     },
     "execution_count": 67,
     "metadata": {},
     "output_type": "execute_result"
    }
   ],
   "execution_count": 67
  }
 ],
 "metadata": {
  "kernelspec": {
   "display_name": "Python 3",
   "language": "python",
   "name": "python3"
  },
  "language_info": {
   "codemirror_mode": {
    "name": "ipython",
    "version": 3
   },
   "file_extension": ".py",
   "mimetype": "text/x-python",
   "name": "python",
   "nbconvert_exporter": "python",
   "pygments_lexer": "ipython3",
   "version": "3.8.5"
  }
 },
 "nbformat": 4,
 "nbformat_minor": 2
}
