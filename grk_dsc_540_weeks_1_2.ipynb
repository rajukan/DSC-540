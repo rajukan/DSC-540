{
 "cells": [
  {
   "cell_type": "markdown",
   "id": "20aa4607",
   "metadata": {},
   "source": [
    "### DSC540\n",
    "#### Week 1&2 assigment, Author: Kannur, Gyan"
   ]
  },
  {
   "cell_type": "markdown",
   "id": "5501a89e",
   "metadata": {},
   "source": [
    "#### Task #1: create a list, iterate over the list and sort your results, generate random numbers, add to the list, and then print your results."
   ]
  },
  {
   "cell_type": "code",
   "id": "cbedead3",
   "metadata": {
    "ExecuteTime": {
     "end_time": "2024-11-24T20:06:12.108897Z",
     "start_time": "2024-11-24T20:06:10.919611Z"
    }
   },
   "source": [
    "#import packages needed for all below exercises\n",
    "import random\n",
    "import pandas as pd\n",
    "import matplotlib.pyplot as plt\n",
    "import numpy as np\n",
    "from statistics import mean\n",
    "import re\n",
    "\n",
    "\n",
    "#create the list\n",
    "max = 50\n",
    "rand_nums = [x for x in range(0, max)]\n",
    " \n",
    "#sort the list\n",
    "num_sorted = rand_nums.sort(reverse=True) \n",
    "print(num_sorted)\n",
    "#get random number list, then sort and remove duplicate\n",
    "random_list = [random.randint(-10, 0) for x in range(-10, 0)]\n",
    "\n",
    "new_list = sorted(set(random_list))\n",
    "combined_list = rand_nums + new_list\n",
    "print(combined_list)"
   ],
   "outputs": [
    {
     "name": "stdout",
     "output_type": "stream",
     "text": [
      "None\n",
      "[49, 48, 47, 46, 45, 44, 43, 42, 41, 40, 39, 38, 37, 36, 35, 34, 33, 32, 31, 30, 29, 28, 27, 26, 25, 24, 23, 22, 21, 20, 19, 18, 17, 16, 15, 14, 13, 12, 11, 10, 9, 8, 7, 6, 5, 4, 3, 2, 1, 0, -10, -9, -8, -4, -3, -1]\n"
     ]
    }
   ],
   "execution_count": 1
  },
  {
   "cell_type": "markdown",
   "id": "c9fe1795",
   "metadata": {},
   "source": [
    "#### Task #2: Create a line chart with Matplotlib and the following data file."
   ]
  },
  {
   "cell_type": "code",
   "id": "9b0a6e70",
   "metadata": {
    "ExecuteTime": {
     "end_time": "2024-11-24T20:06:21.743826Z",
     "start_time": "2024-11-24T20:06:21.254507Z"
    }
   },
   "source": [
    "# the data file had been download into jupter notebook so read it directly\n",
    "pop_df = pd.read_excel('./datasets/world-population.xlsm')\n",
    "pop_df"
   ],
   "outputs": [
    {
     "data": {
      "text/plain": [
       "    Year  Population\n",
       "0   1960  3028654024\n",
       "1   1961  3068356747\n",
       "2   1962  3121963107\n",
       "3   1963  3187471383\n",
       "4   1964  3253112403\n",
       "5   1965  3320396924\n",
       "6   1966  3390712300\n",
       "7   1967  3460521851\n",
       "8   1968  3531547287\n",
       "9   1969  3606994959\n",
       "10  1970  3682870688\n",
       "11  1971  3761750672\n",
       "12  1972  3839147707\n",
       "13  1973  3915742695\n",
       "14  1974  3992806090\n",
       "15  1975  4068032705\n",
       "16  1976  4141383058\n",
       "17  1977  4214499013\n",
       "18  1978  4288485981\n",
       "19  1979  4363754326\n",
       "20  1980  4439638086\n",
       "21  1981  4516734312\n",
       "22  1982  4595890494\n",
       "23  1983  4675178812\n",
       "24  1984  4753877875\n",
       "25  1985  4834206631\n",
       "26  1986  4918126890\n",
       "27  1987  5004006066\n",
       "28  1988  5090899475\n",
       "29  1989  5178059174\n",
       "30  1990  5266783430\n",
       "31  1991  5351836347\n",
       "32  1992  5433823608\n",
       "33  1993  5516863641\n",
       "34  1994  5598658151\n",
       "35  1995  5681689325\n",
       "36  1996  5762235749\n",
       "37  1997  5842585301\n",
       "38  1998  5921799957\n",
       "39  1999  6001269553\n",
       "40  2000  6078274622\n",
       "41  2001  6155652495\n",
       "42  2002  6232413711\n",
       "43  2003  6309266583\n",
       "44  2004  6385778679\n",
       "45  2005  6462054420\n",
       "46  2006  6538196688\n",
       "47  2007  6614396907\n",
       "48  2008  6692030277\n",
       "49  2009  6775235741"
      ],
      "text/html": [
       "<div>\n",
       "<style scoped>\n",
       "    .dataframe tbody tr th:only-of-type {\n",
       "        vertical-align: middle;\n",
       "    }\n",
       "\n",
       "    .dataframe tbody tr th {\n",
       "        vertical-align: top;\n",
       "    }\n",
       "\n",
       "    .dataframe thead th {\n",
       "        text-align: right;\n",
       "    }\n",
       "</style>\n",
       "<table border=\"1\" class=\"dataframe\">\n",
       "  <thead>\n",
       "    <tr style=\"text-align: right;\">\n",
       "      <th></th>\n",
       "      <th>Year</th>\n",
       "      <th>Population</th>\n",
       "    </tr>\n",
       "  </thead>\n",
       "  <tbody>\n",
       "    <tr>\n",
       "      <th>0</th>\n",
       "      <td>1960</td>\n",
       "      <td>3028654024</td>\n",
       "    </tr>\n",
       "    <tr>\n",
       "      <th>1</th>\n",
       "      <td>1961</td>\n",
       "      <td>3068356747</td>\n",
       "    </tr>\n",
       "    <tr>\n",
       "      <th>2</th>\n",
       "      <td>1962</td>\n",
       "      <td>3121963107</td>\n",
       "    </tr>\n",
       "    <tr>\n",
       "      <th>3</th>\n",
       "      <td>1963</td>\n",
       "      <td>3187471383</td>\n",
       "    </tr>\n",
       "    <tr>\n",
       "      <th>4</th>\n",
       "      <td>1964</td>\n",
       "      <td>3253112403</td>\n",
       "    </tr>\n",
       "    <tr>\n",
       "      <th>5</th>\n",
       "      <td>1965</td>\n",
       "      <td>3320396924</td>\n",
       "    </tr>\n",
       "    <tr>\n",
       "      <th>6</th>\n",
       "      <td>1966</td>\n",
       "      <td>3390712300</td>\n",
       "    </tr>\n",
       "    <tr>\n",
       "      <th>7</th>\n",
       "      <td>1967</td>\n",
       "      <td>3460521851</td>\n",
       "    </tr>\n",
       "    <tr>\n",
       "      <th>8</th>\n",
       "      <td>1968</td>\n",
       "      <td>3531547287</td>\n",
       "    </tr>\n",
       "    <tr>\n",
       "      <th>9</th>\n",
       "      <td>1969</td>\n",
       "      <td>3606994959</td>\n",
       "    </tr>\n",
       "    <tr>\n",
       "      <th>10</th>\n",
       "      <td>1970</td>\n",
       "      <td>3682870688</td>\n",
       "    </tr>\n",
       "    <tr>\n",
       "      <th>11</th>\n",
       "      <td>1971</td>\n",
       "      <td>3761750672</td>\n",
       "    </tr>\n",
       "    <tr>\n",
       "      <th>12</th>\n",
       "      <td>1972</td>\n",
       "      <td>3839147707</td>\n",
       "    </tr>\n",
       "    <tr>\n",
       "      <th>13</th>\n",
       "      <td>1973</td>\n",
       "      <td>3915742695</td>\n",
       "    </tr>\n",
       "    <tr>\n",
       "      <th>14</th>\n",
       "      <td>1974</td>\n",
       "      <td>3992806090</td>\n",
       "    </tr>\n",
       "    <tr>\n",
       "      <th>15</th>\n",
       "      <td>1975</td>\n",
       "      <td>4068032705</td>\n",
       "    </tr>\n",
       "    <tr>\n",
       "      <th>16</th>\n",
       "      <td>1976</td>\n",
       "      <td>4141383058</td>\n",
       "    </tr>\n",
       "    <tr>\n",
       "      <th>17</th>\n",
       "      <td>1977</td>\n",
       "      <td>4214499013</td>\n",
       "    </tr>\n",
       "    <tr>\n",
       "      <th>18</th>\n",
       "      <td>1978</td>\n",
       "      <td>4288485981</td>\n",
       "    </tr>\n",
       "    <tr>\n",
       "      <th>19</th>\n",
       "      <td>1979</td>\n",
       "      <td>4363754326</td>\n",
       "    </tr>\n",
       "    <tr>\n",
       "      <th>20</th>\n",
       "      <td>1980</td>\n",
       "      <td>4439638086</td>\n",
       "    </tr>\n",
       "    <tr>\n",
       "      <th>21</th>\n",
       "      <td>1981</td>\n",
       "      <td>4516734312</td>\n",
       "    </tr>\n",
       "    <tr>\n",
       "      <th>22</th>\n",
       "      <td>1982</td>\n",
       "      <td>4595890494</td>\n",
       "    </tr>\n",
       "    <tr>\n",
       "      <th>23</th>\n",
       "      <td>1983</td>\n",
       "      <td>4675178812</td>\n",
       "    </tr>\n",
       "    <tr>\n",
       "      <th>24</th>\n",
       "      <td>1984</td>\n",
       "      <td>4753877875</td>\n",
       "    </tr>\n",
       "    <tr>\n",
       "      <th>25</th>\n",
       "      <td>1985</td>\n",
       "      <td>4834206631</td>\n",
       "    </tr>\n",
       "    <tr>\n",
       "      <th>26</th>\n",
       "      <td>1986</td>\n",
       "      <td>4918126890</td>\n",
       "    </tr>\n",
       "    <tr>\n",
       "      <th>27</th>\n",
       "      <td>1987</td>\n",
       "      <td>5004006066</td>\n",
       "    </tr>\n",
       "    <tr>\n",
       "      <th>28</th>\n",
       "      <td>1988</td>\n",
       "      <td>5090899475</td>\n",
       "    </tr>\n",
       "    <tr>\n",
       "      <th>29</th>\n",
       "      <td>1989</td>\n",
       "      <td>5178059174</td>\n",
       "    </tr>\n",
       "    <tr>\n",
       "      <th>30</th>\n",
       "      <td>1990</td>\n",
       "      <td>5266783430</td>\n",
       "    </tr>\n",
       "    <tr>\n",
       "      <th>31</th>\n",
       "      <td>1991</td>\n",
       "      <td>5351836347</td>\n",
       "    </tr>\n",
       "    <tr>\n",
       "      <th>32</th>\n",
       "      <td>1992</td>\n",
       "      <td>5433823608</td>\n",
       "    </tr>\n",
       "    <tr>\n",
       "      <th>33</th>\n",
       "      <td>1993</td>\n",
       "      <td>5516863641</td>\n",
       "    </tr>\n",
       "    <tr>\n",
       "      <th>34</th>\n",
       "      <td>1994</td>\n",
       "      <td>5598658151</td>\n",
       "    </tr>\n",
       "    <tr>\n",
       "      <th>35</th>\n",
       "      <td>1995</td>\n",
       "      <td>5681689325</td>\n",
       "    </tr>\n",
       "    <tr>\n",
       "      <th>36</th>\n",
       "      <td>1996</td>\n",
       "      <td>5762235749</td>\n",
       "    </tr>\n",
       "    <tr>\n",
       "      <th>37</th>\n",
       "      <td>1997</td>\n",
       "      <td>5842585301</td>\n",
       "    </tr>\n",
       "    <tr>\n",
       "      <th>38</th>\n",
       "      <td>1998</td>\n",
       "      <td>5921799957</td>\n",
       "    </tr>\n",
       "    <tr>\n",
       "      <th>39</th>\n",
       "      <td>1999</td>\n",
       "      <td>6001269553</td>\n",
       "    </tr>\n",
       "    <tr>\n",
       "      <th>40</th>\n",
       "      <td>2000</td>\n",
       "      <td>6078274622</td>\n",
       "    </tr>\n",
       "    <tr>\n",
       "      <th>41</th>\n",
       "      <td>2001</td>\n",
       "      <td>6155652495</td>\n",
       "    </tr>\n",
       "    <tr>\n",
       "      <th>42</th>\n",
       "      <td>2002</td>\n",
       "      <td>6232413711</td>\n",
       "    </tr>\n",
       "    <tr>\n",
       "      <th>43</th>\n",
       "      <td>2003</td>\n",
       "      <td>6309266583</td>\n",
       "    </tr>\n",
       "    <tr>\n",
       "      <th>44</th>\n",
       "      <td>2004</td>\n",
       "      <td>6385778679</td>\n",
       "    </tr>\n",
       "    <tr>\n",
       "      <th>45</th>\n",
       "      <td>2005</td>\n",
       "      <td>6462054420</td>\n",
       "    </tr>\n",
       "    <tr>\n",
       "      <th>46</th>\n",
       "      <td>2006</td>\n",
       "      <td>6538196688</td>\n",
       "    </tr>\n",
       "    <tr>\n",
       "      <th>47</th>\n",
       "      <td>2007</td>\n",
       "      <td>6614396907</td>\n",
       "    </tr>\n",
       "    <tr>\n",
       "      <th>48</th>\n",
       "      <td>2008</td>\n",
       "      <td>6692030277</td>\n",
       "    </tr>\n",
       "    <tr>\n",
       "      <th>49</th>\n",
       "      <td>2009</td>\n",
       "      <td>6775235741</td>\n",
       "    </tr>\n",
       "  </tbody>\n",
       "</table>\n",
       "</div>"
      ]
     },
     "execution_count": 2,
     "metadata": {},
     "output_type": "execute_result"
    }
   ],
   "execution_count": 2
  },
  {
   "cell_type": "code",
   "id": "2f3d8e69",
   "metadata": {
    "collapsed": true,
    "ExecuteTime": {
     "end_time": "2024-11-24T20:07:13.765311Z",
     "start_time": "2024-11-24T20:07:13.756198Z"
    }
   },
   "source": [
    "#read the data, also create log value of population so it is more read-able\n",
    "year = pop_df['Year']\n",
    "pop = pop_df['Population']\n",
    "pop.head()\n",
    "#Log transform\n",
    "log_pop =np.log(pop)\n",
    "log_pop"
   ],
   "outputs": [
    {
     "data": {
      "text/plain": [
       "0     21.831384\n",
       "1     21.844408\n",
       "2     21.861728\n",
       "3     21.882494\n",
       "4     21.902878\n",
       "5     21.923350\n",
       "6     21.944306\n",
       "7     21.964685\n",
       "8     21.985002\n",
       "9     22.006141\n",
       "10    22.026958\n",
       "11    22.048150\n",
       "12    22.068516\n",
       "13    22.088271\n",
       "14    22.107760\n",
       "15    22.126425\n",
       "16    22.144296\n",
       "17    22.161797\n",
       "18    22.179200\n",
       "19    22.196599\n",
       "20    22.213839\n",
       "21    22.231055\n",
       "22    22.248428\n",
       "23    22.265533\n",
       "24    22.282227\n",
       "25    22.298983\n",
       "26    22.316194\n",
       "27    22.333505\n",
       "28    22.350720\n",
       "29    22.367696\n",
       "30    22.384686\n",
       "31    22.400706\n",
       "32    22.415909\n",
       "33    22.431075\n",
       "34    22.445793\n",
       "35    22.460514\n",
       "36    22.474591\n",
       "37    22.488439\n",
       "38    22.501906\n",
       "39    22.515237\n",
       "40    22.527987\n",
       "41    22.540637\n",
       "42    22.553030\n",
       "43    22.565285\n",
       "44    22.577339\n",
       "45    22.589213\n",
       "46    22.600927\n",
       "47    22.612514\n",
       "48    22.624183\n",
       "49    22.636540\n",
       "Name: Population, dtype: float64"
      ]
     },
     "execution_count": 5,
     "metadata": {},
     "output_type": "execute_result"
    }
   ],
   "execution_count": 5
  },
  {
   "cell_type": "code",
   "id": "9d0fd2e3",
   "metadata": {
    "ExecuteTime": {
     "end_time": "2024-11-24T20:07:53.961948Z",
     "start_time": "2024-11-24T20:07:53.729519Z"
    }
   },
   "source": [
    "#plot a line chart using log population value\n",
    "plt.plot(year, log_pop)\n",
    "plt.title('Population increase per year')\n",
    "plt.xlabel('Year')\n",
    "plt.ylabel('Population log transformed')\n",
    "#plot a line chart using log populationplt.show()"
   ],
   "outputs": [
    {
     "data": {
      "text/plain": [
       "Text(0, 0.5, 'Population in log transformed')"
      ]
     },
     "execution_count": 7,
     "metadata": {},
     "output_type": "execute_result"
    },
    {
     "data": {
      "text/plain": [
       "<Figure size 640x480 with 1 Axes>"
      ],
      "image/png": "[encoded data removed]"
     },
     "metadata": {},
     "output_type": "display_data"
    }
   ],
   "execution_count": 7
  },
  {
   "cell_type": "code",
   "id": "00990b03",
   "metadata": {
    "ExecuteTime": {
     "end_time": "2024-11-24T20:08:10.257428Z",
     "start_time": "2024-11-24T20:08:10.105744Z"
    }
   },
   "source": [
    "#plot a line chart using original population value\n",
    "plt.plot(year, pop)\n",
    "plt.title('Population increase per year')\n",
    "plt.xlabel('Year')\n",
    "plt.ylabel('Population')\n",
    "plt.show()"
   ],
   "outputs": [
    {
     "data": {
      "text/plain": [
       "<Figure size 640x480 with 1 Axes>"
      ],
      "image/png": "[encoded data removed]"
     },
     "metadata": {},
     "output_type": "display_data"
    }
   ],
   "execution_count": 8
  },
  {
   "cell_type": "markdown",
   "id": "c7ec8f99",
   "metadata": {},
   "source": [
    "#### Task 3.1: Data Wrangling with Python: Activity 1 handling list"
   ]
  },
  {
   "cell_type": "code",
   "id": "d04ef491",
   "metadata": {
    "ExecuteTime": {
     "end_time": "2024-11-24T20:10:03.163552Z",
     "start_time": "2024-11-24T20:10:03.153537Z"
    }
   },
   "source": [
    "#create a list of 100 random numbers\n",
    "rand_list = [random.randint(0, 100) for x in range(0, 100)]\n",
    "\n",
    "#Create a new list from this random list, with numbers that are divisible by 3.\n",
    "only_three_div_list = [a for a in rand_list if a % 3 == 0]\n",
    "\n",
    "#Calculate the length of these two lists and store the difference in a new variable.\n",
    "len_difference = len(rand_list) - len(only_three_div_list)\n",
    "\n",
    "#Using a loop, perform steps 2 and 3 and find the difference variable three times\n",
    "difference_list = []\n",
    "\n",
    "for i in range(0, 3):\n",
    "    list_new = [random.randint(0, max) for x in range(0, max)]\n",
    "    only_three_div_list = [a for a in list_new if a % 3 == 0]\n",
    "    difference = len(list_new) - len(only_three_div_list)\n",
    "    difference_list.append(difference)\n",
    "print(\"difference in length in 3 run are\", difference_list)  \n",
    "print(\"mean of differences is\", round(mean(difference_list),2))"
   ],
   "outputs": [
    {
     "name": "stdout",
     "output_type": "stream",
     "text": [
      "difference in length in 3 run are [36, 32, 27]\n",
      "mean of differences is 31.67\n"
     ]
    }
   ],
   "execution_count": 9
  },
  {
   "cell_type": "markdown",
   "id": "ada065b2",
   "metadata": {},
   "source": [
    "#### Task 3.2: Activity 2: Analyze a Multiline String and Generate the Unique Word Count"
   ]
  },
  {
   "cell_type": "code",
   "id": "f147beba",
   "metadata": {
    "ExecuteTime": {
     "end_time": "2024-11-24T20:10:12.057251Z",
     "start_time": "2024-11-24T20:10:12.051925Z"
    }
   },
   "source": [
    "mutiline_text = \"\"\"It is a truth universally acknowledged, that a single man in possession of a good fortune, must be in want of a wife.\n",
    "\n",
    "However little known the feelings or views of such a man may be on his first entering a neighbourhood, this truth is so well fixed in the minds of the surrounding families, that he is considered the rightful property of some one or other of their daughters.\n",
    "\n",
    "\"My dear Mr. Bennet,\" said his lady to him one day, \"have you heard that Netherfield Park is let at last?\"\n",
    "\n",
    "Mr. Bennet replied that he had not.\n",
    "\n",
    "\"But it is,\" returned she; \"for Mrs. Long has just been here, and she told me all about it.\"\n",
    "\n",
    "Mr. Bennet made no answer.\n",
    "\n",
    "\"Do you not want to know who has taken it?\" cried his wife impatiently.\n",
    "\n",
    "\"You want to tell me, and I have no objection to hearing it.\"\n",
    "\n",
    "This was invitation enough.\n",
    "\n",
    "\"Why, my dear, you must know, Mrs. Long says that Netherfield is taken by a young man of large fortune from the north of England; that he came down on Monday in a chaise and four to see the place, and was so much delighted with it, that he agreed with Mr. Morris immediately; that he is to take possession before Michaelmas, and some of his servants are to be in the house by the end of next week.\"\n",
    "\n",
    "\"What is his name?\"\n",
    "\n",
    "\"Bingley.\"\n",
    "\n",
    "\"Is he married or single?\"\n",
    "\"Oh! Single, my dear, to be sure! A single man of large fortune; four or five thousand a year. What a fine thing for our girls!\"\n",
    "\n",
    "\"How so? How can it affect them?\"\n",
    "\n",
    "\"My dear Mr. Bennet,\" replied his wife, \"how can you be so tiresome! You must know that I am thinking of his marrying one of them.\"\n",
    "\n",
    "\"Is that his design in settling here?\"\n",
    "\n",
    "\"Design! Nonsense, how can you talk so! But it is very likely that he may fall in love with one of them, and therefore you must visit him as soon as he comes.\"\n",
    "\n",
    "\"I see no occasion for that. You and the girls may go, or you may send them by themselves, which perhaps will be still better, for as you are as handsome as any of them, Mr. Bingley may like you the best of the party.\"\n",
    "\n",
    "\"My dear, you flatter me. I certainly have had my share of beauty, but I do not pretend to be anything extraordinary now. When a woman has five grown-up daughters, she ought to give over thinking of her own beauty.\"\n",
    "\n",
    "\"In such cases, a woman has not often much beauty to think of.\"\n",
    "\n",
    "\"But, my dear, you must indeed go and see Mr. Bingley when he comes into the neighbourhood.\"\n",
    "\n",
    "\"It is more than I engage for, I assure you.\"\n",
    "\"But consider your daughters. Only think what an establishment it would be for one of them. Sir William and Lady Lucas are determined to go, merely on that account, for in general, you know, they visit no newcomers. Indeed you must go, for it will be impossible for us to visit him if you do not.\"\n",
    "\n",
    "\"You are over-scrupulous, surely. I dare say Mr. Bingley will be very glad to see you; and I will send a few lines by you to assure him of my hearty consent to his marrying whichever he chooses of the girls; though I must throw in a good word for my little Lizzy.\"\n",
    "\n",
    "\"I desire you will do no such thing. Lizzy is not a bit better than the others; and I am sure she is not half so handsome as Jane, nor half so good-humoured as Lydia. But you are always giving her the preference.\"\n",
    "\n",
    "\"They have none of them much to recommend them,\" replied he; \"they are all silly and ignorant like other girls; but Lizzy has something more of quickness than her sisters.\"\n",
    "\n",
    "\"Mr. Bennet, how can you abuse your own children in such a way? You take delight in vexing me. You have no compassion for my poor nerves.\"\n",
    "\n",
    "\"You mistake me, my dear. I have a high respect for your nerves. They are my old friends. I have heard you mention them with consideration these last twenty years at least.\"\n",
    "\n",
    "\"Ah, you do not know what I suffer.\"\n",
    "\n",
    "\"But I hope you will get over it, and live to see many young men of four thousand a year come into the neighbourhood.\"\n",
    "\n",
    "\"It will be no use to us, if twenty such should come, since you will not visit them.\"\n",
    "\n",
    "\"Depend upon it, my dear, that when there are twenty, I will visit them all.\"\n",
    "\n",
    "Mr. Bennet was so odd a mixture of quick parts, sarcastic humour, reserve, and caprice, that the experience of three-and-twenty years\"\"\""
   ],
   "outputs": [],
   "execution_count": 11
  },
  {
   "cell_type": "code",
   "id": "2f4e3dc0",
   "metadata": {
    "ExecuteTime": {
     "end_time": "2024-11-24T20:10:13.527820Z",
     "start_time": "2024-11-24T20:10:13.519894Z"
    }
   },
   "source": [
    "# 1. find type and length\n",
    "print('type is', type(mutiline_text))\n",
    "\n",
    "print('length is', len(mutiline_text))"
   ],
   "outputs": [
    {
     "name": "stdout",
     "output_type": "stream",
     "text": [
      "type is <class 'str'>\n",
      "length is 4137\n"
     ]
    }
   ],
   "execution_count": 12
  },
  {
   "cell_type": "code",
   "id": "478960b2",
   "metadata": {
    "ExecuteTime": {
     "end_time": "2024-11-24T20:10:16.709481Z",
     "start_time": "2024-11-24T20:10:16.701955Z"
    }
   },
   "source": [
    "# 2. Remove all new lines and symbols (inlcude ?,! etc) using the replace function\n",
    "clean_text = re.sub(r'[?|$|.|!|\"|,|;|:]',r'',mutiline_text)"
   ],
   "outputs": [],
   "execution_count": 13
  },
  {
   "cell_type": "code",
   "id": "8fedd0f8",
   "metadata": {
    "collapsed": true,
    "ExecuteTime": {
     "end_time": "2024-11-24T20:10:19.384395Z",
     "start_time": "2024-11-24T20:10:19.365656Z"
    }
   },
   "source": [
    "# 3. Find all of the words in multiline_text using the split function.\n",
    "list_of_words = clean_text.split()\n",
    "\n",
    "# 4. create a list contains only unique words, seems \n",
    "unique_words_as_list = list(set(list_of_words))\n",
    "\n",
    "# 5. Count the number of times the unique word has appeared in the list using the key and value in dict.\n",
    "\n",
    "#create dictionary first\n",
    "unique_words_as_dict = dict.fromkeys(list_of_words)\n",
    "\n",
    "#loop to get unique word count, if word is not exist, add, if exist, count +1\n",
    "for word in list_of_words:\n",
    "    if unique_words_as_dict[word] is None:\n",
    "        unique_words_as_dict[word] = 1\n",
    "    else:\n",
    "        unique_words_as_dict[word] += 1\n",
    "unique_words_as_dict"
   ],
   "outputs": [
    {
     "data": {
      "text/plain": [
       "{'It': 3,\n",
       " 'is': 12,\n",
       " 'a': 19,\n",
       " 'truth': 2,\n",
       " 'universally': 1,\n",
       " 'acknowledged': 1,\n",
       " 'that': 15,\n",
       " 'single': 3,\n",
       " 'man': 4,\n",
       " 'in': 11,\n",
       " 'possession': 2,\n",
       " 'of': 27,\n",
       " 'good': 2,\n",
       " 'fortune': 3,\n",
       " 'must': 7,\n",
       " 'be': 11,\n",
       " 'want': 3,\n",
       " 'wife': 3,\n",
       " 'However': 1,\n",
       " 'little': 2,\n",
       " 'known': 1,\n",
       " 'the': 17,\n",
       " 'feelings': 1,\n",
       " 'or': 5,\n",
       " 'views': 1,\n",
       " 'such': 5,\n",
       " 'may': 5,\n",
       " 'on': 3,\n",
       " 'his': 9,\n",
       " 'first': 1,\n",
       " 'entering': 1,\n",
       " 'neighbourhood': 3,\n",
       " 'this': 1,\n",
       " 'so': 8,\n",
       " 'well': 1,\n",
       " 'fixed': 1,\n",
       " 'minds': 1,\n",
       " 'surrounding': 1,\n",
       " 'families': 1,\n",
       " 'he': 11,\n",
       " 'considered': 1,\n",
       " 'rightful': 1,\n",
       " 'property': 1,\n",
       " 'some': 2,\n",
       " 'one': 5,\n",
       " 'other': 2,\n",
       " 'their': 1,\n",
       " 'daughters': 3,\n",
       " 'My': 3,\n",
       " 'dear': 8,\n",
       " 'Mr': 10,\n",
       " 'Bennet': 6,\n",
       " 'said': 1,\n",
       " 'lady': 1,\n",
       " 'to': 19,\n",
       " 'him': 4,\n",
       " 'day': 1,\n",
       " 'have': 7,\n",
       " 'you': 24,\n",
       " 'heard': 2,\n",
       " 'Netherfield': 2,\n",
       " 'Park': 1,\n",
       " 'let': 1,\n",
       " 'at': 2,\n",
       " 'last': 2,\n",
       " 'replied': 3,\n",
       " 'had': 2,\n",
       " 'not': 9,\n",
       " 'But': 6,\n",
       " 'it': 11,\n",
       " 'returned': 1,\n",
       " 'she': 4,\n",
       " 'for': 12,\n",
       " 'Mrs': 2,\n",
       " 'Long': 2,\n",
       " 'has': 5,\n",
       " 'just': 1,\n",
       " 'been': 1,\n",
       " 'here': 2,\n",
       " 'and': 14,\n",
       " 'told': 1,\n",
       " 'me': 5,\n",
       " 'all': 3,\n",
       " 'about': 1,\n",
       " 'made': 1,\n",
       " 'no': 7,\n",
       " 'answer': 1,\n",
       " 'Do': 1,\n",
       " 'know': 5,\n",
       " 'who': 1,\n",
       " 'taken': 2,\n",
       " 'cried': 1,\n",
       " 'impatiently': 1,\n",
       " 'You': 7,\n",
       " 'tell': 1,\n",
       " 'I': 17,\n",
       " 'objection': 1,\n",
       " 'hearing': 1,\n",
       " 'This': 1,\n",
       " 'was': 3,\n",
       " 'invitation': 1,\n",
       " 'enough': 1,\n",
       " 'Why': 1,\n",
       " 'my': 10,\n",
       " 'says': 1,\n",
       " 'by': 4,\n",
       " 'young': 2,\n",
       " 'large': 2,\n",
       " 'from': 1,\n",
       " 'north': 1,\n",
       " 'England': 1,\n",
       " 'came': 1,\n",
       " 'down': 1,\n",
       " 'Monday': 1,\n",
       " 'chaise': 1,\n",
       " 'four': 3,\n",
       " 'see': 5,\n",
       " 'place': 1,\n",
       " 'much': 3,\n",
       " 'delighted': 1,\n",
       " 'with': 4,\n",
       " 'agreed': 1,\n",
       " 'Morris': 1,\n",
       " 'immediately': 1,\n",
       " 'take': 2,\n",
       " 'before': 1,\n",
       " 'Michaelmas': 1,\n",
       " 'servants': 1,\n",
       " 'are': 8,\n",
       " 'house': 1,\n",
       " 'end': 1,\n",
       " 'next': 1,\n",
       " 'week': 1,\n",
       " 'What': 2,\n",
       " 'name': 1,\n",
       " 'Bingley': 4,\n",
       " 'Is': 2,\n",
       " 'married': 1,\n",
       " 'Oh': 1,\n",
       " 'Single': 1,\n",
       " 'sure': 2,\n",
       " 'A': 1,\n",
       " 'five': 2,\n",
       " 'thousand': 2,\n",
       " 'year': 2,\n",
       " 'fine': 1,\n",
       " 'thing': 2,\n",
       " 'our': 1,\n",
       " 'girls': 4,\n",
       " 'How': 2,\n",
       " 'can': 4,\n",
       " 'affect': 1,\n",
       " 'them': 11,\n",
       " 'how': 3,\n",
       " 'tiresome': 1,\n",
       " 'am': 2,\n",
       " 'thinking': 2,\n",
       " 'marrying': 2,\n",
       " 'design': 1,\n",
       " 'settling': 1,\n",
       " 'Design': 1,\n",
       " 'Nonsense': 1,\n",
       " 'talk': 1,\n",
       " 'very': 2,\n",
       " 'likely': 1,\n",
       " 'fall': 1,\n",
       " 'love': 1,\n",
       " 'therefore': 1,\n",
       " 'visit': 5,\n",
       " 'as': 7,\n",
       " 'soon': 1,\n",
       " 'comes': 2,\n",
       " 'occasion': 1,\n",
       " 'go': 4,\n",
       " 'send': 2,\n",
       " 'themselves': 1,\n",
       " 'which': 1,\n",
       " 'perhaps': 1,\n",
       " 'will': 9,\n",
       " 'still': 1,\n",
       " 'better': 2,\n",
       " 'handsome': 2,\n",
       " 'any': 1,\n",
       " 'like': 2,\n",
       " 'best': 1,\n",
       " 'party': 1,\n",
       " 'flatter': 1,\n",
       " 'certainly': 1,\n",
       " 'share': 1,\n",
       " 'beauty': 3,\n",
       " 'but': 2,\n",
       " 'do': 4,\n",
       " 'pretend': 1,\n",
       " 'anything': 1,\n",
       " 'extraordinary': 1,\n",
       " 'now': 1,\n",
       " 'When': 1,\n",
       " 'woman': 2,\n",
       " 'grown-up': 1,\n",
       " 'ought': 1,\n",
       " 'give': 1,\n",
       " 'over': 2,\n",
       " 'her': 3,\n",
       " 'own': 2,\n",
       " 'In': 1,\n",
       " 'cases': 1,\n",
       " 'often': 1,\n",
       " 'think': 2,\n",
       " 'indeed': 1,\n",
       " 'when': 2,\n",
       " 'into': 2,\n",
       " 'more': 2,\n",
       " 'than': 3,\n",
       " 'engage': 1,\n",
       " 'assure': 2,\n",
       " 'consider': 1,\n",
       " 'your': 3,\n",
       " 'Only': 1,\n",
       " 'what': 2,\n",
       " 'an': 1,\n",
       " 'establishment': 1,\n",
       " 'would': 1,\n",
       " 'Sir': 1,\n",
       " 'William': 1,\n",
       " 'Lady': 1,\n",
       " 'Lucas': 1,\n",
       " 'determined': 1,\n",
       " 'merely': 1,\n",
       " 'account': 1,\n",
       " 'general': 1,\n",
       " 'they': 2,\n",
       " 'newcomers': 1,\n",
       " 'Indeed': 1,\n",
       " 'impossible': 1,\n",
       " 'us': 2,\n",
       " 'if': 2,\n",
       " 'over-scrupulous': 1,\n",
       " 'surely': 1,\n",
       " 'dare': 1,\n",
       " 'say': 1,\n",
       " 'glad': 1,\n",
       " 'few': 1,\n",
       " 'lines': 1,\n",
       " 'hearty': 1,\n",
       " 'consent': 1,\n",
       " 'whichever': 1,\n",
       " 'chooses': 1,\n",
       " 'though': 1,\n",
       " 'throw': 1,\n",
       " 'word': 1,\n",
       " 'Lizzy': 3,\n",
       " 'desire': 1,\n",
       " 'bit': 1,\n",
       " 'others': 1,\n",
       " 'half': 2,\n",
       " 'Jane': 1,\n",
       " 'nor': 1,\n",
       " 'good-humoured': 1,\n",
       " 'Lydia': 1,\n",
       " 'always': 1,\n",
       " 'giving': 1,\n",
       " 'preference': 1,\n",
       " 'They': 2,\n",
       " 'none': 1,\n",
       " 'recommend': 1,\n",
       " 'silly': 1,\n",
       " 'ignorant': 1,\n",
       " 'something': 1,\n",
       " 'quickness': 1,\n",
       " 'sisters': 1,\n",
       " 'abuse': 1,\n",
       " 'children': 1,\n",
       " 'way': 1,\n",
       " 'delight': 1,\n",
       " 'vexing': 1,\n",
       " 'compassion': 1,\n",
       " 'poor': 1,\n",
       " 'nerves': 2,\n",
       " 'mistake': 1,\n",
       " 'high': 1,\n",
       " 'respect': 1,\n",
       " 'old': 1,\n",
       " 'friends': 1,\n",
       " 'mention': 1,\n",
       " 'consideration': 1,\n",
       " 'these': 1,\n",
       " 'twenty': 3,\n",
       " 'years': 2,\n",
       " 'least': 1,\n",
       " 'Ah': 1,\n",
       " 'suffer': 1,\n",
       " 'hope': 1,\n",
       " 'get': 1,\n",
       " 'live': 1,\n",
       " 'many': 1,\n",
       " 'men': 1,\n",
       " 'come': 2,\n",
       " 'use': 1,\n",
       " 'should': 1,\n",
       " 'since': 1,\n",
       " 'Depend': 1,\n",
       " 'upon': 1,\n",
       " 'there': 1,\n",
       " 'odd': 1,\n",
       " 'mixture': 1,\n",
       " 'quick': 1,\n",
       " 'parts': 1,\n",
       " 'sarcastic': 1,\n",
       " 'humour': 1,\n",
       " 'reserve': 1,\n",
       " 'caprice': 1,\n",
       " 'experience': 1,\n",
       " 'three-and-twenty': 1}"
      ]
     },
     "execution_count": 14,
     "metadata": {},
     "output_type": "execute_result"
    }
   ],
   "execution_count": 14
  },
  {
   "cell_type": "code",
   "id": "f4d8f5ae",
   "metadata": {
    "ExecuteTime": {
     "end_time": "2024-11-24T20:10:22.543112Z",
     "start_time": "2024-11-24T20:10:22.534705Z"
    }
   },
   "source": [
    "# 4. Find the top 25 words from the unique words that you have found using the slice function.\n",
    "# using word count as sorted key, sort from largest to smallest, result is a dictionary of tuple pair\n",
    "top_25words = sorted(unique_words_as_dict.items(), key=lambda key_val_tuple: key_val_tuple[1], reverse=True)\n",
    "top_25words[:25]"
   ],
   "outputs": [
    {
     "data": {
      "text/plain": [
       "[('of', 27),\n",
       " ('you', 24),\n",
       " ('a', 19),\n",
       " ('to', 19),\n",
       " ('the', 17),\n",
       " ('I', 17),\n",
       " ('that', 15),\n",
       " ('and', 14),\n",
       " ('is', 12),\n",
       " ('for', 12),\n",
       " ('in', 11),\n",
       " ('be', 11),\n",
       " ('he', 11),\n",
       " ('it', 11),\n",
       " ('them', 11),\n",
       " ('Mr', 10),\n",
       " ('my', 10),\n",
       " ('his', 9),\n",
       " ('not', 9),\n",
       " ('will', 9),\n",
       " ('so', 8),\n",
       " ('dear', 8),\n",
       " ('are', 8),\n",
       " ('must', 7),\n",
       " ('have', 7)]"
      ]
     },
     "execution_count": 15,
     "metadata": {},
     "output_type": "execute_result"
    }
   ],
   "execution_count": 15
  },
  {
   "cell_type": "markdown",
   "id": "d1636220",
   "metadata": {},
   "source": [
    "#### Task 3.3  Activity 3: Permutation, Iterator, Lambda, List"
   ]
  },
  {
   "cell_type": "code",
   "id": "b2fa22cb",
   "metadata": {
    "ExecuteTime": {
     "end_time": "2024-11-24T20:10:51.364309Z",
     "start_time": "2024-11-24T20:10:51.354449Z"
    }
   },
   "source": [
    "#import package\n",
    "from itertools import permutations, dropwhile\n",
    "\n",
    "# 1. look up definition of permutations and dropwhile\n",
    "#permutations?\n",
    "#dropwhile?\n",
    "#permutations: Return successive r-length permutations of elements in the iterable.\n",
    "#dropwhile: returns an iterator only after the func . in argument returns false for the first time.\n",
    "\n",
    "# 2. Write an expression to generate all the possible three-digit numbers using 0, 1, and 2.\n",
    "# 3.  Use assert and isinstance to make sure that the elements are of the tuple type.\n",
    "perm = permutations([0, 1, 2])\n",
    "for i in list(perm): \n",
    "    print (i) \n",
    "    assert isinstance(i, tuple)"
   ],
   "outputs": [
    {
     "name": "stdout",
     "output_type": "stream",
     "text": [
      "(0, 1, 2)\n",
      "(0, 2, 1)\n",
      "(1, 0, 2)\n",
      "(1, 2, 0)\n",
      "(2, 0, 1)\n",
      "(2, 1, 0)\n"
     ]
    }
   ],
   "execution_count": 16
  },
  {
   "cell_type": "code",
   "id": "ef1a1400",
   "metadata": {
    "ExecuteTime": {
     "end_time": "2024-11-24T20:10:54.610992Z",
     "start_time": "2024-11-24T20:10:54.603834Z"
    }
   },
   "source": [
    "# 4. Write the loop again using dropwhile with a lambda expression to drop any leading zeros from the tuples. \n",
    "for t in permutations(range(3)):\n",
    "    print(list(dropwhile(lambda x: x <= 0, t)))\n",
    "    "
   ],
   "outputs": [
    {
     "name": "stdout",
     "output_type": "stream",
     "text": [
      "[1, 2]\n",
      "[2, 1]\n",
      "[1, 0, 2]\n",
      "[1, 2, 0]\n",
      "[2, 0, 1]\n",
      "[2, 1, 0]\n"
     ]
    }
   ],
   "execution_count": 17
  },
  {
   "cell_type": "code",
   "id": "579c26d4",
   "metadata": {
    "ExecuteTime": {
     "end_time": "2024-10-05T20:16:42.297361Z",
     "start_time": "2024-10-05T20:16:42.291311Z"
    }
   },
   "source": [
    "# 5. Check the actual type that dropwhile returns\n",
    "# permutations created tuple, the result of drop while is still a tuple. then 'list conversion' used outside the dropwhile, the result is a list"
   ],
   "outputs": [],
   "execution_count": 50
  },
  {
   "cell_type": "code",
   "id": "cc59c4ab",
   "metadata": {
    "ExecuteTime": {
     "end_time": "2024-11-24T20:10:58.280473Z",
     "start_time": "2024-11-24T20:10:58.269740Z"
    }
   },
   "source": [
    "#6. Combine the preceding code into one block, and this time write a separate function \n",
    "\n",
    "\"\"\"\n",
    "this function 'number_conversion' will take each group of numbers in the returned list, the len is the power order of 10, then \n",
    "multiply each number with the power, then add together to get sum\n",
    "so [2,1] will = 2x10 + 1\n",
    "\"\"\"\n",
    "\n",
    "import math\n",
    "\n",
    "def number_conversion(number_stack):\n",
    "    final_number = 0\n",
    "    for i in range(0, len(number_stack)):\n",
    "        final_number += (number_stack.pop() * (math.pow(10, i)))\n",
    "    return final_number"
   ],
   "outputs": [],
   "execution_count": 18
  },
  {
   "cell_type": "code",
   "id": "bfbbe269",
   "metadata": {
    "ExecuteTime": {
     "end_time": "2024-10-05T20:16:42.386837Z",
     "start_time": "2024-10-05T20:16:42.371530Z"
    }
   },
   "source": [
    "for t in permutations(range(3)):\n",
    "    number_stack = list(dropwhile(lambda x: x <= 0, t))\n",
    "    print(number_conversion(number_stack))"
   ],
   "outputs": [
    {
     "name": "stdout",
     "output_type": "stream",
     "text": [
      "12.0\n",
      "21.0\n",
      "102.0\n",
      "120.0\n",
      "201.0\n",
      "210.0\n"
     ]
    }
   ],
   "execution_count": 52
  },
  {
   "cell_type": "markdown",
   "id": "539badee",
   "metadata": {},
   "source": [
    "#### Task 3.4  Activity 4: Design Your Own CSV Parser"
   ]
  },
  {
   "cell_type": "code",
   "id": "aa21214e",
   "metadata": {
    "ExecuteTime": {
     "end_time": "2024-11-24T20:11:02.902682Z",
     "start_time": "2024-11-24T20:11:02.894832Z"
    }
   },
   "source": [
    "# csvfile had been download and uploaded into juypter notebook\n",
    "#import package\n",
    "\n",
    "from itertools import zip_longest"
   ],
   "outputs": [],
   "execution_count": 19
  },
  {
   "cell_type": "code",
   "id": "fe00912c",
   "metadata": {
    "ExecuteTime": {
     "end_time": "2024-11-24T20:11:04.855136Z",
     "start_time": "2024-11-24T20:11:04.847373Z"
    }
   },
   "source": [
    "''' use zip_longest function to take each element in header list and line list (each row) alternatively, so turn them into tuple pairs\n",
    "    then read them as dictionary key and value\n",
    "    \n",
    "'''\n",
    "def return_dict_from_csv_line(header, line):\n",
    "    zipped_line = zip_longest(header, line, fillvalue=None)\n",
    "    # read zipped_line for key and value, to generate the final dict\n",
    "    ret_dict = {kv[0]: kv[1] for kv in zipped_line}\n",
    "    return ret_dict"
   ],
   "outputs": [],
   "execution_count": 20
  },
  {
   "cell_type": "code",
   "id": "4a4757d4",
   "metadata": {
    "ExecuteTime": {
     "end_time": "2024-11-24T20:11:38.469678Z",
     "start_time": "2024-11-24T20:11:38.460619Z"
    }
   },
   "source": [
    "''' open file first, read each line, \n",
    "    take first line as header by removing line end, then using ',' to get each word into a list named 'header';\n",
    "    for all following lines, remove new lines and use ',' to turn the each word in a list named 'line';\n",
    "    use enumerate function to get a counter of lines.\n",
    "    to save space, only read 3 line of records. \n",
    "\n",
    "'''\n",
    "with open(\"./datasets/sales_record.csv\", \"r\") as fd:\n",
    "    first_line = fd.readline()\n",
    "    header = first_line.replace(\"\\n\", \"\").split(\",\")\n",
    "    for i, line in enumerate(fd):\n",
    "        # loop over the first 3 lines only, i starts with 0， will run 3 times.\n",
    "        if i > 2:\n",
    "            break\n",
    "        line = line.replace(\"\\n\", \"\").split(\",\")\n",
    "        d = return_dict_from_csv_line(header, line)\n",
    "        print(d)\n",
    "        "
   ],
   "outputs": [
    {
     "name": "stdout",
     "output_type": "stream",
     "text": [
      "{'Region': 'Central America and the Caribbean', 'Country': 'Antigua and Barbuda ', 'Item Type': 'Baby Food', 'Sales Channel': 'Online', 'Order Priority': 'M', 'Order Date': '12/20/2013', 'Order ID': '957081544', 'Ship Date': '1/11/2014', 'Units Sold': '552', 'Unit Price': '255.28', 'Unit Cost': '159.42', 'Total Revenue': '140914.56', 'Total Cost': '87999.84', 'Total Profit': '52914.72'}\n",
      "{'Region': 'Central America and the Caribbean', 'Country': 'Panama', 'Item Type': 'Snacks', 'Sales Channel': 'Offline', 'Order Priority': 'C', 'Order Date': '7/5/2010', 'Order ID': '301644504', 'Ship Date': '7/26/2010', 'Units Sold': '2167', 'Unit Price': '152.58', 'Unit Cost': '97.44', 'Total Revenue': '330640.86', 'Total Cost': '211152.48', 'Total Profit': '119488.38'}\n",
      "{'Region': 'Europe', 'Country': 'Czech Republic', 'Item Type': 'Beverages', 'Sales Channel': 'Offline', 'Order Priority': 'C', 'Order Date': '9/12/2011', 'Order ID': '478051030', 'Ship Date': '9/29/2011', 'Units Sold': '4778', 'Unit Price': '47.45', 'Unit Cost': '31.79', 'Total Revenue': '226716.10', 'Total Cost': '151892.62', 'Total Profit': '74823.48'}\n"
     ]
    }
   ],
   "execution_count": 22
  },
  {
   "cell_type": "code",
   "id": "078d0fc7",
   "metadata": {
    "ExecuteTime": {
     "end_time": "2024-10-05T20:16:42.454888Z",
     "start_time": "2024-10-05T20:16:42.450815Z"
    }
   },
   "source": [],
   "outputs": [],
   "execution_count": 55
  },
  {
   "cell_type": "code",
   "id": "406fc09e",
   "metadata": {
    "ExecuteTime": {
     "end_time": "2024-10-05T20:16:42.458Z",
     "start_time": "2024-10-05T20:16:42.454888Z"
    }
   },
   "source": [],
   "outputs": [],
   "execution_count": 55
  }
 ],
 "metadata": {
  "kernelspec": {
   "display_name": "Python 3 (ipykernel)",
   "language": "python",
   "name": "python3"
  },
  "language_info": {
   "codemirror_mode": {
    "name": "ipython",
    "version": 3
   },
   "file_extension": ".py",
   "mimetype": "text/x-python",
   "name": "python",
   "nbconvert_exporter": "python",
   "pygments_lexer": "ipython3",
   "version": "3.11.4"
  }
 },
 "nbformat": 4,
 "nbformat_minor": 5
}
