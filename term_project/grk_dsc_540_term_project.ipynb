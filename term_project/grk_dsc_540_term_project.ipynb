{
 "cells": [
  {
   "cell_type": "code",
   "id": "initial_id",
   "metadata": {
    "collapsed": true,
    "ExecuteTime": {
     "end_time": "2024-12-21T18:31:58.479031Z",
     "start_time": "2024-12-21T18:31:58.472991Z"
    }
   },
   "source": [
    "import pandas as pd\n",
    "import requests\n",
    "import traceback\n",
    "from bs4 import BeautifulSoup\n",
    "%matplotlib inline"
   ],
   "outputs": [],
   "execution_count": 71
  },
  {
   "metadata": {},
   "cell_type": "markdown",
   "source": "#Flat File",
   "id": "c5696467e6f7ab39"
  },
  {
   "metadata": {
    "ExecuteTime": {
     "end_time": "2024-12-21T18:52:42.027454Z",
     "start_time": "2024-12-21T18:52:42.006835Z"
    }
   },
   "cell_type": "code",
   "source": [
    "csv_movies_with_budget_df=pd.read_csv(r'./project_datasets/top-500-movies.csv', parse_dates=True)\n",
    "csv_movies_with_budget_df.head()"
   ],
   "id": "aa4c587eac155ef2",
   "outputs": [
    {
     "data": {
      "text/plain": [
       "   rank release_date                                        title  \\\n",
       "0     1   2019-04-23                            Avengers: Endgame   \n",
       "1     2   2011-05-20  Pirates of the Caribbean: On Stranger Tides   \n",
       "2     3   2015-04-22                      Avengers: Age of Ultron   \n",
       "3     4   2015-12-16         Star Wars Ep. VII: The Force Awakens   \n",
       "4     5   2018-04-25                       Avengers: Infinity War   \n",
       "\n",
       "                                                 url  production_cost  \\\n",
       "0         /movie/Avengers-Endgame-(2019)#tab=summary        400000000   \n",
       "1  /movie/Pirates-of-the-Caribbean-On-Stranger-Ti...        379000000   \n",
       "2          /movie/Avengers-Age-of-Ultron#tab=summary        365000000   \n",
       "3  /movie/Star-Wars-Ep-VII-The-Force-Awakens#tab=...        306000000   \n",
       "4           /movie/Avengers-Infinity-War#tab=summary        300000000   \n",
       "\n",
       "   domestic_gross  worldwide_gross  opening_weekend   mpaa      genre  \\\n",
       "0       858373000       2797800564      357115007.0  PG-13     Action   \n",
       "1       241071802       1045713802       90151958.0  PG-13  Adventure   \n",
       "2       459005868       1395316979      191271109.0  PG-13     Action   \n",
       "3       936662225       2064615817      247966675.0  PG-13  Adventure   \n",
       "4       678815482       2048359754      257698183.0  PG-13     Action   \n",
       "\n",
       "   theaters  runtime    year  \n",
       "0    4662.0    181.0  2019.0  \n",
       "1    4164.0    136.0  2011.0  \n",
       "2    4276.0    141.0  2015.0  \n",
       "3    4134.0    136.0  2015.0  \n",
       "4    4474.0    156.0  2018.0  "
      ],
      "text/html": [
       "<div>\n",
       "<style scoped>\n",
       "    .dataframe tbody tr th:only-of-type {\n",
       "        vertical-align: middle;\n",
       "    }\n",
       "\n",
       "    .dataframe tbody tr th {\n",
       "        vertical-align: top;\n",
       "    }\n",
       "\n",
       "    .dataframe thead th {\n",
       "        text-align: right;\n",
       "    }\n",
       "</style>\n",
       "<table border=\"1\" class=\"dataframe\">\n",
       "  <thead>\n",
       "    <tr style=\"text-align: right;\">\n",
       "      <th></th>\n",
       "      <th>rank</th>\n",
       "      <th>release_date</th>\n",
       "      <th>title</th>\n",
       "      <th>url</th>\n",
       "      <th>production_cost</th>\n",
       "      <th>domestic_gross</th>\n",
       "      <th>worldwide_gross</th>\n",
       "      <th>opening_weekend</th>\n",
       "      <th>mpaa</th>\n",
       "      <th>genre</th>\n",
       "      <th>theaters</th>\n",
       "      <th>runtime</th>\n",
       "      <th>year</th>\n",
       "    </tr>\n",
       "  </thead>\n",
       "  <tbody>\n",
       "    <tr>\n",
       "      <th>0</th>\n",
       "      <td>1</td>\n",
       "      <td>2019-04-23</td>\n",
       "      <td>Avengers: Endgame</td>\n",
       "      <td>/movie/Avengers-Endgame-(2019)#tab=summary</td>\n",
       "      <td>400000000</td>\n",
       "      <td>858373000</td>\n",
       "      <td>2797800564</td>\n",
       "      <td>357115007.0</td>\n",
       "      <td>PG-13</td>\n",
       "      <td>Action</td>\n",
       "      <td>4662.0</td>\n",
       "      <td>181.0</td>\n",
       "      <td>2019.0</td>\n",
       "    </tr>\n",
       "    <tr>\n",
       "      <th>1</th>\n",
       "      <td>2</td>\n",
       "      <td>2011-05-20</td>\n",
       "      <td>Pirates of the Caribbean: On Stranger Tides</td>\n",
       "      <td>/movie/Pirates-of-the-Caribbean-On-Stranger-Ti...</td>\n",
       "      <td>379000000</td>\n",
       "      <td>241071802</td>\n",
       "      <td>1045713802</td>\n",
       "      <td>90151958.0</td>\n",
       "      <td>PG-13</td>\n",
       "      <td>Adventure</td>\n",
       "      <td>4164.0</td>\n",
       "      <td>136.0</td>\n",
       "      <td>2011.0</td>\n",
       "    </tr>\n",
       "    <tr>\n",
       "      <th>2</th>\n",
       "      <td>3</td>\n",
       "      <td>2015-04-22</td>\n",
       "      <td>Avengers: Age of Ultron</td>\n",
       "      <td>/movie/Avengers-Age-of-Ultron#tab=summary</td>\n",
       "      <td>365000000</td>\n",
       "      <td>459005868</td>\n",
       "      <td>1395316979</td>\n",
       "      <td>191271109.0</td>\n",
       "      <td>PG-13</td>\n",
       "      <td>Action</td>\n",
       "      <td>4276.0</td>\n",
       "      <td>141.0</td>\n",
       "      <td>2015.0</td>\n",
       "    </tr>\n",
       "    <tr>\n",
       "      <th>3</th>\n",
       "      <td>4</td>\n",
       "      <td>2015-12-16</td>\n",
       "      <td>Star Wars Ep. VII: The Force Awakens</td>\n",
       "      <td>/movie/Star-Wars-Ep-VII-The-Force-Awakens#tab=...</td>\n",
       "      <td>306000000</td>\n",
       "      <td>936662225</td>\n",
       "      <td>2064615817</td>\n",
       "      <td>247966675.0</td>\n",
       "      <td>PG-13</td>\n",
       "      <td>Adventure</td>\n",
       "      <td>4134.0</td>\n",
       "      <td>136.0</td>\n",
       "      <td>2015.0</td>\n",
       "    </tr>\n",
       "    <tr>\n",
       "      <th>4</th>\n",
       "      <td>5</td>\n",
       "      <td>2018-04-25</td>\n",
       "      <td>Avengers: Infinity War</td>\n",
       "      <td>/movie/Avengers-Infinity-War#tab=summary</td>\n",
       "      <td>300000000</td>\n",
       "      <td>678815482</td>\n",
       "      <td>2048359754</td>\n",
       "      <td>257698183.0</td>\n",
       "      <td>PG-13</td>\n",
       "      <td>Action</td>\n",
       "      <td>4474.0</td>\n",
       "      <td>156.0</td>\n",
       "      <td>2018.0</td>\n",
       "    </tr>\n",
       "  </tbody>\n",
       "</table>\n",
       "</div>"
      ]
     },
     "execution_count": 115,
     "metadata": {},
     "output_type": "execute_result"
    }
   ],
   "execution_count": 115
  },
  {
   "metadata": {
    "ExecuteTime": {
     "end_time": "2024-12-21T18:59:10.806161Z",
     "start_time": "2024-12-21T18:59:10.796714Z"
    }
   },
   "cell_type": "code",
   "source": [
    "cst_min,cst_max = csv_movies_with_budget_df[\"production_cost\"].agg(['min', 'max'])\n",
    "step=5\n",
    "div=1_000_000\n",
    "cost_range=[(start-step,start) for start in range(int(cst_min/div),int(cst_max/div)+step,step)]"
   ],
   "id": "a0dd9a795755f464",
   "outputs": [],
   "execution_count": 136
  },
  {
   "metadata": {
    "ExecuteTime": {
     "end_time": "2024-12-21T18:59:13.678087Z",
     "start_time": "2024-12-21T18:59:13.668835Z"
    }
   },
   "cell_type": "code",
   "source": [
    "# Define \"nice-looking\" labels (otherwise x axis will read \"(4.9, 9.1] (9.9, 14.1] .....\")\n",
    "labels=[f\"{start}-{end}\" for start, end in cost_range]\n",
    "# Define the bins\n",
    "bins=pd.IntervalIndex.from_tuples(cost_range)\n",
    "bins"
   ],
   "id": "d65a117d9cc7c1d7",
   "outputs": [
    {
     "data": {
      "text/plain": [
       "IntervalIndex([  (86, 91],   (91, 96],  (96, 101], (101, 106], (106, 111],\n",
       "               (111, 116], (116, 121], (121, 126], (126, 131], (131, 136],\n",
       "               (136, 141], (141, 146], (146, 151], (151, 156], (156, 161],\n",
       "               (161, 166], (166, 171], (171, 176], (176, 181], (181, 186],\n",
       "               (186, 191], (191, 196], (196, 201], (201, 206], (206, 211],\n",
       "               (211, 216], (216, 221], (221, 226], (226, 231], (231, 236],\n",
       "               (236, 241], (241, 246], (246, 251], (251, 256], (256, 261],\n",
       "               (261, 266], (266, 271], (271, 276], (276, 281], (281, 286],\n",
       "               (286, 291], (291, 296], (296, 301], (301, 306], (306, 311],\n",
       "               (311, 316], (316, 321], (321, 326], (326, 331], (331, 336],\n",
       "               (336, 341], (341, 346], (346, 351], (351, 356], (356, 361],\n",
       "               (361, 366], (366, 371], (371, 376], (376, 381], (381, 386],\n",
       "               (386, 391], (391, 396], (396, 401]],\n",
       "              dtype='interval[int64, right]')"
      ]
     },
     "execution_count": 137,
     "metadata": {},
     "output_type": "execute_result"
    }
   ],
   "execution_count": 137
  },
  {
   "metadata": {
    "ExecuteTime": {
     "end_time": "2024-12-21T18:59:20.092664Z",
     "start_time": "2024-12-21T18:59:20.081191Z"
    }
   },
   "cell_type": "code",
   "source": [
    "# Use \"cut\" method to group values into ranges\n",
    "csv_movies_with_budget_df['prod_cost_range_million'] = pd.cut(csv_movies_with_budget_df['production_cost'].apply(lambda x : int(x/div)),\n",
    "                                                              bins=bins, include_lowest=True\n",
    "                                                              ).map(dict(zip(bins, labels)))"
   ],
   "id": "52c3a6a752af1248",
   "outputs": [],
   "execution_count": 138
  },
  {
   "metadata": {
    "ExecuteTime": {
     "end_time": "2024-12-21T18:59:21.974055Z",
     "start_time": "2024-12-21T18:59:21.962748Z"
    }
   },
   "cell_type": "code",
   "source": [
    "#Ensure all rows are accounted for\n",
    "csv_movies_with_budget_df[csv_movies_with_budget_df[\"prod_cost_range_million\"].isna()]"
   ],
   "id": "bd731bc250c1a8ca",
   "outputs": [
    {
     "data": {
      "text/plain": [
       "Empty DataFrame\n",
       "Columns: [rank, release_date, title, url, production_cost, domestic_gross, worldwide_gross, opening_weekend, mpaa, genre, theaters, runtime, year, prod_cost_range_million]\n",
       "Index: []"
      ],
      "text/html": [
       "<div>\n",
       "<style scoped>\n",
       "    .dataframe tbody tr th:only-of-type {\n",
       "        vertical-align: middle;\n",
       "    }\n",
       "\n",
       "    .dataframe tbody tr th {\n",
       "        vertical-align: top;\n",
       "    }\n",
       "\n",
       "    .dataframe thead th {\n",
       "        text-align: right;\n",
       "    }\n",
       "</style>\n",
       "<table border=\"1\" class=\"dataframe\">\n",
       "  <thead>\n",
       "    <tr style=\"text-align: right;\">\n",
       "      <th></th>\n",
       "      <th>rank</th>\n",
       "      <th>release_date</th>\n",
       "      <th>title</th>\n",
       "      <th>url</th>\n",
       "      <th>production_cost</th>\n",
       "      <th>domestic_gross</th>\n",
       "      <th>worldwide_gross</th>\n",
       "      <th>opening_weekend</th>\n",
       "      <th>mpaa</th>\n",
       "      <th>genre</th>\n",
       "      <th>theaters</th>\n",
       "      <th>runtime</th>\n",
       "      <th>year</th>\n",
       "      <th>prod_cost_range_million</th>\n",
       "    </tr>\n",
       "  </thead>\n",
       "  <tbody>\n",
       "  </tbody>\n",
       "</table>\n",
       "</div>"
      ]
     },
     "execution_count": 139,
     "metadata": {},
     "output_type": "execute_result"
    }
   ],
   "execution_count": 139
  },
  {
   "metadata": {
    "ExecuteTime": {
     "end_time": "2024-12-21T18:59:43.124004Z",
     "start_time": "2024-12-21T18:59:43.105045Z"
    }
   },
   "cell_type": "code",
   "source": [
    "# Count the occurrences of each  range\n",
    "csv_movies_with_budget_df.prod_cost_range_million.value_counts()"
   ],
   "id": "37a0b703eee2f2ce",
   "outputs": [
    {
     "data": {
      "text/plain": [
       "prod_cost_range_million\n",
       "96-101     59\n",
       "146-151    50\n",
       "196-201    40\n",
       "106-111    33\n",
       "91-96      25\n",
       "           ..\n",
       "306-311     0\n",
       "251-256     0\n",
       "266-271     0\n",
       "291-296     0\n",
       "241-246     0\n",
       "Name: count, Length: 63, dtype: int64"
      ]
     },
     "execution_count": 140,
     "metadata": {},
     "output_type": "execute_result"
    }
   ],
   "execution_count": 140
  },
  {
   "metadata": {
    "ExecuteTime": {
     "end_time": "2024-12-21T18:56:41.951425Z",
     "start_time": "2024-12-21T18:56:41.926930Z"
    }
   },
   "cell_type": "code",
   "source": "csv_movies_with_budget_df",
   "id": "333712b1d96dd6c1",
   "outputs": [
    {
     "data": {
      "text/plain": [
       "     rank release_date                                        title  \\\n",
       "0       1   2019-04-23                            Avengers: Endgame   \n",
       "1       2   2011-05-20  Pirates of the Caribbean: On Stranger Tides   \n",
       "2       3   2015-04-22                      Avengers: Age of Ultron   \n",
       "3       4   2015-12-16         Star Wars Ep. VII: The Force Awakens   \n",
       "4       5   2018-04-25                       Avengers: Infinity War   \n",
       "..    ...          ...                                          ...   \n",
       "495   496   2013-02-06                       A Good Day to Die Hard   \n",
       "496   497   2004-04-09                                    The Alamo   \n",
       "497   498   1995-12-22                             Cutthroat Island   \n",
       "498   499   2013-12-19              The Secret Life of Walter Mitty   \n",
       "499   500   2023-03-09                                           65   \n",
       "\n",
       "                                                   url  production_cost  \\\n",
       "0           /movie/Avengers-Endgame-(2019)#tab=summary        400000000   \n",
       "1    /movie/Pirates-of-the-Caribbean-On-Stranger-Ti...        379000000   \n",
       "2            /movie/Avengers-Age-of-Ultron#tab=summary        365000000   \n",
       "3    /movie/Star-Wars-Ep-VII-The-Force-Awakens#tab=...        306000000   \n",
       "4             /movie/Avengers-Infinity-War#tab=summary        300000000   \n",
       "..                                                 ...              ...   \n",
       "495                      /movie/Die-Hard-5#tab=summary         92000000   \n",
       "496                /movie/Alamo-The-(2004)#tab=summary         92000000   \n",
       "497                /movie/Cutthroat-Island#tab=summary         92000000   \n",
       "498  /movie/Secret-Life-of-Walter-Mitty-The-(2012)#...         91000000   \n",
       "499                       /movie/65-(2022)#tab=summary         91000000   \n",
       "\n",
       "     domestic_gross  worldwide_gross  opening_weekend   mpaa  \\\n",
       "0         858373000       2797800564      357115007.0  PG-13   \n",
       "1         241071802       1045713802       90151958.0  PG-13   \n",
       "2         459005868       1395316979      191271109.0  PG-13   \n",
       "3         936662225       2064615817      247966675.0  PG-13   \n",
       "4         678815482       2048359754      257698183.0  PG-13   \n",
       "..              ...              ...              ...    ...   \n",
       "495        67349198        304249198       24834845.0      R   \n",
       "496        22406362         23911362        9124701.0  PG-13   \n",
       "497        10017322         18517322        2371415.0  PG-13   \n",
       "498        58236838        187861183       12765508.0     PG   \n",
       "499               0                0              NaN    NaN   \n",
       "\n",
       "                 genre  theaters  runtime    year prod_cost_range_million  \n",
       "0               Action    4662.0    181.0  2019.0                 396-401  \n",
       "1            Adventure    4164.0    136.0  2011.0                 376-381  \n",
       "2               Action    4276.0    141.0  2015.0                 361-366  \n",
       "3            Adventure    4134.0    136.0  2015.0                 301-306  \n",
       "4               Action    4474.0    156.0  2018.0                 296-301  \n",
       "..                 ...       ...      ...     ...                     ...  \n",
       "495             Action    3555.0     98.0  2013.0                   91-96  \n",
       "496            Western    2609.0    137.0  2004.0                   91-96  \n",
       "497          Adventure    1619.0      NaN  1995.0                   91-96  \n",
       "498          Adventure    2922.0    114.0  2013.0                   86-91  \n",
       "499  Thriller/Suspense       NaN      NaN  2023.0                   86-91  \n",
       "\n",
       "[500 rows x 14 columns]"
      ],
      "text/html": [
       "<div>\n",
       "<style scoped>\n",
       "    .dataframe tbody tr th:only-of-type {\n",
       "        vertical-align: middle;\n",
       "    }\n",
       "\n",
       "    .dataframe tbody tr th {\n",
       "        vertical-align: top;\n",
       "    }\n",
       "\n",
       "    .dataframe thead th {\n",
       "        text-align: right;\n",
       "    }\n",
       "</style>\n",
       "<table border=\"1\" class=\"dataframe\">\n",
       "  <thead>\n",
       "    <tr style=\"text-align: right;\">\n",
       "      <th></th>\n",
       "      <th>rank</th>\n",
       "      <th>release_date</th>\n",
       "      <th>title</th>\n",
       "      <th>url</th>\n",
       "      <th>production_cost</th>\n",
       "      <th>domestic_gross</th>\n",
       "      <th>worldwide_gross</th>\n",
       "      <th>opening_weekend</th>\n",
       "      <th>mpaa</th>\n",
       "      <th>genre</th>\n",
       "      <th>theaters</th>\n",
       "      <th>runtime</th>\n",
       "      <th>year</th>\n",
       "      <th>prod_cost_range_million</th>\n",
       "    </tr>\n",
       "  </thead>\n",
       "  <tbody>\n",
       "    <tr>\n",
       "      <th>0</th>\n",
       "      <td>1</td>\n",
       "      <td>2019-04-23</td>\n",
       "      <td>Avengers: Endgame</td>\n",
       "      <td>/movie/Avengers-Endgame-(2019)#tab=summary</td>\n",
       "      <td>400000000</td>\n",
       "      <td>858373000</td>\n",
       "      <td>2797800564</td>\n",
       "      <td>357115007.0</td>\n",
       "      <td>PG-13</td>\n",
       "      <td>Action</td>\n",
       "      <td>4662.0</td>\n",
       "      <td>181.0</td>\n",
       "      <td>2019.0</td>\n",
       "      <td>396-401</td>\n",
       "    </tr>\n",
       "    <tr>\n",
       "      <th>1</th>\n",
       "      <td>2</td>\n",
       "      <td>2011-05-20</td>\n",
       "      <td>Pirates of the Caribbean: On Stranger Tides</td>\n",
       "      <td>/movie/Pirates-of-the-Caribbean-On-Stranger-Ti...</td>\n",
       "      <td>379000000</td>\n",
       "      <td>241071802</td>\n",
       "      <td>1045713802</td>\n",
       "      <td>90151958.0</td>\n",
       "      <td>PG-13</td>\n",
       "      <td>Adventure</td>\n",
       "      <td>4164.0</td>\n",
       "      <td>136.0</td>\n",
       "      <td>2011.0</td>\n",
       "      <td>376-381</td>\n",
       "    </tr>\n",
       "    <tr>\n",
       "      <th>2</th>\n",
       "      <td>3</td>\n",
       "      <td>2015-04-22</td>\n",
       "      <td>Avengers: Age of Ultron</td>\n",
       "      <td>/movie/Avengers-Age-of-Ultron#tab=summary</td>\n",
       "      <td>365000000</td>\n",
       "      <td>459005868</td>\n",
       "      <td>1395316979</td>\n",
       "      <td>191271109.0</td>\n",
       "      <td>PG-13</td>\n",
       "      <td>Action</td>\n",
       "      <td>4276.0</td>\n",
       "      <td>141.0</td>\n",
       "      <td>2015.0</td>\n",
       "      <td>361-366</td>\n",
       "    </tr>\n",
       "    <tr>\n",
       "      <th>3</th>\n",
       "      <td>4</td>\n",
       "      <td>2015-12-16</td>\n",
       "      <td>Star Wars Ep. VII: The Force Awakens</td>\n",
       "      <td>/movie/Star-Wars-Ep-VII-The-Force-Awakens#tab=...</td>\n",
       "      <td>306000000</td>\n",
       "      <td>936662225</td>\n",
       "      <td>2064615817</td>\n",
       "      <td>247966675.0</td>\n",
       "      <td>PG-13</td>\n",
       "      <td>Adventure</td>\n",
       "      <td>4134.0</td>\n",
       "      <td>136.0</td>\n",
       "      <td>2015.0</td>\n",
       "      <td>301-306</td>\n",
       "    </tr>\n",
       "    <tr>\n",
       "      <th>4</th>\n",
       "      <td>5</td>\n",
       "      <td>2018-04-25</td>\n",
       "      <td>Avengers: Infinity War</td>\n",
       "      <td>/movie/Avengers-Infinity-War#tab=summary</td>\n",
       "      <td>300000000</td>\n",
       "      <td>678815482</td>\n",
       "      <td>2048359754</td>\n",
       "      <td>257698183.0</td>\n",
       "      <td>PG-13</td>\n",
       "      <td>Action</td>\n",
       "      <td>4474.0</td>\n",
       "      <td>156.0</td>\n",
       "      <td>2018.0</td>\n",
       "      <td>296-301</td>\n",
       "    </tr>\n",
       "    <tr>\n",
       "      <th>...</th>\n",
       "      <td>...</td>\n",
       "      <td>...</td>\n",
       "      <td>...</td>\n",
       "      <td>...</td>\n",
       "      <td>...</td>\n",
       "      <td>...</td>\n",
       "      <td>...</td>\n",
       "      <td>...</td>\n",
       "      <td>...</td>\n",
       "      <td>...</td>\n",
       "      <td>...</td>\n",
       "      <td>...</td>\n",
       "      <td>...</td>\n",
       "      <td>...</td>\n",
       "    </tr>\n",
       "    <tr>\n",
       "      <th>495</th>\n",
       "      <td>496</td>\n",
       "      <td>2013-02-06</td>\n",
       "      <td>A Good Day to Die Hard</td>\n",
       "      <td>/movie/Die-Hard-5#tab=summary</td>\n",
       "      <td>92000000</td>\n",
       "      <td>67349198</td>\n",
       "      <td>304249198</td>\n",
       "      <td>24834845.0</td>\n",
       "      <td>R</td>\n",
       "      <td>Action</td>\n",
       "      <td>3555.0</td>\n",
       "      <td>98.0</td>\n",
       "      <td>2013.0</td>\n",
       "      <td>91-96</td>\n",
       "    </tr>\n",
       "    <tr>\n",
       "      <th>496</th>\n",
       "      <td>497</td>\n",
       "      <td>2004-04-09</td>\n",
       "      <td>The Alamo</td>\n",
       "      <td>/movie/Alamo-The-(2004)#tab=summary</td>\n",
       "      <td>92000000</td>\n",
       "      <td>22406362</td>\n",
       "      <td>23911362</td>\n",
       "      <td>9124701.0</td>\n",
       "      <td>PG-13</td>\n",
       "      <td>Western</td>\n",
       "      <td>2609.0</td>\n",
       "      <td>137.0</td>\n",
       "      <td>2004.0</td>\n",
       "      <td>91-96</td>\n",
       "    </tr>\n",
       "    <tr>\n",
       "      <th>497</th>\n",
       "      <td>498</td>\n",
       "      <td>1995-12-22</td>\n",
       "      <td>Cutthroat Island</td>\n",
       "      <td>/movie/Cutthroat-Island#tab=summary</td>\n",
       "      <td>92000000</td>\n",
       "      <td>10017322</td>\n",
       "      <td>18517322</td>\n",
       "      <td>2371415.0</td>\n",
       "      <td>PG-13</td>\n",
       "      <td>Adventure</td>\n",
       "      <td>1619.0</td>\n",
       "      <td>NaN</td>\n",
       "      <td>1995.0</td>\n",
       "      <td>91-96</td>\n",
       "    </tr>\n",
       "    <tr>\n",
       "      <th>498</th>\n",
       "      <td>499</td>\n",
       "      <td>2013-12-19</td>\n",
       "      <td>The Secret Life of Walter Mitty</td>\n",
       "      <td>/movie/Secret-Life-of-Walter-Mitty-The-(2012)#...</td>\n",
       "      <td>91000000</td>\n",
       "      <td>58236838</td>\n",
       "      <td>187861183</td>\n",
       "      <td>12765508.0</td>\n",
       "      <td>PG</td>\n",
       "      <td>Adventure</td>\n",
       "      <td>2922.0</td>\n",
       "      <td>114.0</td>\n",
       "      <td>2013.0</td>\n",
       "      <td>86-91</td>\n",
       "    </tr>\n",
       "    <tr>\n",
       "      <th>499</th>\n",
       "      <td>500</td>\n",
       "      <td>2023-03-09</td>\n",
       "      <td>65</td>\n",
       "      <td>/movie/65-(2022)#tab=summary</td>\n",
       "      <td>91000000</td>\n",
       "      <td>0</td>\n",
       "      <td>0</td>\n",
       "      <td>NaN</td>\n",
       "      <td>NaN</td>\n",
       "      <td>Thriller/Suspense</td>\n",
       "      <td>NaN</td>\n",
       "      <td>NaN</td>\n",
       "      <td>2023.0</td>\n",
       "      <td>86-91</td>\n",
       "    </tr>\n",
       "  </tbody>\n",
       "</table>\n",
       "<p>500 rows × 14 columns</p>\n",
       "</div>"
      ]
     },
     "execution_count": 135,
     "metadata": {},
     "output_type": "execute_result"
    }
   ],
   "execution_count": 135
  },
  {
   "metadata": {
    "ExecuteTime": {
     "end_time": "2024-12-12T02:39:27.119426Z",
     "start_time": "2024-12-12T02:39:27.113181Z"
    }
   },
   "cell_type": "code",
   "source": "csv_movies_with_budget_df.columns",
   "id": "86feb111321b65bb",
   "outputs": [
    {
     "data": {
      "text/plain": [
       "Index(['rank', 'release_date', 'title', 'url', 'production_cost',\n",
       "       'domestic_gross', 'worldwide_gross', 'opening_weekend', 'mpaa', 'genre',\n",
       "       'theaters', 'runtime', 'year'],\n",
       "      dtype='object')"
      ]
     },
     "execution_count": 79,
     "metadata": {},
     "output_type": "execute_result"
    }
   ],
   "execution_count": 79
  },
  {
   "metadata": {
    "ExecuteTime": {
     "end_time": "2024-12-12T02:34:51.031716Z",
     "start_time": "2024-12-12T02:34:51.026302Z"
    }
   },
   "cell_type": "code",
   "source": "csv_movies_with_budget_df.shape",
   "id": "e0e0fa3b8f887e77",
   "outputs": [
    {
     "data": {
      "text/plain": [
       "(500, 13)"
      ]
     },
     "execution_count": 66,
     "metadata": {},
     "output_type": "execute_result"
    }
   ],
   "execution_count": 66
  },
  {
   "metadata": {},
   "cell_type": "markdown",
   "source": "#### WEB Scraping\n",
   "id": "df3e579401178b62"
  },
  {
   "metadata": {},
   "cell_type": "markdown",
   "source": [
    ">Speaking about WebScraping the box office hits, the most complicated part of this is inspecting the webpage source code to determine what to grab and what to ignore.\n",
    "I started off to create a dataset from the weekend performance page of Box Office Mojo, a great datasource for box office performance data."
   ],
   "id": "378b9d0ff2654f4c"
  },
  {
   "metadata": {},
   "cell_type": "markdown",
   "source": "> Generally tabular data that is visible on the page will be put into 'tr' tags. With some of the code below I am exploring edge cases in the ouput of the page. When there is a special occasion for the weekend, in this case thanksgiving, there is a different format and structure that is displayed.",
   "id": "386d76960682dfd7"
  },
  {
   "metadata": {},
   "cell_type": "code",
   "outputs": [],
   "execution_count": null,
   "source": [
    "# Request to website and download HTML contents\n",
    "url='https://www.boxofficemojo.com/weekend/by-year/2024/'\n"
   ],
   "id": "72312587f6029941"
  },
  {
   "metadata": {},
   "cell_type": "markdown",
   "source": "#### Writing a function which scrapes the box office contents",
   "id": "50fd871f94864845"
  },
  {
   "metadata": {},
   "cell_type": "markdown",
   "source": "",
   "id": "9a25fe5835830dc7"
  },
  {
   "metadata": {
    "ExecuteTime": {
     "end_time": "2024-12-12T14:13:14.351306Z",
     "start_time": "2024-12-12T14:13:14.335455Z"
    }
   },
   "cell_type": "code",
   "source": [
    "\n",
    "def scrape_for_year(year):\n",
    "\n",
    "    url = f'https://www.boxofficemojo.com/weekend/by-year/{year}/'\n",
    "    response=\"\"\n",
    "    try:\n",
    "        response = requests.get(url)\n",
    "    except Exception as ex:\n",
    "        print(f\"Exception occurred {ex}\")\n",
    "        traceback.print_exc()\n",
    "    content = response.text\n",
    "    ## Reading webpage using beatifulsoup method available in bs4\n",
    "    soup = BeautifulSoup(content)\n",
    "    ## Find the tabular data that is visible on the page will be put into 'tr' tags\n",
    "    rows = soup.findAll('tr')\n",
    "\n",
    "    appended_data = []\n",
    "    for row in rows:\n",
    "        data_row = {}\n",
    "        data_row['year'] = yr\n",
    "        data = row.findAll('td')\n",
    "        if len(data) == 0:\n",
    "            continue\n",
    "        if len(data[0].findAll('span')) > 0:\n",
    "            #Data for special weekend\n",
    "            data_row['occasion'] = data[0].findAll('span')[0].text\n",
    "            data_row['date'] = data[0].findAll('a')[0].text\n",
    "        else:\n",
    "            data_row['occasion'] = \"normal weekend\"\n",
    "            data_row['date'] = data[0].text\n",
    "        data_row['top10_gross'] = data[1].text\n",
    "        data_row['top10_wow_change'] = data[2].text\n",
    "        data_row['overall_gross'] = data[3].text\n",
    "        data_row['overall_wow_change'] = data[4].text\n",
    "        data_row['num_releases'] = data[5].text\n",
    "        data_row['top_release'] = data[6].text\n",
    "        data_row['week_no'] = data[10].text\n",
    "        appended_data.append(data_row)\n",
    "    return appended_data"
   ],
   "id": "1aa3bc9ada226de6",
   "outputs": [],
   "execution_count": 131
  },
  {
   "metadata": {
    "ExecuteTime": {
     "end_time": "2024-12-12T14:19:50.074343Z",
     "start_time": "2024-12-12T14:19:50.064239Z"
    }
   },
   "cell_type": "code",
   "source": [
    "weekend_data = pd.DataFrame()\n",
    "#Get last 10 years of box office collections\n",
    "years = list(range(2013,2024,1))\n",
    "years"
   ],
   "id": "507a670bc1264d3f",
   "outputs": [
    {
     "data": {
      "text/plain": [
       "[2013, 2014, 2015, 2016, 2017, 2018, 2019, 2020, 2021, 2022, 2023]"
      ]
     },
     "execution_count": 161,
     "metadata": {},
     "output_type": "execute_result"
    }
   ],
   "execution_count": 161
  },
  {
   "metadata": {},
   "cell_type": "markdown",
   "source": "#### Creating Dataframe from the appended yearly data",
   "id": "452b77f1dd7140a6"
  },
  {
   "metadata": {
    "ExecuteTime": {
     "end_time": "2024-12-12T14:20:03.144953Z",
     "start_time": "2024-12-12T14:19:59.518970Z"
    }
   },
   "cell_type": "code",
   "source": [
    "\n",
    "for yr in years:\n",
    "    result = scrape_for_year(yr)\n",
    "    scrapped_df = pd.DataFrame(result, columns = ['date','occasion','year', 'top10_gross', 'top10_wow_change', 'overall_gross', 'overall_wow_change', 'num_releases', 'top_release', 'week_no'])\n",
    "    weekend_data = pd.concat([weekend_data,scrapped_df],ignore_index=True)"
   ],
   "id": "ec167ee91169163a",
   "outputs": [],
   "execution_count": 162
  },
  {
   "metadata": {
    "ExecuteTime": {
     "end_time": "2024-12-12T14:20:05.429906Z",
     "start_time": "2024-12-12T14:20:05.423029Z"
    }
   },
   "cell_type": "code",
   "source": "weekend_data.shape",
   "id": "4cca5724138a4748",
   "outputs": [
    {
     "data": {
      "text/plain": [
       "(677, 10)"
      ]
     },
     "execution_count": 163,
     "metadata": {},
     "output_type": "execute_result"
    }
   ],
   "execution_count": 163
  },
  {
   "metadata": {
    "ExecuteTime": {
     "end_time": "2024-12-12T14:13:23.452511Z",
     "start_time": "2024-12-12T14:13:23.439928Z"
    }
   },
   "cell_type": "code",
   "source": "weekend_data.head()",
   "id": "c60be4b5992aa0b3",
   "outputs": [
    {
     "data": {
      "text/plain": [
       "        date                             occasion  year  top10_gross  \\\n",
       "0  Dec 25-27                    COVID-19 Pandemic  2020  $23,780,363   \n",
       "1  Dec 18-20                    COVID-19 Pandemic  2020   $6,729,235   \n",
       "2  Dec 11-13                    COVID-19 Pandemic  2020   $5,596,422   \n",
       "3    Dec 4-6   COVID-19 PandemicPost-Thanksgiving  2020   $7,435,065   \n",
       "4  Nov 27-29  COVID-19 PandemicThanksgiving 3-Day  2020  $13,230,347   \n",
       "\n",
       "  top10_wow_change overall_gross overall_wow_change num_releases  \\\n",
       "0          +253.4%   $24,226,397            +217.7%           34   \n",
       "1           +20.2%    $7,625,545             +13.8%           41   \n",
       "2           -24.7%    $6,701,727             -20.2%           38   \n",
       "3           -43.8%    $8,397,393             -40.7%           41   \n",
       "4          +145.8%   $14,152,936            +120.9%           41   \n",
       "\n",
       "             top_release week_no  \n",
       "0      Wonder Woman 1984      52  \n",
       "1         Monster Hunter      51  \n",
       "2  The Croods: A New Age      50  \n",
       "3  The Croods: A New Age      49  \n",
       "4  The Croods: A New Age      48  "
      ],
      "text/html": [
       "<div>\n",
       "<style scoped>\n",
       "    .dataframe tbody tr th:only-of-type {\n",
       "        vertical-align: middle;\n",
       "    }\n",
       "\n",
       "    .dataframe tbody tr th {\n",
       "        vertical-align: top;\n",
       "    }\n",
       "\n",
       "    .dataframe thead th {\n",
       "        text-align: right;\n",
       "    }\n",
       "</style>\n",
       "<table border=\"1\" class=\"dataframe\">\n",
       "  <thead>\n",
       "    <tr style=\"text-align: right;\">\n",
       "      <th></th>\n",
       "      <th>date</th>\n",
       "      <th>occasion</th>\n",
       "      <th>year</th>\n",
       "      <th>top10_gross</th>\n",
       "      <th>top10_wow_change</th>\n",
       "      <th>overall_gross</th>\n",
       "      <th>overall_wow_change</th>\n",
       "      <th>num_releases</th>\n",
       "      <th>top_release</th>\n",
       "      <th>week_no</th>\n",
       "    </tr>\n",
       "  </thead>\n",
       "  <tbody>\n",
       "    <tr>\n",
       "      <th>0</th>\n",
       "      <td>Dec 25-27</td>\n",
       "      <td>COVID-19 Pandemic</td>\n",
       "      <td>2020</td>\n",
       "      <td>$23,780,363</td>\n",
       "      <td>+253.4%</td>\n",
       "      <td>$24,226,397</td>\n",
       "      <td>+217.7%</td>\n",
       "      <td>34</td>\n",
       "      <td>Wonder Woman 1984</td>\n",
       "      <td>52</td>\n",
       "    </tr>\n",
       "    <tr>\n",
       "      <th>1</th>\n",
       "      <td>Dec 18-20</td>\n",
       "      <td>COVID-19 Pandemic</td>\n",
       "      <td>2020</td>\n",
       "      <td>$6,729,235</td>\n",
       "      <td>+20.2%</td>\n",
       "      <td>$7,625,545</td>\n",
       "      <td>+13.8%</td>\n",
       "      <td>41</td>\n",
       "      <td>Monster Hunter</td>\n",
       "      <td>51</td>\n",
       "    </tr>\n",
       "    <tr>\n",
       "      <th>2</th>\n",
       "      <td>Dec 11-13</td>\n",
       "      <td>COVID-19 Pandemic</td>\n",
       "      <td>2020</td>\n",
       "      <td>$5,596,422</td>\n",
       "      <td>-24.7%</td>\n",
       "      <td>$6,701,727</td>\n",
       "      <td>-20.2%</td>\n",
       "      <td>38</td>\n",
       "      <td>The Croods: A New Age</td>\n",
       "      <td>50</td>\n",
       "    </tr>\n",
       "    <tr>\n",
       "      <th>3</th>\n",
       "      <td>Dec 4-6</td>\n",
       "      <td>COVID-19 PandemicPost-Thanksgiving</td>\n",
       "      <td>2020</td>\n",
       "      <td>$7,435,065</td>\n",
       "      <td>-43.8%</td>\n",
       "      <td>$8,397,393</td>\n",
       "      <td>-40.7%</td>\n",
       "      <td>41</td>\n",
       "      <td>The Croods: A New Age</td>\n",
       "      <td>49</td>\n",
       "    </tr>\n",
       "    <tr>\n",
       "      <th>4</th>\n",
       "      <td>Nov 27-29</td>\n",
       "      <td>COVID-19 PandemicThanksgiving 3-Day</td>\n",
       "      <td>2020</td>\n",
       "      <td>$13,230,347</td>\n",
       "      <td>+145.8%</td>\n",
       "      <td>$14,152,936</td>\n",
       "      <td>+120.9%</td>\n",
       "      <td>41</td>\n",
       "      <td>The Croods: A New Age</td>\n",
       "      <td>48</td>\n",
       "    </tr>\n",
       "  </tbody>\n",
       "</table>\n",
       "</div>"
      ]
     },
     "execution_count": 134,
     "metadata": {},
     "output_type": "execute_result"
    }
   ],
   "execution_count": 134
  },
  {
   "metadata": {
    "ExecuteTime": {
     "end_time": "2024-12-12T00:14:49.385514Z",
     "start_time": "2024-12-12T00:14:49.371994Z"
    }
   },
   "cell_type": "code",
   "source": "weekend_data.columns",
   "id": "469de14391683705",
   "outputs": [
    {
     "data": {
      "text/plain": [
       "Index(['date', 'occasion', 'year', 'top10_gross', 'top10_wow_change',\n",
       "       'overall_gross', 'overall_wow_change', 'num_releases', 'top_release',\n",
       "       'week_no'],\n",
       "      dtype='object')"
      ]
     },
     "execution_count": 35,
     "metadata": {},
     "output_type": "execute_result"
    }
   ],
   "execution_count": 35
  },
  {
   "metadata": {},
   "cell_type": "markdown",
   "source": "#### Step 2: Removing null rows from the dataset",
   "id": "b11872130045e0c4"
  },
  {
   "metadata": {},
   "cell_type": "code",
   "outputs": [],
   "execution_count": null,
   "source": "## Calculating number of null rows present in the dataset\n",
   "id": "8c420208a1a36413"
  },
  {
   "metadata": {
    "ExecuteTime": {
     "end_time": "2024-12-12T02:58:30.549172Z",
     "start_time": "2024-12-12T02:58:30.540947Z"
    }
   },
   "cell_type": "code",
   "source": "weekend_data.occasion.value_counts()",
   "id": "ad7fa128e72b5b71",
   "outputs": [
    {
     "data": {
      "text/plain": [
       "occasion\n",
       "normal weekend                               177\n",
       "COVID-19 Pandemic                             64\n",
       "World Cup (Russia)                             5\n",
       "MLK wknd                                       4\n",
       "Indig. Peoples' Day wknd                       4\n",
       "Labor Day wknd                                 4\n",
       "New Year's long wknd                           3\n",
       "Memorial Day wknd                              3\n",
       "PyeongChang Olympics                           3\n",
       "Easter wknd                                    3\n",
       "Presidents' Day wknd                           3\n",
       "July 4th long wknd                             3\n",
       "Thanksgiving 5-Day                             3\n",
       "Thanksgiving 4-Day                             3\n",
       "Thanksgiving 3-Day                             3\n",
       "Post-Thanksgiving                              3\n",
       "Christmas long wknd                            3\n",
       "World Cup (Qatar)                              2\n",
       "COVID-19 PandemicMemorial Day wknd             2\n",
       "COVID-19 PandemicEaster wknd                   2\n",
       "COVID-19 PandemicThanksgiving 3-Day            1\n",
       "COVID-19 PandemicLabor Day wknd                1\n",
       "COVID-19 PandemicIndig. Peoples' Day wknd      1\n",
       "COVID-19 PandemicThanksgiving 5-Day            1\n",
       "COVID-19 PandemicThanksgiving 4-Day            1\n",
       "Thanksgiving 3-DayWorld Cup (Qatar)            1\n",
       "COVID-19 PandemicPost-Thanksgiving             1\n",
       "COVID-19 PandemicMLK wknd                      1\n",
       "COVID-19 PandemicPresidents' Day wknd          1\n",
       "Thanksgiving 5-DayWorld Cup (Qatar)            1\n",
       "Thanksgiving 4-DayWorld Cup (Qatar)            1\n",
       "Post-ThanksgivingWorld Cup (Qatar)             1\n",
       "Presidents' Day wkndPyeongChang Olympics       1\n",
       "Name: count, dtype: int64"
      ]
     },
     "execution_count": 112,
     "metadata": {},
     "output_type": "execute_result"
    }
   ],
   "execution_count": 112
  },
  {
   "metadata": {
    "ExecuteTime": {
     "end_time": "2024-12-12T14:20:12.464144Z",
     "start_time": "2024-12-12T14:20:12.456682Z"
    }
   },
   "cell_type": "code",
   "source": [
    "scraped_movie_list=weekend_data['top_release'].unique()\n",
    "len(scraped_movie_list)"
   ],
   "id": "10858274b2a41881",
   "outputs": [
    {
     "data": {
      "text/plain": [
       "353"
      ]
     },
     "execution_count": 164,
     "metadata": {},
     "output_type": "execute_result"
    }
   ],
   "execution_count": 164
  },
  {
   "metadata": {},
   "cell_type": "markdown",
   "source": "#API",
   "id": "b6669ea76bc39e3d"
  },
  {
   "metadata": {},
   "cell_type": "markdown",
   "source": "##### Step 1: Reading API data using \"requests\" library available in Python",
   "id": "51fd4568e270ae10"
  },
  {
   "metadata": {},
   "cell_type": "markdown",
   "source": "Before invoking the API, you need to signup for your [TMDB](https://www.themoviedb.org/) account and get your api key to work with tmdb API.",
   "id": "517ecc6cb5c67b1f"
  },
  {
   "metadata": {},
   "cell_type": "markdown",
   "source": "#### ",
   "id": "53b588b4b309c8f8"
  },
  {
   "metadata": {
    "ExecuteTime": {
     "end_time": "2024-12-18T22:38:09.039671Z",
     "start_time": "2024-12-18T22:38:09.028526Z"
    }
   },
   "cell_type": "code",
   "source": "api_key = '5a51d21e02c0baae3a96d6a5e7687635'",
   "id": "fe794c1b77e8699",
   "outputs": [],
   "execution_count": 1
  },
  {
   "metadata": {
    "ExecuteTime": {
     "end_time": "2024-12-19T00:16:55.886842Z",
     "start_time": "2024-12-19T00:16:55.794847Z"
    }
   },
   "cell_type": "code",
   "source": [
    "genre_url=f'https://api.themoviedb.org/3/genre/movie/list?api_key={api_key}'\n",
    "genre_dict = dict()\n",
    "try:\n",
    "    response = requests.get(genre_url)\n",
    "    if response.status_code == 200:\n",
    "            genre_dict = { genre_json['id']:genre_json['name'] for genre_json in response.json()['genres'] } \n",
    "except Exception as e:\n",
    "    print('Error downloading genres: ',e)\n",
    "    traceback.print_exc()\n",
    "    \n",
    "#Lets add a unique key for movies without any genre\n",
    "if 0 not in genre_dict.keys():\n",
    "    genre_dict[0] = 'unknown'\n"
   ],
   "id": "51f7b7f71e781e05",
   "outputs": [],
   "execution_count": 81
  },
  {
   "metadata": {},
   "cell_type": "markdown",
   "source": "To fetch the details we will use get method of request library and store retrieved information in a response object",
   "id": "fb309b02c33a9ebf"
  },
  {
   "metadata": {
    "ExecuteTime": {
     "end_time": "2024-12-12T14:20:49.965695Z",
     "start_time": "2024-12-12T14:20:20.166497Z"
    }
   },
   "cell_type": "code",
   "source": [
    "%%time\n",
    "# We will first create an empty dataframe to store all the movie detail\n",
    "api_df = pd.DataFrame()\n",
    "# Our for loop will iterate through each page, get json data convert it into dataframe and append it to original dataframe\n",
    "for title in scraped_movie_list:\n",
    "    url = f\"https://api.themoviedb.org/3/search/movie?api_key={api_key}&query={title}\"\n",
    "    response = requests.get(url)\n",
    "    temporary_df = pd.DataFrame(response.json()['results'])\n",
    "    api_df = pd.concat([api_df,temporary_df],ignore_index=True)"
   ],
   "id": "17440c97478bcb6d",
   "outputs": [
    {
     "name": "stdout",
     "output_type": "stream",
     "text": [
      "CPU times: total: 62.5 ms\n",
      "Wall time: 29.8 s\n"
     ]
    }
   ],
   "execution_count": 165
  },
  {
   "metadata": {},
   "cell_type": "markdown",
   "source": "Response object now has all our needed details but they are in the form of JSON. We can use json() to view these details",
   "id": "640e6d72291b29d7"
  },
  {
   "metadata": {},
   "cell_type": "markdown",
   "source": [
    "#### Now if you observe JSON carefully it has four keys\n",
    "\n",
    "- page: shows page no. of current page\n",
    "- results: contains list of dictionary with 20 movies\n",
    "- total_pages: total pages present on site which contains the detail about movies\n",
    "- total_results: total popular movies\n",
    "\n",
    "#### We can convert this JSON into pandas dataframe\n",
    "- Note: we are converting only 'results' dictionary into dataframe as we only need movie details"
   ],
   "id": "34493687c9f93df7"
  },
  {
   "metadata": {
    "ExecuteTime": {
     "end_time": "2024-12-12T14:20:53.565561Z",
     "start_time": "2024-12-12T14:20:53.553256Z"
    }
   },
   "cell_type": "code",
   "source": "api_df.shape",
   "id": "ad0c70b83a52f4ca",
   "outputs": [
    {
     "data": {
      "text/plain": [
       "(2998, 14)"
      ]
     },
     "execution_count": 166,
     "metadata": {},
     "output_type": "execute_result"
    }
   ],
   "execution_count": 166
  },
  {
   "metadata": {
    "ExecuteTime": {
     "end_time": "2024-12-12T00:17:02.137050Z",
     "start_time": "2024-12-12T00:17:02.121358Z"
    }
   },
   "cell_type": "code",
   "source": "api_df.columns",
   "id": "8c8f6260f4ba3408",
   "outputs": [
    {
     "data": {
      "text/plain": [
       "Index(['adult', 'backdrop_path', 'genre_ids', 'id', 'original_language',\n",
       "       'original_title', 'overview', 'popularity', 'poster_path',\n",
       "       'release_date', 'title', 'video', 'vote_average', 'vote_count'],\n",
       "      dtype='object')"
      ]
     },
     "execution_count": 43,
     "metadata": {},
     "output_type": "execute_result"
    }
   ],
   "execution_count": 43
  },
  {
   "metadata": {
    "ExecuteTime": {
     "end_time": "2024-12-12T14:20:58.263668Z",
     "start_time": "2024-12-12T14:20:58.252939Z"
    }
   },
   "cell_type": "code",
   "source": "api_df.head()",
   "id": "a4ed7ae32e15de6a",
   "outputs": [
    {
     "data": {
      "text/plain": [
       "   adult                     backdrop_path            genre_ids      id  \\\n",
       "0  False  /npCPnwDyWfQltGfIZKN6WqeUXGI.jpg         [14, 12, 28]   57158   \n",
       "1  False  /u2bZhH3nTf0So0UIC1QxAqBvC07.jpg  [16, 10751, 12, 14]  109445   \n",
       "2  False  /vD1yKObsRS2cvpmtuaCaMhr4zxe.jpg                 [53]   44363   \n",
       "3  False  /sGjhRHNiQSkgVec18D3oX45hPmz.jpg                 [53]   26041   \n",
       "4  False                              None             [18, 27]  170986   \n",
       "\n",
       "  original_language                       original_title  \\\n",
       "0                en  The Hobbit: The Desolation of Smaug   \n",
       "1                en                               Frozen   \n",
       "2                en                               Frozen   \n",
       "3                en                               Frozen   \n",
       "4                hi                               Frozen   \n",
       "\n",
       "                                            overview  popularity  \\\n",
       "0  The Dwarves, Bilbo and Gandalf have successful...      93.446   \n",
       "1  Young princess Anna of Arendelle dreams about ...     127.240   \n",
       "2  When three skiers find themselves stranded on ...      19.424   \n",
       "3  It's two years since the mysterious disappeara...       3.312   \n",
       "4  This is a touching and somber journey of Lasya...       1.903   \n",
       "\n",
       "                        poster_path release_date  \\\n",
       "0  /xQYiXsheRCDBA39DOrmaw1aSpbk.jpg   2013-12-11   \n",
       "1  /mbPrrbt8bSLcHSBCHnRclPlMZPl.jpg   2013-11-20   \n",
       "2  /2J3URUnDrIpNvh0uVqINQvr4HhW.jpg   2010-02-05   \n",
       "3  /a6RlPQUerliQLkAieku5B8Loamk.jpg   2005-03-12   \n",
       "4  /2GL9yZtrgbYKCeKBc3TF9gGfZpX.jpg   2007-07-21   \n",
       "\n",
       "                                 title  video  vote_average  vote_count  \n",
       "0  The Hobbit: The Desolation of Smaug  False         7.574     13137.0  \n",
       "1                               Frozen  False         7.200     16504.0  \n",
       "2                               Frozen  False         5.996      1815.0  \n",
       "3                               Frozen  False         5.700        18.0  \n",
       "4                               Frozen  False         7.200         4.0  "
      ],
      "text/html": [
       "<div>\n",
       "<style scoped>\n",
       "    .dataframe tbody tr th:only-of-type {\n",
       "        vertical-align: middle;\n",
       "    }\n",
       "\n",
       "    .dataframe tbody tr th {\n",
       "        vertical-align: top;\n",
       "    }\n",
       "\n",
       "    .dataframe thead th {\n",
       "        text-align: right;\n",
       "    }\n",
       "</style>\n",
       "<table border=\"1\" class=\"dataframe\">\n",
       "  <thead>\n",
       "    <tr style=\"text-align: right;\">\n",
       "      <th></th>\n",
       "      <th>adult</th>\n",
       "      <th>backdrop_path</th>\n",
       "      <th>genre_ids</th>\n",
       "      <th>id</th>\n",
       "      <th>original_language</th>\n",
       "      <th>original_title</th>\n",
       "      <th>overview</th>\n",
       "      <th>popularity</th>\n",
       "      <th>poster_path</th>\n",
       "      <th>release_date</th>\n",
       "      <th>title</th>\n",
       "      <th>video</th>\n",
       "      <th>vote_average</th>\n",
       "      <th>vote_count</th>\n",
       "    </tr>\n",
       "  </thead>\n",
       "  <tbody>\n",
       "    <tr>\n",
       "      <th>0</th>\n",
       "      <td>False</td>\n",
       "      <td>/npCPnwDyWfQltGfIZKN6WqeUXGI.jpg</td>\n",
       "      <td>[14, 12, 28]</td>\n",
       "      <td>57158</td>\n",
       "      <td>en</td>\n",
       "      <td>The Hobbit: The Desolation of Smaug</td>\n",
       "      <td>The Dwarves, Bilbo and Gandalf have successful...</td>\n",
       "      <td>93.446</td>\n",
       "      <td>/xQYiXsheRCDBA39DOrmaw1aSpbk.jpg</td>\n",
       "      <td>2013-12-11</td>\n",
       "      <td>The Hobbit: The Desolation of Smaug</td>\n",
       "      <td>False</td>\n",
       "      <td>7.574</td>\n",
       "      <td>13137.0</td>\n",
       "    </tr>\n",
       "    <tr>\n",
       "      <th>1</th>\n",
       "      <td>False</td>\n",
       "      <td>/u2bZhH3nTf0So0UIC1QxAqBvC07.jpg</td>\n",
       "      <td>[16, 10751, 12, 14]</td>\n",
       "      <td>109445</td>\n",
       "      <td>en</td>\n",
       "      <td>Frozen</td>\n",
       "      <td>Young princess Anna of Arendelle dreams about ...</td>\n",
       "      <td>127.240</td>\n",
       "      <td>/mbPrrbt8bSLcHSBCHnRclPlMZPl.jpg</td>\n",
       "      <td>2013-11-20</td>\n",
       "      <td>Frozen</td>\n",
       "      <td>False</td>\n",
       "      <td>7.200</td>\n",
       "      <td>16504.0</td>\n",
       "    </tr>\n",
       "    <tr>\n",
       "      <th>2</th>\n",
       "      <td>False</td>\n",
       "      <td>/vD1yKObsRS2cvpmtuaCaMhr4zxe.jpg</td>\n",
       "      <td>[53]</td>\n",
       "      <td>44363</td>\n",
       "      <td>en</td>\n",
       "      <td>Frozen</td>\n",
       "      <td>When three skiers find themselves stranded on ...</td>\n",
       "      <td>19.424</td>\n",
       "      <td>/2J3URUnDrIpNvh0uVqINQvr4HhW.jpg</td>\n",
       "      <td>2010-02-05</td>\n",
       "      <td>Frozen</td>\n",
       "      <td>False</td>\n",
       "      <td>5.996</td>\n",
       "      <td>1815.0</td>\n",
       "    </tr>\n",
       "    <tr>\n",
       "      <th>3</th>\n",
       "      <td>False</td>\n",
       "      <td>/sGjhRHNiQSkgVec18D3oX45hPmz.jpg</td>\n",
       "      <td>[53]</td>\n",
       "      <td>26041</td>\n",
       "      <td>en</td>\n",
       "      <td>Frozen</td>\n",
       "      <td>It's two years since the mysterious disappeara...</td>\n",
       "      <td>3.312</td>\n",
       "      <td>/a6RlPQUerliQLkAieku5B8Loamk.jpg</td>\n",
       "      <td>2005-03-12</td>\n",
       "      <td>Frozen</td>\n",
       "      <td>False</td>\n",
       "      <td>5.700</td>\n",
       "      <td>18.0</td>\n",
       "    </tr>\n",
       "    <tr>\n",
       "      <th>4</th>\n",
       "      <td>False</td>\n",
       "      <td>None</td>\n",
       "      <td>[18, 27]</td>\n",
       "      <td>170986</td>\n",
       "      <td>hi</td>\n",
       "      <td>Frozen</td>\n",
       "      <td>This is a touching and somber journey of Lasya...</td>\n",
       "      <td>1.903</td>\n",
       "      <td>/2GL9yZtrgbYKCeKBc3TF9gGfZpX.jpg</td>\n",
       "      <td>2007-07-21</td>\n",
       "      <td>Frozen</td>\n",
       "      <td>False</td>\n",
       "      <td>7.200</td>\n",
       "      <td>4.0</td>\n",
       "    </tr>\n",
       "  </tbody>\n",
       "</table>\n",
       "</div>"
      ]
     },
     "execution_count": 167,
     "metadata": {},
     "output_type": "execute_result"
    }
   ],
   "execution_count": 167
  },
  {
   "metadata": {
    "ExecuteTime": {
     "end_time": "2024-12-12T02:37:55.703133Z",
     "start_time": "2024-12-12T02:37:55.690849Z"
    }
   },
   "cell_type": "code",
   "source": "api_df['release_date'].value_counts().sort_index(ascending=False)",
   "id": "470b23579a91399c",
   "outputs": [
    {
     "data": {
      "text/plain": [
       "release_date\n",
       "2026-10-01     1\n",
       "2026-02-25     1\n",
       "2025-12-03     1\n",
       "2025-10-23     1\n",
       "2025-07-30     1\n",
       "              ..\n",
       "1914-05-12     1\n",
       "1913-09-26     1\n",
       "1912-10-28     1\n",
       "1912-10-01     1\n",
       "              56\n",
       "Name: count, Length: 867, dtype: int64"
      ]
     },
     "execution_count": 73,
     "metadata": {},
     "output_type": "execute_result"
    }
   ],
   "execution_count": 73
  },
  {
   "metadata": {},
   "cell_type": "markdown",
   "source": "#Store all pickles for now",
   "id": "dc3ddb122e8d0f8a"
  },
  {
   "metadata": {
    "ExecuteTime": {
     "end_time": "2024-12-12T14:21:06.325903Z",
     "start_time": "2024-12-12T14:21:06.303311Z"
    }
   },
   "cell_type": "code",
   "source": "api_df.to_pickle(\"api_df_pickle\")",
   "id": "2f47272027634697",
   "outputs": [],
   "execution_count": 168
  },
  {
   "metadata": {
    "ExecuteTime": {
     "end_time": "2024-12-12T14:21:08.467001Z",
     "start_time": "2024-12-12T14:21:08.456212Z"
    }
   },
   "cell_type": "code",
   "source": "weekend_data.to_pickle(\"web_scrapped_df_pickle\")",
   "id": "c000df31c2a727df",
   "outputs": [],
   "execution_count": 169
  },
  {
   "metadata": {
    "ExecuteTime": {
     "end_time": "2024-12-18T23:56:17.293816Z",
     "start_time": "2024-12-18T23:56:17.273488Z"
    }
   },
   "cell_type": "code",
   "source": "pickle_api= pd.read_pickle(\"api_df_pickle\")",
   "id": "e10e96f2c5aea554",
   "outputs": [],
   "execution_count": 48
  },
  {
   "metadata": {
    "ExecuteTime": {
     "end_time": "2024-12-17T19:36:01.806645Z",
     "start_time": "2024-12-17T19:36:01.796389Z"
    }
   },
   "cell_type": "code",
   "source": "web_scrape_pickle = pd.read_pickle(\"web_scrapped_df_pickle\")",
   "id": "1a89a96dd5f939d1",
   "outputs": [],
   "execution_count": 4
  },
  {
   "metadata": {},
   "cell_type": "markdown",
   "source": "##Merge Datasource",
   "id": "56c15d7c68ef72b7"
  },
  {
   "metadata": {
    "ExecuteTime": {
     "end_time": "2024-12-12T14:21:17.274402Z",
     "start_time": "2024-12-12T14:21:17.268714Z"
    }
   },
   "cell_type": "code",
   "source": "csv_movies_with_budget_df.shape",
   "id": "f9fc74c4847c6549",
   "outputs": [
    {
     "data": {
      "text/plain": [
       "(500, 13)"
      ]
     },
     "execution_count": 172,
     "metadata": {},
     "output_type": "execute_result"
    }
   ],
   "execution_count": 172
  },
  {
   "metadata": {
    "ExecuteTime": {
     "end_time": "2024-12-12T14:21:19.524231Z",
     "start_time": "2024-12-12T14:21:19.513341Z"
    }
   },
   "cell_type": "code",
   "source": "pickle_api.shape",
   "id": "daf016eeb84d3e47",
   "outputs": [
    {
     "data": {
      "text/plain": [
       "(2998, 14)"
      ]
     },
     "execution_count": 173,
     "metadata": {},
     "output_type": "execute_result"
    }
   ],
   "execution_count": 173
  },
  {
   "metadata": {
    "ExecuteTime": {
     "end_time": "2024-12-12T14:21:21.882748Z",
     "start_time": "2024-12-12T14:21:21.874445Z"
    }
   },
   "cell_type": "code",
   "source": "web_scrape_pickle.shape",
   "id": "ce0b36dc8c2fd573",
   "outputs": [
    {
     "data": {
      "text/plain": [
       "(677, 10)"
      ]
     },
     "execution_count": 174,
     "metadata": {},
     "output_type": "execute_result"
    }
   ],
   "execution_count": 174
  },
  {
   "metadata": {
    "ExecuteTime": {
     "end_time": "2024-12-12T14:21:29.119581Z",
     "start_time": "2024-12-12T14:21:29.098882Z"
    }
   },
   "cell_type": "code",
   "source": [
    "csv_api_df = csv_movies_with_budget_df.merge(pickle_api,left_on='title', right_on=\"original_title\")\n",
    "csv_api_df.shape"
   ],
   "id": "a85fffd361475bac",
   "outputs": [
    {
     "data": {
      "text/plain": [
       "(344, 27)"
      ]
     },
     "execution_count": 175,
     "metadata": {},
     "output_type": "execute_result"
    }
   ],
   "execution_count": 175
  },
  {
   "metadata": {
    "ExecuteTime": {
     "end_time": "2024-12-12T14:21:38.399310Z",
     "start_time": "2024-12-12T14:21:38.385746Z"
    }
   },
   "cell_type": "code",
   "source": "csv_api_df.head()",
   "id": "1d9539b41db3182e",
   "outputs": [
    {
     "data": {
      "text/plain": [
       "   rank release_date_x                  title_x  \\\n",
       "0     1     2019-04-23        Avengers: Endgame   \n",
       "1     1     2019-04-23        Avengers: Endgame   \n",
       "2     3     2015-04-22  Avengers: Age of Ultron   \n",
       "3     3     2015-04-22  Avengers: Age of Ultron   \n",
       "4     5     2018-04-25   Avengers: Infinity War   \n",
       "\n",
       "                                          url  production_cost  \\\n",
       "0  /movie/Avengers-Endgame-(2019)#tab=summary        400000000   \n",
       "1  /movie/Avengers-Endgame-(2019)#tab=summary        400000000   \n",
       "2   /movie/Avengers-Age-of-Ultron#tab=summary        365000000   \n",
       "3   /movie/Avengers-Age-of-Ultron#tab=summary        365000000   \n",
       "4    /movie/Avengers-Infinity-War#tab=summary        300000000   \n",
       "\n",
       "   domestic_gross  worldwide_gross  opening_weekend   mpaa   genre  ...  \\\n",
       "0       858373000       2797800564      357115007.0  PG-13  Action  ...   \n",
       "1       858373000       2797800564      357115007.0  PG-13  Action  ...   \n",
       "2       459005868       1395316979      191271109.0  PG-13  Action  ...   \n",
       "3       459005868       1395316979      191271109.0  PG-13  Action  ...   \n",
       "4       678815482       2048359754      257698183.0  PG-13  Action  ...   \n",
       "\n",
       "   original_language           original_title  \\\n",
       "0                 en        Avengers: Endgame   \n",
       "1                 en        Avengers: Endgame   \n",
       "2                 en  Avengers: Age of Ultron   \n",
       "3                 en  Avengers: Age of Ultron   \n",
       "4                 en   Avengers: Infinity War   \n",
       "\n",
       "                                            overview  popularity  \\\n",
       "0  After the devastating events of Avengers: Infi...     107.963   \n",
       "1  After the devastating events of Avengers: Infi...     107.963   \n",
       "2  When Tony Stark tries to jumpstart a dormant p...      69.688   \n",
       "3  When Tony Stark tries to jumpstart a dormant p...      69.688   \n",
       "4  As the Avengers and their allies have continue...     223.221   \n",
       "\n",
       "                        poster_path release_date_y                  title_y  \\\n",
       "0  /or06FN3Dka5tukK1e9sl16pB3iy.jpg     2019-04-24        Avengers: Endgame   \n",
       "1  /or06FN3Dka5tukK1e9sl16pB3iy.jpg     2019-04-24        Avengers: Endgame   \n",
       "2  /4ssDuvEDkSArWEdyBl2X5EHvYKU.jpg     2015-04-22  Avengers: Age of Ultron   \n",
       "3  /4ssDuvEDkSArWEdyBl2X5EHvYKU.jpg     2015-04-22  Avengers: Age of Ultron   \n",
       "4  /7WsyChQLEftFiDOVTGkv3hFpyyt.jpg     2018-04-25   Avengers: Infinity War   \n",
       "\n",
       "   video vote_average vote_count  \n",
       "0  False        8.247    25669.0  \n",
       "1  False        8.247    25670.0  \n",
       "2  False        7.274    22971.0  \n",
       "3  False        7.274    22971.0  \n",
       "4  False        8.200    29799.0  \n",
       "\n",
       "[5 rows x 27 columns]"
      ],
      "text/html": [
       "<div>\n",
       "<style scoped>\n",
       "    .dataframe tbody tr th:only-of-type {\n",
       "        vertical-align: middle;\n",
       "    }\n",
       "\n",
       "    .dataframe tbody tr th {\n",
       "        vertical-align: top;\n",
       "    }\n",
       "\n",
       "    .dataframe thead th {\n",
       "        text-align: right;\n",
       "    }\n",
       "</style>\n",
       "<table border=\"1\" class=\"dataframe\">\n",
       "  <thead>\n",
       "    <tr style=\"text-align: right;\">\n",
       "      <th></th>\n",
       "      <th>rank</th>\n",
       "      <th>release_date_x</th>\n",
       "      <th>title_x</th>\n",
       "      <th>url</th>\n",
       "      <th>production_cost</th>\n",
       "      <th>domestic_gross</th>\n",
       "      <th>worldwide_gross</th>\n",
       "      <th>opening_weekend</th>\n",
       "      <th>mpaa</th>\n",
       "      <th>genre</th>\n",
       "      <th>...</th>\n",
       "      <th>original_language</th>\n",
       "      <th>original_title</th>\n",
       "      <th>overview</th>\n",
       "      <th>popularity</th>\n",
       "      <th>poster_path</th>\n",
       "      <th>release_date_y</th>\n",
       "      <th>title_y</th>\n",
       "      <th>video</th>\n",
       "      <th>vote_average</th>\n",
       "      <th>vote_count</th>\n",
       "    </tr>\n",
       "  </thead>\n",
       "  <tbody>\n",
       "    <tr>\n",
       "      <th>0</th>\n",
       "      <td>1</td>\n",
       "      <td>2019-04-23</td>\n",
       "      <td>Avengers: Endgame</td>\n",
       "      <td>/movie/Avengers-Endgame-(2019)#tab=summary</td>\n",
       "      <td>400000000</td>\n",
       "      <td>858373000</td>\n",
       "      <td>2797800564</td>\n",
       "      <td>357115007.0</td>\n",
       "      <td>PG-13</td>\n",
       "      <td>Action</td>\n",
       "      <td>...</td>\n",
       "      <td>en</td>\n",
       "      <td>Avengers: Endgame</td>\n",
       "      <td>After the devastating events of Avengers: Infi...</td>\n",
       "      <td>107.963</td>\n",
       "      <td>/or06FN3Dka5tukK1e9sl16pB3iy.jpg</td>\n",
       "      <td>2019-04-24</td>\n",
       "      <td>Avengers: Endgame</td>\n",
       "      <td>False</td>\n",
       "      <td>8.247</td>\n",
       "      <td>25669.0</td>\n",
       "    </tr>\n",
       "    <tr>\n",
       "      <th>1</th>\n",
       "      <td>1</td>\n",
       "      <td>2019-04-23</td>\n",
       "      <td>Avengers: Endgame</td>\n",
       "      <td>/movie/Avengers-Endgame-(2019)#tab=summary</td>\n",
       "      <td>400000000</td>\n",
       "      <td>858373000</td>\n",
       "      <td>2797800564</td>\n",
       "      <td>357115007.0</td>\n",
       "      <td>PG-13</td>\n",
       "      <td>Action</td>\n",
       "      <td>...</td>\n",
       "      <td>en</td>\n",
       "      <td>Avengers: Endgame</td>\n",
       "      <td>After the devastating events of Avengers: Infi...</td>\n",
       "      <td>107.963</td>\n",
       "      <td>/or06FN3Dka5tukK1e9sl16pB3iy.jpg</td>\n",
       "      <td>2019-04-24</td>\n",
       "      <td>Avengers: Endgame</td>\n",
       "      <td>False</td>\n",
       "      <td>8.247</td>\n",
       "      <td>25670.0</td>\n",
       "    </tr>\n",
       "    <tr>\n",
       "      <th>2</th>\n",
       "      <td>3</td>\n",
       "      <td>2015-04-22</td>\n",
       "      <td>Avengers: Age of Ultron</td>\n",
       "      <td>/movie/Avengers-Age-of-Ultron#tab=summary</td>\n",
       "      <td>365000000</td>\n",
       "      <td>459005868</td>\n",
       "      <td>1395316979</td>\n",
       "      <td>191271109.0</td>\n",
       "      <td>PG-13</td>\n",
       "      <td>Action</td>\n",
       "      <td>...</td>\n",
       "      <td>en</td>\n",
       "      <td>Avengers: Age of Ultron</td>\n",
       "      <td>When Tony Stark tries to jumpstart a dormant p...</td>\n",
       "      <td>69.688</td>\n",
       "      <td>/4ssDuvEDkSArWEdyBl2X5EHvYKU.jpg</td>\n",
       "      <td>2015-04-22</td>\n",
       "      <td>Avengers: Age of Ultron</td>\n",
       "      <td>False</td>\n",
       "      <td>7.274</td>\n",
       "      <td>22971.0</td>\n",
       "    </tr>\n",
       "    <tr>\n",
       "      <th>3</th>\n",
       "      <td>3</td>\n",
       "      <td>2015-04-22</td>\n",
       "      <td>Avengers: Age of Ultron</td>\n",
       "      <td>/movie/Avengers-Age-of-Ultron#tab=summary</td>\n",
       "      <td>365000000</td>\n",
       "      <td>459005868</td>\n",
       "      <td>1395316979</td>\n",
       "      <td>191271109.0</td>\n",
       "      <td>PG-13</td>\n",
       "      <td>Action</td>\n",
       "      <td>...</td>\n",
       "      <td>en</td>\n",
       "      <td>Avengers: Age of Ultron</td>\n",
       "      <td>When Tony Stark tries to jumpstart a dormant p...</td>\n",
       "      <td>69.688</td>\n",
       "      <td>/4ssDuvEDkSArWEdyBl2X5EHvYKU.jpg</td>\n",
       "      <td>2015-04-22</td>\n",
       "      <td>Avengers: Age of Ultron</td>\n",
       "      <td>False</td>\n",
       "      <td>7.274</td>\n",
       "      <td>22971.0</td>\n",
       "    </tr>\n",
       "    <tr>\n",
       "      <th>4</th>\n",
       "      <td>5</td>\n",
       "      <td>2018-04-25</td>\n",
       "      <td>Avengers: Infinity War</td>\n",
       "      <td>/movie/Avengers-Infinity-War#tab=summary</td>\n",
       "      <td>300000000</td>\n",
       "      <td>678815482</td>\n",
       "      <td>2048359754</td>\n",
       "      <td>257698183.0</td>\n",
       "      <td>PG-13</td>\n",
       "      <td>Action</td>\n",
       "      <td>...</td>\n",
       "      <td>en</td>\n",
       "      <td>Avengers: Infinity War</td>\n",
       "      <td>As the Avengers and their allies have continue...</td>\n",
       "      <td>223.221</td>\n",
       "      <td>/7WsyChQLEftFiDOVTGkv3hFpyyt.jpg</td>\n",
       "      <td>2018-04-25</td>\n",
       "      <td>Avengers: Infinity War</td>\n",
       "      <td>False</td>\n",
       "      <td>8.200</td>\n",
       "      <td>29799.0</td>\n",
       "    </tr>\n",
       "  </tbody>\n",
       "</table>\n",
       "<p>5 rows × 27 columns</p>\n",
       "</div>"
      ]
     },
     "execution_count": 176,
     "metadata": {},
     "output_type": "execute_result"
    }
   ],
   "execution_count": 176
  },
  {
   "metadata": {
    "ExecuteTime": {
     "end_time": "2024-12-12T14:21:45.009127Z",
     "start_time": "2024-12-12T14:21:44.990312Z"
    }
   },
   "cell_type": "code",
   "source": [
    "csv_web_scrape_df = csv_movies_with_budget_df.merge(web_scrape_pickle,left_on='title', right_on=\"top_release\")\n",
    "csv_web_scrape_df.shape"
   ],
   "id": "d9c399fb9f26071",
   "outputs": [
    {
     "data": {
      "text/plain": [
       "(293, 23)"
      ]
     },
     "execution_count": 177,
     "metadata": {},
     "output_type": "execute_result"
    }
   ],
   "execution_count": 177
  },
  {
   "metadata": {
    "ExecuteTime": {
     "end_time": "2024-12-12T14:21:47.966241Z",
     "start_time": "2024-12-12T14:21:47.951946Z"
    }
   },
   "cell_type": "code",
   "source": [
    "scrape_csv_api_df = web_scrape_pickle.merge(csv_api_df,left_on='top_release', right_on=\"original_title\")\n",
    "scrape_csv_api_df.shape"
   ],
   "id": "ae8d7abc8eaea6b0",
   "outputs": [
    {
     "data": {
      "text/plain": [
       "(653, 37)"
      ]
     },
     "execution_count": 178,
     "metadata": {},
     "output_type": "execute_result"
    }
   ],
   "execution_count": 178
  },
  {
   "metadata": {
    "ExecuteTime": {
     "end_time": "2024-12-12T14:21:50.580161Z",
     "start_time": "2024-12-12T14:21:50.561222Z"
    }
   },
   "cell_type": "code",
   "source": "scrape_csv_api_df.head()",
   "id": "5028f51e5ca1236",
   "outputs": [
    {
     "data": {
      "text/plain": [
       "        date           occasion  year_x   top10_gross top10_wow_change  \\\n",
       "0  Dec 27-29     normal weekend    2013  $167,837,974           +24.5%   \n",
       "1  Dec 20-22     normal weekend    2013  $134,837,792            -2.6%   \n",
       "2  Dec 13-15     normal weekend    2013  $138,369,003           +64.8%   \n",
       "3    Dec 6-8  Post-Thanksgiving    2013   $83,941,456           -55.7%   \n",
       "4    Dec 6-8  Post-Thanksgiving    2013   $83,941,456           -55.7%   \n",
       "\n",
       "  overall_gross overall_wow_change num_releases  \\\n",
       "0  $197,177,755             +37.3%           81   \n",
       "1  $143,571,365              -2.8%           80   \n",
       "2  $147,702,714             +56.2%           94   \n",
       "3   $94,535,353             -54.6%           96   \n",
       "4   $94,535,353             -54.6%           96   \n",
       "\n",
       "                           top_release week_no  ...  original_language  \\\n",
       "0  The Hobbit: The Desolation of Smaug      52  ...                 en   \n",
       "1  The Hobbit: The Desolation of Smaug      51  ...                 en   \n",
       "2  The Hobbit: The Desolation of Smaug      50  ...                 en   \n",
       "3                               Frozen      49  ...                 en   \n",
       "4                               Frozen      49  ...                 en   \n",
       "\n",
       "                        original_title  \\\n",
       "0  The Hobbit: The Desolation of Smaug   \n",
       "1  The Hobbit: The Desolation of Smaug   \n",
       "2  The Hobbit: The Desolation of Smaug   \n",
       "3                               Frozen   \n",
       "4                               Frozen   \n",
       "\n",
       "                                            overview popularity  \\\n",
       "0  The Dwarves, Bilbo and Gandalf have successful...     93.446   \n",
       "1  The Dwarves, Bilbo and Gandalf have successful...     93.446   \n",
       "2  The Dwarves, Bilbo and Gandalf have successful...     93.446   \n",
       "3  Young princess Anna of Arendelle dreams about ...    127.240   \n",
       "4  When three skiers find themselves stranded on ...     19.424   \n",
       "\n",
       "                        poster_path  release_date_y  \\\n",
       "0  /xQYiXsheRCDBA39DOrmaw1aSpbk.jpg      2013-12-11   \n",
       "1  /xQYiXsheRCDBA39DOrmaw1aSpbk.jpg      2013-12-11   \n",
       "2  /xQYiXsheRCDBA39DOrmaw1aSpbk.jpg      2013-12-11   \n",
       "3  /mbPrrbt8bSLcHSBCHnRclPlMZPl.jpg      2013-11-20   \n",
       "4  /2J3URUnDrIpNvh0uVqINQvr4HhW.jpg      2010-02-05   \n",
       "\n",
       "                               title_y  video vote_average vote_count  \n",
       "0  The Hobbit: The Desolation of Smaug  False        7.574    13137.0  \n",
       "1  The Hobbit: The Desolation of Smaug  False        7.574    13137.0  \n",
       "2  The Hobbit: The Desolation of Smaug  False        7.574    13137.0  \n",
       "3                               Frozen  False        7.200    16504.0  \n",
       "4                               Frozen  False        5.996     1815.0  \n",
       "\n",
       "[5 rows x 37 columns]"
      ],
      "text/html": [
       "<div>\n",
       "<style scoped>\n",
       "    .dataframe tbody tr th:only-of-type {\n",
       "        vertical-align: middle;\n",
       "    }\n",
       "\n",
       "    .dataframe tbody tr th {\n",
       "        vertical-align: top;\n",
       "    }\n",
       "\n",
       "    .dataframe thead th {\n",
       "        text-align: right;\n",
       "    }\n",
       "</style>\n",
       "<table border=\"1\" class=\"dataframe\">\n",
       "  <thead>\n",
       "    <tr style=\"text-align: right;\">\n",
       "      <th></th>\n",
       "      <th>date</th>\n",
       "      <th>occasion</th>\n",
       "      <th>year_x</th>\n",
       "      <th>top10_gross</th>\n",
       "      <th>top10_wow_change</th>\n",
       "      <th>overall_gross</th>\n",
       "      <th>overall_wow_change</th>\n",
       "      <th>num_releases</th>\n",
       "      <th>top_release</th>\n",
       "      <th>week_no</th>\n",
       "      <th>...</th>\n",
       "      <th>original_language</th>\n",
       "      <th>original_title</th>\n",
       "      <th>overview</th>\n",
       "      <th>popularity</th>\n",
       "      <th>poster_path</th>\n",
       "      <th>release_date_y</th>\n",
       "      <th>title_y</th>\n",
       "      <th>video</th>\n",
       "      <th>vote_average</th>\n",
       "      <th>vote_count</th>\n",
       "    </tr>\n",
       "  </thead>\n",
       "  <tbody>\n",
       "    <tr>\n",
       "      <th>0</th>\n",
       "      <td>Dec 27-29</td>\n",
       "      <td>normal weekend</td>\n",
       "      <td>2013</td>\n",
       "      <td>$167,837,974</td>\n",
       "      <td>+24.5%</td>\n",
       "      <td>$197,177,755</td>\n",
       "      <td>+37.3%</td>\n",
       "      <td>81</td>\n",
       "      <td>The Hobbit: The Desolation of Smaug</td>\n",
       "      <td>52</td>\n",
       "      <td>...</td>\n",
       "      <td>en</td>\n",
       "      <td>The Hobbit: The Desolation of Smaug</td>\n",
       "      <td>The Dwarves, Bilbo and Gandalf have successful...</td>\n",
       "      <td>93.446</td>\n",
       "      <td>/xQYiXsheRCDBA39DOrmaw1aSpbk.jpg</td>\n",
       "      <td>2013-12-11</td>\n",
       "      <td>The Hobbit: The Desolation of Smaug</td>\n",
       "      <td>False</td>\n",
       "      <td>7.574</td>\n",
       "      <td>13137.0</td>\n",
       "    </tr>\n",
       "    <tr>\n",
       "      <th>1</th>\n",
       "      <td>Dec 20-22</td>\n",
       "      <td>normal weekend</td>\n",
       "      <td>2013</td>\n",
       "      <td>$134,837,792</td>\n",
       "      <td>-2.6%</td>\n",
       "      <td>$143,571,365</td>\n",
       "      <td>-2.8%</td>\n",
       "      <td>80</td>\n",
       "      <td>The Hobbit: The Desolation of Smaug</td>\n",
       "      <td>51</td>\n",
       "      <td>...</td>\n",
       "      <td>en</td>\n",
       "      <td>The Hobbit: The Desolation of Smaug</td>\n",
       "      <td>The Dwarves, Bilbo and Gandalf have successful...</td>\n",
       "      <td>93.446</td>\n",
       "      <td>/xQYiXsheRCDBA39DOrmaw1aSpbk.jpg</td>\n",
       "      <td>2013-12-11</td>\n",
       "      <td>The Hobbit: The Desolation of Smaug</td>\n",
       "      <td>False</td>\n",
       "      <td>7.574</td>\n",
       "      <td>13137.0</td>\n",
       "    </tr>\n",
       "    <tr>\n",
       "      <th>2</th>\n",
       "      <td>Dec 13-15</td>\n",
       "      <td>normal weekend</td>\n",
       "      <td>2013</td>\n",
       "      <td>$138,369,003</td>\n",
       "      <td>+64.8%</td>\n",
       "      <td>$147,702,714</td>\n",
       "      <td>+56.2%</td>\n",
       "      <td>94</td>\n",
       "      <td>The Hobbit: The Desolation of Smaug</td>\n",
       "      <td>50</td>\n",
       "      <td>...</td>\n",
       "      <td>en</td>\n",
       "      <td>The Hobbit: The Desolation of Smaug</td>\n",
       "      <td>The Dwarves, Bilbo and Gandalf have successful...</td>\n",
       "      <td>93.446</td>\n",
       "      <td>/xQYiXsheRCDBA39DOrmaw1aSpbk.jpg</td>\n",
       "      <td>2013-12-11</td>\n",
       "      <td>The Hobbit: The Desolation of Smaug</td>\n",
       "      <td>False</td>\n",
       "      <td>7.574</td>\n",
       "      <td>13137.0</td>\n",
       "    </tr>\n",
       "    <tr>\n",
       "      <th>3</th>\n",
       "      <td>Dec 6-8</td>\n",
       "      <td>Post-Thanksgiving</td>\n",
       "      <td>2013</td>\n",
       "      <td>$83,941,456</td>\n",
       "      <td>-55.7%</td>\n",
       "      <td>$94,535,353</td>\n",
       "      <td>-54.6%</td>\n",
       "      <td>96</td>\n",
       "      <td>Frozen</td>\n",
       "      <td>49</td>\n",
       "      <td>...</td>\n",
       "      <td>en</td>\n",
       "      <td>Frozen</td>\n",
       "      <td>Young princess Anna of Arendelle dreams about ...</td>\n",
       "      <td>127.240</td>\n",
       "      <td>/mbPrrbt8bSLcHSBCHnRclPlMZPl.jpg</td>\n",
       "      <td>2013-11-20</td>\n",
       "      <td>Frozen</td>\n",
       "      <td>False</td>\n",
       "      <td>7.200</td>\n",
       "      <td>16504.0</td>\n",
       "    </tr>\n",
       "    <tr>\n",
       "      <th>4</th>\n",
       "      <td>Dec 6-8</td>\n",
       "      <td>Post-Thanksgiving</td>\n",
       "      <td>2013</td>\n",
       "      <td>$83,941,456</td>\n",
       "      <td>-55.7%</td>\n",
       "      <td>$94,535,353</td>\n",
       "      <td>-54.6%</td>\n",
       "      <td>96</td>\n",
       "      <td>Frozen</td>\n",
       "      <td>49</td>\n",
       "      <td>...</td>\n",
       "      <td>en</td>\n",
       "      <td>Frozen</td>\n",
       "      <td>When three skiers find themselves stranded on ...</td>\n",
       "      <td>19.424</td>\n",
       "      <td>/2J3URUnDrIpNvh0uVqINQvr4HhW.jpg</td>\n",
       "      <td>2010-02-05</td>\n",
       "      <td>Frozen</td>\n",
       "      <td>False</td>\n",
       "      <td>5.996</td>\n",
       "      <td>1815.0</td>\n",
       "    </tr>\n",
       "  </tbody>\n",
       "</table>\n",
       "<p>5 rows × 37 columns</p>\n",
       "</div>"
      ]
     },
     "execution_count": 179,
     "metadata": {},
     "output_type": "execute_result"
    }
   ],
   "execution_count": 179
  },
  {
   "metadata": {},
   "cell_type": "markdown",
   "source": "##Milestone 2",
   "id": "e0a8c6daedf5da48"
  },
  {
   "metadata": {},
   "cell_type": "markdown",
   "source": "#### *Missing values in the dataset*",
   "id": "eb41da959c3461a5"
  },
  {
   "metadata": {
    "ExecuteTime": {
     "end_time": "2024-12-12T14:28:21.182214Z",
     "start_time": "2024-12-12T14:28:21.168792Z"
    }
   },
   "cell_type": "code",
   "source": "csv_movies_with_budget_df.isnull().sum()",
   "id": "e9d380a4cb2ef7d0",
   "outputs": [
    {
     "data": {
      "text/plain": [
       "rank                0\n",
       "release_date        1\n",
       "title               0\n",
       "url                 0\n",
       "production_cost     0\n",
       "domestic_gross      0\n",
       "worldwide_gross     0\n",
       "opening_weekend    21\n",
       "mpaa                8\n",
       "genre               5\n",
       "theaters           21\n",
       "runtime            13\n",
       "year                1\n",
       "dtype: int64"
      ]
     },
     "execution_count": 181,
     "metadata": {},
     "output_type": "execute_result"
    }
   ],
   "execution_count": 181
  },
  {
   "metadata": {},
   "cell_type": "markdown",
   "source": [
    "All titles are available\n",
    "Although the release date column for a value is null, the year column is not null\n",
    "Some genre is null"
   ],
   "id": "1527f83318936af5"
  },
  {
   "metadata": {
    "ExecuteTime": {
     "end_time": "2024-12-13T20:16:21.838177Z",
     "start_time": "2024-12-13T20:16:21.832609Z"
    }
   },
   "cell_type": "code",
   "source": "csv_movies_with_budget_df.isnull().any(axis=1).sum()",
   "id": "b8a56e3e7f49b6c8",
   "outputs": [
    {
     "data": {
      "text/plain": [
       "0"
      ]
     },
     "execution_count": 211,
     "metadata": {},
     "output_type": "execute_result"
    }
   ],
   "execution_count": 211
  },
  {
   "metadata": {
    "ExecuteTime": {
     "end_time": "2024-12-13T20:16:13.908915Z",
     "start_time": "2024-12-13T20:16:13.903097Z"
    }
   },
   "cell_type": "code",
   "source": "csv_movies_with_budget_df[csv_movies_with_budget_df['genre'].isnull()].year.value_counts()",
   "id": "b2c775a4a0ce4a8c",
   "outputs": [
    {
     "data": {
      "text/plain": [
       "Series([], Name: count, dtype: int64)"
      ]
     },
     "execution_count": 210,
     "metadata": {},
     "output_type": "execute_result"
    }
   ],
   "execution_count": 210
  },
  {
   "metadata": {},
   "cell_type": "markdown",
   "source": "Only 1 movie belonging to 2015 has an empty genre, the other years are not relevant for my analysis.",
   "id": "3882cfc306d5b3b2"
  },
  {
   "metadata": {},
   "cell_type": "markdown",
   "source": "There is a small number of null values in the dataset for the columns. Since some of them are not useful for my analysis, i will drop them during the data cleaning section.",
   "id": "582de48d7953c60f"
  },
  {
   "metadata": {},
   "cell_type": "markdown",
   "source": "Duplicates in the dataset",
   "id": "1527a2f32a559760"
  },
  {
   "metadata": {
    "ExecuteTime": {
     "end_time": "2024-12-12T14:36:38.294809Z",
     "start_time": "2024-12-12T14:36:38.272389Z"
    }
   },
   "cell_type": "code",
   "source": "sum(csv_movies_with_budget_df.duplicated())",
   "id": "a98890f691ae6e8",
   "outputs": [
    {
     "data": {
      "text/plain": [
       "0"
      ]
     },
     "execution_count": 193,
     "metadata": {},
     "output_type": "execute_result"
    }
   ],
   "execution_count": 193
  },
  {
   "metadata": {},
   "cell_type": "markdown",
   "source": "#### *Number of unique values in the dataset*",
   "id": "dd39aa9921c04c13"
  },
  {
   "metadata": {
    "ExecuteTime": {
     "end_time": "2024-12-13T20:16:03.929554Z",
     "start_time": "2024-12-13T20:16:03.920502Z"
    }
   },
   "cell_type": "code",
   "source": [
    "# Returns the number of unique values in each column\n",
    "csv_movies_with_budget_df.nunique()"
   ],
   "id": "cf2ae9c49b2897f4",
   "outputs": [
    {
     "data": {
      "text/plain": [
       "rank               474\n",
       "release_date       454\n",
       "title              472\n",
       "production_cost     89\n",
       "domestic_gross     474\n",
       "worldwide_gross    474\n",
       "opening_weekend    472\n",
       "genre               10\n",
       "theaters           404\n",
       "runtime             94\n",
       "year                30\n",
       "dtype: int64"
      ]
     },
     "execution_count": 209,
     "metadata": {},
     "output_type": "execute_result"
    }
   ],
   "execution_count": 209
  },
  {
   "metadata": {},
   "cell_type": "markdown",
   "source": [
    "## Data Cleaning (Handling missing values and duplicate data: Removing unused information)\n",
    "\n",
    "In this section, i will try to handle the problem of missing values, duplicated data  and format:\n",
    "\n",
    "<ul>\n",
    "<li>Remove the unused columns that are not useful in my analysis; </li>\n",
    "<li>Remove the movies  having empty genres;</li>\n",
    "<li>Ensure there is no white spaces on the primay key, the movie title </li>\n",
    "<li>Remove duplicate rows</li>\n",
    "<li>Changing format of release date into datetime format and budget_adj/revenue_adj format from float to int.</li>\n",
    "</ul>"
   ],
   "id": "bf67cf0e60e1ee81"
  },
  {
   "metadata": {
    "ExecuteTime": {
     "end_time": "2024-12-13T20:05:01.041170Z",
     "start_time": "2024-12-13T20:05:00.784137Z"
    }
   },
   "cell_type": "code",
   "source": [
    "# drop unused columns\n",
    "csv_movies_with_budget_df.drop(['url','mpaa'], axis=1, inplace=True)\n",
    "req_cols = ['title','genre']\n",
    "csv_movies_with_budget_df[req_cols] = csv_movies_with_budget_df[req_cols].apply(lambda col:col.str.strip())\n"
   ],
   "id": "d795be4f996e890d",
   "outputs": [
    {
     "ename": "KeyError",
     "evalue": "\"['url', 'mpaa'] not found in axis\"",
     "output_type": "error",
     "traceback": [
      "\u001B[1;31m---------------------------------------------------------------------------\u001B[0m",
      "\u001B[1;31mKeyError\u001B[0m                                  Traceback (most recent call last)",
      "Cell \u001B[1;32mIn[199], line 2\u001B[0m\n\u001B[0;32m      1\u001B[0m \u001B[38;5;66;03m# drop unused columns\u001B[39;00m\n\u001B[1;32m----> 2\u001B[0m \u001B[43mcsv_movies_with_budget_df\u001B[49m\u001B[38;5;241;43m.\u001B[39;49m\u001B[43mdrop\u001B[49m\u001B[43m(\u001B[49m\u001B[43m[\u001B[49m\u001B[38;5;124;43m'\u001B[39;49m\u001B[38;5;124;43murl\u001B[39;49m\u001B[38;5;124;43m'\u001B[39;49m\u001B[43m,\u001B[49m\u001B[38;5;124;43m'\u001B[39;49m\u001B[38;5;124;43mmpaa\u001B[39;49m\u001B[38;5;124;43m'\u001B[39;49m\u001B[43m]\u001B[49m\u001B[43m,\u001B[49m\u001B[43m \u001B[49m\u001B[43maxis\u001B[49m\u001B[38;5;241;43m=\u001B[39;49m\u001B[38;5;241;43m1\u001B[39;49m\u001B[43m,\u001B[49m\u001B[43m \u001B[49m\u001B[43minplace\u001B[49m\u001B[38;5;241;43m=\u001B[39;49m\u001B[38;5;28;43;01mTrue\u001B[39;49;00m\u001B[43m)\u001B[49m\n\u001B[0;32m      3\u001B[0m req_cols \u001B[38;5;241m=\u001B[39m [\u001B[38;5;124m'\u001B[39m\u001B[38;5;124mtitle\u001B[39m\u001B[38;5;124m'\u001B[39m,\u001B[38;5;124m'\u001B[39m\u001B[38;5;124mgenre\u001B[39m\u001B[38;5;124m'\u001B[39m]\n\u001B[0;32m      4\u001B[0m csv_movies_with_budget_df[req_cols] \u001B[38;5;241m=\u001B[39m csv_movies_with_budget_df[req_cols]\u001B[38;5;241m.\u001B[39mapply(\u001B[38;5;28;01mlambda\u001B[39;00m col:col\u001B[38;5;241m.\u001B[39mstr\u001B[38;5;241m.\u001B[39mstrip())\n",
      "File \u001B[1;32m~\\gyan-python-workspace\\jup-workspace\\venv\\Lib\\site-packages\\pandas\\core\\frame.py:5581\u001B[0m, in \u001B[0;36mDataFrame.drop\u001B[1;34m(self, labels, axis, index, columns, level, inplace, errors)\u001B[0m\n\u001B[0;32m   5433\u001B[0m \u001B[38;5;28;01mdef\u001B[39;00m \u001B[38;5;21mdrop\u001B[39m(\n\u001B[0;32m   5434\u001B[0m     \u001B[38;5;28mself\u001B[39m,\n\u001B[0;32m   5435\u001B[0m     labels: IndexLabel \u001B[38;5;241m|\u001B[39m \u001B[38;5;28;01mNone\u001B[39;00m \u001B[38;5;241m=\u001B[39m \u001B[38;5;28;01mNone\u001B[39;00m,\n\u001B[1;32m   (...)\u001B[0m\n\u001B[0;32m   5442\u001B[0m     errors: IgnoreRaise \u001B[38;5;241m=\u001B[39m \u001B[38;5;124m\"\u001B[39m\u001B[38;5;124mraise\u001B[39m\u001B[38;5;124m\"\u001B[39m,\n\u001B[0;32m   5443\u001B[0m ) \u001B[38;5;241m-\u001B[39m\u001B[38;5;241m>\u001B[39m DataFrame \u001B[38;5;241m|\u001B[39m \u001B[38;5;28;01mNone\u001B[39;00m:\n\u001B[0;32m   5444\u001B[0m \u001B[38;5;250m    \u001B[39m\u001B[38;5;124;03m\"\"\"\u001B[39;00m\n\u001B[0;32m   5445\u001B[0m \u001B[38;5;124;03m    Drop specified labels from rows or columns.\u001B[39;00m\n\u001B[0;32m   5446\u001B[0m \n\u001B[1;32m   (...)\u001B[0m\n\u001B[0;32m   5579\u001B[0m \u001B[38;5;124;03m            weight  1.0     0.8\u001B[39;00m\n\u001B[0;32m   5580\u001B[0m \u001B[38;5;124;03m    \"\"\"\u001B[39;00m\n\u001B[1;32m-> 5581\u001B[0m     \u001B[38;5;28;01mreturn\u001B[39;00m \u001B[38;5;28;43msuper\u001B[39;49m\u001B[43m(\u001B[49m\u001B[43m)\u001B[49m\u001B[38;5;241;43m.\u001B[39;49m\u001B[43mdrop\u001B[49m\u001B[43m(\u001B[49m\n\u001B[0;32m   5582\u001B[0m \u001B[43m        \u001B[49m\u001B[43mlabels\u001B[49m\u001B[38;5;241;43m=\u001B[39;49m\u001B[43mlabels\u001B[49m\u001B[43m,\u001B[49m\n\u001B[0;32m   5583\u001B[0m \u001B[43m        \u001B[49m\u001B[43maxis\u001B[49m\u001B[38;5;241;43m=\u001B[39;49m\u001B[43maxis\u001B[49m\u001B[43m,\u001B[49m\n\u001B[0;32m   5584\u001B[0m \u001B[43m        \u001B[49m\u001B[43mindex\u001B[49m\u001B[38;5;241;43m=\u001B[39;49m\u001B[43mindex\u001B[49m\u001B[43m,\u001B[49m\n\u001B[0;32m   5585\u001B[0m \u001B[43m        \u001B[49m\u001B[43mcolumns\u001B[49m\u001B[38;5;241;43m=\u001B[39;49m\u001B[43mcolumns\u001B[49m\u001B[43m,\u001B[49m\n\u001B[0;32m   5586\u001B[0m \u001B[43m        \u001B[49m\u001B[43mlevel\u001B[49m\u001B[38;5;241;43m=\u001B[39;49m\u001B[43mlevel\u001B[49m\u001B[43m,\u001B[49m\n\u001B[0;32m   5587\u001B[0m \u001B[43m        \u001B[49m\u001B[43minplace\u001B[49m\u001B[38;5;241;43m=\u001B[39;49m\u001B[43minplace\u001B[49m\u001B[43m,\u001B[49m\n\u001B[0;32m   5588\u001B[0m \u001B[43m        \u001B[49m\u001B[43merrors\u001B[49m\u001B[38;5;241;43m=\u001B[39;49m\u001B[43merrors\u001B[49m\u001B[43m,\u001B[49m\n\u001B[0;32m   5589\u001B[0m \u001B[43m    \u001B[49m\u001B[43m)\u001B[49m\n",
      "File \u001B[1;32m~\\gyan-python-workspace\\jup-workspace\\venv\\Lib\\site-packages\\pandas\\core\\generic.py:4788\u001B[0m, in \u001B[0;36mNDFrame.drop\u001B[1;34m(self, labels, axis, index, columns, level, inplace, errors)\u001B[0m\n\u001B[0;32m   4786\u001B[0m \u001B[38;5;28;01mfor\u001B[39;00m axis, labels \u001B[38;5;129;01min\u001B[39;00m axes\u001B[38;5;241m.\u001B[39mitems():\n\u001B[0;32m   4787\u001B[0m     \u001B[38;5;28;01mif\u001B[39;00m labels \u001B[38;5;129;01mis\u001B[39;00m \u001B[38;5;129;01mnot\u001B[39;00m \u001B[38;5;28;01mNone\u001B[39;00m:\n\u001B[1;32m-> 4788\u001B[0m         obj \u001B[38;5;241m=\u001B[39m \u001B[43mobj\u001B[49m\u001B[38;5;241;43m.\u001B[39;49m\u001B[43m_drop_axis\u001B[49m\u001B[43m(\u001B[49m\u001B[43mlabels\u001B[49m\u001B[43m,\u001B[49m\u001B[43m \u001B[49m\u001B[43maxis\u001B[49m\u001B[43m,\u001B[49m\u001B[43m \u001B[49m\u001B[43mlevel\u001B[49m\u001B[38;5;241;43m=\u001B[39;49m\u001B[43mlevel\u001B[49m\u001B[43m,\u001B[49m\u001B[43m \u001B[49m\u001B[43merrors\u001B[49m\u001B[38;5;241;43m=\u001B[39;49m\u001B[43merrors\u001B[49m\u001B[43m)\u001B[49m\n\u001B[0;32m   4790\u001B[0m \u001B[38;5;28;01mif\u001B[39;00m inplace:\n\u001B[0;32m   4791\u001B[0m     \u001B[38;5;28mself\u001B[39m\u001B[38;5;241m.\u001B[39m_update_inplace(obj)\n",
      "File \u001B[1;32m~\\gyan-python-workspace\\jup-workspace\\venv\\Lib\\site-packages\\pandas\\core\\generic.py:4830\u001B[0m, in \u001B[0;36mNDFrame._drop_axis\u001B[1;34m(self, labels, axis, level, errors, only_slice)\u001B[0m\n\u001B[0;32m   4828\u001B[0m         new_axis \u001B[38;5;241m=\u001B[39m axis\u001B[38;5;241m.\u001B[39mdrop(labels, level\u001B[38;5;241m=\u001B[39mlevel, errors\u001B[38;5;241m=\u001B[39merrors)\n\u001B[0;32m   4829\u001B[0m     \u001B[38;5;28;01melse\u001B[39;00m:\n\u001B[1;32m-> 4830\u001B[0m         new_axis \u001B[38;5;241m=\u001B[39m \u001B[43maxis\u001B[49m\u001B[38;5;241;43m.\u001B[39;49m\u001B[43mdrop\u001B[49m\u001B[43m(\u001B[49m\u001B[43mlabels\u001B[49m\u001B[43m,\u001B[49m\u001B[43m \u001B[49m\u001B[43merrors\u001B[49m\u001B[38;5;241;43m=\u001B[39;49m\u001B[43merrors\u001B[49m\u001B[43m)\u001B[49m\n\u001B[0;32m   4831\u001B[0m     indexer \u001B[38;5;241m=\u001B[39m axis\u001B[38;5;241m.\u001B[39mget_indexer(new_axis)\n\u001B[0;32m   4833\u001B[0m \u001B[38;5;66;03m# Case for non-unique axis\u001B[39;00m\n\u001B[0;32m   4834\u001B[0m \u001B[38;5;28;01melse\u001B[39;00m:\n",
      "File \u001B[1;32m~\\gyan-python-workspace\\jup-workspace\\venv\\Lib\\site-packages\\pandas\\core\\indexes\\base.py:7070\u001B[0m, in \u001B[0;36mIndex.drop\u001B[1;34m(self, labels, errors)\u001B[0m\n\u001B[0;32m   7068\u001B[0m \u001B[38;5;28;01mif\u001B[39;00m mask\u001B[38;5;241m.\u001B[39many():\n\u001B[0;32m   7069\u001B[0m     \u001B[38;5;28;01mif\u001B[39;00m errors \u001B[38;5;241m!=\u001B[39m \u001B[38;5;124m\"\u001B[39m\u001B[38;5;124mignore\u001B[39m\u001B[38;5;124m\"\u001B[39m:\n\u001B[1;32m-> 7070\u001B[0m         \u001B[38;5;28;01mraise\u001B[39;00m \u001B[38;5;167;01mKeyError\u001B[39;00m(\u001B[38;5;124mf\u001B[39m\u001B[38;5;124m\"\u001B[39m\u001B[38;5;132;01m{\u001B[39;00mlabels[mask]\u001B[38;5;241m.\u001B[39mtolist()\u001B[38;5;132;01m}\u001B[39;00m\u001B[38;5;124m not found in axis\u001B[39m\u001B[38;5;124m\"\u001B[39m)\n\u001B[0;32m   7071\u001B[0m     indexer \u001B[38;5;241m=\u001B[39m indexer[\u001B[38;5;241m~\u001B[39mmask]\n\u001B[0;32m   7072\u001B[0m \u001B[38;5;28;01mreturn\u001B[39;00m \u001B[38;5;28mself\u001B[39m\u001B[38;5;241m.\u001B[39mdelete(indexer)\n",
      "\u001B[1;31mKeyError\u001B[0m: \"['url', 'mpaa'] not found in axis\""
     ]
    }
   ],
   "execution_count": 199
  },
  {
   "metadata": {
    "ExecuteTime": {
     "end_time": "2024-12-13T20:05:20.807658Z",
     "start_time": "2024-12-13T20:05:20.800667Z"
    }
   },
   "cell_type": "code",
   "source": [
    "# drop duplicates\n",
    "csv_movies_with_budget_df.drop_duplicates(inplace=True)\n",
    "# confirm correction by rechecking for duplicates in the data\n",
    "sum(csv_movies_with_budget_df.duplicated())"
   ],
   "id": "154177e90ab788c3",
   "outputs": [
    {
     "data": {
      "text/plain": [
       "0"
      ]
     },
     "execution_count": 201,
     "metadata": {},
     "output_type": "execute_result"
    }
   ],
   "execution_count": 201
  },
  {
   "metadata": {
    "ExecuteTime": {
     "end_time": "2024-12-13T20:15:45.311200Z",
     "start_time": "2024-12-13T20:15:45.301510Z"
    }
   },
   "cell_type": "code",
   "source": [
    "# drop rows with any null values \n",
    "csv_movies_with_budget_df.dropna(subset=['genre'],inplace=True)\n",
    "csv_movies_with_budget_df.dropna(inplace=True)\n",
    "# checks if any of columns in the data have null values - should print False\n",
    "csv_movies_with_budget_df.isnull().sum().any()"
   ],
   "id": "7b2ca8a4ae4b837b",
   "outputs": [
    {
     "data": {
      "text/plain": [
       "False"
      ]
     },
     "execution_count": 207,
     "metadata": {},
     "output_type": "execute_result"
    }
   ],
   "execution_count": 207
  },
  {
   "metadata": {
    "ExecuteTime": {
     "end_time": "2024-12-13T20:06:37.767845Z",
     "start_time": "2024-12-13T20:06:37.751821Z"
    }
   },
   "cell_type": "code",
   "source": [
    "# Convert 'release_date' type from str to datetime \n",
    "csv_movies_with_budget_df['release_date']=pd.to_datetime(csv_movies_with_budget_df['release_date'])\n",
    "csv_movies_with_budget_df['release_date'].head()"
   ],
   "id": "8cbb3900aa6af675",
   "outputs": [
    {
     "data": {
      "text/plain": [
       "0   2019-04-23\n",
       "1   2011-05-20\n",
       "2   2015-04-22\n",
       "3   2015-12-16\n",
       "4   2018-04-25\n",
       "Name: release_date, dtype: datetime64[ns]"
      ]
     },
     "execution_count": 204,
     "metadata": {},
     "output_type": "execute_result"
    }
   ],
   "execution_count": 204
  },
  {
   "metadata": {
    "ExecuteTime": {
     "end_time": "2024-12-13T20:15:52.111553Z",
     "start_time": "2024-12-13T20:15:52.106357Z"
    }
   },
   "cell_type": "code",
   "source": [
    "# Final number of movies \n",
    "rows, col = csv_movies_with_budget_df.shape\n",
    "print('After cleaning, we now have only {} entries of movies.'.format(rows))"
   ],
   "id": "cba58479d25c861f",
   "outputs": [
    {
     "name": "stdout",
     "output_type": "stream",
     "text": [
      "After cleaning, we now have only 474 entries of movies.\n"
     ]
    }
   ],
   "execution_count": 208
  },
  {
   "metadata": {
    "ExecuteTime": {
     "end_time": "2024-12-13T20:17:51.398586Z",
     "start_time": "2024-12-13T20:17:51.378065Z"
    }
   },
   "cell_type": "code",
   "source": "csv_movies_with_budget_df.head()",
   "id": "d522f525e9dead48",
   "outputs": [
    {
     "data": {
      "text/plain": [
       "   rank release_date                                        title  \\\n",
       "0     1   2019-04-23                            Avengers: Endgame   \n",
       "1     2   2011-05-20  Pirates of the Caribbean: On Stranger Tides   \n",
       "2     3   2015-04-22                      Avengers: Age of Ultron   \n",
       "3     4   2015-12-16         Star Wars Ep. VII: The Force Awakens   \n",
       "4     5   2018-04-25                       Avengers: Infinity War   \n",
       "\n",
       "   production_cost  domestic_gross  worldwide_gross  opening_weekend  \\\n",
       "0        400000000       858373000       2797800564      357115007.0   \n",
       "1        379000000       241071802       1045713802       90151958.0   \n",
       "2        365000000       459005868       1395316979      191271109.0   \n",
       "3        306000000       936662225       2064615817      247966675.0   \n",
       "4        300000000       678815482       2048359754      257698183.0   \n",
       "\n",
       "       genre  theaters  runtime    year  \n",
       "0     Action    4662.0    181.0  2019.0  \n",
       "1  Adventure    4164.0    136.0  2011.0  \n",
       "2     Action    4276.0    141.0  2015.0  \n",
       "3  Adventure    4134.0    136.0  2015.0  \n",
       "4     Action    4474.0    156.0  2018.0  "
      ],
      "text/html": [
       "<div>\n",
       "<style scoped>\n",
       "    .dataframe tbody tr th:only-of-type {\n",
       "        vertical-align: middle;\n",
       "    }\n",
       "\n",
       "    .dataframe tbody tr th {\n",
       "        vertical-align: top;\n",
       "    }\n",
       "\n",
       "    .dataframe thead th {\n",
       "        text-align: right;\n",
       "    }\n",
       "</style>\n",
       "<table border=\"1\" class=\"dataframe\">\n",
       "  <thead>\n",
       "    <tr style=\"text-align: right;\">\n",
       "      <th></th>\n",
       "      <th>rank</th>\n",
       "      <th>release_date</th>\n",
       "      <th>title</th>\n",
       "      <th>production_cost</th>\n",
       "      <th>domestic_gross</th>\n",
       "      <th>worldwide_gross</th>\n",
       "      <th>opening_weekend</th>\n",
       "      <th>genre</th>\n",
       "      <th>theaters</th>\n",
       "      <th>runtime</th>\n",
       "      <th>year</th>\n",
       "    </tr>\n",
       "  </thead>\n",
       "  <tbody>\n",
       "    <tr>\n",
       "      <th>0</th>\n",
       "      <td>1</td>\n",
       "      <td>2019-04-23</td>\n",
       "      <td>Avengers: Endgame</td>\n",
       "      <td>400000000</td>\n",
       "      <td>858373000</td>\n",
       "      <td>2797800564</td>\n",
       "      <td>357115007.0</td>\n",
       "      <td>Action</td>\n",
       "      <td>4662.0</td>\n",
       "      <td>181.0</td>\n",
       "      <td>2019.0</td>\n",
       "    </tr>\n",
       "    <tr>\n",
       "      <th>1</th>\n",
       "      <td>2</td>\n",
       "      <td>2011-05-20</td>\n",
       "      <td>Pirates of the Caribbean: On Stranger Tides</td>\n",
       "      <td>379000000</td>\n",
       "      <td>241071802</td>\n",
       "      <td>1045713802</td>\n",
       "      <td>90151958.0</td>\n",
       "      <td>Adventure</td>\n",
       "      <td>4164.0</td>\n",
       "      <td>136.0</td>\n",
       "      <td>2011.0</td>\n",
       "    </tr>\n",
       "    <tr>\n",
       "      <th>2</th>\n",
       "      <td>3</td>\n",
       "      <td>2015-04-22</td>\n",
       "      <td>Avengers: Age of Ultron</td>\n",
       "      <td>365000000</td>\n",
       "      <td>459005868</td>\n",
       "      <td>1395316979</td>\n",
       "      <td>191271109.0</td>\n",
       "      <td>Action</td>\n",
       "      <td>4276.0</td>\n",
       "      <td>141.0</td>\n",
       "      <td>2015.0</td>\n",
       "    </tr>\n",
       "    <tr>\n",
       "      <th>3</th>\n",
       "      <td>4</td>\n",
       "      <td>2015-12-16</td>\n",
       "      <td>Star Wars Ep. VII: The Force Awakens</td>\n",
       "      <td>306000000</td>\n",
       "      <td>936662225</td>\n",
       "      <td>2064615817</td>\n",
       "      <td>247966675.0</td>\n",
       "      <td>Adventure</td>\n",
       "      <td>4134.0</td>\n",
       "      <td>136.0</td>\n",
       "      <td>2015.0</td>\n",
       "    </tr>\n",
       "    <tr>\n",
       "      <th>4</th>\n",
       "      <td>5</td>\n",
       "      <td>2018-04-25</td>\n",
       "      <td>Avengers: Infinity War</td>\n",
       "      <td>300000000</td>\n",
       "      <td>678815482</td>\n",
       "      <td>2048359754</td>\n",
       "      <td>257698183.0</td>\n",
       "      <td>Action</td>\n",
       "      <td>4474.0</td>\n",
       "      <td>156.0</td>\n",
       "      <td>2018.0</td>\n",
       "    </tr>\n",
       "  </tbody>\n",
       "</table>\n",
       "</div>"
      ]
     },
     "execution_count": 212,
     "metadata": {},
     "output_type": "execute_result"
    }
   ],
   "execution_count": 212
  },
  {
   "metadata": {},
   "cell_type": "markdown",
   "source": "#Milestone-3",
   "id": "583a33ed848a11b5"
  },
  {
   "metadata": {},
   "cell_type": "markdown",
   "source": [
    "#### Step 1: Reading website data using beautifulSoup library available in Python\n",
    "#### Step 2: Removing null rows from the dataset\n",
    "#### Step 2: Removing null rows from the dataset\n",
    "#### Step 2: Removing null rows from the dataset\n",
    "#### Step 2: Removing null rows from the dataset\n",
    "#### Ethical implications of data wrangling specific to your datasource and the steps you completed answering the following questions:\n",
    "### What changes were made to the data?\n",
    "### Are there any legal or regulatory guidelines for your data or project topic?\n",
    "### What risks could be created based on the transformations done?\n",
    "### Did you make any assumptions in cleaning/transforming the data?\n",
    "### How was your data sourced / verified for credibility?\n",
    "### Was your data acquired in an ethical way?\n",
    "### How would you mitigate any of the ethical implications you have identified?"
   ],
   "id": "cee76d7637d79435"
  },
  {
   "metadata": {
    "ExecuteTime": {
     "end_time": "2024-12-17T19:45:01.881618Z",
     "start_time": "2024-12-17T19:45:01.874195Z"
    }
   },
   "cell_type": "code",
   "source": "web_scrape_pickle.head()",
   "id": "98e0f4d393a9e5b8",
   "outputs": [
    {
     "data": {
      "text/plain": [
       "           date            occasion  year   top10_gross top10_wow_change  \\\n",
       "0     Dec 27-29      normal weekend  2013  $167,837,974           +24.5%   \n",
       "1     Dec 20-22      normal weekend  2013  $134,837,792            -2.6%   \n",
       "2     Dec 13-15      normal weekend  2013  $138,369,003           +64.8%   \n",
       "3       Dec 6-8   Post-Thanksgiving  2013   $83,941,456           -55.7%   \n",
       "4  Nov 29-Dec 1  Thanksgiving 3-Day  2013  $189,483,142           -11.7%   \n",
       "\n",
       "  overall_gross overall_wow_change num_releases  \\\n",
       "0  $197,177,755             +37.3%           81   \n",
       "1  $143,571,365              -2.8%           80   \n",
       "2  $147,702,714             +56.2%           94   \n",
       "3   $94,535,353             -54.6%           96   \n",
       "4  $208,125,032              -8.1%          104   \n",
       "\n",
       "                           movie_title week_no  \n",
       "0  The Hobbit: The Desolation of Smaug      52  \n",
       "1  The Hobbit: The Desolation of Smaug      51  \n",
       "2  The Hobbit: The Desolation of Smaug      50  \n",
       "3                               Frozen      49  \n",
       "4      The Hunger Games: Catching Fire      48  "
      ],
      "text/html": [
       "<div>\n",
       "<style scoped>\n",
       "    .dataframe tbody tr th:only-of-type {\n",
       "        vertical-align: middle;\n",
       "    }\n",
       "\n",
       "    .dataframe tbody tr th {\n",
       "        vertical-align: top;\n",
       "    }\n",
       "\n",
       "    .dataframe thead th {\n",
       "        text-align: right;\n",
       "    }\n",
       "</style>\n",
       "<table border=\"1\" class=\"dataframe\">\n",
       "  <thead>\n",
       "    <tr style=\"text-align: right;\">\n",
       "      <th></th>\n",
       "      <th>date</th>\n",
       "      <th>occasion</th>\n",
       "      <th>year</th>\n",
       "      <th>top10_gross</th>\n",
       "      <th>top10_wow_change</th>\n",
       "      <th>overall_gross</th>\n",
       "      <th>overall_wow_change</th>\n",
       "      <th>num_releases</th>\n",
       "      <th>movie_title</th>\n",
       "      <th>week_no</th>\n",
       "    </tr>\n",
       "  </thead>\n",
       "  <tbody>\n",
       "    <tr>\n",
       "      <th>0</th>\n",
       "      <td>Dec 27-29</td>\n",
       "      <td>normal weekend</td>\n",
       "      <td>2013</td>\n",
       "      <td>$167,837,974</td>\n",
       "      <td>+24.5%</td>\n",
       "      <td>$197,177,755</td>\n",
       "      <td>+37.3%</td>\n",
       "      <td>81</td>\n",
       "      <td>The Hobbit: The Desolation of Smaug</td>\n",
       "      <td>52</td>\n",
       "    </tr>\n",
       "    <tr>\n",
       "      <th>1</th>\n",
       "      <td>Dec 20-22</td>\n",
       "      <td>normal weekend</td>\n",
       "      <td>2013</td>\n",
       "      <td>$134,837,792</td>\n",
       "      <td>-2.6%</td>\n",
       "      <td>$143,571,365</td>\n",
       "      <td>-2.8%</td>\n",
       "      <td>80</td>\n",
       "      <td>The Hobbit: The Desolation of Smaug</td>\n",
       "      <td>51</td>\n",
       "    </tr>\n",
       "    <tr>\n",
       "      <th>2</th>\n",
       "      <td>Dec 13-15</td>\n",
       "      <td>normal weekend</td>\n",
       "      <td>2013</td>\n",
       "      <td>$138,369,003</td>\n",
       "      <td>+64.8%</td>\n",
       "      <td>$147,702,714</td>\n",
       "      <td>+56.2%</td>\n",
       "      <td>94</td>\n",
       "      <td>The Hobbit: The Desolation of Smaug</td>\n",
       "      <td>50</td>\n",
       "    </tr>\n",
       "    <tr>\n",
       "      <th>3</th>\n",
       "      <td>Dec 6-8</td>\n",
       "      <td>Post-Thanksgiving</td>\n",
       "      <td>2013</td>\n",
       "      <td>$83,941,456</td>\n",
       "      <td>-55.7%</td>\n",
       "      <td>$94,535,353</td>\n",
       "      <td>-54.6%</td>\n",
       "      <td>96</td>\n",
       "      <td>Frozen</td>\n",
       "      <td>49</td>\n",
       "    </tr>\n",
       "    <tr>\n",
       "      <th>4</th>\n",
       "      <td>Nov 29-Dec 1</td>\n",
       "      <td>Thanksgiving 3-Day</td>\n",
       "      <td>2013</td>\n",
       "      <td>$189,483,142</td>\n",
       "      <td>-11.7%</td>\n",
       "      <td>$208,125,032</td>\n",
       "      <td>-8.1%</td>\n",
       "      <td>104</td>\n",
       "      <td>The Hunger Games: Catching Fire</td>\n",
       "      <td>48</td>\n",
       "    </tr>\n",
       "  </tbody>\n",
       "</table>\n",
       "</div>"
      ]
     },
     "execution_count": 14,
     "metadata": {},
     "output_type": "execute_result"
    }
   ],
   "execution_count": 14
  },
  {
   "metadata": {
    "ExecuteTime": {
     "end_time": "2024-12-17T19:53:33.791822Z",
     "start_time": "2024-12-17T19:53:33.780746Z"
    }
   },
   "cell_type": "code",
   "source": [
    "# Remove dollar signs and comma convert to integer\n",
    "web_scrape_pickle['top10_gross'] = web_scrape_pickle['top10_gross'].replace('[$,]', '', regex=True).astype(int)\n",
    "web_scrape_pickle['overall_gross'] = web_scrape_pickle['overall_gross'].replace('[$,]', '', regex=True).astype(int)\n",
    "web_scrape_pickle.head()\n"
   ],
   "id": "c59e25e30f22b5d8",
   "outputs": [
    {
     "data": {
      "text/plain": [
       "           date            occasion  year  top10_gross top10_wow_change  \\\n",
       "0     Dec 27-29      normal weekend  2013    167837974           +24.5%   \n",
       "1     Dec 20-22      normal weekend  2013    134837792            -2.6%   \n",
       "2     Dec 13-15      normal weekend  2013    138369003           +64.8%   \n",
       "3       Dec 6-8   Post-Thanksgiving  2013     83941456           -55.7%   \n",
       "4  Nov 29-Dec 1  Thanksgiving 3-Day  2013    189483142           -11.7%   \n",
       "\n",
       "   overall_gross overall_wow_change num_releases  \\\n",
       "0      197177755             +37.3%           81   \n",
       "1      143571365              -2.8%           80   \n",
       "2      147702714             +56.2%           94   \n",
       "3       94535353             -54.6%           96   \n",
       "4      208125032              -8.1%          104   \n",
       "\n",
       "                           movie_title week_no  \n",
       "0  The Hobbit: The Desolation of Smaug      52  \n",
       "1  The Hobbit: The Desolation of Smaug      51  \n",
       "2  The Hobbit: The Desolation of Smaug      50  \n",
       "3                               Frozen      49  \n",
       "4      The Hunger Games: Catching Fire      48  "
      ],
      "text/html": [
       "<div>\n",
       "<style scoped>\n",
       "    .dataframe tbody tr th:only-of-type {\n",
       "        vertical-align: middle;\n",
       "    }\n",
       "\n",
       "    .dataframe tbody tr th {\n",
       "        vertical-align: top;\n",
       "    }\n",
       "\n",
       "    .dataframe thead th {\n",
       "        text-align: right;\n",
       "    }\n",
       "</style>\n",
       "<table border=\"1\" class=\"dataframe\">\n",
       "  <thead>\n",
       "    <tr style=\"text-align: right;\">\n",
       "      <th></th>\n",
       "      <th>date</th>\n",
       "      <th>occasion</th>\n",
       "      <th>year</th>\n",
       "      <th>top10_gross</th>\n",
       "      <th>top10_wow_change</th>\n",
       "      <th>overall_gross</th>\n",
       "      <th>overall_wow_change</th>\n",
       "      <th>num_releases</th>\n",
       "      <th>movie_title</th>\n",
       "      <th>week_no</th>\n",
       "    </tr>\n",
       "  </thead>\n",
       "  <tbody>\n",
       "    <tr>\n",
       "      <th>0</th>\n",
       "      <td>Dec 27-29</td>\n",
       "      <td>normal weekend</td>\n",
       "      <td>2013</td>\n",
       "      <td>167837974</td>\n",
       "      <td>+24.5%</td>\n",
       "      <td>197177755</td>\n",
       "      <td>+37.3%</td>\n",
       "      <td>81</td>\n",
       "      <td>The Hobbit: The Desolation of Smaug</td>\n",
       "      <td>52</td>\n",
       "    </tr>\n",
       "    <tr>\n",
       "      <th>1</th>\n",
       "      <td>Dec 20-22</td>\n",
       "      <td>normal weekend</td>\n",
       "      <td>2013</td>\n",
       "      <td>134837792</td>\n",
       "      <td>-2.6%</td>\n",
       "      <td>143571365</td>\n",
       "      <td>-2.8%</td>\n",
       "      <td>80</td>\n",
       "      <td>The Hobbit: The Desolation of Smaug</td>\n",
       "      <td>51</td>\n",
       "    </tr>\n",
       "    <tr>\n",
       "      <th>2</th>\n",
       "      <td>Dec 13-15</td>\n",
       "      <td>normal weekend</td>\n",
       "      <td>2013</td>\n",
       "      <td>138369003</td>\n",
       "      <td>+64.8%</td>\n",
       "      <td>147702714</td>\n",
       "      <td>+56.2%</td>\n",
       "      <td>94</td>\n",
       "      <td>The Hobbit: The Desolation of Smaug</td>\n",
       "      <td>50</td>\n",
       "    </tr>\n",
       "    <tr>\n",
       "      <th>3</th>\n",
       "      <td>Dec 6-8</td>\n",
       "      <td>Post-Thanksgiving</td>\n",
       "      <td>2013</td>\n",
       "      <td>83941456</td>\n",
       "      <td>-55.7%</td>\n",
       "      <td>94535353</td>\n",
       "      <td>-54.6%</td>\n",
       "      <td>96</td>\n",
       "      <td>Frozen</td>\n",
       "      <td>49</td>\n",
       "    </tr>\n",
       "    <tr>\n",
       "      <th>4</th>\n",
       "      <td>Nov 29-Dec 1</td>\n",
       "      <td>Thanksgiving 3-Day</td>\n",
       "      <td>2013</td>\n",
       "      <td>189483142</td>\n",
       "      <td>-11.7%</td>\n",
       "      <td>208125032</td>\n",
       "      <td>-8.1%</td>\n",
       "      <td>104</td>\n",
       "      <td>The Hunger Games: Catching Fire</td>\n",
       "      <td>48</td>\n",
       "    </tr>\n",
       "  </tbody>\n",
       "</table>\n",
       "</div>"
      ]
     },
     "execution_count": 22,
     "metadata": {},
     "output_type": "execute_result"
    }
   ],
   "execution_count": 22
  },
  {
   "metadata": {
    "ExecuteTime": {
     "end_time": "2024-12-17T20:15:44.899437Z",
     "start_time": "2024-12-17T20:15:44.887100Z"
    }
   },
   "cell_type": "code",
   "source": [
    "# Create the column in millions\n",
    "web_scrape_pickle['top_10_gross_in_millions'] = web_scrape_pickle['top10_gross'] / 1000000\n",
    "web_scrape_pickle['top_10_gross_in_millions'] = web_scrape_pickle['top_10_gross_in_millions'].apply(lambda x: f\"{x:.2f}\")\n",
    "\n",
    "web_scrape_pickle['overall_gross_in_millions'] = web_scrape_pickle['overall_gross'] / 1000000\n",
    "web_scrape_pickle['overall_gross_in_millions'] = web_scrape_pickle['overall_gross_in_millions'].apply(lambda x: f\"{x:.2f}\")\n",
    "\n",
    "web_scrape_pickle.head()"
   ],
   "id": "caa714befd9f8912",
   "outputs": [
    {
     "data": {
      "text/plain": [
       "                           movie_title  year          date  \\\n",
       "0  The Hobbit: The Desolation of Smaug  2013     Dec 27-29   \n",
       "1  The Hobbit: The Desolation of Smaug  2013     Dec 20-22   \n",
       "2  The Hobbit: The Desolation of Smaug  2013     Dec 13-15   \n",
       "3                               Frozen  2013       Dec 6-8   \n",
       "4      The Hunger Games: Catching Fire  2013  Nov 29-Dec 1   \n",
       "\n",
       "             occasion  top_10_gross_in_millions  overall_gross_in_millions  \\\n",
       "0      normal weekend                    167.84                     197.18   \n",
       "1      normal weekend                    134.84                     143.57   \n",
       "2      normal weekend                    138.37                     147.70   \n",
       "3   Post-Thanksgiving                     83.94                      94.54   \n",
       "4  Thanksgiving 3-Day                    189.48                     208.13   \n",
       "\n",
       "  top10_wow_change overall_wow_change  top10_gross  overall_gross  \\\n",
       "0           +24.5%             +37.3%    167837974      197177755   \n",
       "1            -2.6%              -2.8%    134837792      143571365   \n",
       "2           +64.8%             +56.2%    138369003      147702714   \n",
       "3           -55.7%             -54.6%     83941456       94535353   \n",
       "4           -11.7%              -8.1%    189483142      208125032   \n",
       "\n",
       "  num_releases week_no  \n",
       "0           81      52  \n",
       "1           80      51  \n",
       "2           94      50  \n",
       "3           96      49  \n",
       "4          104      48  "
      ],
      "text/html": [
       "<div>\n",
       "<style scoped>\n",
       "    .dataframe tbody tr th:only-of-type {\n",
       "        vertical-align: middle;\n",
       "    }\n",
       "\n",
       "    .dataframe tbody tr th {\n",
       "        vertical-align: top;\n",
       "    }\n",
       "\n",
       "    .dataframe thead th {\n",
       "        text-align: right;\n",
       "    }\n",
       "</style>\n",
       "<table border=\"1\" class=\"dataframe\">\n",
       "  <thead>\n",
       "    <tr style=\"text-align: right;\">\n",
       "      <th></th>\n",
       "      <th>movie_title</th>\n",
       "      <th>year</th>\n",
       "      <th>date</th>\n",
       "      <th>occasion</th>\n",
       "      <th>top_10_gross_in_millions</th>\n",
       "      <th>overall_gross_in_millions</th>\n",
       "      <th>top10_wow_change</th>\n",
       "      <th>overall_wow_change</th>\n",
       "      <th>top10_gross</th>\n",
       "      <th>overall_gross</th>\n",
       "      <th>num_releases</th>\n",
       "      <th>week_no</th>\n",
       "    </tr>\n",
       "  </thead>\n",
       "  <tbody>\n",
       "    <tr>\n",
       "      <th>0</th>\n",
       "      <td>The Hobbit: The Desolation of Smaug</td>\n",
       "      <td>2013</td>\n",
       "      <td>Dec 27-29</td>\n",
       "      <td>normal weekend</td>\n",
       "      <td>167.84</td>\n",
       "      <td>197.18</td>\n",
       "      <td>+24.5%</td>\n",
       "      <td>+37.3%</td>\n",
       "      <td>167837974</td>\n",
       "      <td>197177755</td>\n",
       "      <td>81</td>\n",
       "      <td>52</td>\n",
       "    </tr>\n",
       "    <tr>\n",
       "      <th>1</th>\n",
       "      <td>The Hobbit: The Desolation of Smaug</td>\n",
       "      <td>2013</td>\n",
       "      <td>Dec 20-22</td>\n",
       "      <td>normal weekend</td>\n",
       "      <td>134.84</td>\n",
       "      <td>143.57</td>\n",
       "      <td>-2.6%</td>\n",
       "      <td>-2.8%</td>\n",
       "      <td>134837792</td>\n",
       "      <td>143571365</td>\n",
       "      <td>80</td>\n",
       "      <td>51</td>\n",
       "    </tr>\n",
       "    <tr>\n",
       "      <th>2</th>\n",
       "      <td>The Hobbit: The Desolation of Smaug</td>\n",
       "      <td>2013</td>\n",
       "      <td>Dec 13-15</td>\n",
       "      <td>normal weekend</td>\n",
       "      <td>138.37</td>\n",
       "      <td>147.70</td>\n",
       "      <td>+64.8%</td>\n",
       "      <td>+56.2%</td>\n",
       "      <td>138369003</td>\n",
       "      <td>147702714</td>\n",
       "      <td>94</td>\n",
       "      <td>50</td>\n",
       "    </tr>\n",
       "    <tr>\n",
       "      <th>3</th>\n",
       "      <td>Frozen</td>\n",
       "      <td>2013</td>\n",
       "      <td>Dec 6-8</td>\n",
       "      <td>Post-Thanksgiving</td>\n",
       "      <td>83.94</td>\n",
       "      <td>94.54</td>\n",
       "      <td>-55.7%</td>\n",
       "      <td>-54.6%</td>\n",
       "      <td>83941456</td>\n",
       "      <td>94535353</td>\n",
       "      <td>96</td>\n",
       "      <td>49</td>\n",
       "    </tr>\n",
       "    <tr>\n",
       "      <th>4</th>\n",
       "      <td>The Hunger Games: Catching Fire</td>\n",
       "      <td>2013</td>\n",
       "      <td>Nov 29-Dec 1</td>\n",
       "      <td>Thanksgiving 3-Day</td>\n",
       "      <td>189.48</td>\n",
       "      <td>208.13</td>\n",
       "      <td>-11.7%</td>\n",
       "      <td>-8.1%</td>\n",
       "      <td>189483142</td>\n",
       "      <td>208125032</td>\n",
       "      <td>104</td>\n",
       "      <td>48</td>\n",
       "    </tr>\n",
       "  </tbody>\n",
       "</table>\n",
       "</div>"
      ]
     },
     "execution_count": 47,
     "metadata": {},
     "output_type": "execute_result"
    }
   ],
   "execution_count": 47
  },
  {
   "metadata": {},
   "cell_type": "markdown",
   "source": "#### Step 4: Convert gross columns to float",
   "id": "e604d9c28a159e7a"
  },
  {
   "metadata": {
    "ExecuteTime": {
     "end_time": "2024-12-17T20:17:22.791993Z",
     "start_time": "2024-12-17T20:17:22.785802Z"
    }
   },
   "cell_type": "code",
   "source": [
    "web_scrape_pickle['top_10_gross_in_millions'] = web_scrape_pickle['top_10_gross_in_millions'].astype(float)\n",
    "web_scrape_pickle['overall_gross_in_millions'] = web_scrape_pickle['overall_gross_in_millions'].astype(float)\n"
   ],
   "id": "581a42e9d5a9273e",
   "outputs": [],
   "execution_count": 50
  },
  {
   "metadata": {},
   "cell_type": "markdown",
   "source": "#### Step 5: Replace Headers with more meaningful names",
   "id": "6284b0f790aec09e"
  },
  {
   "metadata": {
    "ExecuteTime": {
     "end_time": "2024-12-17T20:13:53.182397Z",
     "start_time": "2024-12-17T20:13:53.174543Z"
    }
   },
   "cell_type": "code",
   "source": [
    "\n",
    "web_scrape_pickle.rename(columns={'top_release': 'movie_title'}, inplace=True)"
   ],
   "id": "7b24447eed8a2760",
   "outputs": [],
   "execution_count": 43
  },
  {
   "metadata": {
    "ExecuteTime": {
     "end_time": "2024-12-17T20:17:29.148218Z",
     "start_time": "2024-12-17T20:17:29.140406Z"
    }
   },
   "cell_type": "code",
   "source": "web_scrape_pickle.head()",
   "id": "8afd6b93550ecb82",
   "outputs": [
    {
     "data": {
      "text/plain": [
       "                           movie_title  year          date  \\\n",
       "0  The Hobbit: The Desolation of Smaug  2013     Dec 27-29   \n",
       "1  The Hobbit: The Desolation of Smaug  2013     Dec 20-22   \n",
       "2  The Hobbit: The Desolation of Smaug  2013     Dec 13-15   \n",
       "3                               Frozen  2013       Dec 6-8   \n",
       "4      The Hunger Games: Catching Fire  2013  Nov 29-Dec 1   \n",
       "\n",
       "             occasion  top_10_gross_in_millions  overall_gross_in_millions  \\\n",
       "0      normal weekend                    167.84                     197.18   \n",
       "1      normal weekend                    134.84                     143.57   \n",
       "2      normal weekend                    138.37                     147.70   \n",
       "3   Post-Thanksgiving                     83.94                      94.54   \n",
       "4  Thanksgiving 3-Day                    189.48                     208.13   \n",
       "\n",
       "  top10_wow_change overall_wow_change  top10_gross  overall_gross  \\\n",
       "0           +24.5%             +37.3%    167837974      197177755   \n",
       "1            -2.6%              -2.8%    134837792      143571365   \n",
       "2           +64.8%             +56.2%    138369003      147702714   \n",
       "3           -55.7%             -54.6%     83941456       94535353   \n",
       "4           -11.7%              -8.1%    189483142      208125032   \n",
       "\n",
       "  num_releases week_no  \n",
       "0           81      52  \n",
       "1           80      51  \n",
       "2           94      50  \n",
       "3           96      49  \n",
       "4          104      48  "
      ],
      "text/html": [
       "<div>\n",
       "<style scoped>\n",
       "    .dataframe tbody tr th:only-of-type {\n",
       "        vertical-align: middle;\n",
       "    }\n",
       "\n",
       "    .dataframe tbody tr th {\n",
       "        vertical-align: top;\n",
       "    }\n",
       "\n",
       "    .dataframe thead th {\n",
       "        text-align: right;\n",
       "    }\n",
       "</style>\n",
       "<table border=\"1\" class=\"dataframe\">\n",
       "  <thead>\n",
       "    <tr style=\"text-align: right;\">\n",
       "      <th></th>\n",
       "      <th>movie_title</th>\n",
       "      <th>year</th>\n",
       "      <th>date</th>\n",
       "      <th>occasion</th>\n",
       "      <th>top_10_gross_in_millions</th>\n",
       "      <th>overall_gross_in_millions</th>\n",
       "      <th>top10_wow_change</th>\n",
       "      <th>overall_wow_change</th>\n",
       "      <th>top10_gross</th>\n",
       "      <th>overall_gross</th>\n",
       "      <th>num_releases</th>\n",
       "      <th>week_no</th>\n",
       "    </tr>\n",
       "  </thead>\n",
       "  <tbody>\n",
       "    <tr>\n",
       "      <th>0</th>\n",
       "      <td>The Hobbit: The Desolation of Smaug</td>\n",
       "      <td>2013</td>\n",
       "      <td>Dec 27-29</td>\n",
       "      <td>normal weekend</td>\n",
       "      <td>167.84</td>\n",
       "      <td>197.18</td>\n",
       "      <td>+24.5%</td>\n",
       "      <td>+37.3%</td>\n",
       "      <td>167837974</td>\n",
       "      <td>197177755</td>\n",
       "      <td>81</td>\n",
       "      <td>52</td>\n",
       "    </tr>\n",
       "    <tr>\n",
       "      <th>1</th>\n",
       "      <td>The Hobbit: The Desolation of Smaug</td>\n",
       "      <td>2013</td>\n",
       "      <td>Dec 20-22</td>\n",
       "      <td>normal weekend</td>\n",
       "      <td>134.84</td>\n",
       "      <td>143.57</td>\n",
       "      <td>-2.6%</td>\n",
       "      <td>-2.8%</td>\n",
       "      <td>134837792</td>\n",
       "      <td>143571365</td>\n",
       "      <td>80</td>\n",
       "      <td>51</td>\n",
       "    </tr>\n",
       "    <tr>\n",
       "      <th>2</th>\n",
       "      <td>The Hobbit: The Desolation of Smaug</td>\n",
       "      <td>2013</td>\n",
       "      <td>Dec 13-15</td>\n",
       "      <td>normal weekend</td>\n",
       "      <td>138.37</td>\n",
       "      <td>147.70</td>\n",
       "      <td>+64.8%</td>\n",
       "      <td>+56.2%</td>\n",
       "      <td>138369003</td>\n",
       "      <td>147702714</td>\n",
       "      <td>94</td>\n",
       "      <td>50</td>\n",
       "    </tr>\n",
       "    <tr>\n",
       "      <th>3</th>\n",
       "      <td>Frozen</td>\n",
       "      <td>2013</td>\n",
       "      <td>Dec 6-8</td>\n",
       "      <td>Post-Thanksgiving</td>\n",
       "      <td>83.94</td>\n",
       "      <td>94.54</td>\n",
       "      <td>-55.7%</td>\n",
       "      <td>-54.6%</td>\n",
       "      <td>83941456</td>\n",
       "      <td>94535353</td>\n",
       "      <td>96</td>\n",
       "      <td>49</td>\n",
       "    </tr>\n",
       "    <tr>\n",
       "      <th>4</th>\n",
       "      <td>The Hunger Games: Catching Fire</td>\n",
       "      <td>2013</td>\n",
       "      <td>Nov 29-Dec 1</td>\n",
       "      <td>Thanksgiving 3-Day</td>\n",
       "      <td>189.48</td>\n",
       "      <td>208.13</td>\n",
       "      <td>-11.7%</td>\n",
       "      <td>-8.1%</td>\n",
       "      <td>189483142</td>\n",
       "      <td>208125032</td>\n",
       "      <td>104</td>\n",
       "      <td>48</td>\n",
       "    </tr>\n",
       "  </tbody>\n",
       "</table>\n",
       "</div>"
      ]
     },
     "execution_count": 51,
     "metadata": {},
     "output_type": "execute_result"
    }
   ],
   "execution_count": 51
  },
  {
   "metadata": {},
   "cell_type": "markdown",
   "source": "#### Step 6: Replace arrange Headers",
   "id": "f1dbe400bf301977"
  },
  {
   "metadata": {
    "ExecuteTime": {
     "end_time": "2024-12-17T20:15:50.256571Z",
     "start_time": "2024-12-17T20:15:50.242746Z"
    }
   },
   "cell_type": "code",
   "source": [
    "new_col_order=['movie_title', 'year' ,'date', 'occasion', 'top_10_gross_in_millions', 'overall_gross_in_millions', 'top10_wow_change','overall_wow_change','top10_gross', 'overall_gross',  'num_releases', \n",
    "               'week_no']\n",
    "\n",
    "for i,col in enumerate(new_col_order):\n",
    "    tmp = web_scrape_pickle[col]\n",
    "    web_scrape_pickle.drop(labels=[col],axis=1,inplace=True)\n",
    "    web_scrape_pickle.insert(i,col,tmp) "
   ],
   "id": "879a4f5c743dc6e8",
   "outputs": [],
   "execution_count": 48
  },
  {
   "metadata": {
    "ExecuteTime": {
     "end_time": "2024-12-17T20:13:58.030725Z",
     "start_time": "2024-12-17T20:13:58.020464Z"
    }
   },
   "cell_type": "code",
   "source": "web_scrape_pickle.head()",
   "id": "74c6b2944e32f416",
   "outputs": [
    {
     "data": {
      "text/plain": [
       "                           movie_title  year          date  \\\n",
       "0  The Hobbit: The Desolation of Smaug  2013     Dec 27-29   \n",
       "1  The Hobbit: The Desolation of Smaug  2013     Dec 20-22   \n",
       "2  The Hobbit: The Desolation of Smaug  2013     Dec 13-15   \n",
       "3                               Frozen  2013       Dec 6-8   \n",
       "4      The Hunger Games: Catching Fire  2013  Nov 29-Dec 1   \n",
       "\n",
       "             occasion top_10_gross_in_millions overall_gross_in_millions  \\\n",
       "0      normal weekend                   167.84                    197.18   \n",
       "1      normal weekend                   134.84                    143.57   \n",
       "2      normal weekend                   138.37                    147.70   \n",
       "3   Post-Thanksgiving                    83.94                     94.54   \n",
       "4  Thanksgiving 3-Day                   189.48                    208.13   \n",
       "\n",
       "  top10_wow_change overall_wow_change  top10_gross  overall_gross  \\\n",
       "0           +24.5%             +37.3%    167837974      197177755   \n",
       "1            -2.6%              -2.8%    134837792      143571365   \n",
       "2           +64.8%             +56.2%    138369003      147702714   \n",
       "3           -55.7%             -54.6%     83941456       94535353   \n",
       "4           -11.7%              -8.1%    189483142      208125032   \n",
       "\n",
       "  num_releases week_no  \n",
       "0           81      52  \n",
       "1           80      51  \n",
       "2           94      50  \n",
       "3           96      49  \n",
       "4          104      48  "
      ],
      "text/html": [
       "<div>\n",
       "<style scoped>\n",
       "    .dataframe tbody tr th:only-of-type {\n",
       "        vertical-align: middle;\n",
       "    }\n",
       "\n",
       "    .dataframe tbody tr th {\n",
       "        vertical-align: top;\n",
       "    }\n",
       "\n",
       "    .dataframe thead th {\n",
       "        text-align: right;\n",
       "    }\n",
       "</style>\n",
       "<table border=\"1\" class=\"dataframe\">\n",
       "  <thead>\n",
       "    <tr style=\"text-align: right;\">\n",
       "      <th></th>\n",
       "      <th>movie_title</th>\n",
       "      <th>year</th>\n",
       "      <th>date</th>\n",
       "      <th>occasion</th>\n",
       "      <th>top_10_gross_in_millions</th>\n",
       "      <th>overall_gross_in_millions</th>\n",
       "      <th>top10_wow_change</th>\n",
       "      <th>overall_wow_change</th>\n",
       "      <th>top10_gross</th>\n",
       "      <th>overall_gross</th>\n",
       "      <th>num_releases</th>\n",
       "      <th>week_no</th>\n",
       "    </tr>\n",
       "  </thead>\n",
       "  <tbody>\n",
       "    <tr>\n",
       "      <th>0</th>\n",
       "      <td>The Hobbit: The Desolation of Smaug</td>\n",
       "      <td>2013</td>\n",
       "      <td>Dec 27-29</td>\n",
       "      <td>normal weekend</td>\n",
       "      <td>167.84</td>\n",
       "      <td>197.18</td>\n",
       "      <td>+24.5%</td>\n",
       "      <td>+37.3%</td>\n",
       "      <td>167837974</td>\n",
       "      <td>197177755</td>\n",
       "      <td>81</td>\n",
       "      <td>52</td>\n",
       "    </tr>\n",
       "    <tr>\n",
       "      <th>1</th>\n",
       "      <td>The Hobbit: The Desolation of Smaug</td>\n",
       "      <td>2013</td>\n",
       "      <td>Dec 20-22</td>\n",
       "      <td>normal weekend</td>\n",
       "      <td>134.84</td>\n",
       "      <td>143.57</td>\n",
       "      <td>-2.6%</td>\n",
       "      <td>-2.8%</td>\n",
       "      <td>134837792</td>\n",
       "      <td>143571365</td>\n",
       "      <td>80</td>\n",
       "      <td>51</td>\n",
       "    </tr>\n",
       "    <tr>\n",
       "      <th>2</th>\n",
       "      <td>The Hobbit: The Desolation of Smaug</td>\n",
       "      <td>2013</td>\n",
       "      <td>Dec 13-15</td>\n",
       "      <td>normal weekend</td>\n",
       "      <td>138.37</td>\n",
       "      <td>147.70</td>\n",
       "      <td>+64.8%</td>\n",
       "      <td>+56.2%</td>\n",
       "      <td>138369003</td>\n",
       "      <td>147702714</td>\n",
       "      <td>94</td>\n",
       "      <td>50</td>\n",
       "    </tr>\n",
       "    <tr>\n",
       "      <th>3</th>\n",
       "      <td>Frozen</td>\n",
       "      <td>2013</td>\n",
       "      <td>Dec 6-8</td>\n",
       "      <td>Post-Thanksgiving</td>\n",
       "      <td>83.94</td>\n",
       "      <td>94.54</td>\n",
       "      <td>-55.7%</td>\n",
       "      <td>-54.6%</td>\n",
       "      <td>83941456</td>\n",
       "      <td>94535353</td>\n",
       "      <td>96</td>\n",
       "      <td>49</td>\n",
       "    </tr>\n",
       "    <tr>\n",
       "      <th>4</th>\n",
       "      <td>The Hunger Games: Catching Fire</td>\n",
       "      <td>2013</td>\n",
       "      <td>Nov 29-Dec 1</td>\n",
       "      <td>Thanksgiving 3-Day</td>\n",
       "      <td>189.48</td>\n",
       "      <td>208.13</td>\n",
       "      <td>-11.7%</td>\n",
       "      <td>-8.1%</td>\n",
       "      <td>189483142</td>\n",
       "      <td>208125032</td>\n",
       "      <td>104</td>\n",
       "      <td>48</td>\n",
       "    </tr>\n",
       "  </tbody>\n",
       "</table>\n",
       "</div>"
      ]
     },
     "execution_count": 45,
     "metadata": {},
     "output_type": "execute_result"
    }
   ],
   "execution_count": 45
  },
  {
   "metadata": {
    "ExecuteTime": {
     "end_time": "2024-12-17T20:15:53.356996Z",
     "start_time": "2024-12-17T20:15:53.349404Z"
    }
   },
   "cell_type": "code",
   "source": "web_scrape_pickle.groupby(['movie_title','year'])['overall_gross_in_millions'].sum().sort_values(ascending=False)",
   "id": "5ce900d580f0898d",
   "outputs": [
    {
     "data": {
      "text/plain": [
       "movie_title                              year\n",
       "Black Panther                            2018    1250.21\n",
       "Star Wars: Episode VIII - The Last Jedi  2017    1163.35\n",
       "Rogue One: A Star Wars Story             2016    1101.12\n",
       "The Hunger Games: Mockingjay - Part 2    2015    1004.10\n",
       "Ralph Breaks the Internet                2018     994.79\n",
       "                                                  ...   \n",
       "Phoenix, OregonRe-release                2020       0.01\n",
       "Resistance                               2020       0.01\n",
       "True History of the Kelly Gang           2020       0.01\n",
       "Strike                                   2020       0.00\n",
       "Swallow                                  2020       0.00\n",
       "Name: overall_gross_in_millions, Length: 362, dtype: float64"
      ]
     },
     "execution_count": 49,
     "metadata": {},
     "output_type": "execute_result"
    }
   ],
   "execution_count": 49
  },
  {
   "metadata": {},
   "cell_type": "markdown",
   "source": [
    "Ethical implications\n",
    "\n",
    "\n",
    "Take the root of the url, in this case https://www.boxofficemojo.com and add '/robots.txt' to the end. This will come up with a page that shows what type of web scraping is allowed or disallowed. Thankfully Box Office Mojo allows all"
   ],
   "id": "ffbc83685b8a7ef1"
  },
  {
   "metadata": {},
   "cell_type": "markdown",
   "source": "#Milestone -4",
   "id": "2278bdad0e802044"
  },
  {
   "metadata": {
    "ExecuteTime": {
     "end_time": "2024-12-19T00:31:12.112081Z",
     "start_time": "2024-12-19T00:31:12.102303Z"
    }
   },
   "cell_type": "code",
   "source": "pickle_api = pd.read_pickle(\"api_df_pickle\")",
   "id": "8ede526605ef45f",
   "outputs": [],
   "execution_count": 118
  },
  {
   "metadata": {
    "ExecuteTime": {
     "end_time": "2024-12-19T00:31:18.010Z",
     "start_time": "2024-12-19T00:31:18.004236Z"
    }
   },
   "cell_type": "code",
   "source": [
    "#pandas replace empty square brackets with [0], here genre[0] is unknown which we created earlier\n",
    "pickle_api['genre_ids'] = pickle_api['genre_ids'].apply(lambda  x : [0] if not x else x)\n",
    "\n"
   ],
   "id": "2837379af1a4ca73",
   "outputs": [],
   "execution_count": 119
  },
  {
   "metadata": {
    "ExecuteTime": {
     "end_time": "2024-12-19T00:31:24.758232Z",
     "start_time": "2024-12-19T00:31:24.745207Z"
    }
   },
   "cell_type": "code",
   "source": [
    "#First drop na columns\n",
    "pickle_api = pickle_api.dropna(subset=['genre_ids'])\n",
    "#then map the genres\n",
    "pickle_api['genre_ids'] = pickle_api['genre_ids'].apply(lambda x: [genre_dict[i] for i in x ])\n",
    "\n"
   ],
   "id": "ce6241de33f9dd14",
   "outputs": [],
   "execution_count": 120
  },
  {
   "metadata": {
    "ExecuteTime": {
     "end_time": "2024-12-19T00:31:26.909040Z",
     "start_time": "2024-12-19T00:31:26.890488Z"
    }
   },
   "cell_type": "code",
   "source": "pickle_api.head()",
   "id": "e319cb337af6c778",
   "outputs": [
    {
     "data": {
      "text/plain": [
       "   adult                     backdrop_path  \\\n",
       "0  False  /npCPnwDyWfQltGfIZKN6WqeUXGI.jpg   \n",
       "1  False  /u2bZhH3nTf0So0UIC1QxAqBvC07.jpg   \n",
       "2  False  /vD1yKObsRS2cvpmtuaCaMhr4zxe.jpg   \n",
       "3  False  /sGjhRHNiQSkgVec18D3oX45hPmz.jpg   \n",
       "4  False                              None   \n",
       "\n",
       "                                 genre_ids      id original_language  \\\n",
       "0             [Fantasy, Adventure, Action]   57158                en   \n",
       "1  [Animation, Family, Adventure, Fantasy]  109445                en   \n",
       "2                               [Thriller]   44363                en   \n",
       "3                               [Thriller]   26041                en   \n",
       "4                          [Drama, Horror]  170986                hi   \n",
       "\n",
       "                        original_title  \\\n",
       "0  The Hobbit: The Desolation of Smaug   \n",
       "1                               Frozen   \n",
       "2                               Frozen   \n",
       "3                               Frozen   \n",
       "4                               Frozen   \n",
       "\n",
       "                                            overview  popularity  \\\n",
       "0  The Dwarves, Bilbo and Gandalf have successful...      93.446   \n",
       "1  Young princess Anna of Arendelle dreams about ...     127.240   \n",
       "2  When three skiers find themselves stranded on ...      19.424   \n",
       "3  It's two years since the mysterious disappeara...       3.312   \n",
       "4  This is a touching and somber journey of Lasya...       1.903   \n",
       "\n",
       "                        poster_path release_date  \\\n",
       "0  /xQYiXsheRCDBA39DOrmaw1aSpbk.jpg   2013-12-11   \n",
       "1  /mbPrrbt8bSLcHSBCHnRclPlMZPl.jpg   2013-11-20   \n",
       "2  /2J3URUnDrIpNvh0uVqINQvr4HhW.jpg   2010-02-05   \n",
       "3  /a6RlPQUerliQLkAieku5B8Loamk.jpg   2005-03-12   \n",
       "4  /2GL9yZtrgbYKCeKBc3TF9gGfZpX.jpg   2007-07-21   \n",
       "\n",
       "                                 title  video  vote_average  vote_count  \n",
       "0  The Hobbit: The Desolation of Smaug  False         7.574     13137.0  \n",
       "1                               Frozen  False         7.200     16504.0  \n",
       "2                               Frozen  False         5.996      1815.0  \n",
       "3                               Frozen  False         5.700        18.0  \n",
       "4                               Frozen  False         7.200         4.0  "
      ],
      "text/html": [
       "<div>\n",
       "<style scoped>\n",
       "    .dataframe tbody tr th:only-of-type {\n",
       "        vertical-align: middle;\n",
       "    }\n",
       "\n",
       "    .dataframe tbody tr th {\n",
       "        vertical-align: top;\n",
       "    }\n",
       "\n",
       "    .dataframe thead th {\n",
       "        text-align: right;\n",
       "    }\n",
       "</style>\n",
       "<table border=\"1\" class=\"dataframe\">\n",
       "  <thead>\n",
       "    <tr style=\"text-align: right;\">\n",
       "      <th></th>\n",
       "      <th>adult</th>\n",
       "      <th>backdrop_path</th>\n",
       "      <th>genre_ids</th>\n",
       "      <th>id</th>\n",
       "      <th>original_language</th>\n",
       "      <th>original_title</th>\n",
       "      <th>overview</th>\n",
       "      <th>popularity</th>\n",
       "      <th>poster_path</th>\n",
       "      <th>release_date</th>\n",
       "      <th>title</th>\n",
       "      <th>video</th>\n",
       "      <th>vote_average</th>\n",
       "      <th>vote_count</th>\n",
       "    </tr>\n",
       "  </thead>\n",
       "  <tbody>\n",
       "    <tr>\n",
       "      <th>0</th>\n",
       "      <td>False</td>\n",
       "      <td>/npCPnwDyWfQltGfIZKN6WqeUXGI.jpg</td>\n",
       "      <td>[Fantasy, Adventure, Action]</td>\n",
       "      <td>57158</td>\n",
       "      <td>en</td>\n",
       "      <td>The Hobbit: The Desolation of Smaug</td>\n",
       "      <td>The Dwarves, Bilbo and Gandalf have successful...</td>\n",
       "      <td>93.446</td>\n",
       "      <td>/xQYiXsheRCDBA39DOrmaw1aSpbk.jpg</td>\n",
       "      <td>2013-12-11</td>\n",
       "      <td>The Hobbit: The Desolation of Smaug</td>\n",
       "      <td>False</td>\n",
       "      <td>7.574</td>\n",
       "      <td>13137.0</td>\n",
       "    </tr>\n",
       "    <tr>\n",
       "      <th>1</th>\n",
       "      <td>False</td>\n",
       "      <td>/u2bZhH3nTf0So0UIC1QxAqBvC07.jpg</td>\n",
       "      <td>[Animation, Family, Adventure, Fantasy]</td>\n",
       "      <td>109445</td>\n",
       "      <td>en</td>\n",
       "      <td>Frozen</td>\n",
       "      <td>Young princess Anna of Arendelle dreams about ...</td>\n",
       "      <td>127.240</td>\n",
       "      <td>/mbPrrbt8bSLcHSBCHnRclPlMZPl.jpg</td>\n",
       "      <td>2013-11-20</td>\n",
       "      <td>Frozen</td>\n",
       "      <td>False</td>\n",
       "      <td>7.200</td>\n",
       "      <td>16504.0</td>\n",
       "    </tr>\n",
       "    <tr>\n",
       "      <th>2</th>\n",
       "      <td>False</td>\n",
       "      <td>/vD1yKObsRS2cvpmtuaCaMhr4zxe.jpg</td>\n",
       "      <td>[Thriller]</td>\n",
       "      <td>44363</td>\n",
       "      <td>en</td>\n",
       "      <td>Frozen</td>\n",
       "      <td>When three skiers find themselves stranded on ...</td>\n",
       "      <td>19.424</td>\n",
       "      <td>/2J3URUnDrIpNvh0uVqINQvr4HhW.jpg</td>\n",
       "      <td>2010-02-05</td>\n",
       "      <td>Frozen</td>\n",
       "      <td>False</td>\n",
       "      <td>5.996</td>\n",
       "      <td>1815.0</td>\n",
       "    </tr>\n",
       "    <tr>\n",
       "      <th>3</th>\n",
       "      <td>False</td>\n",
       "      <td>/sGjhRHNiQSkgVec18D3oX45hPmz.jpg</td>\n",
       "      <td>[Thriller]</td>\n",
       "      <td>26041</td>\n",
       "      <td>en</td>\n",
       "      <td>Frozen</td>\n",
       "      <td>It's two years since the mysterious disappeara...</td>\n",
       "      <td>3.312</td>\n",
       "      <td>/a6RlPQUerliQLkAieku5B8Loamk.jpg</td>\n",
       "      <td>2005-03-12</td>\n",
       "      <td>Frozen</td>\n",
       "      <td>False</td>\n",
       "      <td>5.700</td>\n",
       "      <td>18.0</td>\n",
       "    </tr>\n",
       "    <tr>\n",
       "      <th>4</th>\n",
       "      <td>False</td>\n",
       "      <td>None</td>\n",
       "      <td>[Drama, Horror]</td>\n",
       "      <td>170986</td>\n",
       "      <td>hi</td>\n",
       "      <td>Frozen</td>\n",
       "      <td>This is a touching and somber journey of Lasya...</td>\n",
       "      <td>1.903</td>\n",
       "      <td>/2GL9yZtrgbYKCeKBc3TF9gGfZpX.jpg</td>\n",
       "      <td>2007-07-21</td>\n",
       "      <td>Frozen</td>\n",
       "      <td>False</td>\n",
       "      <td>7.200</td>\n",
       "      <td>4.0</td>\n",
       "    </tr>\n",
       "  </tbody>\n",
       "</table>\n",
       "</div>"
      ]
     },
     "execution_count": 121,
     "metadata": {},
     "output_type": "execute_result"
    }
   ],
   "execution_count": 121
  },
  {
   "metadata": {
    "ExecuteTime": {
     "end_time": "2024-12-19T00:31:41.259203Z",
     "start_time": "2024-12-19T00:31:41.251723Z"
    }
   },
   "cell_type": "code",
   "source": [
    "#removing brackets from list type inside pandas cell\n",
    "pickle_api['genre_ids'] = pickle_api['genre_ids'].str.join(',')\n"
   ],
   "id": "611fe65df3a4cd4d",
   "outputs": [],
   "execution_count": 122
  },
  {
   "metadata": {
    "ExecuteTime": {
     "end_time": "2024-12-19T00:31:55.820409Z",
     "start_time": "2024-12-19T00:31:55.803375Z"
    }
   },
   "cell_type": "code",
   "source": "pickle_api.head()",
   "id": "b1e05ec4c0745da4",
   "outputs": [
    {
     "data": {
      "text/plain": [
       "   adult                     backdrop_path  \\\n",
       "0  False  /npCPnwDyWfQltGfIZKN6WqeUXGI.jpg   \n",
       "1  False  /u2bZhH3nTf0So0UIC1QxAqBvC07.jpg   \n",
       "2  False  /vD1yKObsRS2cvpmtuaCaMhr4zxe.jpg   \n",
       "3  False  /sGjhRHNiQSkgVec18D3oX45hPmz.jpg   \n",
       "4  False                              None   \n",
       "\n",
       "                            genre_ids      id original_language  \\\n",
       "0            Fantasy,Adventure,Action   57158                en   \n",
       "1  Animation,Family,Adventure,Fantasy  109445                en   \n",
       "2                            Thriller   44363                en   \n",
       "3                            Thriller   26041                en   \n",
       "4                        Drama,Horror  170986                hi   \n",
       "\n",
       "                        original_title  \\\n",
       "0  The Hobbit: The Desolation of Smaug   \n",
       "1                               Frozen   \n",
       "2                               Frozen   \n",
       "3                               Frozen   \n",
       "4                               Frozen   \n",
       "\n",
       "                                            overview  popularity  \\\n",
       "0  The Dwarves, Bilbo and Gandalf have successful...      93.446   \n",
       "1  Young princess Anna of Arendelle dreams about ...     127.240   \n",
       "2  When three skiers find themselves stranded on ...      19.424   \n",
       "3  It's two years since the mysterious disappeara...       3.312   \n",
       "4  This is a touching and somber journey of Lasya...       1.903   \n",
       "\n",
       "                        poster_path release_date  \\\n",
       "0  /xQYiXsheRCDBA39DOrmaw1aSpbk.jpg   2013-12-11   \n",
       "1  /mbPrrbt8bSLcHSBCHnRclPlMZPl.jpg   2013-11-20   \n",
       "2  /2J3URUnDrIpNvh0uVqINQvr4HhW.jpg   2010-02-05   \n",
       "3  /a6RlPQUerliQLkAieku5B8Loamk.jpg   2005-03-12   \n",
       "4  /2GL9yZtrgbYKCeKBc3TF9gGfZpX.jpg   2007-07-21   \n",
       "\n",
       "                                 title  video  vote_average  vote_count  \n",
       "0  The Hobbit: The Desolation of Smaug  False         7.574     13137.0  \n",
       "1                               Frozen  False         7.200     16504.0  \n",
       "2                               Frozen  False         5.996      1815.0  \n",
       "3                               Frozen  False         5.700        18.0  \n",
       "4                               Frozen  False         7.200         4.0  "
      ],
      "text/html": [
       "<div>\n",
       "<style scoped>\n",
       "    .dataframe tbody tr th:only-of-type {\n",
       "        vertical-align: middle;\n",
       "    }\n",
       "\n",
       "    .dataframe tbody tr th {\n",
       "        vertical-align: top;\n",
       "    }\n",
       "\n",
       "    .dataframe thead th {\n",
       "        text-align: right;\n",
       "    }\n",
       "</style>\n",
       "<table border=\"1\" class=\"dataframe\">\n",
       "  <thead>\n",
       "    <tr style=\"text-align: right;\">\n",
       "      <th></th>\n",
       "      <th>adult</th>\n",
       "      <th>backdrop_path</th>\n",
       "      <th>genre_ids</th>\n",
       "      <th>id</th>\n",
       "      <th>original_language</th>\n",
       "      <th>original_title</th>\n",
       "      <th>overview</th>\n",
       "      <th>popularity</th>\n",
       "      <th>poster_path</th>\n",
       "      <th>release_date</th>\n",
       "      <th>title</th>\n",
       "      <th>video</th>\n",
       "      <th>vote_average</th>\n",
       "      <th>vote_count</th>\n",
       "    </tr>\n",
       "  </thead>\n",
       "  <tbody>\n",
       "    <tr>\n",
       "      <th>0</th>\n",
       "      <td>False</td>\n",
       "      <td>/npCPnwDyWfQltGfIZKN6WqeUXGI.jpg</td>\n",
       "      <td>Fantasy,Adventure,Action</td>\n",
       "      <td>57158</td>\n",
       "      <td>en</td>\n",
       "      <td>The Hobbit: The Desolation of Smaug</td>\n",
       "      <td>The Dwarves, Bilbo and Gandalf have successful...</td>\n",
       "      <td>93.446</td>\n",
       "      <td>/xQYiXsheRCDBA39DOrmaw1aSpbk.jpg</td>\n",
       "      <td>2013-12-11</td>\n",
       "      <td>The Hobbit: The Desolation of Smaug</td>\n",
       "      <td>False</td>\n",
       "      <td>7.574</td>\n",
       "      <td>13137.0</td>\n",
       "    </tr>\n",
       "    <tr>\n",
       "      <th>1</th>\n",
       "      <td>False</td>\n",
       "      <td>/u2bZhH3nTf0So0UIC1QxAqBvC07.jpg</td>\n",
       "      <td>Animation,Family,Adventure,Fantasy</td>\n",
       "      <td>109445</td>\n",
       "      <td>en</td>\n",
       "      <td>Frozen</td>\n",
       "      <td>Young princess Anna of Arendelle dreams about ...</td>\n",
       "      <td>127.240</td>\n",
       "      <td>/mbPrrbt8bSLcHSBCHnRclPlMZPl.jpg</td>\n",
       "      <td>2013-11-20</td>\n",
       "      <td>Frozen</td>\n",
       "      <td>False</td>\n",
       "      <td>7.200</td>\n",
       "      <td>16504.0</td>\n",
       "    </tr>\n",
       "    <tr>\n",
       "      <th>2</th>\n",
       "      <td>False</td>\n",
       "      <td>/vD1yKObsRS2cvpmtuaCaMhr4zxe.jpg</td>\n",
       "      <td>Thriller</td>\n",
       "      <td>44363</td>\n",
       "      <td>en</td>\n",
       "      <td>Frozen</td>\n",
       "      <td>When three skiers find themselves stranded on ...</td>\n",
       "      <td>19.424</td>\n",
       "      <td>/2J3URUnDrIpNvh0uVqINQvr4HhW.jpg</td>\n",
       "      <td>2010-02-05</td>\n",
       "      <td>Frozen</td>\n",
       "      <td>False</td>\n",
       "      <td>5.996</td>\n",
       "      <td>1815.0</td>\n",
       "    </tr>\n",
       "    <tr>\n",
       "      <th>3</th>\n",
       "      <td>False</td>\n",
       "      <td>/sGjhRHNiQSkgVec18D3oX45hPmz.jpg</td>\n",
       "      <td>Thriller</td>\n",
       "      <td>26041</td>\n",
       "      <td>en</td>\n",
       "      <td>Frozen</td>\n",
       "      <td>It's two years since the mysterious disappeara...</td>\n",
       "      <td>3.312</td>\n",
       "      <td>/a6RlPQUerliQLkAieku5B8Loamk.jpg</td>\n",
       "      <td>2005-03-12</td>\n",
       "      <td>Frozen</td>\n",
       "      <td>False</td>\n",
       "      <td>5.700</td>\n",
       "      <td>18.0</td>\n",
       "    </tr>\n",
       "    <tr>\n",
       "      <th>4</th>\n",
       "      <td>False</td>\n",
       "      <td>None</td>\n",
       "      <td>Drama,Horror</td>\n",
       "      <td>170986</td>\n",
       "      <td>hi</td>\n",
       "      <td>Frozen</td>\n",
       "      <td>This is a touching and somber journey of Lasya...</td>\n",
       "      <td>1.903</td>\n",
       "      <td>/2GL9yZtrgbYKCeKBc3TF9gGfZpX.jpg</td>\n",
       "      <td>2007-07-21</td>\n",
       "      <td>Frozen</td>\n",
       "      <td>False</td>\n",
       "      <td>7.200</td>\n",
       "      <td>4.0</td>\n",
       "    </tr>\n",
       "  </tbody>\n",
       "</table>\n",
       "</div>"
      ]
     },
     "execution_count": 124,
     "metadata": {},
     "output_type": "execute_result"
    }
   ],
   "execution_count": 124
  },
  {
   "metadata": {},
   "cell_type": "code",
   "outputs": [
    {
     "data": {
      "text/plain": [
       "genre_ids\n",
       "unknown                                              328\n",
       "Documentary                                          260\n",
       "Drama                                                188\n",
       "Comedy                                               129\n",
       "Horror                                               124\n",
       "                                                    ... \n",
       "Thriller,Mystery,Drama,Crime                           1\n",
       "Documentary,History,Crime                              1\n",
       "Crime,Thriller,Action                                  1\n",
       "TV Movie,Action,Adventure,Fantasy,Science Fiction      1\n",
       "Horror,Mystery,Thriller,Comedy,Romance                 1\n",
       "Name: count, Length: 766, dtype: int64"
      ]
     },
     "execution_count": 123,
     "metadata": {},
     "output_type": "execute_result"
    }
   ],
   "execution_count": 123,
   "source": "pickle_api['genre_ids'].value_counts()",
   "id": "5ab48462b315a858"
  },
  {
   "metadata": {},
   "cell_type": "markdown",
   "source": "#Milestone -5",
   "id": "1de8a11447c5d506"
  },
  {
   "metadata": {},
   "cell_type": "code",
   "outputs": [],
   "execution_count": 47,
   "source": [
    "# importing sqlite3 library\n",
    "import sqlalchemy\n",
    "from sqlalchemy import create_engine , select, MetaData, Table, and_\n",
    "import pandas as pd\n",
    "import sqlite3"
   ],
   "id": "3c8101949aad3c3a"
  },
  {
   "metadata": {
    "ExecuteTime": {
     "end_time": "2024-12-10T04:17:10.462641Z",
     "start_time": "2024-12-10T04:17:10.438783Z"
    }
   },
   "cell_type": "code",
   "source": "engine = sqlalchemy.create_engine('sqlite:///movie_world.db', echo=False)",
   "id": "6ea496f952ab7f67",
   "outputs": [],
   "execution_count": 48
  },
  {
   "metadata": {
    "ExecuteTime": {
     "end_time": "2024-12-10T04:19:15.223544Z",
     "start_time": "2024-12-10T04:19:14.824370Z"
    }
   },
   "cell_type": "code",
   "source": "api_df.to_sql('2021_22_api_results', con=engine, if_exists='append')",
   "id": "3097995787b9023e",
   "outputs": [
    {
     "ename": "ProgrammingError",
     "evalue": "(sqlite3.ProgrammingError) Error binding parameter 4: type 'list' is not supported\n[SQL: INSERT INTO \"2021_22_api_results\" (\"index\", adult, backdrop_path, genre_ids, id, original_language, original_title, overview, popularity, poster_path, release_date, title, video, vote_average, vote_count) VALUES (?, ?, ?, ?, ?, ?, ?, ?, ?, ?, ?, ?, ?, ?, ?)]\n[parameters: [(0, 0, '/2QR0OpYzPFG84EswxENqcPuHmP.jpg', [10752], 1041317, 'en', 'Battle for the Western Front', 'Inspired by Canuck WWI flying ace Billy Bishop, two young soldiers crash the front lines in August 1918. With the Allies detained, their platoon must desperately hold out alongside legendary Anishinaabe sniper Francis \"Peggy\" Pegahmagabow.', 291.934, '/ooHEL3XyLYu3hus5cMnpjeH4e7A.jpg', '2022-10-06', 'Battle for the Western Front', 0, 5.65, 10), (1, 0, '/vIgyYkXkg6NC2whRbYjBD7eb3Er.jpg', [878, 28, 12], 580489, 'en', 'Venom: Let There Be Carnage', 'After finding a host body in investigative reporter Eddie Brock, the alien symbiote must face a new enemy, Carnage, the alter ego of serial killer Cletus Kasady.', 341.095, '/1MJNcPZy46hIy2CmSqOeru0yr5C.jpg', '2021-09-30', 'Venom: Let There Be Carnage', 0, 6.8, 10268), (2, 0, '/zD5v1E4joAzFvmAEytt7fM3ivyT.jpg', [28, 12, 878], 634649, 'en', 'Spider-Man: No Way Home', 'Peter Parker is unmasked and no longer able to separate his normal life from the high-stakes of being a super-hero. When he asks for help from Doctor Strange the stakes become even more dangerous, forcing him to discover what it truly means to be Spider-Man.', 274.537, '/1g0dhYtq4irTY1GPXvft6k4YLjm.jpg', '2021-12-15', 'Spider-Man: No Way Home', 0, 7.955, 20183), (3, 0, '/5tqkP8NNWdteskVBYPRXE6h82ts.jpg', [18], 592695, 'sv', 'Pleasure', \"19 year old Linnéa leaves her small town in Sweden and heads for Los Angeles with the aim of becoming the world's next big porn star, but the road to her goal turns out to be bumpier than she imagined.\", 256.224, '/7Z2K08J0WantJHNa0vLTOmii41l.jpg', '2021-10-08', 'Pleasure', 0, 6.223, 555), (4, 0, '/AaV1YIdWKnjAIAOe8UUKBFm327v.jpg', [28, 18], 361743, 'en', 'Top Gun: Maverick', 'After more than thirty years of service as one of the Navy’s top aviators, and dodging the advancement in rank that would ground him, Pete “Maverick” Mitchell finds himself training a detachment of TOP GUN graduates for a specialized mission the likes of which no living pilot has ever seen.', 209.169, '/62HCnUTziyWcpDaBO2i1DX17ljH.jpg', '2022-05-21', 'Top Gun: Maverick', 0, 8.2, 9249), (5, 0, '/zBG5Mg29NH9xxpWMMG7BIvKwYhL.jpg', [10749, 18], 829557, 'pl', '365 dni: Ten dzień', \"Laura and Massimo are back and hotter than ever. But the reunited couple's new beginning is complicated by Massimo’s family ties and a mysterious man who enters Laura’s life to win her heart and trust, at any cost.\", 213.715, '/7qU0SOVcQ8BTJLodcAlulUAG16C.jpg', '2022-04-26', '365 Days: This Day', 0, 5.878, 1541), (6, 0, '/70AV2Xx5FQYj20labp0EGdbjI6E.jpg', [80, 28, 53], 637649, 'en', 'Wrath of Man', \"A cold and mysterious new security guard for a Los Angeles cash truck company surprises his co-workers when he unleashes precision skills during a he ... (29 characters truncated) ... ng who he is and where he came from. Soon, the marksman's ultimate motive becomes clear as he takes dramatic and irrevocable steps to settle a score.\", 186.029, '/M7SUK85sKjaStg4TKhlAVyGlz3.jpg', '2021-04-22', 'Wrath of Man', 0, 7.6, 5301), (7, 0, '/m7SBIIL6Y6Df6a8oqWwHzWLzo80.jpg', [28, 12, 10751, 35], 675353, 'en', 'Sonic the Hedgehog 2', 'After settling in Green Hills, Sonic is eager to prove he has what it takes to be a true hero. His test comes when Dr. Robotnik returns, this time wi ... (104 characters truncated) ... teams up with his own sidekick, Tails, and together they embark on a globe-trotting journey to find the emerald before it falls into the wrong hands.', 173.852, '/6DrHO1jr3qVrViUO6s6kFiAGM7.jpg', '2022-03-30', 'Sonic the Hedgehog 2', 0, 7.497, 5000)  ... displaying 10 of 180 total bound parameter sets ...  (178, 0, '/cmquA5exHGsOfcVDrwitAN1EDmN.jpg', [28, 35, 80, 53], 522931, 'en', \"Hitman's Wife's Bodyguard\", \"The world’s most lethal odd couple – bodyguard Michael Bryce and hitman Darius Kincaid – are back on another life-threatening mission. Still unlicens ... (206 characters truncated) ... tees, the trio get in over their heads in a global plot and soon find that they are all that stand between Europe and a vengeful and powerful madman.\", 37.574, '/6zwGWDpY8Zu0L6W4SYWERBR8Msw.jpg', '2021-06-14', \"Hitman's Wife's Bodyguard\", 0, 6.7, 2270), (179, 0, '/dK12GIdhGP6NPGFssK2Fh265jyr.jpg', [28, 35, 80], 512195, 'en', 'Red Notice', \"An Interpol-issued Red Notice is a global alert to hunt and capture the world's most wanted. But when a daring heist brings together the FBI's top profiler and two rival criminals, there's no telling what will happen.\", 44.799, '/lAXONuqg41NwUMuzMiFvicDET9Y.jpg', '2021-11-04', 'Red Notice', 0, 6.769, 5789)]]\n(Background on this error at: https://sqlalche.me/e/20/f405)",
     "output_type": "error",
     "traceback": [
      "\u001B[1;31m---------------------------------------------------------------------------\u001B[0m",
      "\u001B[1;31mProgrammingError\u001B[0m                          Traceback (most recent call last)",
      "File \u001B[1;32m~\\gyan-python-workspace\\jup-workspace\\venv\\Lib\\site-packages\\sqlalchemy\\engine\\base.py:1936\u001B[0m, in \u001B[0;36mConnection._exec_single_context\u001B[1;34m(self, dialect, context, statement, parameters)\u001B[0m\n\u001B[0;32m   1935\u001B[0m     \u001B[38;5;28;01mif\u001B[39;00m \u001B[38;5;129;01mnot\u001B[39;00m evt_handled:\n\u001B[1;32m-> 1936\u001B[0m         \u001B[38;5;28;43mself\u001B[39;49m\u001B[38;5;241;43m.\u001B[39;49m\u001B[43mdialect\u001B[49m\u001B[38;5;241;43m.\u001B[39;49m\u001B[43mdo_executemany\u001B[49m\u001B[43m(\u001B[49m\n\u001B[0;32m   1937\u001B[0m \u001B[43m            \u001B[49m\u001B[43mcursor\u001B[49m\u001B[43m,\u001B[49m\n\u001B[0;32m   1938\u001B[0m \u001B[43m            \u001B[49m\u001B[43mstr_statement\u001B[49m\u001B[43m,\u001B[49m\n\u001B[0;32m   1939\u001B[0m \u001B[43m            \u001B[49m\u001B[43meffective_parameters\u001B[49m\u001B[43m,\u001B[49m\n\u001B[0;32m   1940\u001B[0m \u001B[43m            \u001B[49m\u001B[43mcontext\u001B[49m\u001B[43m,\u001B[49m\n\u001B[0;32m   1941\u001B[0m \u001B[43m        \u001B[49m\u001B[43m)\u001B[49m\n\u001B[0;32m   1942\u001B[0m \u001B[38;5;28;01melif\u001B[39;00m \u001B[38;5;129;01mnot\u001B[39;00m effective_parameters \u001B[38;5;129;01mand\u001B[39;00m context\u001B[38;5;241m.\u001B[39mno_parameters:\n",
      "File \u001B[1;32m~\\gyan-python-workspace\\jup-workspace\\venv\\Lib\\site-packages\\sqlalchemy\\engine\\default.py:938\u001B[0m, in \u001B[0;36mDefaultDialect.do_executemany\u001B[1;34m(self, cursor, statement, parameters, context)\u001B[0m\n\u001B[0;32m    937\u001B[0m \u001B[38;5;28;01mdef\u001B[39;00m \u001B[38;5;21mdo_executemany\u001B[39m(\u001B[38;5;28mself\u001B[39m, cursor, statement, parameters, context\u001B[38;5;241m=\u001B[39m\u001B[38;5;28;01mNone\u001B[39;00m):\n\u001B[1;32m--> 938\u001B[0m     \u001B[43mcursor\u001B[49m\u001B[38;5;241;43m.\u001B[39;49m\u001B[43mexecutemany\u001B[49m\u001B[43m(\u001B[49m\u001B[43mstatement\u001B[49m\u001B[43m,\u001B[49m\u001B[43m \u001B[49m\u001B[43mparameters\u001B[49m\u001B[43m)\u001B[49m\n",
      "\u001B[1;31mProgrammingError\u001B[0m: Error binding parameter 4: type 'list' is not supported",
      "\nThe above exception was the direct cause of the following exception:\n",
      "\u001B[1;31mProgrammingError\u001B[0m                          Traceback (most recent call last)",
      "Cell \u001B[1;32mIn[50], line 1\u001B[0m\n\u001B[1;32m----> 1\u001B[0m \u001B[43mapi_df\u001B[49m\u001B[38;5;241;43m.\u001B[39;49m\u001B[43mto_sql\u001B[49m\u001B[43m(\u001B[49m\u001B[38;5;124;43m'\u001B[39;49m\u001B[38;5;124;43m2021_22_api_results\u001B[39;49m\u001B[38;5;124;43m'\u001B[39;49m\u001B[43m,\u001B[49m\u001B[43m \u001B[49m\u001B[43mcon\u001B[49m\u001B[38;5;241;43m=\u001B[39;49m\u001B[43mengine\u001B[49m\u001B[43m,\u001B[49m\u001B[43m \u001B[49m\u001B[43mif_exists\u001B[49m\u001B[38;5;241;43m=\u001B[39;49m\u001B[38;5;124;43m'\u001B[39;49m\u001B[38;5;124;43mappend\u001B[39;49m\u001B[38;5;124;43m'\u001B[39;49m\u001B[43m)\u001B[49m\n",
      "File \u001B[1;32m~\\gyan-python-workspace\\jup-workspace\\venv\\Lib\\site-packages\\pandas\\util\\_decorators.py:333\u001B[0m, in \u001B[0;36mdeprecate_nonkeyword_arguments.<locals>.decorate.<locals>.wrapper\u001B[1;34m(*args, **kwargs)\u001B[0m\n\u001B[0;32m    327\u001B[0m \u001B[38;5;28;01mif\u001B[39;00m \u001B[38;5;28mlen\u001B[39m(args) \u001B[38;5;241m>\u001B[39m num_allow_args:\n\u001B[0;32m    328\u001B[0m     warnings\u001B[38;5;241m.\u001B[39mwarn(\n\u001B[0;32m    329\u001B[0m         msg\u001B[38;5;241m.\u001B[39mformat(arguments\u001B[38;5;241m=\u001B[39m_format_argument_list(allow_args)),\n\u001B[0;32m    330\u001B[0m         \u001B[38;5;167;01mFutureWarning\u001B[39;00m,\n\u001B[0;32m    331\u001B[0m         stacklevel\u001B[38;5;241m=\u001B[39mfind_stack_level(),\n\u001B[0;32m    332\u001B[0m     )\n\u001B[1;32m--> 333\u001B[0m \u001B[38;5;28;01mreturn\u001B[39;00m \u001B[43mfunc\u001B[49m\u001B[43m(\u001B[49m\u001B[38;5;241;43m*\u001B[39;49m\u001B[43margs\u001B[49m\u001B[43m,\u001B[49m\u001B[43m \u001B[49m\u001B[38;5;241;43m*\u001B[39;49m\u001B[38;5;241;43m*\u001B[39;49m\u001B[43mkwargs\u001B[49m\u001B[43m)\u001B[49m\n",
      "File \u001B[1;32m~\\gyan-python-workspace\\jup-workspace\\venv\\Lib\\site-packages\\pandas\\core\\generic.py:3087\u001B[0m, in \u001B[0;36mNDFrame.to_sql\u001B[1;34m(self, name, con, schema, if_exists, index, index_label, chunksize, dtype, method)\u001B[0m\n\u001B[0;32m   2889\u001B[0m \u001B[38;5;250m\u001B[39m\u001B[38;5;124;03m\"\"\"\u001B[39;00m\n\u001B[0;32m   2890\u001B[0m \u001B[38;5;124;03mWrite records stored in a DataFrame to a SQL database.\u001B[39;00m\n\u001B[0;32m   2891\u001B[0m \n\u001B[1;32m   (...)\u001B[0m\n\u001B[0;32m   3083\u001B[0m \u001B[38;5;124;03m[(1,), (None,), (2,)]\u001B[39;00m\n\u001B[0;32m   3084\u001B[0m \u001B[38;5;124;03m\"\"\"\u001B[39;00m  \u001B[38;5;66;03m# noqa: E501\u001B[39;00m\n\u001B[0;32m   3085\u001B[0m \u001B[38;5;28;01mfrom\u001B[39;00m \u001B[38;5;21;01mpandas\u001B[39;00m\u001B[38;5;21;01m.\u001B[39;00m\u001B[38;5;21;01mio\u001B[39;00m \u001B[38;5;28;01mimport\u001B[39;00m sql\n\u001B[1;32m-> 3087\u001B[0m \u001B[38;5;28;01mreturn\u001B[39;00m \u001B[43msql\u001B[49m\u001B[38;5;241;43m.\u001B[39;49m\u001B[43mto_sql\u001B[49m\u001B[43m(\u001B[49m\n\u001B[0;32m   3088\u001B[0m \u001B[43m    \u001B[49m\u001B[38;5;28;43mself\u001B[39;49m\u001B[43m,\u001B[49m\n\u001B[0;32m   3089\u001B[0m \u001B[43m    \u001B[49m\u001B[43mname\u001B[49m\u001B[43m,\u001B[49m\n\u001B[0;32m   3090\u001B[0m \u001B[43m    \u001B[49m\u001B[43mcon\u001B[49m\u001B[43m,\u001B[49m\n\u001B[0;32m   3091\u001B[0m \u001B[43m    \u001B[49m\u001B[43mschema\u001B[49m\u001B[38;5;241;43m=\u001B[39;49m\u001B[43mschema\u001B[49m\u001B[43m,\u001B[49m\n\u001B[0;32m   3092\u001B[0m \u001B[43m    \u001B[49m\u001B[43mif_exists\u001B[49m\u001B[38;5;241;43m=\u001B[39;49m\u001B[43mif_exists\u001B[49m\u001B[43m,\u001B[49m\n\u001B[0;32m   3093\u001B[0m \u001B[43m    \u001B[49m\u001B[43mindex\u001B[49m\u001B[38;5;241;43m=\u001B[39;49m\u001B[43mindex\u001B[49m\u001B[43m,\u001B[49m\n\u001B[0;32m   3094\u001B[0m \u001B[43m    \u001B[49m\u001B[43mindex_label\u001B[49m\u001B[38;5;241;43m=\u001B[39;49m\u001B[43mindex_label\u001B[49m\u001B[43m,\u001B[49m\n\u001B[0;32m   3095\u001B[0m \u001B[43m    \u001B[49m\u001B[43mchunksize\u001B[49m\u001B[38;5;241;43m=\u001B[39;49m\u001B[43mchunksize\u001B[49m\u001B[43m,\u001B[49m\n\u001B[0;32m   3096\u001B[0m \u001B[43m    \u001B[49m\u001B[43mdtype\u001B[49m\u001B[38;5;241;43m=\u001B[39;49m\u001B[43mdtype\u001B[49m\u001B[43m,\u001B[49m\n\u001B[0;32m   3097\u001B[0m \u001B[43m    \u001B[49m\u001B[43mmethod\u001B[49m\u001B[38;5;241;43m=\u001B[39;49m\u001B[43mmethod\u001B[49m\u001B[43m,\u001B[49m\n\u001B[0;32m   3098\u001B[0m \u001B[43m\u001B[49m\u001B[43m)\u001B[49m\n",
      "File \u001B[1;32m~\\gyan-python-workspace\\jup-workspace\\venv\\Lib\\site-packages\\pandas\\io\\sql.py:842\u001B[0m, in \u001B[0;36mto_sql\u001B[1;34m(frame, name, con, schema, if_exists, index, index_label, chunksize, dtype, method, engine, **engine_kwargs)\u001B[0m\n\u001B[0;32m    837\u001B[0m     \u001B[38;5;28;01mraise\u001B[39;00m \u001B[38;5;167;01mNotImplementedError\u001B[39;00m(\n\u001B[0;32m    838\u001B[0m         \u001B[38;5;124m\"\u001B[39m\u001B[38;5;124m'\u001B[39m\u001B[38;5;124mframe\u001B[39m\u001B[38;5;124m'\u001B[39m\u001B[38;5;124m argument should be either a Series or a DataFrame\u001B[39m\u001B[38;5;124m\"\u001B[39m\n\u001B[0;32m    839\u001B[0m     )\n\u001B[0;32m    841\u001B[0m \u001B[38;5;28;01mwith\u001B[39;00m pandasSQL_builder(con, schema\u001B[38;5;241m=\u001B[39mschema, need_transaction\u001B[38;5;241m=\u001B[39m\u001B[38;5;28;01mTrue\u001B[39;00m) \u001B[38;5;28;01mas\u001B[39;00m pandas_sql:\n\u001B[1;32m--> 842\u001B[0m     \u001B[38;5;28;01mreturn\u001B[39;00m \u001B[43mpandas_sql\u001B[49m\u001B[38;5;241;43m.\u001B[39;49m\u001B[43mto_sql\u001B[49m\u001B[43m(\u001B[49m\n\u001B[0;32m    843\u001B[0m \u001B[43m        \u001B[49m\u001B[43mframe\u001B[49m\u001B[43m,\u001B[49m\n\u001B[0;32m    844\u001B[0m \u001B[43m        \u001B[49m\u001B[43mname\u001B[49m\u001B[43m,\u001B[49m\n\u001B[0;32m    845\u001B[0m \u001B[43m        \u001B[49m\u001B[43mif_exists\u001B[49m\u001B[38;5;241;43m=\u001B[39;49m\u001B[43mif_exists\u001B[49m\u001B[43m,\u001B[49m\n\u001B[0;32m    846\u001B[0m \u001B[43m        \u001B[49m\u001B[43mindex\u001B[49m\u001B[38;5;241;43m=\u001B[39;49m\u001B[43mindex\u001B[49m\u001B[43m,\u001B[49m\n\u001B[0;32m    847\u001B[0m \u001B[43m        \u001B[49m\u001B[43mindex_label\u001B[49m\u001B[38;5;241;43m=\u001B[39;49m\u001B[43mindex_label\u001B[49m\u001B[43m,\u001B[49m\n\u001B[0;32m    848\u001B[0m \u001B[43m        \u001B[49m\u001B[43mschema\u001B[49m\u001B[38;5;241;43m=\u001B[39;49m\u001B[43mschema\u001B[49m\u001B[43m,\u001B[49m\n\u001B[0;32m    849\u001B[0m \u001B[43m        \u001B[49m\u001B[43mchunksize\u001B[49m\u001B[38;5;241;43m=\u001B[39;49m\u001B[43mchunksize\u001B[49m\u001B[43m,\u001B[49m\n\u001B[0;32m    850\u001B[0m \u001B[43m        \u001B[49m\u001B[43mdtype\u001B[49m\u001B[38;5;241;43m=\u001B[39;49m\u001B[43mdtype\u001B[49m\u001B[43m,\u001B[49m\n\u001B[0;32m    851\u001B[0m \u001B[43m        \u001B[49m\u001B[43mmethod\u001B[49m\u001B[38;5;241;43m=\u001B[39;49m\u001B[43mmethod\u001B[49m\u001B[43m,\u001B[49m\n\u001B[0;32m    852\u001B[0m \u001B[43m        \u001B[49m\u001B[43mengine\u001B[49m\u001B[38;5;241;43m=\u001B[39;49m\u001B[43mengine\u001B[49m\u001B[43m,\u001B[49m\n\u001B[0;32m    853\u001B[0m \u001B[43m        \u001B[49m\u001B[38;5;241;43m*\u001B[39;49m\u001B[38;5;241;43m*\u001B[39;49m\u001B[43mengine_kwargs\u001B[49m\u001B[43m,\u001B[49m\n\u001B[0;32m    854\u001B[0m \u001B[43m    \u001B[49m\u001B[43m)\u001B[49m\n",
      "File \u001B[1;32m~\\gyan-python-workspace\\jup-workspace\\venv\\Lib\\site-packages\\pandas\\io\\sql.py:2018\u001B[0m, in \u001B[0;36mSQLDatabase.to_sql\u001B[1;34m(self, frame, name, if_exists, index, index_label, schema, chunksize, dtype, method, engine, **engine_kwargs)\u001B[0m\n\u001B[0;32m   2006\u001B[0m sql_engine \u001B[38;5;241m=\u001B[39m get_engine(engine)\n\u001B[0;32m   2008\u001B[0m table \u001B[38;5;241m=\u001B[39m \u001B[38;5;28mself\u001B[39m\u001B[38;5;241m.\u001B[39mprep_table(\n\u001B[0;32m   2009\u001B[0m     frame\u001B[38;5;241m=\u001B[39mframe,\n\u001B[0;32m   2010\u001B[0m     name\u001B[38;5;241m=\u001B[39mname,\n\u001B[1;32m   (...)\u001B[0m\n\u001B[0;32m   2015\u001B[0m     dtype\u001B[38;5;241m=\u001B[39mdtype,\n\u001B[0;32m   2016\u001B[0m )\n\u001B[1;32m-> 2018\u001B[0m total_inserted \u001B[38;5;241m=\u001B[39m \u001B[43msql_engine\u001B[49m\u001B[38;5;241;43m.\u001B[39;49m\u001B[43minsert_records\u001B[49m\u001B[43m(\u001B[49m\n\u001B[0;32m   2019\u001B[0m \u001B[43m    \u001B[49m\u001B[43mtable\u001B[49m\u001B[38;5;241;43m=\u001B[39;49m\u001B[43mtable\u001B[49m\u001B[43m,\u001B[49m\n\u001B[0;32m   2020\u001B[0m \u001B[43m    \u001B[49m\u001B[43mcon\u001B[49m\u001B[38;5;241;43m=\u001B[39;49m\u001B[38;5;28;43mself\u001B[39;49m\u001B[38;5;241;43m.\u001B[39;49m\u001B[43mcon\u001B[49m\u001B[43m,\u001B[49m\n\u001B[0;32m   2021\u001B[0m \u001B[43m    \u001B[49m\u001B[43mframe\u001B[49m\u001B[38;5;241;43m=\u001B[39;49m\u001B[43mframe\u001B[49m\u001B[43m,\u001B[49m\n\u001B[0;32m   2022\u001B[0m \u001B[43m    \u001B[49m\u001B[43mname\u001B[49m\u001B[38;5;241;43m=\u001B[39;49m\u001B[43mname\u001B[49m\u001B[43m,\u001B[49m\n\u001B[0;32m   2023\u001B[0m \u001B[43m    \u001B[49m\u001B[43mindex\u001B[49m\u001B[38;5;241;43m=\u001B[39;49m\u001B[43mindex\u001B[49m\u001B[43m,\u001B[49m\n\u001B[0;32m   2024\u001B[0m \u001B[43m    \u001B[49m\u001B[43mschema\u001B[49m\u001B[38;5;241;43m=\u001B[39;49m\u001B[43mschema\u001B[49m\u001B[43m,\u001B[49m\n\u001B[0;32m   2025\u001B[0m \u001B[43m    \u001B[49m\u001B[43mchunksize\u001B[49m\u001B[38;5;241;43m=\u001B[39;49m\u001B[43mchunksize\u001B[49m\u001B[43m,\u001B[49m\n\u001B[0;32m   2026\u001B[0m \u001B[43m    \u001B[49m\u001B[43mmethod\u001B[49m\u001B[38;5;241;43m=\u001B[39;49m\u001B[43mmethod\u001B[49m\u001B[43m,\u001B[49m\n\u001B[0;32m   2027\u001B[0m \u001B[43m    \u001B[49m\u001B[38;5;241;43m*\u001B[39;49m\u001B[38;5;241;43m*\u001B[39;49m\u001B[43mengine_kwargs\u001B[49m\u001B[43m,\u001B[49m\n\u001B[0;32m   2028\u001B[0m \u001B[43m\u001B[49m\u001B[43m)\u001B[49m\n\u001B[0;32m   2030\u001B[0m \u001B[38;5;28mself\u001B[39m\u001B[38;5;241m.\u001B[39mcheck_case_sensitive(name\u001B[38;5;241m=\u001B[39mname, schema\u001B[38;5;241m=\u001B[39mschema)\n\u001B[0;32m   2031\u001B[0m \u001B[38;5;28;01mreturn\u001B[39;00m total_inserted\n",
      "File \u001B[1;32m~\\gyan-python-workspace\\jup-workspace\\venv\\Lib\\site-packages\\pandas\\io\\sql.py:1567\u001B[0m, in \u001B[0;36mSQLAlchemyEngine.insert_records\u001B[1;34m(self, table, con, frame, name, index, schema, chunksize, method, **engine_kwargs)\u001B[0m\n\u001B[0;32m   1565\u001B[0m \u001B[38;5;28;01mif\u001B[39;00m re\u001B[38;5;241m.\u001B[39msearch(msg, err_text):\n\u001B[0;32m   1566\u001B[0m     \u001B[38;5;28;01mraise\u001B[39;00m \u001B[38;5;167;01mValueError\u001B[39;00m(\u001B[38;5;124m\"\u001B[39m\u001B[38;5;124minf cannot be used with MySQL\u001B[39m\u001B[38;5;124m\"\u001B[39m) \u001B[38;5;28;01mfrom\u001B[39;00m \u001B[38;5;21;01merr\u001B[39;00m\n\u001B[1;32m-> 1567\u001B[0m \u001B[38;5;28;01mraise\u001B[39;00m err\n",
      "File \u001B[1;32m~\\gyan-python-workspace\\jup-workspace\\venv\\Lib\\site-packages\\pandas\\io\\sql.py:1558\u001B[0m, in \u001B[0;36mSQLAlchemyEngine.insert_records\u001B[1;34m(self, table, con, frame, name, index, schema, chunksize, method, **engine_kwargs)\u001B[0m\n\u001B[0;32m   1555\u001B[0m \u001B[38;5;28;01mfrom\u001B[39;00m \u001B[38;5;21;01msqlalchemy\u001B[39;00m \u001B[38;5;28;01mimport\u001B[39;00m exc\n\u001B[0;32m   1557\u001B[0m \u001B[38;5;28;01mtry\u001B[39;00m:\n\u001B[1;32m-> 1558\u001B[0m     \u001B[38;5;28;01mreturn\u001B[39;00m \u001B[43mtable\u001B[49m\u001B[38;5;241;43m.\u001B[39;49m\u001B[43minsert\u001B[49m\u001B[43m(\u001B[49m\u001B[43mchunksize\u001B[49m\u001B[38;5;241;43m=\u001B[39;49m\u001B[43mchunksize\u001B[49m\u001B[43m,\u001B[49m\u001B[43m \u001B[49m\u001B[43mmethod\u001B[49m\u001B[38;5;241;43m=\u001B[39;49m\u001B[43mmethod\u001B[49m\u001B[43m)\u001B[49m\n\u001B[0;32m   1559\u001B[0m \u001B[38;5;28;01mexcept\u001B[39;00m exc\u001B[38;5;241m.\u001B[39mStatementError \u001B[38;5;28;01mas\u001B[39;00m err:\n\u001B[0;32m   1560\u001B[0m     \u001B[38;5;66;03m# GH34431\u001B[39;00m\n\u001B[0;32m   1561\u001B[0m     \u001B[38;5;66;03m# https://stackoverflow.com/a/67358288/6067848\u001B[39;00m\n\u001B[0;32m   1562\u001B[0m     msg \u001B[38;5;241m=\u001B[39m \u001B[38;5;124mr\u001B[39m\u001B[38;5;124m\"\"\"\u001B[39m\u001B[38;5;124m(\u001B[39m\u001B[38;5;124m\\\u001B[39m\u001B[38;5;124m(1054, \u001B[39m\u001B[38;5;124m\"\u001B[39m\u001B[38;5;124mUnknown column \u001B[39m\u001B[38;5;124m'\u001B[39m\u001B[38;5;124minf(e0)?\u001B[39m\u001B[38;5;124m'\u001B[39m\u001B[38;5;124m in \u001B[39m\u001B[38;5;124m'\u001B[39m\u001B[38;5;124mfield list\u001B[39m\u001B[38;5;124m'\u001B[39m\u001B[38;5;124m\"\u001B[39m\u001B[38;5;124m\\\u001B[39m\u001B[38;5;124m))(?#\u001B[39m\n\u001B[0;32m   1563\u001B[0m \u001B[38;5;124m    )|inf can not be used with MySQL\u001B[39m\u001B[38;5;124m\"\"\"\u001B[39m\n",
      "File \u001B[1;32m~\\gyan-python-workspace\\jup-workspace\\venv\\Lib\\site-packages\\pandas\\io\\sql.py:1119\u001B[0m, in \u001B[0;36mSQLTable.insert\u001B[1;34m(self, chunksize, method)\u001B[0m\n\u001B[0;32m   1116\u001B[0m     \u001B[38;5;28;01mbreak\u001B[39;00m\n\u001B[0;32m   1118\u001B[0m chunk_iter \u001B[38;5;241m=\u001B[39m \u001B[38;5;28mzip\u001B[39m(\u001B[38;5;241m*\u001B[39m(arr[start_i:end_i] \u001B[38;5;28;01mfor\u001B[39;00m arr \u001B[38;5;129;01min\u001B[39;00m data_list))\n\u001B[1;32m-> 1119\u001B[0m num_inserted \u001B[38;5;241m=\u001B[39m \u001B[43mexec_insert\u001B[49m\u001B[43m(\u001B[49m\u001B[43mconn\u001B[49m\u001B[43m,\u001B[49m\u001B[43m \u001B[49m\u001B[43mkeys\u001B[49m\u001B[43m,\u001B[49m\u001B[43m \u001B[49m\u001B[43mchunk_iter\u001B[49m\u001B[43m)\u001B[49m\n\u001B[0;32m   1120\u001B[0m \u001B[38;5;66;03m# GH 46891\u001B[39;00m\n\u001B[0;32m   1121\u001B[0m \u001B[38;5;28;01mif\u001B[39;00m num_inserted \u001B[38;5;129;01mis\u001B[39;00m \u001B[38;5;129;01mnot\u001B[39;00m \u001B[38;5;28;01mNone\u001B[39;00m:\n",
      "File \u001B[1;32m~\\gyan-python-workspace\\jup-workspace\\venv\\Lib\\site-packages\\pandas\\io\\sql.py:1010\u001B[0m, in \u001B[0;36mSQLTable._execute_insert\u001B[1;34m(self, conn, keys, data_iter)\u001B[0m\n\u001B[0;32m    998\u001B[0m \u001B[38;5;250m\u001B[39m\u001B[38;5;124;03m\"\"\"\u001B[39;00m\n\u001B[0;32m    999\u001B[0m \u001B[38;5;124;03mExecute SQL statement inserting data\u001B[39;00m\n\u001B[0;32m   1000\u001B[0m \n\u001B[1;32m   (...)\u001B[0m\n\u001B[0;32m   1007\u001B[0m \u001B[38;5;124;03m   Each item contains a list of values to be inserted\u001B[39;00m\n\u001B[0;32m   1008\u001B[0m \u001B[38;5;124;03m\"\"\"\u001B[39;00m\n\u001B[0;32m   1009\u001B[0m data \u001B[38;5;241m=\u001B[39m [\u001B[38;5;28mdict\u001B[39m(\u001B[38;5;28mzip\u001B[39m(keys, row)) \u001B[38;5;28;01mfor\u001B[39;00m row \u001B[38;5;129;01min\u001B[39;00m data_iter]\n\u001B[1;32m-> 1010\u001B[0m result \u001B[38;5;241m=\u001B[39m \u001B[43mconn\u001B[49m\u001B[38;5;241;43m.\u001B[39;49m\u001B[43mexecute\u001B[49m\u001B[43m(\u001B[49m\u001B[38;5;28;43mself\u001B[39;49m\u001B[38;5;241;43m.\u001B[39;49m\u001B[43mtable\u001B[49m\u001B[38;5;241;43m.\u001B[39;49m\u001B[43minsert\u001B[49m\u001B[43m(\u001B[49m\u001B[43m)\u001B[49m\u001B[43m,\u001B[49m\u001B[43m \u001B[49m\u001B[43mdata\u001B[49m\u001B[43m)\u001B[49m\n\u001B[0;32m   1011\u001B[0m \u001B[38;5;28;01mreturn\u001B[39;00m result\u001B[38;5;241m.\u001B[39mrowcount\n",
      "File \u001B[1;32m~\\gyan-python-workspace\\jup-workspace\\venv\\Lib\\site-packages\\sqlalchemy\\engine\\base.py:1418\u001B[0m, in \u001B[0;36mConnection.execute\u001B[1;34m(self, statement, parameters, execution_options)\u001B[0m\n\u001B[0;32m   1416\u001B[0m     \u001B[38;5;28;01mraise\u001B[39;00m exc\u001B[38;5;241m.\u001B[39mObjectNotExecutableError(statement) \u001B[38;5;28;01mfrom\u001B[39;00m \u001B[38;5;21;01merr\u001B[39;00m\n\u001B[0;32m   1417\u001B[0m \u001B[38;5;28;01melse\u001B[39;00m:\n\u001B[1;32m-> 1418\u001B[0m     \u001B[38;5;28;01mreturn\u001B[39;00m \u001B[43mmeth\u001B[49m\u001B[43m(\u001B[49m\n\u001B[0;32m   1419\u001B[0m \u001B[43m        \u001B[49m\u001B[38;5;28;43mself\u001B[39;49m\u001B[43m,\u001B[49m\n\u001B[0;32m   1420\u001B[0m \u001B[43m        \u001B[49m\u001B[43mdistilled_parameters\u001B[49m\u001B[43m,\u001B[49m\n\u001B[0;32m   1421\u001B[0m \u001B[43m        \u001B[49m\u001B[43mexecution_options\u001B[49m\u001B[43m \u001B[49m\u001B[38;5;129;43;01mor\u001B[39;49;00m\u001B[43m \u001B[49m\u001B[43mNO_OPTIONS\u001B[49m\u001B[43m,\u001B[49m\n\u001B[0;32m   1422\u001B[0m \u001B[43m    \u001B[49m\u001B[43m)\u001B[49m\n",
      "File \u001B[1;32m~\\gyan-python-workspace\\jup-workspace\\venv\\Lib\\site-packages\\sqlalchemy\\sql\\elements.py:515\u001B[0m, in \u001B[0;36mClauseElement._execute_on_connection\u001B[1;34m(self, connection, distilled_params, execution_options)\u001B[0m\n\u001B[0;32m    513\u001B[0m     \u001B[38;5;28;01mif\u001B[39;00m TYPE_CHECKING:\n\u001B[0;32m    514\u001B[0m         \u001B[38;5;28;01massert\u001B[39;00m \u001B[38;5;28misinstance\u001B[39m(\u001B[38;5;28mself\u001B[39m, Executable)\n\u001B[1;32m--> 515\u001B[0m     \u001B[38;5;28;01mreturn\u001B[39;00m \u001B[43mconnection\u001B[49m\u001B[38;5;241;43m.\u001B[39;49m\u001B[43m_execute_clauseelement\u001B[49m\u001B[43m(\u001B[49m\n\u001B[0;32m    516\u001B[0m \u001B[43m        \u001B[49m\u001B[38;5;28;43mself\u001B[39;49m\u001B[43m,\u001B[49m\u001B[43m \u001B[49m\u001B[43mdistilled_params\u001B[49m\u001B[43m,\u001B[49m\u001B[43m \u001B[49m\u001B[43mexecution_options\u001B[49m\n\u001B[0;32m    517\u001B[0m \u001B[43m    \u001B[49m\u001B[43m)\u001B[49m\n\u001B[0;32m    518\u001B[0m \u001B[38;5;28;01melse\u001B[39;00m:\n\u001B[0;32m    519\u001B[0m     \u001B[38;5;28;01mraise\u001B[39;00m exc\u001B[38;5;241m.\u001B[39mObjectNotExecutableError(\u001B[38;5;28mself\u001B[39m)\n",
      "File \u001B[1;32m~\\gyan-python-workspace\\jup-workspace\\venv\\Lib\\site-packages\\sqlalchemy\\engine\\base.py:1640\u001B[0m, in \u001B[0;36mConnection._execute_clauseelement\u001B[1;34m(self, elem, distilled_parameters, execution_options)\u001B[0m\n\u001B[0;32m   1628\u001B[0m compiled_cache: Optional[CompiledCacheType] \u001B[38;5;241m=\u001B[39m execution_options\u001B[38;5;241m.\u001B[39mget(\n\u001B[0;32m   1629\u001B[0m     \u001B[38;5;124m\"\u001B[39m\u001B[38;5;124mcompiled_cache\u001B[39m\u001B[38;5;124m\"\u001B[39m, \u001B[38;5;28mself\u001B[39m\u001B[38;5;241m.\u001B[39mengine\u001B[38;5;241m.\u001B[39m_compiled_cache\n\u001B[0;32m   1630\u001B[0m )\n\u001B[0;32m   1632\u001B[0m compiled_sql, extracted_params, cache_hit \u001B[38;5;241m=\u001B[39m elem\u001B[38;5;241m.\u001B[39m_compile_w_cache(\n\u001B[0;32m   1633\u001B[0m     dialect\u001B[38;5;241m=\u001B[39mdialect,\n\u001B[0;32m   1634\u001B[0m     compiled_cache\u001B[38;5;241m=\u001B[39mcompiled_cache,\n\u001B[1;32m   (...)\u001B[0m\n\u001B[0;32m   1638\u001B[0m     linting\u001B[38;5;241m=\u001B[39m\u001B[38;5;28mself\u001B[39m\u001B[38;5;241m.\u001B[39mdialect\u001B[38;5;241m.\u001B[39mcompiler_linting \u001B[38;5;241m|\u001B[39m compiler\u001B[38;5;241m.\u001B[39mWARN_LINTING,\n\u001B[0;32m   1639\u001B[0m )\n\u001B[1;32m-> 1640\u001B[0m ret \u001B[38;5;241m=\u001B[39m \u001B[38;5;28;43mself\u001B[39;49m\u001B[38;5;241;43m.\u001B[39;49m\u001B[43m_execute_context\u001B[49m\u001B[43m(\u001B[49m\n\u001B[0;32m   1641\u001B[0m \u001B[43m    \u001B[49m\u001B[43mdialect\u001B[49m\u001B[43m,\u001B[49m\n\u001B[0;32m   1642\u001B[0m \u001B[43m    \u001B[49m\u001B[43mdialect\u001B[49m\u001B[38;5;241;43m.\u001B[39;49m\u001B[43mexecution_ctx_cls\u001B[49m\u001B[38;5;241;43m.\u001B[39;49m\u001B[43m_init_compiled\u001B[49m\u001B[43m,\u001B[49m\n\u001B[0;32m   1643\u001B[0m \u001B[43m    \u001B[49m\u001B[43mcompiled_sql\u001B[49m\u001B[43m,\u001B[49m\n\u001B[0;32m   1644\u001B[0m \u001B[43m    \u001B[49m\u001B[43mdistilled_parameters\u001B[49m\u001B[43m,\u001B[49m\n\u001B[0;32m   1645\u001B[0m \u001B[43m    \u001B[49m\u001B[43mexecution_options\u001B[49m\u001B[43m,\u001B[49m\n\u001B[0;32m   1646\u001B[0m \u001B[43m    \u001B[49m\u001B[43mcompiled_sql\u001B[49m\u001B[43m,\u001B[49m\n\u001B[0;32m   1647\u001B[0m \u001B[43m    \u001B[49m\u001B[43mdistilled_parameters\u001B[49m\u001B[43m,\u001B[49m\n\u001B[0;32m   1648\u001B[0m \u001B[43m    \u001B[49m\u001B[43melem\u001B[49m\u001B[43m,\u001B[49m\n\u001B[0;32m   1649\u001B[0m \u001B[43m    \u001B[49m\u001B[43mextracted_params\u001B[49m\u001B[43m,\u001B[49m\n\u001B[0;32m   1650\u001B[0m \u001B[43m    \u001B[49m\u001B[43mcache_hit\u001B[49m\u001B[38;5;241;43m=\u001B[39;49m\u001B[43mcache_hit\u001B[49m\u001B[43m,\u001B[49m\n\u001B[0;32m   1651\u001B[0m \u001B[43m\u001B[49m\u001B[43m)\u001B[49m\n\u001B[0;32m   1652\u001B[0m \u001B[38;5;28;01mif\u001B[39;00m has_events:\n\u001B[0;32m   1653\u001B[0m     \u001B[38;5;28mself\u001B[39m\u001B[38;5;241m.\u001B[39mdispatch\u001B[38;5;241m.\u001B[39mafter_execute(\n\u001B[0;32m   1654\u001B[0m         \u001B[38;5;28mself\u001B[39m,\n\u001B[0;32m   1655\u001B[0m         elem,\n\u001B[1;32m   (...)\u001B[0m\n\u001B[0;32m   1659\u001B[0m         ret,\n\u001B[0;32m   1660\u001B[0m     )\n",
      "File \u001B[1;32m~\\gyan-python-workspace\\jup-workspace\\venv\\Lib\\site-packages\\sqlalchemy\\engine\\base.py:1846\u001B[0m, in \u001B[0;36mConnection._execute_context\u001B[1;34m(self, dialect, constructor, statement, parameters, execution_options, *args, **kw)\u001B[0m\n\u001B[0;32m   1844\u001B[0m     \u001B[38;5;28;01mreturn\u001B[39;00m \u001B[38;5;28mself\u001B[39m\u001B[38;5;241m.\u001B[39m_exec_insertmany_context(dialect, context)\n\u001B[0;32m   1845\u001B[0m \u001B[38;5;28;01melse\u001B[39;00m:\n\u001B[1;32m-> 1846\u001B[0m     \u001B[38;5;28;01mreturn\u001B[39;00m \u001B[38;5;28;43mself\u001B[39;49m\u001B[38;5;241;43m.\u001B[39;49m\u001B[43m_exec_single_context\u001B[49m\u001B[43m(\u001B[49m\n\u001B[0;32m   1847\u001B[0m \u001B[43m        \u001B[49m\u001B[43mdialect\u001B[49m\u001B[43m,\u001B[49m\u001B[43m \u001B[49m\u001B[43mcontext\u001B[49m\u001B[43m,\u001B[49m\u001B[43m \u001B[49m\u001B[43mstatement\u001B[49m\u001B[43m,\u001B[49m\u001B[43m \u001B[49m\u001B[43mparameters\u001B[49m\n\u001B[0;32m   1848\u001B[0m \u001B[43m    \u001B[49m\u001B[43m)\u001B[49m\n",
      "File \u001B[1;32m~\\gyan-python-workspace\\jup-workspace\\venv\\Lib\\site-packages\\sqlalchemy\\engine\\base.py:1986\u001B[0m, in \u001B[0;36mConnection._exec_single_context\u001B[1;34m(self, dialect, context, statement, parameters)\u001B[0m\n\u001B[0;32m   1983\u001B[0m     result \u001B[38;5;241m=\u001B[39m context\u001B[38;5;241m.\u001B[39m_setup_result_proxy()\n\u001B[0;32m   1985\u001B[0m \u001B[38;5;28;01mexcept\u001B[39;00m \u001B[38;5;167;01mBaseException\u001B[39;00m \u001B[38;5;28;01mas\u001B[39;00m e:\n\u001B[1;32m-> 1986\u001B[0m     \u001B[38;5;28;43mself\u001B[39;49m\u001B[38;5;241;43m.\u001B[39;49m\u001B[43m_handle_dbapi_exception\u001B[49m\u001B[43m(\u001B[49m\n\u001B[0;32m   1987\u001B[0m \u001B[43m        \u001B[49m\u001B[43me\u001B[49m\u001B[43m,\u001B[49m\u001B[43m \u001B[49m\u001B[43mstr_statement\u001B[49m\u001B[43m,\u001B[49m\u001B[43m \u001B[49m\u001B[43meffective_parameters\u001B[49m\u001B[43m,\u001B[49m\u001B[43m \u001B[49m\u001B[43mcursor\u001B[49m\u001B[43m,\u001B[49m\u001B[43m \u001B[49m\u001B[43mcontext\u001B[49m\n\u001B[0;32m   1988\u001B[0m \u001B[43m    \u001B[49m\u001B[43m)\u001B[49m\n\u001B[0;32m   1990\u001B[0m \u001B[38;5;28;01mreturn\u001B[39;00m result\n",
      "File \u001B[1;32m~\\gyan-python-workspace\\jup-workspace\\venv\\Lib\\site-packages\\sqlalchemy\\engine\\base.py:2355\u001B[0m, in \u001B[0;36mConnection._handle_dbapi_exception\u001B[1;34m(self, e, statement, parameters, cursor, context, is_sub_exec)\u001B[0m\n\u001B[0;32m   2353\u001B[0m \u001B[38;5;28;01melif\u001B[39;00m should_wrap:\n\u001B[0;32m   2354\u001B[0m     \u001B[38;5;28;01massert\u001B[39;00m sqlalchemy_exception \u001B[38;5;129;01mis\u001B[39;00m \u001B[38;5;129;01mnot\u001B[39;00m \u001B[38;5;28;01mNone\u001B[39;00m\n\u001B[1;32m-> 2355\u001B[0m     \u001B[38;5;28;01mraise\u001B[39;00m sqlalchemy_exception\u001B[38;5;241m.\u001B[39mwith_traceback(exc_info[\u001B[38;5;241m2\u001B[39m]) \u001B[38;5;28;01mfrom\u001B[39;00m \u001B[38;5;21;01me\u001B[39;00m\n\u001B[0;32m   2356\u001B[0m \u001B[38;5;28;01melse\u001B[39;00m:\n\u001B[0;32m   2357\u001B[0m     \u001B[38;5;28;01massert\u001B[39;00m exc_info[\u001B[38;5;241m1\u001B[39m] \u001B[38;5;129;01mis\u001B[39;00m \u001B[38;5;129;01mnot\u001B[39;00m \u001B[38;5;28;01mNone\u001B[39;00m\n",
      "File \u001B[1;32m~\\gyan-python-workspace\\jup-workspace\\venv\\Lib\\site-packages\\sqlalchemy\\engine\\base.py:1936\u001B[0m, in \u001B[0;36mConnection._exec_single_context\u001B[1;34m(self, dialect, context, statement, parameters)\u001B[0m\n\u001B[0;32m   1934\u001B[0m                 \u001B[38;5;28;01mbreak\u001B[39;00m\n\u001B[0;32m   1935\u001B[0m     \u001B[38;5;28;01mif\u001B[39;00m \u001B[38;5;129;01mnot\u001B[39;00m evt_handled:\n\u001B[1;32m-> 1936\u001B[0m         \u001B[38;5;28;43mself\u001B[39;49m\u001B[38;5;241;43m.\u001B[39;49m\u001B[43mdialect\u001B[49m\u001B[38;5;241;43m.\u001B[39;49m\u001B[43mdo_executemany\u001B[49m\u001B[43m(\u001B[49m\n\u001B[0;32m   1937\u001B[0m \u001B[43m            \u001B[49m\u001B[43mcursor\u001B[49m\u001B[43m,\u001B[49m\n\u001B[0;32m   1938\u001B[0m \u001B[43m            \u001B[49m\u001B[43mstr_statement\u001B[49m\u001B[43m,\u001B[49m\n\u001B[0;32m   1939\u001B[0m \u001B[43m            \u001B[49m\u001B[43meffective_parameters\u001B[49m\u001B[43m,\u001B[49m\n\u001B[0;32m   1940\u001B[0m \u001B[43m            \u001B[49m\u001B[43mcontext\u001B[49m\u001B[43m,\u001B[49m\n\u001B[0;32m   1941\u001B[0m \u001B[43m        \u001B[49m\u001B[43m)\u001B[49m\n\u001B[0;32m   1942\u001B[0m \u001B[38;5;28;01melif\u001B[39;00m \u001B[38;5;129;01mnot\u001B[39;00m effective_parameters \u001B[38;5;129;01mand\u001B[39;00m context\u001B[38;5;241m.\u001B[39mno_parameters:\n\u001B[0;32m   1943\u001B[0m     \u001B[38;5;28;01mif\u001B[39;00m \u001B[38;5;28mself\u001B[39m\u001B[38;5;241m.\u001B[39mdialect\u001B[38;5;241m.\u001B[39m_has_events:\n",
      "File \u001B[1;32m~\\gyan-python-workspace\\jup-workspace\\venv\\Lib\\site-packages\\sqlalchemy\\engine\\default.py:938\u001B[0m, in \u001B[0;36mDefaultDialect.do_executemany\u001B[1;34m(self, cursor, statement, parameters, context)\u001B[0m\n\u001B[0;32m    937\u001B[0m \u001B[38;5;28;01mdef\u001B[39;00m \u001B[38;5;21mdo_executemany\u001B[39m(\u001B[38;5;28mself\u001B[39m, cursor, statement, parameters, context\u001B[38;5;241m=\u001B[39m\u001B[38;5;28;01mNone\u001B[39;00m):\n\u001B[1;32m--> 938\u001B[0m     \u001B[43mcursor\u001B[49m\u001B[38;5;241;43m.\u001B[39;49m\u001B[43mexecutemany\u001B[49m\u001B[43m(\u001B[49m\u001B[43mstatement\u001B[49m\u001B[43m,\u001B[49m\u001B[43m \u001B[49m\u001B[43mparameters\u001B[49m\u001B[43m)\u001B[49m\n",
      "\u001B[1;31mProgrammingError\u001B[0m: (sqlite3.ProgrammingError) Error binding parameter 4: type 'list' is not supported\n[SQL: INSERT INTO \"2021_22_api_results\" (\"index\", adult, backdrop_path, genre_ids, id, original_language, original_title, overview, popularity, poster_path, release_date, title, video, vote_average, vote_count) VALUES (?, ?, ?, ?, ?, ?, ?, ?, ?, ?, ?, ?, ?, ?, ?)]\n[parameters: [(0, 0, '/2QR0OpYzPFG84EswxENqcPuHmP.jpg', [10752], 1041317, 'en', 'Battle for the Western Front', 'Inspired by Canuck WWI flying ace Billy Bishop, two young soldiers crash the front lines in August 1918. With the Allies detained, their platoon must desperately hold out alongside legendary Anishinaabe sniper Francis \"Peggy\" Pegahmagabow.', 291.934, '/ooHEL3XyLYu3hus5cMnpjeH4e7A.jpg', '2022-10-06', 'Battle for the Western Front', 0, 5.65, 10), (1, 0, '/vIgyYkXkg6NC2whRbYjBD7eb3Er.jpg', [878, 28, 12], 580489, 'en', 'Venom: Let There Be Carnage', 'After finding a host body in investigative reporter Eddie Brock, the alien symbiote must face a new enemy, Carnage, the alter ego of serial killer Cletus Kasady.', 341.095, '/1MJNcPZy46hIy2CmSqOeru0yr5C.jpg', '2021-09-30', 'Venom: Let There Be Carnage', 0, 6.8, 10268), (2, 0, '/zD5v1E4joAzFvmAEytt7fM3ivyT.jpg', [28, 12, 878], 634649, 'en', 'Spider-Man: No Way Home', 'Peter Parker is unmasked and no longer able to separate his normal life from the high-stakes of being a super-hero. When he asks for help from Doctor Strange the stakes become even more dangerous, forcing him to discover what it truly means to be Spider-Man.', 274.537, '/1g0dhYtq4irTY1GPXvft6k4YLjm.jpg', '2021-12-15', 'Spider-Man: No Way Home', 0, 7.955, 20183), (3, 0, '/5tqkP8NNWdteskVBYPRXE6h82ts.jpg', [18], 592695, 'sv', 'Pleasure', \"19 year old Linnéa leaves her small town in Sweden and heads for Los Angeles with the aim of becoming the world's next big porn star, but the road to her goal turns out to be bumpier than she imagined.\", 256.224, '/7Z2K08J0WantJHNa0vLTOmii41l.jpg', '2021-10-08', 'Pleasure', 0, 6.223, 555), (4, 0, '/AaV1YIdWKnjAIAOe8UUKBFm327v.jpg', [28, 18], 361743, 'en', 'Top Gun: Maverick', 'After more than thirty years of service as one of the Navy’s top aviators, and dodging the advancement in rank that would ground him, Pete “Maverick” Mitchell finds himself training a detachment of TOP GUN graduates for a specialized mission the likes of which no living pilot has ever seen.', 209.169, '/62HCnUTziyWcpDaBO2i1DX17ljH.jpg', '2022-05-21', 'Top Gun: Maverick', 0, 8.2, 9249), (5, 0, '/zBG5Mg29NH9xxpWMMG7BIvKwYhL.jpg', [10749, 18], 829557, 'pl', '365 dni: Ten dzień', \"Laura and Massimo are back and hotter than ever. But the reunited couple's new beginning is complicated by Massimo’s family ties and a mysterious man who enters Laura’s life to win her heart and trust, at any cost.\", 213.715, '/7qU0SOVcQ8BTJLodcAlulUAG16C.jpg', '2022-04-26', '365 Days: This Day', 0, 5.878, 1541), (6, 0, '/70AV2Xx5FQYj20labp0EGdbjI6E.jpg', [80, 28, 53], 637649, 'en', 'Wrath of Man', \"A cold and mysterious new security guard for a Los Angeles cash truck company surprises his co-workers when he unleashes precision skills during a he ... (29 characters truncated) ... ng who he is and where he came from. Soon, the marksman's ultimate motive becomes clear as he takes dramatic and irrevocable steps to settle a score.\", 186.029, '/M7SUK85sKjaStg4TKhlAVyGlz3.jpg', '2021-04-22', 'Wrath of Man', 0, 7.6, 5301), (7, 0, '/m7SBIIL6Y6Df6a8oqWwHzWLzo80.jpg', [28, 12, 10751, 35], 675353, 'en', 'Sonic the Hedgehog 2', 'After settling in Green Hills, Sonic is eager to prove he has what it takes to be a true hero. His test comes when Dr. Robotnik returns, this time wi ... (104 characters truncated) ... teams up with his own sidekick, Tails, and together they embark on a globe-trotting journey to find the emerald before it falls into the wrong hands.', 173.852, '/6DrHO1jr3qVrViUO6s6kFiAGM7.jpg', '2022-03-30', 'Sonic the Hedgehog 2', 0, 7.497, 5000)  ... displaying 10 of 180 total bound parameter sets ...  (178, 0, '/cmquA5exHGsOfcVDrwitAN1EDmN.jpg', [28, 35, 80, 53], 522931, 'en', \"Hitman's Wife's Bodyguard\", \"The world’s most lethal odd couple – bodyguard Michael Bryce and hitman Darius Kincaid – are back on another life-threatening mission. Still unlicens ... (206 characters truncated) ... tees, the trio get in over their heads in a global plot and soon find that they are all that stand between Europe and a vengeful and powerful madman.\", 37.574, '/6zwGWDpY8Zu0L6W4SYWERBR8Msw.jpg', '2021-06-14', \"Hitman's Wife's Bodyguard\", 0, 6.7, 2270), (179, 0, '/dK12GIdhGP6NPGFssK2Fh265jyr.jpg', [28, 35, 80], 512195, 'en', 'Red Notice', \"An Interpol-issued Red Notice is a global alert to hunt and capture the world's most wanted. But when a daring heist brings together the FBI's top profiler and two rival criminals, there's no telling what will happen.\", 44.799, '/lAXONuqg41NwUMuzMiFvicDET9Y.jpg', '2021-11-04', 'Red Notice', 0, 6.769, 5789)]]\n(Background on this error at: https://sqlalche.me/e/20/f405)"
     ]
    }
   ],
   "execution_count": 50
  },
  {
   "metadata": {},
   "cell_type": "code",
   "outputs": [],
   "execution_count": null,
   "source": "",
   "id": "3c05c5eada413647"
  },
  {
   "metadata": {},
   "cell_type": "code",
   "outputs": [],
   "execution_count": null,
   "source": "",
   "id": "89e60593d51a1636"
  }
 ],
 "metadata": {
  "kernelspec": {
   "display_name": "Python 3",
   "language": "python",
   "name": "python3"
  },
  "language_info": {
   "codemirror_mode": {
    "name": "ipython",
    "version": 2
   },
   "file_extension": ".py",
   "mimetype": "text/x-python",
   "name": "python",
   "nbconvert_exporter": "python",
   "pygments_lexer": "ipython2",
   "version": "2.7.6"
  }
 },
 "nbformat": 4,
 "nbformat_minor": 5
}
