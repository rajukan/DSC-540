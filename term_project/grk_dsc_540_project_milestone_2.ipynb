{
 "cells": [
  {
   "metadata": {
    "ExecuteTime": {
     "end_time": "2025-01-06T04:26:52.808186Z",
     "start_time": "2025-01-06T04:26:51.213119Z"
    }
   },
   "cell_type": "code",
   "source": [
    "import pandas as pd\n",
    "import traceback\n",
    "%matplotlib inline\n",
    "import warnings\n",
    "warnings.filterwarnings(\"ignore\")"
   ],
   "id": "115d8da38726909d",
   "outputs": [],
   "execution_count": 1
  },
  {
   "metadata": {
    "ExecuteTime": {
     "end_time": "2025-01-06T04:26:52.881444Z",
     "start_time": "2025-01-06T04:26:52.815769Z"
    }
   },
   "cell_type": "code",
   "source": [
    "csv_movies_with_budget_df=pd.read_csv(r'./project_datasets/top-500-movies.csv', parse_dates=True)\n",
    "csv_movies_with_budget_df.head()"
   ],
   "id": "b5397904f172f4d1",
   "outputs": [
    {
     "data": {
      "text/plain": [
       "   rank release_date                                        title  \\\n",
       "0     1   2019-04-23                            Avengers: Endgame   \n",
       "1     2   2011-05-20  Pirates of the Caribbean: On Stranger Tides   \n",
       "2     3   2015-04-22                      Avengers: Age of Ultron   \n",
       "3     4   2015-12-16         Star Wars Ep. VII: The Force Awakens   \n",
       "4     5   2018-04-25                       Avengers: Infinity War   \n",
       "\n",
       "                                                 url  production_cost  \\\n",
       "0         /movie/Avengers-Endgame-(2019)#tab=summary        400000000   \n",
       "1  /movie/Pirates-of-the-Caribbean-On-Stranger-Ti...        379000000   \n",
       "2          /movie/Avengers-Age-of-Ultron#tab=summary        365000000   \n",
       "3  /movie/Star-Wars-Ep-VII-The-Force-Awakens#tab=...        306000000   \n",
       "4           /movie/Avengers-Infinity-War#tab=summary        300000000   \n",
       "\n",
       "   domestic_gross  worldwide_gross  opening_weekend   mpaa      genre  \\\n",
       "0       858373000       2797800564      357115007.0  PG-13     Action   \n",
       "1       241071802       1045713802       90151958.0  PG-13  Adventure   \n",
       "2       459005868       1395316979      191271109.0  PG-13     Action   \n",
       "3       936662225       2064615817      247966675.0  PG-13  Adventure   \n",
       "4       678815482       2048359754      257698183.0  PG-13     Action   \n",
       "\n",
       "   theaters  runtime    year  \n",
       "0    4662.0    181.0  2019.0  \n",
       "1    4164.0    136.0  2011.0  \n",
       "2    4276.0    141.0  2015.0  \n",
       "3    4134.0    136.0  2015.0  \n",
       "4    4474.0    156.0  2018.0  "
      ],
      "text/html": [
       "<div>\n",
       "<style scoped>\n",
       "    .dataframe tbody tr th:only-of-type {\n",
       "        vertical-align: middle;\n",
       "    }\n",
       "\n",
       "    .dataframe tbody tr th {\n",
       "        vertical-align: top;\n",
       "    }\n",
       "\n",
       "    .dataframe thead th {\n",
       "        text-align: right;\n",
       "    }\n",
       "</style>\n",
       "<table border=\"1\" class=\"dataframe\">\n",
       "  <thead>\n",
       "    <tr style=\"text-align: right;\">\n",
       "      <th></th>\n",
       "      <th>rank</th>\n",
       "      <th>release_date</th>\n",
       "      <th>title</th>\n",
       "      <th>url</th>\n",
       "      <th>production_cost</th>\n",
       "      <th>domestic_gross</th>\n",
       "      <th>worldwide_gross</th>\n",
       "      <th>opening_weekend</th>\n",
       "      <th>mpaa</th>\n",
       "      <th>genre</th>\n",
       "      <th>theaters</th>\n",
       "      <th>runtime</th>\n",
       "      <th>year</th>\n",
       "    </tr>\n",
       "  </thead>\n",
       "  <tbody>\n",
       "    <tr>\n",
       "      <th>0</th>\n",
       "      <td>1</td>\n",
       "      <td>2019-04-23</td>\n",
       "      <td>Avengers: Endgame</td>\n",
       "      <td>/movie/Avengers-Endgame-(2019)#tab=summary</td>\n",
       "      <td>400000000</td>\n",
       "      <td>858373000</td>\n",
       "      <td>2797800564</td>\n",
       "      <td>357115007.0</td>\n",
       "      <td>PG-13</td>\n",
       "      <td>Action</td>\n",
       "      <td>4662.0</td>\n",
       "      <td>181.0</td>\n",
       "      <td>2019.0</td>\n",
       "    </tr>\n",
       "    <tr>\n",
       "      <th>1</th>\n",
       "      <td>2</td>\n",
       "      <td>2011-05-20</td>\n",
       "      <td>Pirates of the Caribbean: On Stranger Tides</td>\n",
       "      <td>/movie/Pirates-of-the-Caribbean-On-Stranger-Ti...</td>\n",
       "      <td>379000000</td>\n",
       "      <td>241071802</td>\n",
       "      <td>1045713802</td>\n",
       "      <td>90151958.0</td>\n",
       "      <td>PG-13</td>\n",
       "      <td>Adventure</td>\n",
       "      <td>4164.0</td>\n",
       "      <td>136.0</td>\n",
       "      <td>2011.0</td>\n",
       "    </tr>\n",
       "    <tr>\n",
       "      <th>2</th>\n",
       "      <td>3</td>\n",
       "      <td>2015-04-22</td>\n",
       "      <td>Avengers: Age of Ultron</td>\n",
       "      <td>/movie/Avengers-Age-of-Ultron#tab=summary</td>\n",
       "      <td>365000000</td>\n",
       "      <td>459005868</td>\n",
       "      <td>1395316979</td>\n",
       "      <td>191271109.0</td>\n",
       "      <td>PG-13</td>\n",
       "      <td>Action</td>\n",
       "      <td>4276.0</td>\n",
       "      <td>141.0</td>\n",
       "      <td>2015.0</td>\n",
       "    </tr>\n",
       "    <tr>\n",
       "      <th>3</th>\n",
       "      <td>4</td>\n",
       "      <td>2015-12-16</td>\n",
       "      <td>Star Wars Ep. VII: The Force Awakens</td>\n",
       "      <td>/movie/Star-Wars-Ep-VII-The-Force-Awakens#tab=...</td>\n",
       "      <td>306000000</td>\n",
       "      <td>936662225</td>\n",
       "      <td>2064615817</td>\n",
       "      <td>247966675.0</td>\n",
       "      <td>PG-13</td>\n",
       "      <td>Adventure</td>\n",
       "      <td>4134.0</td>\n",
       "      <td>136.0</td>\n",
       "      <td>2015.0</td>\n",
       "    </tr>\n",
       "    <tr>\n",
       "      <th>4</th>\n",
       "      <td>5</td>\n",
       "      <td>2018-04-25</td>\n",
       "      <td>Avengers: Infinity War</td>\n",
       "      <td>/movie/Avengers-Infinity-War#tab=summary</td>\n",
       "      <td>300000000</td>\n",
       "      <td>678815482</td>\n",
       "      <td>2048359754</td>\n",
       "      <td>257698183.0</td>\n",
       "      <td>PG-13</td>\n",
       "      <td>Action</td>\n",
       "      <td>4474.0</td>\n",
       "      <td>156.0</td>\n",
       "      <td>2018.0</td>\n",
       "    </tr>\n",
       "  </tbody>\n",
       "</table>\n",
       "</div>"
      ]
     },
     "execution_count": 2,
     "metadata": {},
     "output_type": "execute_result"
    }
   ],
   "execution_count": 2
  },
  {
   "metadata": {},
   "cell_type": "markdown",
   "source": [
    "## Data Cleaning (Handling missing values and duplicate data: Removing unused information)\n",
    "\n",
    "In this section, i will try to handle the problem of missing values, duplicated data  and format:\n",
    "\n",
    "<ul>\n",
    "<li>Remove the unused columns that are not useful in my analysis; </li>\n",
    "<li>Remove the movies  having empty genres;</li>\n",
    "<li>Ensure there is no white spaces on the primay key, the movie title </li>\n",
    "<li>Remove duplicate rows</li>\n",
    "<li>Convert year of release as an int instead of float</li>\n",
    "<li>Changing format of release date into datetime format and budget_adj/revenue_adj format from float to int.</li>\n",
    "</ul>"
   ],
   "id": "d5d0782667c6b75e"
  },
  {
   "metadata": {},
   "cell_type": "markdown",
   "source": "#### Step 1: Drop unused columns and duplicates or rows with null values",
   "id": "56e6472f0bd879de"
  },
  {
   "metadata": {
    "ExecuteTime": {
     "end_time": "2025-01-06T04:26:52.899754Z",
     "start_time": "2025-01-06T04:26:52.882453Z"
    }
   },
   "cell_type": "code",
   "source": [
    "# \n",
    "csv_movies_with_budget_df.drop(['url','mpaa'], axis=1, inplace=True)\n",
    "req_cols = ['title','genre']\n",
    "csv_movies_with_budget_df[req_cols] = csv_movies_with_budget_df[req_cols].apply(lambda col:col.str.strip())"
   ],
   "id": "e2bf64927c478750",
   "outputs": [],
   "execution_count": 3
  },
  {
   "metadata": {
    "ExecuteTime": {
     "end_time": "2025-01-06T04:26:52.922150Z",
     "start_time": "2025-01-06T04:26:52.901769Z"
    }
   },
   "cell_type": "code",
   "source": [
    "# drop duplicates\n",
    "csv_movies_with_budget_df.drop_duplicates(inplace=True)\n",
    "# confirm correction by rechecking for duplicates in the data\n",
    "sum(csv_movies_with_budget_df.duplicated())"
   ],
   "id": "8cdc12c604f2e94a",
   "outputs": [
    {
     "data": {
      "text/plain": [
       "0"
      ]
     },
     "execution_count": 4,
     "metadata": {},
     "output_type": "execute_result"
    }
   ],
   "execution_count": 4
  },
  {
   "metadata": {
    "ExecuteTime": {
     "end_time": "2025-01-06T04:26:52.932766Z",
     "start_time": "2025-01-06T04:26:52.924287Z"
    }
   },
   "cell_type": "code",
   "source": [
    "# drop rows with any null values \n",
    "csv_movies_with_budget_df.dropna(subset=['genre'],inplace=True)\n",
    "csv_movies_with_budget_df.dropna(inplace=True)\n",
    "# checks if any of columns in the data have null values - should print False\n",
    "csv_movies_with_budget_df.isnull().sum().any()"
   ],
   "id": "22387e7e8b2f3ed0",
   "outputs": [
    {
     "data": {
      "text/plain": [
       "False"
      ]
     },
     "execution_count": 5,
     "metadata": {},
     "output_type": "execute_result"
    }
   ],
   "execution_count": 5
  },
  {
   "metadata": {},
   "cell_type": "markdown",
   "source": "#### Step 2: Convert 'release_date' type from str to datetime ",
   "id": "88c5eeccc9d33ab8"
  },
  {
   "metadata": {
    "ExecuteTime": {
     "end_time": "2025-01-06T04:26:52.948190Z",
     "start_time": "2025-01-06T04:26:52.934310Z"
    }
   },
   "cell_type": "code",
   "source": [
    "# Convert 'release_date' type from str to datetime \n",
    "csv_movies_with_budget_df['release_date']=pd.to_datetime(csv_movies_with_budget_df['release_date'])\n",
    "csv_movies_with_budget_df['release_date'].head()"
   ],
   "id": "924b0c3b1a6484d",
   "outputs": [
    {
     "data": {
      "text/plain": [
       "0   2019-04-23\n",
       "1   2011-05-20\n",
       "2   2015-04-22\n",
       "3   2015-12-16\n",
       "4   2018-04-25\n",
       "Name: release_date, dtype: datetime64[ns]"
      ]
     },
     "execution_count": 6,
     "metadata": {},
     "output_type": "execute_result"
    }
   ],
   "execution_count": 6
  },
  {
   "metadata": {},
   "cell_type": "markdown",
   "source": "#### * Check for Missing values in the dataset*",
   "id": "4b2d9a0f2616237c"
  },
  {
   "metadata": {
    "ExecuteTime": {
     "end_time": "2025-01-06T04:26:52.961578Z",
     "start_time": "2025-01-06T04:26:52.952201Z"
    }
   },
   "cell_type": "code",
   "source": "csv_movies_with_budget_df.isnull().sum()",
   "id": "d6d8854b959fc039",
   "outputs": [
    {
     "data": {
      "text/plain": [
       "rank               0\n",
       "release_date       0\n",
       "title              0\n",
       "production_cost    0\n",
       "domestic_gross     0\n",
       "worldwide_gross    0\n",
       "opening_weekend    0\n",
       "genre              0\n",
       "theaters           0\n",
       "runtime            0\n",
       "year               0\n",
       "dtype: int64"
      ]
     },
     "execution_count": 7,
     "metadata": {},
     "output_type": "execute_result"
    }
   ],
   "execution_count": 7
  },
  {
   "metadata": {},
   "cell_type": "markdown",
   "source": [
    "All titles are available\n",
    "Although the release date column for a value is null, the year column is not null\n",
    "Some genre is null"
   ],
   "id": "a0143cd37086066b"
  },
  {
   "metadata": {
    "ExecuteTime": {
     "end_time": "2025-01-06T04:26:52.972342Z",
     "start_time": "2025-01-06T04:26:52.963591Z"
    }
   },
   "cell_type": "code",
   "source": "csv_movies_with_budget_df.isnull().any(axis=1).sum()",
   "id": "70364cfbc42de8d4",
   "outputs": [
    {
     "data": {
      "text/plain": [
       "0"
      ]
     },
     "execution_count": 8,
     "metadata": {},
     "output_type": "execute_result"
    }
   ],
   "execution_count": 8
  },
  {
   "metadata": {
    "ExecuteTime": {
     "end_time": "2025-01-06T04:26:52.989420Z",
     "start_time": "2025-01-06T04:26:52.974666Z"
    }
   },
   "cell_type": "code",
   "source": "csv_movies_with_budget_df[csv_movies_with_budget_df['genre'].isnull()].year.value_counts()",
   "id": "c56cab3ac17985ed",
   "outputs": [
    {
     "data": {
      "text/plain": [
       "Series([], Name: count, dtype: int64)"
      ]
     },
     "execution_count": 9,
     "metadata": {},
     "output_type": "execute_result"
    }
   ],
   "execution_count": 9
  },
  {
   "metadata": {},
   "cell_type": "markdown",
   "source": "Only 1 movie belonging to 2015 has an empty genre, the other years are not relevant for my analysis.",
   "id": "bc09fae1ade3f24"
  },
  {
   "metadata": {},
   "cell_type": "markdown",
   "source": "#### Duplicates in the dataset",
   "id": "1988827b52b7342d"
  },
  {
   "metadata": {
    "ExecuteTime": {
     "end_time": "2025-01-06T04:26:53.001671Z",
     "start_time": "2025-01-06T04:26:52.991436Z"
    }
   },
   "cell_type": "code",
   "source": "sum(csv_movies_with_budget_df.duplicated())",
   "id": "768406d5d29e1f1b",
   "outputs": [
    {
     "data": {
      "text/plain": [
       "0"
      ]
     },
     "execution_count": 10,
     "metadata": {},
     "output_type": "execute_result"
    }
   ],
   "execution_count": 10
  },
  {
   "metadata": {},
   "cell_type": "markdown",
   "source": "#### Step 3: Check Number of unique values in the dataset*",
   "id": "ed7916b4101a8ca5"
  },
  {
   "metadata": {
    "ExecuteTime": {
     "end_time": "2025-01-06T04:26:53.013774Z",
     "start_time": "2025-01-06T04:26:53.001671Z"
    }
   },
   "cell_type": "code",
   "source": [
    "# Returns the number of unique values in each column\n",
    "csv_movies_with_budget_df.nunique()"
   ],
   "id": "d413ae434bdf421b",
   "outputs": [
    {
     "data": {
      "text/plain": [
       "rank               474\n",
       "release_date       454\n",
       "title              472\n",
       "production_cost     89\n",
       "domestic_gross     474\n",
       "worldwide_gross    474\n",
       "opening_weekend    472\n",
       "genre               10\n",
       "theaters           404\n",
       "runtime             94\n",
       "year                30\n",
       "dtype: int64"
      ]
     },
     "execution_count": 11,
     "metadata": {},
     "output_type": "execute_result"
    }
   ],
   "execution_count": 11
  },
  {
   "metadata": {},
   "cell_type": "markdown",
   "source": "#### Step 4: Create Range Columns for all cost",
   "id": "cc79b900be5d3d98"
  },
  {
   "metadata": {
    "ExecuteTime": {
     "end_time": "2025-01-06T04:26:53.018919Z",
     "start_time": "2025-01-06T04:26:53.015781Z"
    }
   },
   "cell_type": "code",
   "source": [
    "# Final number of movies \n",
    "rows, col = csv_movies_with_budget_df.shape\n",
    "print('After cleaning, we now have only {} entries of movies.'.format(rows))"
   ],
   "id": "17a74ee6570dbef5",
   "outputs": [
    {
     "name": "stdout",
     "output_type": "stream",
     "text": [
      "After cleaning, we now have only 474 entries of movies.\n"
     ]
    }
   ],
   "execution_count": 12
  },
  {
   "metadata": {
    "ExecuteTime": {
     "end_time": "2025-01-06T04:26:53.029635Z",
     "start_time": "2025-01-06T04:26:53.020440Z"
    }
   },
   "cell_type": "code",
   "source": [
    "#create the range function which takes 2 parameters, the divisor (convert to million) and the range \n",
    "def create_ranges(df, col,div=1_000_000,step=5):\n",
    "    cst_min,cst_max = df[col].agg(['min', 'max'])\n",
    "    cost_range=[(start-step,start) for start in range(int(cst_min/div),int(cst_max/div)+step,step)]\n",
    "    labels=[f\"{start}-{end}\" for start, end in cost_range]\n",
    "    # Define the bins\n",
    "    bins=pd.IntervalIndex.from_tuples(cost_range)\n",
    "    # Use \"cut\" method to group values into ranges\n",
    "    return pd.cut(df[col].apply(lambda x : int(x/div)),\n",
    "                        bins=bins, include_lowest=True\n",
    "                        ).map(dict(zip(bins, labels)))    "
   ],
   "id": "c6e9dcfbcb1dc725",
   "outputs": [],
   "execution_count": 13
  },
  {
   "metadata": {
    "ExecuteTime": {
     "end_time": "2025-01-06T04:26:53.071489Z",
     "start_time": "2025-01-06T04:26:53.036162Z"
    }
   },
   "cell_type": "code",
   "source": [
    "#The idea here is to make the cost more readable. For example, a production cost of 396,554,223 converts to a range of 396-401 million\n",
    "csv_movies_with_budget_df['prod_cost_range_million'] =create_ranges(csv_movies_with_budget_df,\"production_cost\")\n",
    "csv_movies_with_budget_df['worldwide_gross_range_million'] =create_ranges(csv_movies_with_budget_df,\"worldwide_gross\",step=10)\n",
    "csv_movies_with_budget_df['domestic_gross_range_million'] =create_ranges(csv_movies_with_budget_df,\"domestic_gross\")\n",
    "csv_movies_with_budget_df.head()"
   ],
   "id": "454edb35a64d66f3",
   "outputs": [
    {
     "data": {
      "text/plain": [
       "   rank release_date                                        title  \\\n",
       "0     1   2019-04-23                            Avengers: Endgame   \n",
       "1     2   2011-05-20  Pirates of the Caribbean: On Stranger Tides   \n",
       "2     3   2015-04-22                      Avengers: Age of Ultron   \n",
       "3     4   2015-12-16         Star Wars Ep. VII: The Force Awakens   \n",
       "4     5   2018-04-25                       Avengers: Infinity War   \n",
       "\n",
       "   production_cost  domestic_gross  worldwide_gross  opening_weekend  \\\n",
       "0        400000000       858373000       2797800564      357115007.0   \n",
       "1        379000000       241071802       1045713802       90151958.0   \n",
       "2        365000000       459005868       1395316979      191271109.0   \n",
       "3        306000000       936662225       2064615817      247966675.0   \n",
       "4        300000000       678815482       2048359754      257698183.0   \n",
       "\n",
       "       genre  theaters  runtime    year prod_cost_range_million  \\\n",
       "0     Action    4662.0    181.0  2019.0                 396-401   \n",
       "1  Adventure    4164.0    136.0  2011.0                 376-381   \n",
       "2     Action    4276.0    141.0  2015.0                 361-366   \n",
       "3  Adventure    4134.0    136.0  2015.0                 301-306   \n",
       "4     Action    4474.0    156.0  2018.0                 296-301   \n",
       "\n",
       "  worldwide_gross_range_million domestic_gross_range_million  \n",
       "0                     2793-2803                      855-860  \n",
       "1                     1043-1053                      240-245  \n",
       "2                     1393-1403                      455-460  \n",
       "3                     2063-2073                      935-940  \n",
       "4                     2043-2053                      675-680  "
      ],
      "text/html": [
       "<div>\n",
       "<style scoped>\n",
       "    .dataframe tbody tr th:only-of-type {\n",
       "        vertical-align: middle;\n",
       "    }\n",
       "\n",
       "    .dataframe tbody tr th {\n",
       "        vertical-align: top;\n",
       "    }\n",
       "\n",
       "    .dataframe thead th {\n",
       "        text-align: right;\n",
       "    }\n",
       "</style>\n",
       "<table border=\"1\" class=\"dataframe\">\n",
       "  <thead>\n",
       "    <tr style=\"text-align: right;\">\n",
       "      <th></th>\n",
       "      <th>rank</th>\n",
       "      <th>release_date</th>\n",
       "      <th>title</th>\n",
       "      <th>production_cost</th>\n",
       "      <th>domestic_gross</th>\n",
       "      <th>worldwide_gross</th>\n",
       "      <th>opening_weekend</th>\n",
       "      <th>genre</th>\n",
       "      <th>theaters</th>\n",
       "      <th>runtime</th>\n",
       "      <th>year</th>\n",
       "      <th>prod_cost_range_million</th>\n",
       "      <th>worldwide_gross_range_million</th>\n",
       "      <th>domestic_gross_range_million</th>\n",
       "    </tr>\n",
       "  </thead>\n",
       "  <tbody>\n",
       "    <tr>\n",
       "      <th>0</th>\n",
       "      <td>1</td>\n",
       "      <td>2019-04-23</td>\n",
       "      <td>Avengers: Endgame</td>\n",
       "      <td>400000000</td>\n",
       "      <td>858373000</td>\n",
       "      <td>2797800564</td>\n",
       "      <td>357115007.0</td>\n",
       "      <td>Action</td>\n",
       "      <td>4662.0</td>\n",
       "      <td>181.0</td>\n",
       "      <td>2019.0</td>\n",
       "      <td>396-401</td>\n",
       "      <td>2793-2803</td>\n",
       "      <td>855-860</td>\n",
       "    </tr>\n",
       "    <tr>\n",
       "      <th>1</th>\n",
       "      <td>2</td>\n",
       "      <td>2011-05-20</td>\n",
       "      <td>Pirates of the Caribbean: On Stranger Tides</td>\n",
       "      <td>379000000</td>\n",
       "      <td>241071802</td>\n",
       "      <td>1045713802</td>\n",
       "      <td>90151958.0</td>\n",
       "      <td>Adventure</td>\n",
       "      <td>4164.0</td>\n",
       "      <td>136.0</td>\n",
       "      <td>2011.0</td>\n",
       "      <td>376-381</td>\n",
       "      <td>1043-1053</td>\n",
       "      <td>240-245</td>\n",
       "    </tr>\n",
       "    <tr>\n",
       "      <th>2</th>\n",
       "      <td>3</td>\n",
       "      <td>2015-04-22</td>\n",
       "      <td>Avengers: Age of Ultron</td>\n",
       "      <td>365000000</td>\n",
       "      <td>459005868</td>\n",
       "      <td>1395316979</td>\n",
       "      <td>191271109.0</td>\n",
       "      <td>Action</td>\n",
       "      <td>4276.0</td>\n",
       "      <td>141.0</td>\n",
       "      <td>2015.0</td>\n",
       "      <td>361-366</td>\n",
       "      <td>1393-1403</td>\n",
       "      <td>455-460</td>\n",
       "    </tr>\n",
       "    <tr>\n",
       "      <th>3</th>\n",
       "      <td>4</td>\n",
       "      <td>2015-12-16</td>\n",
       "      <td>Star Wars Ep. VII: The Force Awakens</td>\n",
       "      <td>306000000</td>\n",
       "      <td>936662225</td>\n",
       "      <td>2064615817</td>\n",
       "      <td>247966675.0</td>\n",
       "      <td>Adventure</td>\n",
       "      <td>4134.0</td>\n",
       "      <td>136.0</td>\n",
       "      <td>2015.0</td>\n",
       "      <td>301-306</td>\n",
       "      <td>2063-2073</td>\n",
       "      <td>935-940</td>\n",
       "    </tr>\n",
       "    <tr>\n",
       "      <th>4</th>\n",
       "      <td>5</td>\n",
       "      <td>2018-04-25</td>\n",
       "      <td>Avengers: Infinity War</td>\n",
       "      <td>300000000</td>\n",
       "      <td>678815482</td>\n",
       "      <td>2048359754</td>\n",
       "      <td>257698183.0</td>\n",
       "      <td>Action</td>\n",
       "      <td>4474.0</td>\n",
       "      <td>156.0</td>\n",
       "      <td>2018.0</td>\n",
       "      <td>296-301</td>\n",
       "      <td>2043-2053</td>\n",
       "      <td>675-680</td>\n",
       "    </tr>\n",
       "  </tbody>\n",
       "</table>\n",
       "</div>"
      ]
     },
     "execution_count": 14,
     "metadata": {},
     "output_type": "execute_result"
    }
   ],
   "execution_count": 14
  },
  {
   "metadata": {
    "ExecuteTime": {
     "end_time": "2025-01-06T04:26:53.083797Z",
     "start_time": "2025-01-06T04:26:53.072499Z"
    }
   },
   "cell_type": "code",
   "source": [
    "#Ensure all rows are accounted for\n",
    "csv_movies_with_budget_df[csv_movies_with_budget_df[\"prod_cost_range_million\"].isna()]\n",
    "csv_movies_with_budget_df[csv_movies_with_budget_df[\"domestic_gross_range_million\"].isna()]\n",
    "csv_movies_with_budget_df[csv_movies_with_budget_df[\"worldwide_gross_range_million\"].isna()]"
   ],
   "id": "d4540d694475f790",
   "outputs": [
    {
     "data": {
      "text/plain": [
       "Empty DataFrame\n",
       "Columns: [rank, release_date, title, production_cost, domestic_gross, worldwide_gross, opening_weekend, genre, theaters, runtime, year, prod_cost_range_million, worldwide_gross_range_million, domestic_gross_range_million]\n",
       "Index: []"
      ],
      "text/html": [
       "<div>\n",
       "<style scoped>\n",
       "    .dataframe tbody tr th:only-of-type {\n",
       "        vertical-align: middle;\n",
       "    }\n",
       "\n",
       "    .dataframe tbody tr th {\n",
       "        vertical-align: top;\n",
       "    }\n",
       "\n",
       "    .dataframe thead th {\n",
       "        text-align: right;\n",
       "    }\n",
       "</style>\n",
       "<table border=\"1\" class=\"dataframe\">\n",
       "  <thead>\n",
       "    <tr style=\"text-align: right;\">\n",
       "      <th></th>\n",
       "      <th>rank</th>\n",
       "      <th>release_date</th>\n",
       "      <th>title</th>\n",
       "      <th>production_cost</th>\n",
       "      <th>domestic_gross</th>\n",
       "      <th>worldwide_gross</th>\n",
       "      <th>opening_weekend</th>\n",
       "      <th>genre</th>\n",
       "      <th>theaters</th>\n",
       "      <th>runtime</th>\n",
       "      <th>year</th>\n",
       "      <th>prod_cost_range_million</th>\n",
       "      <th>worldwide_gross_range_million</th>\n",
       "      <th>domestic_gross_range_million</th>\n",
       "    </tr>\n",
       "  </thead>\n",
       "  <tbody>\n",
       "  </tbody>\n",
       "</table>\n",
       "</div>"
      ]
     },
     "execution_count": 15,
     "metadata": {},
     "output_type": "execute_result"
    }
   ],
   "execution_count": 15
  },
  {
   "metadata": {},
   "cell_type": "markdown",
   "source": "From the above, there are no rows with NAN",
   "id": "410bc41125d445fd"
  },
  {
   "metadata": {
    "ExecuteTime": {
     "end_time": "2025-01-06T04:26:53.094813Z",
     "start_time": "2025-01-06T04:26:53.084802Z"
    }
   },
   "cell_type": "code",
   "source": [
    "# Count the occurrences of each  range\n",
    "csv_movies_with_budget_df.worldwide_gross_range_million.value_counts()"
   ],
   "id": "2e10e34d725fb9e4",
   "outputs": [
    {
     "data": {
      "text/plain": [
       "worldwide_gross_range_million\n",
       "163-173      15\n",
       "283-293      10\n",
       "363-373      10\n",
       "243-253      10\n",
       "393-403      10\n",
       "             ..\n",
       "1793-1803     0\n",
       "1803-1813     0\n",
       "1813-1823     0\n",
       "1823-1833     0\n",
       "1463-1473     0\n",
       "Name: count, Length: 290, dtype: int64"
      ]
     },
     "execution_count": 16,
     "metadata": {},
     "output_type": "execute_result"
    }
   ],
   "execution_count": 16
  },
  {
   "metadata": {},
   "cell_type": "markdown",
   "source": "#### Step 5: Convert year column into a int datatype so year looks like 2019 instead of 2019.0",
   "id": "49e505199a94b50"
  },
  {
   "metadata": {
    "ExecuteTime": {
     "end_time": "2025-01-06T04:26:53.121054Z",
     "start_time": "2025-01-06T04:26:53.096826Z"
    }
   },
   "cell_type": "code",
   "source": [
    "csv_movies_with_budget_df[\"year\"] = csv_movies_with_budget_df.year.astype('int64') \n",
    "csv_movies_with_budget_df"
   ],
   "id": "f355bb354f64f428",
   "outputs": [
    {
     "data": {
      "text/plain": [
       "     rank release_date                                        title  \\\n",
       "0       1   2019-04-23                            Avengers: Endgame   \n",
       "1       2   2011-05-20  Pirates of the Caribbean: On Stranger Tides   \n",
       "2       3   2015-04-22                      Avengers: Age of Ultron   \n",
       "3       4   2015-12-16         Star Wars Ep. VII: The Force Awakens   \n",
       "4       5   2018-04-25                       Avengers: Infinity War   \n",
       "..    ...          ...                                          ...   \n",
       "493   494   2008-02-14                    The Spiderwick Chronicles   \n",
       "494   495   2004-10-22                              The Incredibles   \n",
       "495   496   2013-02-06                       A Good Day to Die Hard   \n",
       "496   497   2004-04-09                                    The Alamo   \n",
       "498   499   2013-12-19              The Secret Life of Walter Mitty   \n",
       "\n",
       "     production_cost  domestic_gross  worldwide_gross  opening_weekend  \\\n",
       "0          400000000       858373000       2797800564      357115007.0   \n",
       "1          379000000       241071802       1045713802       90151958.0   \n",
       "2          365000000       459005868       1395316979      191271109.0   \n",
       "3          306000000       936662225       2064615817      247966675.0   \n",
       "4          300000000       678815482       2048359754      257698183.0   \n",
       "..               ...             ...              ...              ...   \n",
       "493         92500000        71195053        162839667       19004058.0   \n",
       "494         92000000       261441092        631441092       70467623.0   \n",
       "495         92000000        67349198        304249198       24834845.0   \n",
       "496         92000000        22406362         23911362        9124701.0   \n",
       "498         91000000        58236838        187861183       12765508.0   \n",
       "\n",
       "         genre  theaters  runtime  year prod_cost_range_million  \\\n",
       "0       Action    4662.0    181.0  2019                 396-401   \n",
       "1    Adventure    4164.0    136.0  2011                 376-381   \n",
       "2       Action    4276.0    141.0  2015                 361-366   \n",
       "3    Adventure    4134.0    136.0  2015                 301-306   \n",
       "4       Action    4474.0    156.0  2018                 296-301   \n",
       "..         ...       ...      ...   ...                     ...   \n",
       "493  Adventure    3847.0     96.0  2008                   91-96   \n",
       "494  Adventure    3933.0    115.0  2004                   91-96   \n",
       "495     Action    3555.0     98.0  2013                   91-96   \n",
       "496    Western    2609.0    137.0  2004                   91-96   \n",
       "498  Adventure    2922.0    114.0  2013                   86-91   \n",
       "\n",
       "    worldwide_gross_range_million domestic_gross_range_million  \n",
       "0                       2793-2803                      855-860  \n",
       "1                       1043-1053                      240-245  \n",
       "2                       1393-1403                      455-460  \n",
       "3                       2063-2073                      935-940  \n",
       "4                       2043-2053                      675-680  \n",
       "..                            ...                          ...  \n",
       "493                       153-163                        70-75  \n",
       "494                       623-633                      260-265  \n",
       "495                       303-313                        65-70  \n",
       "496                         13-23                        20-25  \n",
       "498                       183-193                        55-60  \n",
       "\n",
       "[474 rows x 14 columns]"
      ],
      "text/html": [
       "<div>\n",
       "<style scoped>\n",
       "    .dataframe tbody tr th:only-of-type {\n",
       "        vertical-align: middle;\n",
       "    }\n",
       "\n",
       "    .dataframe tbody tr th {\n",
       "        vertical-align: top;\n",
       "    }\n",
       "\n",
       "    .dataframe thead th {\n",
       "        text-align: right;\n",
       "    }\n",
       "</style>\n",
       "<table border=\"1\" class=\"dataframe\">\n",
       "  <thead>\n",
       "    <tr style=\"text-align: right;\">\n",
       "      <th></th>\n",
       "      <th>rank</th>\n",
       "      <th>release_date</th>\n",
       "      <th>title</th>\n",
       "      <th>production_cost</th>\n",
       "      <th>domestic_gross</th>\n",
       "      <th>worldwide_gross</th>\n",
       "      <th>opening_weekend</th>\n",
       "      <th>genre</th>\n",
       "      <th>theaters</th>\n",
       "      <th>runtime</th>\n",
       "      <th>year</th>\n",
       "      <th>prod_cost_range_million</th>\n",
       "      <th>worldwide_gross_range_million</th>\n",
       "      <th>domestic_gross_range_million</th>\n",
       "    </tr>\n",
       "  </thead>\n",
       "  <tbody>\n",
       "    <tr>\n",
       "      <th>0</th>\n",
       "      <td>1</td>\n",
       "      <td>2019-04-23</td>\n",
       "      <td>Avengers: Endgame</td>\n",
       "      <td>400000000</td>\n",
       "      <td>858373000</td>\n",
       "      <td>2797800564</td>\n",
       "      <td>357115007.0</td>\n",
       "      <td>Action</td>\n",
       "      <td>4662.0</td>\n",
       "      <td>181.0</td>\n",
       "      <td>2019</td>\n",
       "      <td>396-401</td>\n",
       "      <td>2793-2803</td>\n",
       "      <td>855-860</td>\n",
       "    </tr>\n",
       "    <tr>\n",
       "      <th>1</th>\n",
       "      <td>2</td>\n",
       "      <td>2011-05-20</td>\n",
       "      <td>Pirates of the Caribbean: On Stranger Tides</td>\n",
       "      <td>379000000</td>\n",
       "      <td>241071802</td>\n",
       "      <td>1045713802</td>\n",
       "      <td>90151958.0</td>\n",
       "      <td>Adventure</td>\n",
       "      <td>4164.0</td>\n",
       "      <td>136.0</td>\n",
       "      <td>2011</td>\n",
       "      <td>376-381</td>\n",
       "      <td>1043-1053</td>\n",
       "      <td>240-245</td>\n",
       "    </tr>\n",
       "    <tr>\n",
       "      <th>2</th>\n",
       "      <td>3</td>\n",
       "      <td>2015-04-22</td>\n",
       "      <td>Avengers: Age of Ultron</td>\n",
       "      <td>365000000</td>\n",
       "      <td>459005868</td>\n",
       "      <td>1395316979</td>\n",
       "      <td>191271109.0</td>\n",
       "      <td>Action</td>\n",
       "      <td>4276.0</td>\n",
       "      <td>141.0</td>\n",
       "      <td>2015</td>\n",
       "      <td>361-366</td>\n",
       "      <td>1393-1403</td>\n",
       "      <td>455-460</td>\n",
       "    </tr>\n",
       "    <tr>\n",
       "      <th>3</th>\n",
       "      <td>4</td>\n",
       "      <td>2015-12-16</td>\n",
       "      <td>Star Wars Ep. VII: The Force Awakens</td>\n",
       "      <td>306000000</td>\n",
       "      <td>936662225</td>\n",
       "      <td>2064615817</td>\n",
       "      <td>247966675.0</td>\n",
       "      <td>Adventure</td>\n",
       "      <td>4134.0</td>\n",
       "      <td>136.0</td>\n",
       "      <td>2015</td>\n",
       "      <td>301-306</td>\n",
       "      <td>2063-2073</td>\n",
       "      <td>935-940</td>\n",
       "    </tr>\n",
       "    <tr>\n",
       "      <th>4</th>\n",
       "      <td>5</td>\n",
       "      <td>2018-04-25</td>\n",
       "      <td>Avengers: Infinity War</td>\n",
       "      <td>300000000</td>\n",
       "      <td>678815482</td>\n",
       "      <td>2048359754</td>\n",
       "      <td>257698183.0</td>\n",
       "      <td>Action</td>\n",
       "      <td>4474.0</td>\n",
       "      <td>156.0</td>\n",
       "      <td>2018</td>\n",
       "      <td>296-301</td>\n",
       "      <td>2043-2053</td>\n",
       "      <td>675-680</td>\n",
       "    </tr>\n",
       "    <tr>\n",
       "      <th>...</th>\n",
       "      <td>...</td>\n",
       "      <td>...</td>\n",
       "      <td>...</td>\n",
       "      <td>...</td>\n",
       "      <td>...</td>\n",
       "      <td>...</td>\n",
       "      <td>...</td>\n",
       "      <td>...</td>\n",
       "      <td>...</td>\n",
       "      <td>...</td>\n",
       "      <td>...</td>\n",
       "      <td>...</td>\n",
       "      <td>...</td>\n",
       "      <td>...</td>\n",
       "    </tr>\n",
       "    <tr>\n",
       "      <th>493</th>\n",
       "      <td>494</td>\n",
       "      <td>2008-02-14</td>\n",
       "      <td>The Spiderwick Chronicles</td>\n",
       "      <td>92500000</td>\n",
       "      <td>71195053</td>\n",
       "      <td>162839667</td>\n",
       "      <td>19004058.0</td>\n",
       "      <td>Adventure</td>\n",
       "      <td>3847.0</td>\n",
       "      <td>96.0</td>\n",
       "      <td>2008</td>\n",
       "      <td>91-96</td>\n",
       "      <td>153-163</td>\n",
       "      <td>70-75</td>\n",
       "    </tr>\n",
       "    <tr>\n",
       "      <th>494</th>\n",
       "      <td>495</td>\n",
       "      <td>2004-10-22</td>\n",
       "      <td>The Incredibles</td>\n",
       "      <td>92000000</td>\n",
       "      <td>261441092</td>\n",
       "      <td>631441092</td>\n",
       "      <td>70467623.0</td>\n",
       "      <td>Adventure</td>\n",
       "      <td>3933.0</td>\n",
       "      <td>115.0</td>\n",
       "      <td>2004</td>\n",
       "      <td>91-96</td>\n",
       "      <td>623-633</td>\n",
       "      <td>260-265</td>\n",
       "    </tr>\n",
       "    <tr>\n",
       "      <th>495</th>\n",
       "      <td>496</td>\n",
       "      <td>2013-02-06</td>\n",
       "      <td>A Good Day to Die Hard</td>\n",
       "      <td>92000000</td>\n",
       "      <td>67349198</td>\n",
       "      <td>304249198</td>\n",
       "      <td>24834845.0</td>\n",
       "      <td>Action</td>\n",
       "      <td>3555.0</td>\n",
       "      <td>98.0</td>\n",
       "      <td>2013</td>\n",
       "      <td>91-96</td>\n",
       "      <td>303-313</td>\n",
       "      <td>65-70</td>\n",
       "    </tr>\n",
       "    <tr>\n",
       "      <th>496</th>\n",
       "      <td>497</td>\n",
       "      <td>2004-04-09</td>\n",
       "      <td>The Alamo</td>\n",
       "      <td>92000000</td>\n",
       "      <td>22406362</td>\n",
       "      <td>23911362</td>\n",
       "      <td>9124701.0</td>\n",
       "      <td>Western</td>\n",
       "      <td>2609.0</td>\n",
       "      <td>137.0</td>\n",
       "      <td>2004</td>\n",
       "      <td>91-96</td>\n",
       "      <td>13-23</td>\n",
       "      <td>20-25</td>\n",
       "    </tr>\n",
       "    <tr>\n",
       "      <th>498</th>\n",
       "      <td>499</td>\n",
       "      <td>2013-12-19</td>\n",
       "      <td>The Secret Life of Walter Mitty</td>\n",
       "      <td>91000000</td>\n",
       "      <td>58236838</td>\n",
       "      <td>187861183</td>\n",
       "      <td>12765508.0</td>\n",
       "      <td>Adventure</td>\n",
       "      <td>2922.0</td>\n",
       "      <td>114.0</td>\n",
       "      <td>2013</td>\n",
       "      <td>86-91</td>\n",
       "      <td>183-193</td>\n",
       "      <td>55-60</td>\n",
       "    </tr>\n",
       "  </tbody>\n",
       "</table>\n",
       "<p>474 rows × 14 columns</p>\n",
       "</div>"
      ]
     },
     "execution_count": 17,
     "metadata": {},
     "output_type": "execute_result"
    }
   ],
   "execution_count": 17
  },
  {
   "metadata": {},
   "cell_type": "markdown",
   "source": "#### Step 6: Convert key column title to lowercase",
   "id": "1e648405120c1dd8"
  },
  {
   "metadata": {
    "ExecuteTime": {
     "end_time": "2025-01-06T04:26:53.127127Z",
     "start_time": "2025-01-06T04:26:53.121924Z"
    }
   },
   "cell_type": "code",
   "source": "csv_movies_with_budget_df['title'] = csv_movies_with_budget_df.title.str.lower()",
   "id": "619835004859f8d6",
   "outputs": [],
   "execution_count": 18
  },
  {
   "metadata": {
    "ExecuteTime": {
     "end_time": "2025-01-06T04:26:53.132273Z",
     "start_time": "2025-01-06T04:26:53.128133Z"
    }
   },
   "cell_type": "code",
   "source": "csv_movies_with_budget_df.reset_index(drop = True, inplace = True)",
   "id": "ac8e628bdaf23b2c",
   "outputs": [],
   "execution_count": 19
  },
  {
   "metadata": {
    "ExecuteTime": {
     "end_time": "2025-01-06T04:26:53.139213Z",
     "start_time": "2025-01-06T04:26:53.133283Z"
    }
   },
   "cell_type": "code",
   "source": "csv_movies_with_budget_df.columns",
   "id": "fea1c64ac60b21a7",
   "outputs": [
    {
     "data": {
      "text/plain": [
       "Index(['rank', 'release_date', 'title', 'production_cost', 'domestic_gross',\n",
       "       'worldwide_gross', 'opening_weekend', 'genre', 'theaters', 'runtime',\n",
       "       'year', 'prod_cost_range_million', 'worldwide_gross_range_million',\n",
       "       'domestic_gross_range_million'],\n",
       "      dtype='object')"
      ]
     },
     "execution_count": 20,
     "metadata": {},
     "output_type": "execute_result"
    }
   ],
   "execution_count": 20
  },
  {
   "metadata": {},
   "cell_type": "markdown",
   "source": "#### Step 7: Rearrange Columns",
   "id": "2871404b1a796845"
  },
  {
   "metadata": {
    "ExecuteTime": {
     "end_time": "2025-01-06T04:26:53.154246Z",
     "start_time": "2025-01-06T04:26:53.140224Z"
    }
   },
   "cell_type": "code",
   "source": [
    "re_order_cols = ['rank', 'title','year', 'release_date', 'genre','prod_cost_range_million', 'worldwide_gross_range_million',\n",
    "                 'domestic_gross_range_million', 'production_cost', 'domestic_gross',\n",
    "                 'worldwide_gross', 'opening_weekend', 'theaters', 'runtime' ]\n",
    "for i,col in enumerate(re_order_cols):\n",
    "    tmp = csv_movies_with_budget_df[col]\n",
    "    csv_movies_with_budget_df.drop(labels=[col],axis=1,inplace=True)\n",
    "    csv_movies_with_budget_df.insert(i,col,tmp)"
   ],
   "id": "5fad317b66f8493c",
   "outputs": [],
   "execution_count": 21
  },
  {
   "metadata": {
    "ExecuteTime": {
     "end_time": "2025-01-06T04:26:53.168863Z",
     "start_time": "2025-01-06T04:26:53.156265Z"
    }
   },
   "cell_type": "code",
   "source": "csv_movies_with_budget_df.head()",
   "id": "fef56a006af5bc17",
   "outputs": [
    {
     "data": {
      "text/plain": [
       "   rank                                        title  year release_date  \\\n",
       "0     1                            avengers: endgame  2019   2019-04-23   \n",
       "1     2  pirates of the caribbean: on stranger tides  2011   2011-05-20   \n",
       "2     3                      avengers: age of ultron  2015   2015-04-22   \n",
       "3     4         star wars ep. vii: the force awakens  2015   2015-12-16   \n",
       "4     5                       avengers: infinity war  2018   2018-04-25   \n",
       "\n",
       "       genre prod_cost_range_million worldwide_gross_range_million  \\\n",
       "0     Action                 396-401                     2793-2803   \n",
       "1  Adventure                 376-381                     1043-1053   \n",
       "2     Action                 361-366                     1393-1403   \n",
       "3  Adventure                 301-306                     2063-2073   \n",
       "4     Action                 296-301                     2043-2053   \n",
       "\n",
       "  domestic_gross_range_million  production_cost  domestic_gross  \\\n",
       "0                      855-860        400000000       858373000   \n",
       "1                      240-245        379000000       241071802   \n",
       "2                      455-460        365000000       459005868   \n",
       "3                      935-940        306000000       936662225   \n",
       "4                      675-680        300000000       678815482   \n",
       "\n",
       "   worldwide_gross  opening_weekend  theaters  runtime  \n",
       "0       2797800564      357115007.0    4662.0    181.0  \n",
       "1       1045713802       90151958.0    4164.0    136.0  \n",
       "2       1395316979      191271109.0    4276.0    141.0  \n",
       "3       2064615817      247966675.0    4134.0    136.0  \n",
       "4       2048359754      257698183.0    4474.0    156.0  "
      ],
      "text/html": [
       "<div>\n",
       "<style scoped>\n",
       "    .dataframe tbody tr th:only-of-type {\n",
       "        vertical-align: middle;\n",
       "    }\n",
       "\n",
       "    .dataframe tbody tr th {\n",
       "        vertical-align: top;\n",
       "    }\n",
       "\n",
       "    .dataframe thead th {\n",
       "        text-align: right;\n",
       "    }\n",
       "</style>\n",
       "<table border=\"1\" class=\"dataframe\">\n",
       "  <thead>\n",
       "    <tr style=\"text-align: right;\">\n",
       "      <th></th>\n",
       "      <th>rank</th>\n",
       "      <th>title</th>\n",
       "      <th>year</th>\n",
       "      <th>release_date</th>\n",
       "      <th>genre</th>\n",
       "      <th>prod_cost_range_million</th>\n",
       "      <th>worldwide_gross_range_million</th>\n",
       "      <th>domestic_gross_range_million</th>\n",
       "      <th>production_cost</th>\n",
       "      <th>domestic_gross</th>\n",
       "      <th>worldwide_gross</th>\n",
       "      <th>opening_weekend</th>\n",
       "      <th>theaters</th>\n",
       "      <th>runtime</th>\n",
       "    </tr>\n",
       "  </thead>\n",
       "  <tbody>\n",
       "    <tr>\n",
       "      <th>0</th>\n",
       "      <td>1</td>\n",
       "      <td>avengers: endgame</td>\n",
       "      <td>2019</td>\n",
       "      <td>2019-04-23</td>\n",
       "      <td>Action</td>\n",
       "      <td>396-401</td>\n",
       "      <td>2793-2803</td>\n",
       "      <td>855-860</td>\n",
       "      <td>400000000</td>\n",
       "      <td>858373000</td>\n",
       "      <td>2797800564</td>\n",
       "      <td>357115007.0</td>\n",
       "      <td>4662.0</td>\n",
       "      <td>181.0</td>\n",
       "    </tr>\n",
       "    <tr>\n",
       "      <th>1</th>\n",
       "      <td>2</td>\n",
       "      <td>pirates of the caribbean: on stranger tides</td>\n",
       "      <td>2011</td>\n",
       "      <td>2011-05-20</td>\n",
       "      <td>Adventure</td>\n",
       "      <td>376-381</td>\n",
       "      <td>1043-1053</td>\n",
       "      <td>240-245</td>\n",
       "      <td>379000000</td>\n",
       "      <td>241071802</td>\n",
       "      <td>1045713802</td>\n",
       "      <td>90151958.0</td>\n",
       "      <td>4164.0</td>\n",
       "      <td>136.0</td>\n",
       "    </tr>\n",
       "    <tr>\n",
       "      <th>2</th>\n",
       "      <td>3</td>\n",
       "      <td>avengers: age of ultron</td>\n",
       "      <td>2015</td>\n",
       "      <td>2015-04-22</td>\n",
       "      <td>Action</td>\n",
       "      <td>361-366</td>\n",
       "      <td>1393-1403</td>\n",
       "      <td>455-460</td>\n",
       "      <td>365000000</td>\n",
       "      <td>459005868</td>\n",
       "      <td>1395316979</td>\n",
       "      <td>191271109.0</td>\n",
       "      <td>4276.0</td>\n",
       "      <td>141.0</td>\n",
       "    </tr>\n",
       "    <tr>\n",
       "      <th>3</th>\n",
       "      <td>4</td>\n",
       "      <td>star wars ep. vii: the force awakens</td>\n",
       "      <td>2015</td>\n",
       "      <td>2015-12-16</td>\n",
       "      <td>Adventure</td>\n",
       "      <td>301-306</td>\n",
       "      <td>2063-2073</td>\n",
       "      <td>935-940</td>\n",
       "      <td>306000000</td>\n",
       "      <td>936662225</td>\n",
       "      <td>2064615817</td>\n",
       "      <td>247966675.0</td>\n",
       "      <td>4134.0</td>\n",
       "      <td>136.0</td>\n",
       "    </tr>\n",
       "    <tr>\n",
       "      <th>4</th>\n",
       "      <td>5</td>\n",
       "      <td>avengers: infinity war</td>\n",
       "      <td>2018</td>\n",
       "      <td>2018-04-25</td>\n",
       "      <td>Action</td>\n",
       "      <td>296-301</td>\n",
       "      <td>2043-2053</td>\n",
       "      <td>675-680</td>\n",
       "      <td>300000000</td>\n",
       "      <td>678815482</td>\n",
       "      <td>2048359754</td>\n",
       "      <td>257698183.0</td>\n",
       "      <td>4474.0</td>\n",
       "      <td>156.0</td>\n",
       "    </tr>\n",
       "  </tbody>\n",
       "</table>\n",
       "</div>"
      ]
     },
     "execution_count": 22,
     "metadata": {},
     "output_type": "execute_result"
    }
   ],
   "execution_count": 22
  },
  {
   "metadata": {},
   "cell_type": "markdown",
   "source": "#### Final data after cleanup",
   "id": "bd0af7f79319c80c"
  },
  {
   "metadata": {
    "ExecuteTime": {
     "end_time": "2025-01-06T04:26:53.176376Z",
     "start_time": "2025-01-06T04:26:53.170380Z"
    }
   },
   "cell_type": "code",
   "source": "csv_movies_with_budget_df.shape",
   "id": "2a32f552c696ab1b",
   "outputs": [
    {
     "data": {
      "text/plain": [
       "(474, 14)"
      ]
     },
     "execution_count": 23,
     "metadata": {},
     "output_type": "execute_result"
    }
   ],
   "execution_count": 23
  },
  {
   "metadata": {
    "ExecuteTime": {
     "end_time": "2025-01-06T04:26:53.191361Z",
     "start_time": "2025-01-06T04:26:53.178384Z"
    }
   },
   "cell_type": "code",
   "source": "csv_movies_with_budget_df.to_csv(r'./project_datasets/clean-500-movies.csv',index=False)",
   "id": "c19a1225e5a4b630",
   "outputs": [],
   "execution_count": 24
  },
  {
   "metadata": {},
   "cell_type": "markdown",
   "source": [
    "Are there any legal or regulatory guidelines for your data or project topic?\n",
    "\n",
    "None as this is just a top 500 movies with their production cost.\n",
    "\n",
    "Did you make any assumptions in cleaning/transforming the data?\n",
    "\n",
    "I assumed the rank of the movie was opinioned and not based on any logic. I do not plan to use that as part of my analysis.\n",
    "\n",
    "How was your data sourced / verified for credibility?\n",
    "\n",
    "This comes from the top 500 movies set from kaggle.\n",
    "\n",
    "Was your data acquired in an ethical way?\n",
    "\n",
    "Yes, it was just the top 500 movies.\n",
    "\n",
    "\n"
   ],
   "id": "5b23e0f6ba03d955"
  }
 ],
 "metadata": {
  "kernelspec": {
   "display_name": "Python 3",
   "language": "python",
   "name": "python3"
  },
  "language_info": {
   "codemirror_mode": {
    "name": "ipython",
    "version": 2
   },
   "file_extension": ".py",
   "mimetype": "text/x-python",
   "name": "python",
   "nbconvert_exporter": "python",
   "pygments_lexer": "ipython2",
   "version": "2.7.6"
  }
 },
 "nbformat": 4,
 "nbformat_minor": 5
}
