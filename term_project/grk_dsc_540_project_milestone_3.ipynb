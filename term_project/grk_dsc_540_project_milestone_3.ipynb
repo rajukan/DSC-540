{
 "cells": [
  {
   "cell_type": "code",
   "id": "initial_id",
   "metadata": {
    "collapsed": true,
    "ExecuteTime": {
     "end_time": "2024-12-25T19:37:06.819663Z",
     "start_time": "2024-12-25T19:37:06.812135Z"
    }
   },
   "source": [
    "import pandas as pd\n",
    "import requests\n",
    "import traceback\n",
    "from bs4 import BeautifulSoup\n",
    "import warnings\n",
    "warnings.filterwarnings(\"ignore\")\n",
    "%matplotlib inline"
   ],
   "outputs": [],
   "execution_count": 55
  },
  {
   "metadata": {},
   "cell_type": "markdown",
   "source": [
    "Speaking about WebScraping the box office hits, the most complicated part of this is inspecting the webpage source code to determine what to grab and what to ignore. I started off to create a dataset from the weekend performance page of Box Office Mojo, a great datasource for box office performance data.\n",
    "> Generally tabular data that is visible on the page will be put into 'tr' tags. With some of the code below I am exploring edge cases in the ouput of the page. When there is a special occasion for the weekend, in this case thanksgiving, there is a different format and structure that is displayed."
   ],
   "id": "4295a992a290d8f9"
  },
  {
   "metadata": {
    "ExecuteTime": {
     "end_time": "2024-12-25T19:37:08.986055Z",
     "start_time": "2024-12-25T19:37:08.979822Z"
    }
   },
   "cell_type": "code",
   "source": [
    "# Request to website and download HTML contents\n",
    "scrape_website='https://www.boxofficemojo.com/weekend/by-year/'"
   ],
   "id": "a026603f665e6f2b",
   "outputs": [],
   "execution_count": 56
  },
  {
   "metadata": {
    "ExecuteTime": {
     "end_time": "2024-12-25T19:37:13.421738Z",
     "start_time": "2024-12-25T19:37:13.414420Z"
    }
   },
   "cell_type": "code",
   "source": [
    "weekend_data = pd.DataFrame()\n",
    "#Get last 10 years of box office collections\n",
    "years = list(range(2013,2024,1))\n",
    "years\n",
    "#remove later\n",
    "weekend_data = pd.read_pickle(\"raw_web_scrapped_df_pickle\")"
   ],
   "id": "d2df8b45383745f5",
   "outputs": [],
   "execution_count": 57
  },
  {
   "metadata": {},
   "cell_type": "markdown",
   "source": "#### Writing a function which scrapes the box office contents",
   "id": "9fc34476cf079a1a"
  },
  {
   "metadata": {
    "ExecuteTime": {
     "end_time": "2024-12-25T19:37:16.722910Z",
     "start_time": "2024-12-25T19:37:16.711865Z"
    }
   },
   "cell_type": "code",
   "source": [
    "def scrape_for_year(year):\n",
    "\n",
    "    url = f'https://www.boxofficemojo.com/weekend/by-year/{year}/'\n",
    "    response=\"\"\n",
    "    try:\n",
    "        response = requests.get(url)\n",
    "    except Exception as ex:\n",
    "        print(f\"Exception occurred {ex}\")\n",
    "        traceback.print_exc()\n",
    "    content = response.text\n",
    "    ## Reading webpage using beatifulsoup method available in bs4\n",
    "    soup = BeautifulSoup(content)\n",
    "    ## Find the tabular data that is visible on the page will be put into 'tr' tags\n",
    "    rows = soup.findAll('tr')\n",
    "\n",
    "    appended_data = []\n",
    "    for row in rows:\n",
    "        data_row = {}\n",
    "        data_row['year'] = yr\n",
    "        data = row.findAll('td')\n",
    "        if len(data) == 0:\n",
    "            continue\n",
    "        if len(data[0].findAll('span')) > 0:\n",
    "            #Data for special weekend\n",
    "            data_row['occasion'] = data[0].findAll('span')[0].text\n",
    "            data_row['date'] = data[0].findAll('a')[0].text\n",
    "        else:\n",
    "            data_row['occasion'] = \"normal weekend\"\n",
    "            data_row['date'] = data[0].text\n",
    "        data_row['top10_gross'] = data[1].text\n",
    "        data_row['top10_wow_change'] = data[2].text\n",
    "        data_row['overall_gross'] = data[3].text\n",
    "        data_row['overall_wow_change'] = data[4].text\n",
    "        data_row['num_releases'] = data[5].text\n",
    "        data_row['top_release'] = data[6].text\n",
    "        data_row['week_no'] = data[10].text\n",
    "        appended_data.append(data_row)\n",
    "    return appended_data"
   ],
   "id": "6c4682423847f754",
   "outputs": [],
   "execution_count": 58
  },
  {
   "metadata": {},
   "cell_type": "markdown",
   "source": "#### Creating Dataframe from the appended yearly data",
   "id": "28d59cb87c360dda"
  },
  {
   "metadata": {
    "ExecuteTime": {
     "end_time": "2024-12-25T19:37:33.180299Z",
     "start_time": "2024-12-25T19:37:29.804048Z"
    }
   },
   "cell_type": "code",
   "source": [
    "for yr in years:\n",
    "    result = scrape_for_year(yr)\n",
    "    scrapped_df = pd.DataFrame(result, columns = ['date','occasion','year', 'top10_gross', 'top10_wow_change', 'overall_gross', 'overall_wow_change', 'num_releases', 'top_release', 'week_no'])\n",
    "    weekend_data = pd.concat([weekend_data,scrapped_df],ignore_index=True)"
   ],
   "id": "653775fdc4b8b3fe",
   "outputs": [],
   "execution_count": 60
  },
  {
   "metadata": {
    "ExecuteTime": {
     "end_time": "2024-12-25T19:37:36.050968Z",
     "start_time": "2024-12-25T19:37:36.032307Z"
    }
   },
   "cell_type": "code",
   "source": [
    "#remove later\n",
    "#weekend_data.to_pickle(\"raw_web_scrapped_df_pickle\")\n",
    "weekend_data.shape"
   ],
   "id": "8881d5d81d396617",
   "outputs": [
    {
     "data": {
      "text/plain": [
       "(1354, 10)"
      ]
     },
     "execution_count": 61,
     "metadata": {},
     "output_type": "execute_result"
    }
   ],
   "execution_count": 61
  },
  {
   "metadata": {
    "ExecuteTime": {
     "end_time": "2024-12-25T19:37:42.862089Z",
     "start_time": "2024-12-25T19:37:42.850720Z"
    }
   },
   "cell_type": "code",
   "source": "weekend_data.head()",
   "id": "b040255bb82c581b",
   "outputs": [
    {
     "data": {
      "text/plain": [
       "           date            occasion  year   top10_gross top10_wow_change  \\\n",
       "0     Dec 27-29      normal weekend  2013  $167,837,974           +24.5%   \n",
       "1     Dec 20-22      normal weekend  2013  $134,837,792            -2.6%   \n",
       "2     Dec 13-15      normal weekend  2013  $138,369,003           +64.8%   \n",
       "3       Dec 6-8   Post-Thanksgiving  2013   $83,941,456           -55.7%   \n",
       "4  Nov 29-Dec 1  Thanksgiving 3-Day  2013  $189,483,142           -11.7%   \n",
       "\n",
       "  overall_gross overall_wow_change num_releases  \\\n",
       "0  $197,177,755             +37.3%           81   \n",
       "1  $143,571,365              -2.8%           80   \n",
       "2  $147,702,714             +56.2%           94   \n",
       "3   $94,535,353             -54.6%           96   \n",
       "4  $208,125,032              -8.1%          104   \n",
       "\n",
       "                           top_release week_no  \n",
       "0  The Hobbit: The Desolation of Smaug      52  \n",
       "1  The Hobbit: The Desolation of Smaug      51  \n",
       "2  The Hobbit: The Desolation of Smaug      50  \n",
       "3                               Frozen      49  \n",
       "4      The Hunger Games: Catching Fire      48  "
      ],
      "text/html": [
       "<div>\n",
       "<style scoped>\n",
       "    .dataframe tbody tr th:only-of-type {\n",
       "        vertical-align: middle;\n",
       "    }\n",
       "\n",
       "    .dataframe tbody tr th {\n",
       "        vertical-align: top;\n",
       "    }\n",
       "\n",
       "    .dataframe thead th {\n",
       "        text-align: right;\n",
       "    }\n",
       "</style>\n",
       "<table border=\"1\" class=\"dataframe\">\n",
       "  <thead>\n",
       "    <tr style=\"text-align: right;\">\n",
       "      <th></th>\n",
       "      <th>date</th>\n",
       "      <th>occasion</th>\n",
       "      <th>year</th>\n",
       "      <th>top10_gross</th>\n",
       "      <th>top10_wow_change</th>\n",
       "      <th>overall_gross</th>\n",
       "      <th>overall_wow_change</th>\n",
       "      <th>num_releases</th>\n",
       "      <th>top_release</th>\n",
       "      <th>week_no</th>\n",
       "    </tr>\n",
       "  </thead>\n",
       "  <tbody>\n",
       "    <tr>\n",
       "      <th>0</th>\n",
       "      <td>Dec 27-29</td>\n",
       "      <td>normal weekend</td>\n",
       "      <td>2013</td>\n",
       "      <td>$167,837,974</td>\n",
       "      <td>+24.5%</td>\n",
       "      <td>$197,177,755</td>\n",
       "      <td>+37.3%</td>\n",
       "      <td>81</td>\n",
       "      <td>The Hobbit: The Desolation of Smaug</td>\n",
       "      <td>52</td>\n",
       "    </tr>\n",
       "    <tr>\n",
       "      <th>1</th>\n",
       "      <td>Dec 20-22</td>\n",
       "      <td>normal weekend</td>\n",
       "      <td>2013</td>\n",
       "      <td>$134,837,792</td>\n",
       "      <td>-2.6%</td>\n",
       "      <td>$143,571,365</td>\n",
       "      <td>-2.8%</td>\n",
       "      <td>80</td>\n",
       "      <td>The Hobbit: The Desolation of Smaug</td>\n",
       "      <td>51</td>\n",
       "    </tr>\n",
       "    <tr>\n",
       "      <th>2</th>\n",
       "      <td>Dec 13-15</td>\n",
       "      <td>normal weekend</td>\n",
       "      <td>2013</td>\n",
       "      <td>$138,369,003</td>\n",
       "      <td>+64.8%</td>\n",
       "      <td>$147,702,714</td>\n",
       "      <td>+56.2%</td>\n",
       "      <td>94</td>\n",
       "      <td>The Hobbit: The Desolation of Smaug</td>\n",
       "      <td>50</td>\n",
       "    </tr>\n",
       "    <tr>\n",
       "      <th>3</th>\n",
       "      <td>Dec 6-8</td>\n",
       "      <td>Post-Thanksgiving</td>\n",
       "      <td>2013</td>\n",
       "      <td>$83,941,456</td>\n",
       "      <td>-55.7%</td>\n",
       "      <td>$94,535,353</td>\n",
       "      <td>-54.6%</td>\n",
       "      <td>96</td>\n",
       "      <td>Frozen</td>\n",
       "      <td>49</td>\n",
       "    </tr>\n",
       "    <tr>\n",
       "      <th>4</th>\n",
       "      <td>Nov 29-Dec 1</td>\n",
       "      <td>Thanksgiving 3-Day</td>\n",
       "      <td>2013</td>\n",
       "      <td>$189,483,142</td>\n",
       "      <td>-11.7%</td>\n",
       "      <td>$208,125,032</td>\n",
       "      <td>-8.1%</td>\n",
       "      <td>104</td>\n",
       "      <td>The Hunger Games: Catching Fire</td>\n",
       "      <td>48</td>\n",
       "    </tr>\n",
       "  </tbody>\n",
       "</table>\n",
       "</div>"
      ]
     },
     "execution_count": 62,
     "metadata": {},
     "output_type": "execute_result"
    }
   ],
   "execution_count": 62
  },
  {
   "metadata": {
    "ExecuteTime": {
     "end_time": "2024-12-25T19:37:46.361966Z",
     "start_time": "2024-12-25T19:37:46.353798Z"
    }
   },
   "cell_type": "code",
   "source": "weekend_data.columns",
   "id": "d82177aa7c06a965",
   "outputs": [
    {
     "data": {
      "text/plain": [
       "Index(['date', 'occasion', 'year', 'top10_gross', 'top10_wow_change',\n",
       "       'overall_gross', 'overall_wow_change', 'num_releases', 'top_release',\n",
       "       'week_no'],\n",
       "      dtype='object')"
      ]
     },
     "execution_count": 63,
     "metadata": {},
     "output_type": "execute_result"
    }
   ],
   "execution_count": 63
  },
  {
   "metadata": {},
   "cell_type": "markdown",
   "source": "#### Step 2: Removing null rows from the dataset",
   "id": "12bdbf0246cebcf0"
  },
  {
   "metadata": {
    "ExecuteTime": {
     "end_time": "2024-12-25T19:37:49.765422Z",
     "start_time": "2024-12-25T19:37:49.757795Z"
    }
   },
   "cell_type": "code",
   "source": [
    "## Calculating number of null rows present in the dataset\n",
    "weekend_data.occasion.value_counts()"
   ],
   "id": "e2b91efd3a62292",
   "outputs": [
    {
     "data": {
      "text/plain": [
       "occasion\n",
       "normal weekend                               932\n",
       "COVID-19 Pandemic                            128\n",
       "Indig. Peoples' Day wknd                      20\n",
       "Labor Day wknd                                20\n",
       "MLK wknd                                      20\n",
       "Thanksgiving 3-Day                            18\n",
       "Thanksgiving 4-Day                            18\n",
       "Thanksgiving 5-Day                            18\n",
       "Memorial Day wknd                             18\n",
       "Easter wknd                                   18\n",
       "Post-Thanksgiving                             18\n",
       "Presidents' Day wknd                          16\n",
       "New Year's long wknd                          10\n",
       "July 4th long wknd                            10\n",
       "Christmas long wknd                           10\n",
       "World Cup (Russia)                            10\n",
       "World Cup (Brazil)                            10\n",
       "Sochi Olympics                                 6\n",
       "PyeongChang Olympics                           6\n",
       "Rio Olympics                                   6\n",
       "COVID-19 PandemicMemorial Day wknd             4\n",
       "World Cup (Qatar)                              4\n",
       "COVID-19 PandemicEaster wknd                   4\n",
       "Mayweather/Pacquiao Fight                      2\n",
       "Thanksgiving 4-DayWorld Cup (Qatar)            2\n",
       "Thanksgiving 3-DayWorld Cup (Qatar)            2\n",
       "Post-ThanksgivingWorld Cup (Qatar)             2\n",
       "COVID-19 PandemicMLK wknd                      2\n",
       "COVID-19 PandemicPresidents' Day wknd          2\n",
       "COVID-19 PandemicIndig. Peoples' Day wknd      2\n",
       "COVID-19 PandemicLabor Day wknd                2\n",
       "COVID-19 PandemicThanksgiving 5-Day            2\n",
       "COVID-19 PandemicThanksgiving 4-Day            2\n",
       "COVID-19 PandemicThanksgiving 3-Day            2\n",
       "COVID-19 PandemicPost-Thanksgiving             2\n",
       "Presidents' Day wkndPyeongChang Olympics       2\n",
       "Presidents' Day wkndSochi Olympics             2\n",
       "Thanksgiving 5-DayWorld Cup (Qatar)            2\n",
       "Name: count, dtype: int64"
      ]
     },
     "execution_count": 64,
     "metadata": {},
     "output_type": "execute_result"
    }
   ],
   "execution_count": 64
  },
  {
   "metadata": {},
   "cell_type": "markdown",
   "source": "#### Step 3: Remove dollar signs and comma convert to integer",
   "id": "cc0ee3d0758e4269"
  },
  {
   "metadata": {
    "ExecuteTime": {
     "end_time": "2024-12-25T19:37:53.591564Z",
     "start_time": "2024-12-25T19:37:53.579553Z"
    }
   },
   "cell_type": "code",
   "source": [
    "weekend_data['top10_gross'] = weekend_data['top10_gross'].replace('[$,]', '', regex=True).astype(int)\n",
    "weekend_data['overall_gross'] = weekend_data['overall_gross'].replace('[$,]', '', regex=True).astype(int)\n"
   ],
   "id": "824168b5dca3a48a",
   "outputs": [],
   "execution_count": 65
  },
  {
   "metadata": {},
   "cell_type": "markdown",
   "source": "#### Step 4: Create some new columns in millions for each gross column",
   "id": "994ba12e1a498493"
  },
  {
   "metadata": {
    "ExecuteTime": {
     "end_time": "2024-12-25T19:37:55.503021Z",
     "start_time": "2024-12-25T19:37:55.484237Z"
    }
   },
   "cell_type": "code",
   "source": [
    "# Create the column in millions\n",
    "weekend_data['top_10_gross_in_millions'] = weekend_data['top10_gross'] / 1000000\n",
    "weekend_data['top_10_gross_in_millions'] = weekend_data['top_10_gross_in_millions'].apply(lambda x: f\"{x:.2f}\")\n",
    "\n",
    "weekend_data['overall_gross_in_millions'] = weekend_data['overall_gross'] / 1000000\n",
    "weekend_data['overall_gross_in_millions'] = weekend_data['overall_gross_in_millions'].apply(lambda x: f\"{x:.2f}\")\n",
    "\n",
    "weekend_data.head()"
   ],
   "id": "7792b1d68520525f",
   "outputs": [
    {
     "data": {
      "text/plain": [
       "           date            occasion  year  top10_gross top10_wow_change  \\\n",
       "0     Dec 27-29      normal weekend  2013    167837974           +24.5%   \n",
       "1     Dec 20-22      normal weekend  2013    134837792            -2.6%   \n",
       "2     Dec 13-15      normal weekend  2013    138369003           +64.8%   \n",
       "3       Dec 6-8   Post-Thanksgiving  2013     83941456           -55.7%   \n",
       "4  Nov 29-Dec 1  Thanksgiving 3-Day  2013    189483142           -11.7%   \n",
       "\n",
       "   overall_gross overall_wow_change num_releases  \\\n",
       "0      197177755             +37.3%           81   \n",
       "1      143571365              -2.8%           80   \n",
       "2      147702714             +56.2%           94   \n",
       "3       94535353             -54.6%           96   \n",
       "4      208125032              -8.1%          104   \n",
       "\n",
       "                           top_release week_no top_10_gross_in_millions  \\\n",
       "0  The Hobbit: The Desolation of Smaug      52                   167.84   \n",
       "1  The Hobbit: The Desolation of Smaug      51                   134.84   \n",
       "2  The Hobbit: The Desolation of Smaug      50                   138.37   \n",
       "3                               Frozen      49                    83.94   \n",
       "4      The Hunger Games: Catching Fire      48                   189.48   \n",
       "\n",
       "  overall_gross_in_millions  \n",
       "0                    197.18  \n",
       "1                    143.57  \n",
       "2                    147.70  \n",
       "3                     94.54  \n",
       "4                    208.13  "
      ],
      "text/html": [
       "<div>\n",
       "<style scoped>\n",
       "    .dataframe tbody tr th:only-of-type {\n",
       "        vertical-align: middle;\n",
       "    }\n",
       "\n",
       "    .dataframe tbody tr th {\n",
       "        vertical-align: top;\n",
       "    }\n",
       "\n",
       "    .dataframe thead th {\n",
       "        text-align: right;\n",
       "    }\n",
       "</style>\n",
       "<table border=\"1\" class=\"dataframe\">\n",
       "  <thead>\n",
       "    <tr style=\"text-align: right;\">\n",
       "      <th></th>\n",
       "      <th>date</th>\n",
       "      <th>occasion</th>\n",
       "      <th>year</th>\n",
       "      <th>top10_gross</th>\n",
       "      <th>top10_wow_change</th>\n",
       "      <th>overall_gross</th>\n",
       "      <th>overall_wow_change</th>\n",
       "      <th>num_releases</th>\n",
       "      <th>top_release</th>\n",
       "      <th>week_no</th>\n",
       "      <th>top_10_gross_in_millions</th>\n",
       "      <th>overall_gross_in_millions</th>\n",
       "    </tr>\n",
       "  </thead>\n",
       "  <tbody>\n",
       "    <tr>\n",
       "      <th>0</th>\n",
       "      <td>Dec 27-29</td>\n",
       "      <td>normal weekend</td>\n",
       "      <td>2013</td>\n",
       "      <td>167837974</td>\n",
       "      <td>+24.5%</td>\n",
       "      <td>197177755</td>\n",
       "      <td>+37.3%</td>\n",
       "      <td>81</td>\n",
       "      <td>The Hobbit: The Desolation of Smaug</td>\n",
       "      <td>52</td>\n",
       "      <td>167.84</td>\n",
       "      <td>197.18</td>\n",
       "    </tr>\n",
       "    <tr>\n",
       "      <th>1</th>\n",
       "      <td>Dec 20-22</td>\n",
       "      <td>normal weekend</td>\n",
       "      <td>2013</td>\n",
       "      <td>134837792</td>\n",
       "      <td>-2.6%</td>\n",
       "      <td>143571365</td>\n",
       "      <td>-2.8%</td>\n",
       "      <td>80</td>\n",
       "      <td>The Hobbit: The Desolation of Smaug</td>\n",
       "      <td>51</td>\n",
       "      <td>134.84</td>\n",
       "      <td>143.57</td>\n",
       "    </tr>\n",
       "    <tr>\n",
       "      <th>2</th>\n",
       "      <td>Dec 13-15</td>\n",
       "      <td>normal weekend</td>\n",
       "      <td>2013</td>\n",
       "      <td>138369003</td>\n",
       "      <td>+64.8%</td>\n",
       "      <td>147702714</td>\n",
       "      <td>+56.2%</td>\n",
       "      <td>94</td>\n",
       "      <td>The Hobbit: The Desolation of Smaug</td>\n",
       "      <td>50</td>\n",
       "      <td>138.37</td>\n",
       "      <td>147.70</td>\n",
       "    </tr>\n",
       "    <tr>\n",
       "      <th>3</th>\n",
       "      <td>Dec 6-8</td>\n",
       "      <td>Post-Thanksgiving</td>\n",
       "      <td>2013</td>\n",
       "      <td>83941456</td>\n",
       "      <td>-55.7%</td>\n",
       "      <td>94535353</td>\n",
       "      <td>-54.6%</td>\n",
       "      <td>96</td>\n",
       "      <td>Frozen</td>\n",
       "      <td>49</td>\n",
       "      <td>83.94</td>\n",
       "      <td>94.54</td>\n",
       "    </tr>\n",
       "    <tr>\n",
       "      <th>4</th>\n",
       "      <td>Nov 29-Dec 1</td>\n",
       "      <td>Thanksgiving 3-Day</td>\n",
       "      <td>2013</td>\n",
       "      <td>189483142</td>\n",
       "      <td>-11.7%</td>\n",
       "      <td>208125032</td>\n",
       "      <td>-8.1%</td>\n",
       "      <td>104</td>\n",
       "      <td>The Hunger Games: Catching Fire</td>\n",
       "      <td>48</td>\n",
       "      <td>189.48</td>\n",
       "      <td>208.13</td>\n",
       "    </tr>\n",
       "  </tbody>\n",
       "</table>\n",
       "</div>"
      ]
     },
     "execution_count": 66,
     "metadata": {},
     "output_type": "execute_result"
    }
   ],
   "execution_count": 66
  },
  {
   "metadata": {},
   "cell_type": "markdown",
   "source": "#### Step 5: Convert gross columns to float and movie name to lower case",
   "id": "2cf992fe00dc7bdb"
  },
  {
   "metadata": {
    "ExecuteTime": {
     "end_time": "2024-12-25T19:37:58.490650Z",
     "start_time": "2024-12-25T19:37:58.479974Z"
    }
   },
   "cell_type": "code",
   "source": [
    "weekend_data['top_10_gross_in_millions'] = weekend_data['top_10_gross_in_millions'].astype(float)\n",
    "weekend_data['overall_gross_in_millions'] = weekend_data['overall_gross_in_millions'].astype(float)\n",
    "weekend_data['top_release'] = weekend_data.top_release.str.lower()\n",
    "weekend_data[\"num_releases\"] = weekend_data.num_releases.astype('int64')"
   ],
   "id": "a600f67b9c3ee541",
   "outputs": [],
   "execution_count": 67
  },
  {
   "metadata": {},
   "cell_type": "markdown",
   "source": "#### Step 6: Replace Headers with more meaningful names",
   "id": "d6d7322f42186994"
  },
  {
   "metadata": {
    "ExecuteTime": {
     "end_time": "2024-12-25T19:38:00.910159Z",
     "start_time": "2024-12-25T19:38:00.903600Z"
    }
   },
   "cell_type": "code",
   "source": "weekend_data.rename(columns={'top_release': 'movie_title'}, inplace=True)",
   "id": "c0d99474caa5c6ea",
   "outputs": [],
   "execution_count": 68
  },
  {
   "metadata": {},
   "cell_type": "markdown",
   "source": "#### Step 7: Replace arrange Headers",
   "id": "ef993af65169d0ba"
  },
  {
   "metadata": {
    "ExecuteTime": {
     "end_time": "2024-12-25T19:38:02.537281Z",
     "start_time": "2024-12-25T19:38:02.517592Z"
    }
   },
   "cell_type": "code",
   "source": [
    "new_col_order=['movie_title', 'year' , 'occasion', 'top_10_gross_in_millions', 'overall_gross_in_millions', 'top10_wow_change','overall_wow_change','top10_gross', 'overall_gross',  'num_releases',\n",
    "               'week_no','date']\n",
    "\n",
    "for i,col in enumerate(new_col_order):\n",
    "    tmp = weekend_data[col]\n",
    "    weekend_data.drop(labels=[col],axis=1,inplace=True)\n",
    "    weekend_data.insert(i,col,tmp)"
   ],
   "id": "79ea584ac82fee2b",
   "outputs": [],
   "execution_count": 69
  },
  {
   "metadata": {
    "ExecuteTime": {
     "end_time": "2024-12-25T19:38:05.250081Z",
     "start_time": "2024-12-25T19:38:05.229421Z"
    }
   },
   "cell_type": "code",
   "source": "weekend_data.head()",
   "id": "f531881127f9515c",
   "outputs": [
    {
     "data": {
      "text/plain": [
       "                           movie_title  year            occasion  \\\n",
       "0  the hobbit: the desolation of smaug  2013      normal weekend   \n",
       "1  the hobbit: the desolation of smaug  2013      normal weekend   \n",
       "2  the hobbit: the desolation of smaug  2013      normal weekend   \n",
       "3                               frozen  2013   Post-Thanksgiving   \n",
       "4      the hunger games: catching fire  2013  Thanksgiving 3-Day   \n",
       "\n",
       "   top_10_gross_in_millions  overall_gross_in_millions top10_wow_change  \\\n",
       "0                    167.84                     197.18           +24.5%   \n",
       "1                    134.84                     143.57            -2.6%   \n",
       "2                    138.37                     147.70           +64.8%   \n",
       "3                     83.94                      94.54           -55.7%   \n",
       "4                    189.48                     208.13           -11.7%   \n",
       "\n",
       "  overall_wow_change  top10_gross  overall_gross  num_releases week_no  \\\n",
       "0             +37.3%    167837974      197177755            81      52   \n",
       "1              -2.8%    134837792      143571365            80      51   \n",
       "2             +56.2%    138369003      147702714            94      50   \n",
       "3             -54.6%     83941456       94535353            96      49   \n",
       "4              -8.1%    189483142      208125032           104      48   \n",
       "\n",
       "           date  \n",
       "0     Dec 27-29  \n",
       "1     Dec 20-22  \n",
       "2     Dec 13-15  \n",
       "3       Dec 6-8  \n",
       "4  Nov 29-Dec 1  "
      ],
      "text/html": [
       "<div>\n",
       "<style scoped>\n",
       "    .dataframe tbody tr th:only-of-type {\n",
       "        vertical-align: middle;\n",
       "    }\n",
       "\n",
       "    .dataframe tbody tr th {\n",
       "        vertical-align: top;\n",
       "    }\n",
       "\n",
       "    .dataframe thead th {\n",
       "        text-align: right;\n",
       "    }\n",
       "</style>\n",
       "<table border=\"1\" class=\"dataframe\">\n",
       "  <thead>\n",
       "    <tr style=\"text-align: right;\">\n",
       "      <th></th>\n",
       "      <th>movie_title</th>\n",
       "      <th>year</th>\n",
       "      <th>occasion</th>\n",
       "      <th>top_10_gross_in_millions</th>\n",
       "      <th>overall_gross_in_millions</th>\n",
       "      <th>top10_wow_change</th>\n",
       "      <th>overall_wow_change</th>\n",
       "      <th>top10_gross</th>\n",
       "      <th>overall_gross</th>\n",
       "      <th>num_releases</th>\n",
       "      <th>week_no</th>\n",
       "      <th>date</th>\n",
       "    </tr>\n",
       "  </thead>\n",
       "  <tbody>\n",
       "    <tr>\n",
       "      <th>0</th>\n",
       "      <td>the hobbit: the desolation of smaug</td>\n",
       "      <td>2013</td>\n",
       "      <td>normal weekend</td>\n",
       "      <td>167.84</td>\n",
       "      <td>197.18</td>\n",
       "      <td>+24.5%</td>\n",
       "      <td>+37.3%</td>\n",
       "      <td>167837974</td>\n",
       "      <td>197177755</td>\n",
       "      <td>81</td>\n",
       "      <td>52</td>\n",
       "      <td>Dec 27-29</td>\n",
       "    </tr>\n",
       "    <tr>\n",
       "      <th>1</th>\n",
       "      <td>the hobbit: the desolation of smaug</td>\n",
       "      <td>2013</td>\n",
       "      <td>normal weekend</td>\n",
       "      <td>134.84</td>\n",
       "      <td>143.57</td>\n",
       "      <td>-2.6%</td>\n",
       "      <td>-2.8%</td>\n",
       "      <td>134837792</td>\n",
       "      <td>143571365</td>\n",
       "      <td>80</td>\n",
       "      <td>51</td>\n",
       "      <td>Dec 20-22</td>\n",
       "    </tr>\n",
       "    <tr>\n",
       "      <th>2</th>\n",
       "      <td>the hobbit: the desolation of smaug</td>\n",
       "      <td>2013</td>\n",
       "      <td>normal weekend</td>\n",
       "      <td>138.37</td>\n",
       "      <td>147.70</td>\n",
       "      <td>+64.8%</td>\n",
       "      <td>+56.2%</td>\n",
       "      <td>138369003</td>\n",
       "      <td>147702714</td>\n",
       "      <td>94</td>\n",
       "      <td>50</td>\n",
       "      <td>Dec 13-15</td>\n",
       "    </tr>\n",
       "    <tr>\n",
       "      <th>3</th>\n",
       "      <td>frozen</td>\n",
       "      <td>2013</td>\n",
       "      <td>Post-Thanksgiving</td>\n",
       "      <td>83.94</td>\n",
       "      <td>94.54</td>\n",
       "      <td>-55.7%</td>\n",
       "      <td>-54.6%</td>\n",
       "      <td>83941456</td>\n",
       "      <td>94535353</td>\n",
       "      <td>96</td>\n",
       "      <td>49</td>\n",
       "      <td>Dec 6-8</td>\n",
       "    </tr>\n",
       "    <tr>\n",
       "      <th>4</th>\n",
       "      <td>the hunger games: catching fire</td>\n",
       "      <td>2013</td>\n",
       "      <td>Thanksgiving 3-Day</td>\n",
       "      <td>189.48</td>\n",
       "      <td>208.13</td>\n",
       "      <td>-11.7%</td>\n",
       "      <td>-8.1%</td>\n",
       "      <td>189483142</td>\n",
       "      <td>208125032</td>\n",
       "      <td>104</td>\n",
       "      <td>48</td>\n",
       "      <td>Nov 29-Dec 1</td>\n",
       "    </tr>\n",
       "  </tbody>\n",
       "</table>\n",
       "</div>"
      ]
     },
     "execution_count": 70,
     "metadata": {},
     "output_type": "execute_result"
    }
   ],
   "execution_count": 70
  },
  {
   "metadata": {
    "ExecuteTime": {
     "end_time": "2024-12-25T19:38:13.333904Z",
     "start_time": "2024-12-25T19:38:13.320739Z"
    }
   },
   "cell_type": "code",
   "source": [
    "scraped_movie_list=weekend_data['movie_title'].unique()\n",
    "len(scraped_movie_list)"
   ],
   "id": "626e8a1ca092622c",
   "outputs": [
    {
     "data": {
      "text/plain": [
       "353"
      ]
     },
     "execution_count": 71,
     "metadata": {},
     "output_type": "execute_result"
    }
   ],
   "execution_count": 71
  },
  {
   "metadata": {
    "ExecuteTime": {
     "end_time": "2024-12-25T19:38:18.294348Z",
     "start_time": "2024-12-25T19:38:18.275498Z"
    }
   },
   "cell_type": "code",
   "source": "weekend_data.to_csv(r'./project_datasets/clean-webscraped.csv',index=False)",
   "id": "f8cd1f0a51fe38ce",
   "outputs": [],
   "execution_count": 72
  },
  {
   "metadata": {},
   "cell_type": "markdown",
   "source": [
    "\n",
    "Ethical implications\n",
    "\n",
    "Take the root of the url, in this case https://www.boxofficemojo.com and add '/robots.txt' to the end. This will come up with a page that shows what type of web scraping is allowed or disallowed. Thankfully Box Office Mojo allows all\n",
    "\n",
    "Are there any legal or regulatory guidelines for your data or project topic?\n",
    "\n",
    "As the website allows scraping, the guidelines follows some of the best practices for scraping data. One of which would be to fetch all instead of fetch often.\n",
    "\n",
    "Did you make any assumptions in cleaning/transforming the data?\n",
    "The wow change and top wow change are opinioned and not based on any logic. I do not plan to use that as part of my analysis.\n",
    "\n",
    "How was your data sourced / verified for credibility?\n",
    "\n",
    "boxofficemojo is a well known website.\n",
    "\n",
    "\n",
    "Was your data acquired in an ethical way?\n",
    "\n",
    "Yes, as the website does allow scraping."
   ],
   "id": "7a4f0e183712cd22"
  }
 ],
 "metadata": {
  "kernelspec": {
   "display_name": "Python 3",
   "language": "python",
   "name": "python3"
  },
  "language_info": {
   "codemirror_mode": {
    "name": "ipython",
    "version": 2
   },
   "file_extension": ".py",
   "mimetype": "text/x-python",
   "name": "python",
   "nbconvert_exporter": "python",
   "pygments_lexer": "ipython2",
   "version": "2.7.6"
  }
 },
 "nbformat": 4,
 "nbformat_minor": 5
}
