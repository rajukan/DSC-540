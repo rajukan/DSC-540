{
 "cells": [
  {
   "cell_type": "code",
   "id": "initial_id",
   "metadata": {
    "collapsed": true,
    "ExecuteTime": {
     "end_time": "2024-12-25T19:38:29.481520Z",
     "start_time": "2024-12-25T19:38:29.146023Z"
    }
   },
   "source": [
    "import pandas as pd\n",
    "import requests\n",
    "import traceback\n",
    "import warnings\n",
    "warnings.filterwarnings(\"ignore\")\n",
    "%matplotlib inline"
   ],
   "outputs": [],
   "execution_count": 1
  },
  {
   "metadata": {},
   "cell_type": "markdown",
   "source": "##### Load the previously webscraped clean data",
   "id": "18a89c14a79fe8df"
  },
  {
   "metadata": {
    "ExecuteTime": {
     "end_time": "2024-12-25T19:38:31.371122Z",
     "start_time": "2024-12-25T19:38:31.359519Z"
    }
   },
   "cell_type": "code",
   "source": "web_scraped_data = pd.read_csv(\"./project_datasets/clean-webscraped.csv\")",
   "id": "963346357974f341",
   "outputs": [],
   "execution_count": 2
  },
  {
   "metadata": {},
   "cell_type": "markdown",
   "source": "##### Step 1: Reading API data using \"requests\" library available in Python",
   "id": "36c0530ba19dbfe7"
  },
  {
   "metadata": {},
   "cell_type": "markdown",
   "source": "Before invoking the API, you need to signup for your [TMDB](https://www.themoviedb.org/) account and get your api key to work with tmdb API.",
   "id": "7fb3af14febba4ee"
  },
  {
   "metadata": {
    "ExecuteTime": {
     "end_time": "2024-12-25T19:38:55.981386Z",
     "start_time": "2024-12-25T19:38:55.975694Z"
    }
   },
   "cell_type": "code",
   "source": "api_key = ''",
   "id": "828a43017fe8dfb0",
   "outputs": [],
   "execution_count": 3
  },
  {
   "metadata": {
    "ExecuteTime": {
     "end_time": "2024-12-25T19:38:58.884470Z",
     "start_time": "2024-12-25T19:38:58.671433Z"
    }
   },
   "cell_type": "code",
   "source": [
    "genre_url=f'https://api.themoviedb.org/3/genre/movie/list?api_key={api_key}'\n",
    "genre_dict = dict()\n",
    "try:\n",
    "    response = requests.get(genre_url)\n",
    "    if response.status_code == 200:\n",
    "        genre_dict = { genre_json['id']:genre_json['name'] for genre_json in response.json()['genres'] }\n",
    "except Exception as e:\n",
    "    print('Error downloading genres: ',e)\n",
    "    traceback.print_exc()\n",
    "\n",
    "#Lets add a unique key for movies without any genre\n",
    "if 0 not in genre_dict.keys():\n",
    "    genre_dict[0] = 'unknown'\n"
   ],
   "id": "d96dff888bd9f2e8",
   "outputs": [],
   "execution_count": 4
  },
  {
   "metadata": {
    "ExecuteTime": {
     "end_time": "2024-12-25T19:39:01.675715Z",
     "start_time": "2024-12-25T19:39:01.669251Z"
    }
   },
   "cell_type": "code",
   "source": [
    "#Genre Names\n",
    "genre_dict.values()"
   ],
   "id": "320d8f428d294999",
   "outputs": [
    {
     "data": {
      "text/plain": [
       "dict_values(['Action', 'Adventure', 'Animation', 'Comedy', 'Crime', 'Documentary', 'Drama', 'Family', 'Fantasy', 'History', 'Horror', 'Music', 'Mystery', 'Romance', 'Science Fiction', 'TV Movie', 'Thriller', 'War', 'Western', 'unknown'])"
      ]
     },
     "execution_count": 5,
     "metadata": {},
     "output_type": "execute_result"
    }
   ],
   "execution_count": 5
  },
  {
   "metadata": {
    "ExecuteTime": {
     "end_time": "2024-12-25T19:39:05.248157Z",
     "start_time": "2024-12-25T19:39:05.239517Z"
    }
   },
   "cell_type": "code",
   "source": [
    "import json\n",
    "#remove later\n",
    "json.dump( genre_dict, open( \"./project_datasets/genre_dict.json\", 'w' ) )\n"
   ],
   "id": "f206060a5f2357da",
   "outputs": [],
   "execution_count": 6
  },
  {
   "metadata": {
    "ExecuteTime": {
     "end_time": "2024-12-24T16:25:06.373989Z",
     "start_time": "2024-12-24T16:25:06.358280Z"
    }
   },
   "cell_type": "code",
   "source": [
    "# Read data from file:\n",
    "#remove later\n",
    "genre_dict = json.load( open( \"./project_datasets/genre_dict.json\") )\n",
    "genre_dict"
   ],
   "id": "b6ac4acaef04d49c",
   "outputs": [
    {
     "data": {
      "text/plain": [
       "{'28': 'Action',\n",
       " '12': 'Adventure',\n",
       " '16': 'Animation',\n",
       " '35': 'Comedy',\n",
       " '80': 'Crime',\n",
       " '99': 'Documentary',\n",
       " '18': 'Drama',\n",
       " '10751': 'Family',\n",
       " '14': 'Fantasy',\n",
       " '36': 'History',\n",
       " '27': 'Horror',\n",
       " '10402': 'Music',\n",
       " '9648': 'Mystery',\n",
       " '10749': 'Romance',\n",
       " '878': 'Science Fiction',\n",
       " '10770': 'TV Movie',\n",
       " '53': 'Thriller',\n",
       " '10752': 'War',\n",
       " '37': 'Western',\n",
       " '0': 'unknown'}"
      ]
     },
     "execution_count": 120,
     "metadata": {},
     "output_type": "execute_result"
    }
   ],
   "execution_count": 120
  },
  {
   "metadata": {
    "ExecuteTime": {
     "end_time": "2024-12-25T19:39:11.110502Z",
     "start_time": "2024-12-25T19:39:11.101297Z"
    }
   },
   "cell_type": "code",
   "source": [
    "scraped_movie_list=web_scraped_data['movie_title'].unique()\n",
    "len(scraped_movie_list)"
   ],
   "id": "f4c1251e366897cb",
   "outputs": [
    {
     "data": {
      "text/plain": [
       "353"
      ]
     },
     "execution_count": 7,
     "metadata": {},
     "output_type": "execute_result"
    }
   ],
   "execution_count": 7
  },
  {
   "metadata": {
    "ExecuteTime": {
     "end_time": "2024-12-24T16:43:56.624860Z",
     "start_time": "2024-12-24T16:43:56.613265Z"
    }
   },
   "cell_type": "code",
   "source": [
    "#remove later\n",
    "api_df = pd.read_pickle(\"raw_api_df_pickle\")"
   ],
   "id": "3d869f2b71fe26c1",
   "outputs": [],
   "execution_count": 177
  },
  {
   "metadata": {
    "ExecuteTime": {
     "end_time": "2024-12-25T19:39:57.621545Z",
     "start_time": "2024-12-25T19:39:17.381508Z"
    }
   },
   "cell_type": "code",
   "source": [
    "%%time\n",
    "# We will first create an empty dataframe to store all the movie detail\n",
    "api_df = pd.DataFrame()\n",
    "# Our for loop will iterate through each page, get json data convert it into dataframe and append it to original dataframe\n",
    "for title in scraped_movie_list:\n",
    "    url = f\"https://api.themoviedb.org/3/search/movie?api_key={api_key}&query={title}\"\n",
    "    response = requests.get(url)\n",
    "    if 'results' in response.json():\n",
    "        temporary_df = pd.DataFrame(response.json()['results'])\n",
    "        api_df = pd.concat([api_df,temporary_df],ignore_index=True)"
   ],
   "id": "fc2883cfcab2a3d8",
   "outputs": [
    {
     "name": "stdout",
     "output_type": "stream",
     "text": [
      "CPU times: total: 438 ms\n",
      "Wall time: 40.2 s\n"
     ]
    }
   ],
   "execution_count": 8
  },
  {
   "metadata": {
    "ExecuteTime": {
     "end_time": "2024-12-25T19:40:00.952993Z",
     "start_time": "2024-12-25T19:40:00.937110Z"
    }
   },
   "cell_type": "code",
   "source": "api_df.head()",
   "id": "4bb896f0355a1b27",
   "outputs": [
    {
     "data": {
      "text/plain": [
       "   adult                     backdrop_path            genre_ids      id  \\\n",
       "0  False  /npCPnwDyWfQltGfIZKN6WqeUXGI.jpg         [14, 12, 28]   57158   \n",
       "1  False  /u2bZhH3nTf0So0UIC1QxAqBvC07.jpg  [16, 10751, 12, 14]  109445   \n",
       "2  False  /vD1yKObsRS2cvpmtuaCaMhr4zxe.jpg                 [53]   44363   \n",
       "3  False  /sGjhRHNiQSkgVec18D3oX45hPmz.jpg                 [53]   26041   \n",
       "4  False                              None             [18, 27]  170986   \n",
       "\n",
       "  original_language                       original_title  \\\n",
       "0                en  The Hobbit: The Desolation of Smaug   \n",
       "1                en                               Frozen   \n",
       "2                en                               Frozen   \n",
       "3                en                               Frozen   \n",
       "4                hi                               Frozen   \n",
       "\n",
       "                                            overview  popularity  \\\n",
       "0  The Dwarves, Bilbo and Gandalf have successful...      68.486   \n",
       "1  Young princess Anna of Arendelle dreams about ...     136.920   \n",
       "2  When three skiers find themselves stranded on ...      21.316   \n",
       "3  It's two years since the mysterious disappeara...       2.648   \n",
       "4  This is a touching and somber journey of Lasya...       1.448   \n",
       "\n",
       "                        poster_path release_date  \\\n",
       "0  /xQYiXsheRCDBA39DOrmaw1aSpbk.jpg   2013-12-11   \n",
       "1  /mmWheq3cFI4tYrZDiATOkCNTqgK.jpg   2013-11-20   \n",
       "2  /2J3URUnDrIpNvh0uVqINQvr4HhW.jpg   2010-02-05   \n",
       "3  /a6RlPQUerliQLkAieku5B8Loamk.jpg   2005-03-12   \n",
       "4  /2GL9yZtrgbYKCeKBc3TF9gGfZpX.jpg   2007-07-21   \n",
       "\n",
       "                                 title  video  vote_average  vote_count  \n",
       "0  The Hobbit: The Desolation of Smaug  False         7.575     13167.0  \n",
       "1                               Frozen  False         7.200     16539.0  \n",
       "2                               Frozen  False         6.000      1820.0  \n",
       "3                               Frozen  False         5.700        18.0  \n",
       "4                               Frozen  False         7.200         4.0  "
      ],
      "text/html": [
       "<div>\n",
       "<style scoped>\n",
       "    .dataframe tbody tr th:only-of-type {\n",
       "        vertical-align: middle;\n",
       "    }\n",
       "\n",
       "    .dataframe tbody tr th {\n",
       "        vertical-align: top;\n",
       "    }\n",
       "\n",
       "    .dataframe thead th {\n",
       "        text-align: right;\n",
       "    }\n",
       "</style>\n",
       "<table border=\"1\" class=\"dataframe\">\n",
       "  <thead>\n",
       "    <tr style=\"text-align: right;\">\n",
       "      <th></th>\n",
       "      <th>adult</th>\n",
       "      <th>backdrop_path</th>\n",
       "      <th>genre_ids</th>\n",
       "      <th>id</th>\n",
       "      <th>original_language</th>\n",
       "      <th>original_title</th>\n",
       "      <th>overview</th>\n",
       "      <th>popularity</th>\n",
       "      <th>poster_path</th>\n",
       "      <th>release_date</th>\n",
       "      <th>title</th>\n",
       "      <th>video</th>\n",
       "      <th>vote_average</th>\n",
       "      <th>vote_count</th>\n",
       "    </tr>\n",
       "  </thead>\n",
       "  <tbody>\n",
       "    <tr>\n",
       "      <th>0</th>\n",
       "      <td>False</td>\n",
       "      <td>/npCPnwDyWfQltGfIZKN6WqeUXGI.jpg</td>\n",
       "      <td>[14, 12, 28]</td>\n",
       "      <td>57158</td>\n",
       "      <td>en</td>\n",
       "      <td>The Hobbit: The Desolation of Smaug</td>\n",
       "      <td>The Dwarves, Bilbo and Gandalf have successful...</td>\n",
       "      <td>68.486</td>\n",
       "      <td>/xQYiXsheRCDBA39DOrmaw1aSpbk.jpg</td>\n",
       "      <td>2013-12-11</td>\n",
       "      <td>The Hobbit: The Desolation of Smaug</td>\n",
       "      <td>False</td>\n",
       "      <td>7.575</td>\n",
       "      <td>13167.0</td>\n",
       "    </tr>\n",
       "    <tr>\n",
       "      <th>1</th>\n",
       "      <td>False</td>\n",
       "      <td>/u2bZhH3nTf0So0UIC1QxAqBvC07.jpg</td>\n",
       "      <td>[16, 10751, 12, 14]</td>\n",
       "      <td>109445</td>\n",
       "      <td>en</td>\n",
       "      <td>Frozen</td>\n",
       "      <td>Young princess Anna of Arendelle dreams about ...</td>\n",
       "      <td>136.920</td>\n",
       "      <td>/mmWheq3cFI4tYrZDiATOkCNTqgK.jpg</td>\n",
       "      <td>2013-11-20</td>\n",
       "      <td>Frozen</td>\n",
       "      <td>False</td>\n",
       "      <td>7.200</td>\n",
       "      <td>16539.0</td>\n",
       "    </tr>\n",
       "    <tr>\n",
       "      <th>2</th>\n",
       "      <td>False</td>\n",
       "      <td>/vD1yKObsRS2cvpmtuaCaMhr4zxe.jpg</td>\n",
       "      <td>[53]</td>\n",
       "      <td>44363</td>\n",
       "      <td>en</td>\n",
       "      <td>Frozen</td>\n",
       "      <td>When three skiers find themselves stranded on ...</td>\n",
       "      <td>21.316</td>\n",
       "      <td>/2J3URUnDrIpNvh0uVqINQvr4HhW.jpg</td>\n",
       "      <td>2010-02-05</td>\n",
       "      <td>Frozen</td>\n",
       "      <td>False</td>\n",
       "      <td>6.000</td>\n",
       "      <td>1820.0</td>\n",
       "    </tr>\n",
       "    <tr>\n",
       "      <th>3</th>\n",
       "      <td>False</td>\n",
       "      <td>/sGjhRHNiQSkgVec18D3oX45hPmz.jpg</td>\n",
       "      <td>[53]</td>\n",
       "      <td>26041</td>\n",
       "      <td>en</td>\n",
       "      <td>Frozen</td>\n",
       "      <td>It's two years since the mysterious disappeara...</td>\n",
       "      <td>2.648</td>\n",
       "      <td>/a6RlPQUerliQLkAieku5B8Loamk.jpg</td>\n",
       "      <td>2005-03-12</td>\n",
       "      <td>Frozen</td>\n",
       "      <td>False</td>\n",
       "      <td>5.700</td>\n",
       "      <td>18.0</td>\n",
       "    </tr>\n",
       "    <tr>\n",
       "      <th>4</th>\n",
       "      <td>False</td>\n",
       "      <td>None</td>\n",
       "      <td>[18, 27]</td>\n",
       "      <td>170986</td>\n",
       "      <td>hi</td>\n",
       "      <td>Frozen</td>\n",
       "      <td>This is a touching and somber journey of Lasya...</td>\n",
       "      <td>1.448</td>\n",
       "      <td>/2GL9yZtrgbYKCeKBc3TF9gGfZpX.jpg</td>\n",
       "      <td>2007-07-21</td>\n",
       "      <td>Frozen</td>\n",
       "      <td>False</td>\n",
       "      <td>7.200</td>\n",
       "      <td>4.0</td>\n",
       "    </tr>\n",
       "  </tbody>\n",
       "</table>\n",
       "</div>"
      ]
     },
     "execution_count": 9,
     "metadata": {},
     "output_type": "execute_result"
    }
   ],
   "execution_count": 9
  },
  {
   "metadata": {
    "ExecuteTime": {
     "end_time": "2024-12-25T19:40:04.049875Z",
     "start_time": "2024-12-25T19:40:04.032681Z"
    }
   },
   "cell_type": "code",
   "source": [
    "#remove later\n",
    "#api_df.to_pickle(\"raw_api_df_pickle\")"
   ],
   "id": "5b19a46d5b161581",
   "outputs": [],
   "execution_count": 10
  },
  {
   "metadata": {
    "ExecuteTime": {
     "end_time": "2024-12-25T19:40:09.766978Z",
     "start_time": "2024-12-25T19:40:09.759171Z"
    }
   },
   "cell_type": "code",
   "source": "api_df.shape",
   "id": "d22b8b9a0d285c4d",
   "outputs": [
    {
     "data": {
      "text/plain": [
       "(2994, 14)"
      ]
     },
     "execution_count": 11,
     "metadata": {},
     "output_type": "execute_result"
    }
   ],
   "execution_count": 11
  },
  {
   "metadata": {},
   "cell_type": "markdown",
   "source": "##### Check if the genre_ids have any empty data like [] as genre_ids column is a list",
   "id": "5ae478c5d3910aba"
  },
  {
   "metadata": {
    "ExecuteTime": {
     "end_time": "2024-12-25T19:40:12.915265Z",
     "start_time": "2024-12-25T19:40:12.886952Z"
    }
   },
   "cell_type": "code",
   "source": "api_df.genre_ids.value_counts()",
   "id": "af25ccb9bd0aa519",
   "outputs": [
    {
     "data": {
      "text/plain": [
       "genre_ids\n",
       "[]                          325\n",
       "[99]                        262\n",
       "[18]                        188\n",
       "[35]                        132\n",
       "[27]                        123\n",
       "                           ... \n",
       "[99, 36, 80]                  1\n",
       "[80, 53, 28]                  1\n",
       "[10770, 28, 12, 14, 878]      1\n",
       "[28, 16, 14, 878]             1\n",
       "[16, 14, 35]                  1\n",
       "Name: count, Length: 766, dtype: int64"
      ]
     },
     "execution_count": 12,
     "metadata": {},
     "output_type": "execute_result"
    }
   ],
   "execution_count": 12
  },
  {
   "metadata": {},
   "cell_type": "markdown",
   "source": "Response object now has all our needed details but they are in the form of JSON. We can use json() to view these details",
   "id": "e0995687245def75"
  },
  {
   "metadata": {},
   "cell_type": "markdown",
   "source": [
    "#### Now if you observe JSON carefully it has four keys\n",
    "\n",
    "- page: shows page no. of current page\n",
    "- results: contains list of dictionary with 20 movies\n",
    "- total_pages: total pages present on site which contains the detail about movies\n",
    "- total_results: total popular movies\n",
    "\n",
    "#### We can convert this JSON into pandas dataframe\n",
    "- Note: we are converting only 'results' dictionary into dataframe as we only need movie details"
   ],
   "id": "7092ee3f77efeed7"
  },
  {
   "metadata": {},
   "cell_type": "markdown",
   "source": "##### pandas replace empty square brackets with [0], here genre[0] is unknown which we created earlier",
   "id": "10c39baffccd662e"
  },
  {
   "metadata": {
    "ExecuteTime": {
     "end_time": "2024-12-25T19:40:53.573270Z",
     "start_time": "2024-12-25T19:40:53.562597Z"
    }
   },
   "cell_type": "code",
   "source": [
    "#\n",
    "api_df['genre_ids'] = api_df['genre_ids'].apply(lambda  x : [0] if not x else x)"
   ],
   "id": "4c56a69cc46262df",
   "outputs": [],
   "execution_count": 13
  },
  {
   "metadata": {
    "ExecuteTime": {
     "end_time": "2024-12-25T19:40:55.598489Z",
     "start_time": "2024-12-25T19:40:55.559681Z"
    }
   },
   "cell_type": "code",
   "source": "api_df.genre_ids.value_counts()",
   "id": "245a6a99176a750e",
   "outputs": [
    {
     "data": {
      "text/plain": [
       "genre_ids\n",
       "[0]                         325\n",
       "[99]                        262\n",
       "[18]                        188\n",
       "[35]                        132\n",
       "[27]                        123\n",
       "                           ... \n",
       "[99, 36, 80]                  1\n",
       "[80, 53, 28]                  1\n",
       "[10770, 28, 12, 14, 878]      1\n",
       "[28, 16, 14, 878]             1\n",
       "[16, 14, 35]                  1\n",
       "Name: count, Length: 766, dtype: int64"
      ]
     },
     "execution_count": 14,
     "metadata": {},
     "output_type": "execute_result"
    }
   ],
   "execution_count": 14
  },
  {
   "metadata": {},
   "cell_type": "markdown",
   "source": "##### First drop na columns then map the genres",
   "id": "9e50d45346cae819"
  },
  {
   "metadata": {
    "ExecuteTime": {
     "end_time": "2024-12-25T19:41:18.135270Z",
     "start_time": "2024-12-25T19:41:18.127544Z"
    }
   },
   "cell_type": "code",
   "source": [
    "#First drop na columns\n",
    "api_df = api_df.dropna(subset=['genre_ids'])\n",
    "#then map the genres\n",
    "api_df['genre_ids'] = api_df['genre_ids'].apply(lambda x: [genre_dict[str(i)] for i in x ])"
   ],
   "id": "424ac9c81ed19b09",
   "outputs": [],
   "execution_count": 16
  },
  {
   "metadata": {
    "ExecuteTime": {
     "end_time": "2024-12-25T19:41:30.501215Z",
     "start_time": "2024-12-25T19:41:30.489544Z"
    }
   },
   "cell_type": "code",
   "source": [
    "#removing brackets from list type inside pandas cell\n",
    "api_df['genre_ids'] = api_df['genre_ids'].str.join(',')"
   ],
   "id": "dec6241d513ac756",
   "outputs": [],
   "execution_count": 17
  },
  {
   "metadata": {
    "ExecuteTime": {
     "end_time": "2024-12-25T19:41:32.703856Z",
     "start_time": "2024-12-25T19:41:32.691154Z"
    }
   },
   "cell_type": "code",
   "source": "api_df['genre_ids'].value_counts()",
   "id": "9f7f323c306571f2",
   "outputs": [
    {
     "data": {
      "text/plain": [
       "genre_ids\n",
       "unknown                                              325\n",
       "Documentary                                          262\n",
       "Drama                                                188\n",
       "Comedy                                               132\n",
       "Horror                                               123\n",
       "                                                    ... \n",
       "Documentary,History,Crime                              1\n",
       "Crime,Thriller,Action                                  1\n",
       "TV Movie,Action,Adventure,Fantasy,Science Fiction      1\n",
       "Action,Animation,Fantasy,Science Fiction               1\n",
       "Animation,Fantasy,Comedy                               1\n",
       "Name: count, Length: 766, dtype: int64"
      ]
     },
     "execution_count": 18,
     "metadata": {},
     "output_type": "execute_result"
    }
   ],
   "execution_count": 18
  },
  {
   "metadata": {
    "ExecuteTime": {
     "end_time": "2024-12-23T00:06:32.670213Z",
     "start_time": "2024-12-23T00:06:32.657876Z"
    }
   },
   "cell_type": "code",
   "source": [
    "#rename columns like genre_ids to genre_names\n",
    "#drop un-neccessary columns\n",
    "#extract year as a separate column from release_date\n",
    "# rearrange columns\n",
    "#save the cleaned data\n"
   ],
   "id": "c4969e7f0f9b194b",
   "outputs": [],
   "execution_count": 31
  },
  {
   "metadata": {
    "ExecuteTime": {
     "end_time": "2024-12-25T19:41:41.002141Z",
     "start_time": "2024-12-25T19:41:40.970824Z"
    }
   },
   "cell_type": "code",
   "source": [
    "api_df['release_date']=pd.to_datetime(api_df['release_date'],format=\"%Y-%m-%d\")\n",
    "api_df[\"release_year\"] = pd.to_datetime(api_df['release_date'], format=\"%Y-%m-%d\").dt.year\n",
    "api_df.head()"
   ],
   "id": "eead48c049a30cc",
   "outputs": [
    {
     "data": {
      "text/plain": [
       "   adult                     backdrop_path  \\\n",
       "0  False  /npCPnwDyWfQltGfIZKN6WqeUXGI.jpg   \n",
       "1  False  /u2bZhH3nTf0So0UIC1QxAqBvC07.jpg   \n",
       "2  False  /vD1yKObsRS2cvpmtuaCaMhr4zxe.jpg   \n",
       "3  False  /sGjhRHNiQSkgVec18D3oX45hPmz.jpg   \n",
       "4  False                              None   \n",
       "\n",
       "                            genre_ids      id original_language  \\\n",
       "0            Fantasy,Adventure,Action   57158                en   \n",
       "1  Animation,Family,Adventure,Fantasy  109445                en   \n",
       "2                            Thriller   44363                en   \n",
       "3                            Thriller   26041                en   \n",
       "4                        Drama,Horror  170986                hi   \n",
       "\n",
       "                        original_title  \\\n",
       "0  The Hobbit: The Desolation of Smaug   \n",
       "1                               Frozen   \n",
       "2                               Frozen   \n",
       "3                               Frozen   \n",
       "4                               Frozen   \n",
       "\n",
       "                                            overview  popularity  \\\n",
       "0  The Dwarves, Bilbo and Gandalf have successful...      68.486   \n",
       "1  Young princess Anna of Arendelle dreams about ...     136.920   \n",
       "2  When three skiers find themselves stranded on ...      21.316   \n",
       "3  It's two years since the mysterious disappeara...       2.648   \n",
       "4  This is a touching and somber journey of Lasya...       1.448   \n",
       "\n",
       "                        poster_path release_date  \\\n",
       "0  /xQYiXsheRCDBA39DOrmaw1aSpbk.jpg   2013-12-11   \n",
       "1  /mmWheq3cFI4tYrZDiATOkCNTqgK.jpg   2013-11-20   \n",
       "2  /2J3URUnDrIpNvh0uVqINQvr4HhW.jpg   2010-02-05   \n",
       "3  /a6RlPQUerliQLkAieku5B8Loamk.jpg   2005-03-12   \n",
       "4  /2GL9yZtrgbYKCeKBc3TF9gGfZpX.jpg   2007-07-21   \n",
       "\n",
       "                                 title  video  vote_average  vote_count  \\\n",
       "0  The Hobbit: The Desolation of Smaug  False         7.575     13167.0   \n",
       "1                               Frozen  False         7.200     16539.0   \n",
       "2                               Frozen  False         6.000      1820.0   \n",
       "3                               Frozen  False         5.700        18.0   \n",
       "4                               Frozen  False         7.200         4.0   \n",
       "\n",
       "   release_year  \n",
       "0        2013.0  \n",
       "1        2013.0  \n",
       "2        2010.0  \n",
       "3        2005.0  \n",
       "4        2007.0  "
      ],
      "text/html": [
       "<div>\n",
       "<style scoped>\n",
       "    .dataframe tbody tr th:only-of-type {\n",
       "        vertical-align: middle;\n",
       "    }\n",
       "\n",
       "    .dataframe tbody tr th {\n",
       "        vertical-align: top;\n",
       "    }\n",
       "\n",
       "    .dataframe thead th {\n",
       "        text-align: right;\n",
       "    }\n",
       "</style>\n",
       "<table border=\"1\" class=\"dataframe\">\n",
       "  <thead>\n",
       "    <tr style=\"text-align: right;\">\n",
       "      <th></th>\n",
       "      <th>adult</th>\n",
       "      <th>backdrop_path</th>\n",
       "      <th>genre_ids</th>\n",
       "      <th>id</th>\n",
       "      <th>original_language</th>\n",
       "      <th>original_title</th>\n",
       "      <th>overview</th>\n",
       "      <th>popularity</th>\n",
       "      <th>poster_path</th>\n",
       "      <th>release_date</th>\n",
       "      <th>title</th>\n",
       "      <th>video</th>\n",
       "      <th>vote_average</th>\n",
       "      <th>vote_count</th>\n",
       "      <th>release_year</th>\n",
       "    </tr>\n",
       "  </thead>\n",
       "  <tbody>\n",
       "    <tr>\n",
       "      <th>0</th>\n",
       "      <td>False</td>\n",
       "      <td>/npCPnwDyWfQltGfIZKN6WqeUXGI.jpg</td>\n",
       "      <td>Fantasy,Adventure,Action</td>\n",
       "      <td>57158</td>\n",
       "      <td>en</td>\n",
       "      <td>The Hobbit: The Desolation of Smaug</td>\n",
       "      <td>The Dwarves, Bilbo and Gandalf have successful...</td>\n",
       "      <td>68.486</td>\n",
       "      <td>/xQYiXsheRCDBA39DOrmaw1aSpbk.jpg</td>\n",
       "      <td>2013-12-11</td>\n",
       "      <td>The Hobbit: The Desolation of Smaug</td>\n",
       "      <td>False</td>\n",
       "      <td>7.575</td>\n",
       "      <td>13167.0</td>\n",
       "      <td>2013.0</td>\n",
       "    </tr>\n",
       "    <tr>\n",
       "      <th>1</th>\n",
       "      <td>False</td>\n",
       "      <td>/u2bZhH3nTf0So0UIC1QxAqBvC07.jpg</td>\n",
       "      <td>Animation,Family,Adventure,Fantasy</td>\n",
       "      <td>109445</td>\n",
       "      <td>en</td>\n",
       "      <td>Frozen</td>\n",
       "      <td>Young princess Anna of Arendelle dreams about ...</td>\n",
       "      <td>136.920</td>\n",
       "      <td>/mmWheq3cFI4tYrZDiATOkCNTqgK.jpg</td>\n",
       "      <td>2013-11-20</td>\n",
       "      <td>Frozen</td>\n",
       "      <td>False</td>\n",
       "      <td>7.200</td>\n",
       "      <td>16539.0</td>\n",
       "      <td>2013.0</td>\n",
       "    </tr>\n",
       "    <tr>\n",
       "      <th>2</th>\n",
       "      <td>False</td>\n",
       "      <td>/vD1yKObsRS2cvpmtuaCaMhr4zxe.jpg</td>\n",
       "      <td>Thriller</td>\n",
       "      <td>44363</td>\n",
       "      <td>en</td>\n",
       "      <td>Frozen</td>\n",
       "      <td>When three skiers find themselves stranded on ...</td>\n",
       "      <td>21.316</td>\n",
       "      <td>/2J3URUnDrIpNvh0uVqINQvr4HhW.jpg</td>\n",
       "      <td>2010-02-05</td>\n",
       "      <td>Frozen</td>\n",
       "      <td>False</td>\n",
       "      <td>6.000</td>\n",
       "      <td>1820.0</td>\n",
       "      <td>2010.0</td>\n",
       "    </tr>\n",
       "    <tr>\n",
       "      <th>3</th>\n",
       "      <td>False</td>\n",
       "      <td>/sGjhRHNiQSkgVec18D3oX45hPmz.jpg</td>\n",
       "      <td>Thriller</td>\n",
       "      <td>26041</td>\n",
       "      <td>en</td>\n",
       "      <td>Frozen</td>\n",
       "      <td>It's two years since the mysterious disappeara...</td>\n",
       "      <td>2.648</td>\n",
       "      <td>/a6RlPQUerliQLkAieku5B8Loamk.jpg</td>\n",
       "      <td>2005-03-12</td>\n",
       "      <td>Frozen</td>\n",
       "      <td>False</td>\n",
       "      <td>5.700</td>\n",
       "      <td>18.0</td>\n",
       "      <td>2005.0</td>\n",
       "    </tr>\n",
       "    <tr>\n",
       "      <th>4</th>\n",
       "      <td>False</td>\n",
       "      <td>None</td>\n",
       "      <td>Drama,Horror</td>\n",
       "      <td>170986</td>\n",
       "      <td>hi</td>\n",
       "      <td>Frozen</td>\n",
       "      <td>This is a touching and somber journey of Lasya...</td>\n",
       "      <td>1.448</td>\n",
       "      <td>/2GL9yZtrgbYKCeKBc3TF9gGfZpX.jpg</td>\n",
       "      <td>2007-07-21</td>\n",
       "      <td>Frozen</td>\n",
       "      <td>False</td>\n",
       "      <td>7.200</td>\n",
       "      <td>4.0</td>\n",
       "      <td>2007.0</td>\n",
       "    </tr>\n",
       "  </tbody>\n",
       "</table>\n",
       "</div>"
      ]
     },
     "execution_count": 19,
     "metadata": {},
     "output_type": "execute_result"
    }
   ],
   "execution_count": 19
  },
  {
   "metadata": {
    "ExecuteTime": {
     "end_time": "2024-12-25T19:41:44.376022Z",
     "start_time": "2024-12-25T19:41:44.356646Z"
    }
   },
   "cell_type": "code",
   "source": [
    "#Check if there are any nan in release year\n",
    "api_df.loc[api_df.release_year.isna()]"
   ],
   "id": "5ab176e528bb5b5d",
   "outputs": [
    {
     "data": {
      "text/plain": [
       "      adult                     backdrop_path  \\\n",
       "5     False                              None   \n",
       "32    False                              None   \n",
       "74    False  /xcIqtToUFrie1o4g4ZtYVKj5R1f.jpg   \n",
       "88    False                              None   \n",
       "113   False                              None   \n",
       "...     ...                               ...   \n",
       "2911  False                              None   \n",
       "2912  False                              None   \n",
       "2934  False                              None   \n",
       "2961  False                              None   \n",
       "2963  False                              None   \n",
       "\n",
       "                                     genre_ids       id original_language  \\\n",
       "5                                      unknown   950554                en   \n",
       "32                                     unknown   566990                en   \n",
       "74                      Science Fiction,Action   374771                en   \n",
       "88                              Comedy,Romance   887567                en   \n",
       "113                                    unknown  1159811                ko   \n",
       "...                                        ...      ...               ...   \n",
       "2911          Action,Adventure,Science Fiction   939345                en   \n",
       "2912  Action,Adventure,Science Fiction,Fantasy   939347                en   \n",
       "2934                     Action,Crime,Thriller   755679                en   \n",
       "2961                                   unknown  1195165                en   \n",
       "2963                             Comedy,Horror   601823                en   \n",
       "\n",
       "                          original_title  \\\n",
       "5                                 Frozen   \n",
       "32                               Gravity   \n",
       "74                        Riddick: Furya   \n",
       "88                            The Butler   \n",
       "113                                  극락전   \n",
       "...                                  ...   \n",
       "2911  Transformers: Rise of the Beasts 2   \n",
       "2912  Transformers: Rise of the Beasts 3   \n",
       "2934                      Fast X: Part 2   \n",
       "2961                  Dungeons & Derrick   \n",
       "2963               Playdate in a Dungeon   \n",
       "\n",
       "                                               overview  popularity  \\\n",
       "5                           A film by Adonia Bouchehri.       0.437   \n",
       "32    Three boys power play with a gun. Gravity is a...       0.001   \n",
       "74    Riddick finally returns to his home world, a p...       9.035   \n",
       "88    A story of a butler who is in love with their ...       0.001   \n",
       "113   Srey Na, a female immigrant from Cambodia, who...       0.021   \n",
       "...                                                 ...         ...   \n",
       "2911  The first of two planned sequels to the 2023 f...      18.436   \n",
       "2912  The second of two planned sequels to the 2023 ...      13.508   \n",
       "2934  The eleventh installment in The Fast Saga, whi...      73.241   \n",
       "2961  Derrick and Tori, best friends and avid player...       0.001   \n",
       "2963  Three strangers wake up in the basement of the...       0.672   \n",
       "\n",
       "                           poster_path release_date  \\\n",
       "5                                 None          NaT   \n",
       "32                                None          NaT   \n",
       "74                                None          NaT   \n",
       "88                                None          NaT   \n",
       "113                               None          NaT   \n",
       "...                                ...          ...   \n",
       "2911  /f4PFiwOHVcNUXRcOmxX2hUYdAx7.jpg          NaT   \n",
       "2912  /zjDGpjRj9M9pLqVVZPpaFhG6BLx.jpg          NaT   \n",
       "2934  /lD8V3DBban95Mxz4sjuA81Tw771.jpg          NaT   \n",
       "2961                              None          NaT   \n",
       "2963  /xT9qSpG5W1zMUEKnJsrGp7yuIlX.jpg          NaT   \n",
       "\n",
       "                                   title  video  vote_average  vote_count  \\\n",
       "5                                 Frozen  False           0.0         0.0   \n",
       "32                               Gravity  False           0.0         0.0   \n",
       "74                        Riddick: Furya  False           0.0         0.0   \n",
       "88                            The Butler  False           0.0         0.0   \n",
       "113                  The Road to Elysium  False           0.0         0.0   \n",
       "...                                  ...    ...           ...         ...   \n",
       "2911  Transformers: Rise of the Beasts 2  False           0.0         0.0   \n",
       "2912  Transformers: Rise of the Beasts 3  False           0.0         0.0   \n",
       "2934                      Fast X: Part 2  False           0.0         0.0   \n",
       "2961                  Dungeons & Derrick  False           0.0         0.0   \n",
       "2963               Playdate in a Dungeon  False           0.0         0.0   \n",
       "\n",
       "      release_year  \n",
       "5              NaN  \n",
       "32             NaN  \n",
       "74             NaN  \n",
       "88             NaN  \n",
       "113            NaN  \n",
       "...            ...  \n",
       "2911           NaN  \n",
       "2912           NaN  \n",
       "2934           NaN  \n",
       "2961           NaN  \n",
       "2963           NaN  \n",
       "\n",
       "[147 rows x 15 columns]"
      ],
      "text/html": [
       "<div>\n",
       "<style scoped>\n",
       "    .dataframe tbody tr th:only-of-type {\n",
       "        vertical-align: middle;\n",
       "    }\n",
       "\n",
       "    .dataframe tbody tr th {\n",
       "        vertical-align: top;\n",
       "    }\n",
       "\n",
       "    .dataframe thead th {\n",
       "        text-align: right;\n",
       "    }\n",
       "</style>\n",
       "<table border=\"1\" class=\"dataframe\">\n",
       "  <thead>\n",
       "    <tr style=\"text-align: right;\">\n",
       "      <th></th>\n",
       "      <th>adult</th>\n",
       "      <th>backdrop_path</th>\n",
       "      <th>genre_ids</th>\n",
       "      <th>id</th>\n",
       "      <th>original_language</th>\n",
       "      <th>original_title</th>\n",
       "      <th>overview</th>\n",
       "      <th>popularity</th>\n",
       "      <th>poster_path</th>\n",
       "      <th>release_date</th>\n",
       "      <th>title</th>\n",
       "      <th>video</th>\n",
       "      <th>vote_average</th>\n",
       "      <th>vote_count</th>\n",
       "      <th>release_year</th>\n",
       "    </tr>\n",
       "  </thead>\n",
       "  <tbody>\n",
       "    <tr>\n",
       "      <th>5</th>\n",
       "      <td>False</td>\n",
       "      <td>None</td>\n",
       "      <td>unknown</td>\n",
       "      <td>950554</td>\n",
       "      <td>en</td>\n",
       "      <td>Frozen</td>\n",
       "      <td>A film by Adonia Bouchehri.</td>\n",
       "      <td>0.437</td>\n",
       "      <td>None</td>\n",
       "      <td>NaT</td>\n",
       "      <td>Frozen</td>\n",
       "      <td>False</td>\n",
       "      <td>0.0</td>\n",
       "      <td>0.0</td>\n",
       "      <td>NaN</td>\n",
       "    </tr>\n",
       "    <tr>\n",
       "      <th>32</th>\n",
       "      <td>False</td>\n",
       "      <td>None</td>\n",
       "      <td>unknown</td>\n",
       "      <td>566990</td>\n",
       "      <td>en</td>\n",
       "      <td>Gravity</td>\n",
       "      <td>Three boys power play with a gun. Gravity is a...</td>\n",
       "      <td>0.001</td>\n",
       "      <td>None</td>\n",
       "      <td>NaT</td>\n",
       "      <td>Gravity</td>\n",
       "      <td>False</td>\n",
       "      <td>0.0</td>\n",
       "      <td>0.0</td>\n",
       "      <td>NaN</td>\n",
       "    </tr>\n",
       "    <tr>\n",
       "      <th>74</th>\n",
       "      <td>False</td>\n",
       "      <td>/xcIqtToUFrie1o4g4ZtYVKj5R1f.jpg</td>\n",
       "      <td>Science Fiction,Action</td>\n",
       "      <td>374771</td>\n",
       "      <td>en</td>\n",
       "      <td>Riddick: Furya</td>\n",
       "      <td>Riddick finally returns to his home world, a p...</td>\n",
       "      <td>9.035</td>\n",
       "      <td>None</td>\n",
       "      <td>NaT</td>\n",
       "      <td>Riddick: Furya</td>\n",
       "      <td>False</td>\n",
       "      <td>0.0</td>\n",
       "      <td>0.0</td>\n",
       "      <td>NaN</td>\n",
       "    </tr>\n",
       "    <tr>\n",
       "      <th>88</th>\n",
       "      <td>False</td>\n",
       "      <td>None</td>\n",
       "      <td>Comedy,Romance</td>\n",
       "      <td>887567</td>\n",
       "      <td>en</td>\n",
       "      <td>The Butler</td>\n",
       "      <td>A story of a butler who is in love with their ...</td>\n",
       "      <td>0.001</td>\n",
       "      <td>None</td>\n",
       "      <td>NaT</td>\n",
       "      <td>The Butler</td>\n",
       "      <td>False</td>\n",
       "      <td>0.0</td>\n",
       "      <td>0.0</td>\n",
       "      <td>NaN</td>\n",
       "    </tr>\n",
       "    <tr>\n",
       "      <th>113</th>\n",
       "      <td>False</td>\n",
       "      <td>None</td>\n",
       "      <td>unknown</td>\n",
       "      <td>1159811</td>\n",
       "      <td>ko</td>\n",
       "      <td>극락전</td>\n",
       "      <td>Srey Na, a female immigrant from Cambodia, who...</td>\n",
       "      <td>0.021</td>\n",
       "      <td>None</td>\n",
       "      <td>NaT</td>\n",
       "      <td>The Road to Elysium</td>\n",
       "      <td>False</td>\n",
       "      <td>0.0</td>\n",
       "      <td>0.0</td>\n",
       "      <td>NaN</td>\n",
       "    </tr>\n",
       "    <tr>\n",
       "      <th>...</th>\n",
       "      <td>...</td>\n",
       "      <td>...</td>\n",
       "      <td>...</td>\n",
       "      <td>...</td>\n",
       "      <td>...</td>\n",
       "      <td>...</td>\n",
       "      <td>...</td>\n",
       "      <td>...</td>\n",
       "      <td>...</td>\n",
       "      <td>...</td>\n",
       "      <td>...</td>\n",
       "      <td>...</td>\n",
       "      <td>...</td>\n",
       "      <td>...</td>\n",
       "      <td>...</td>\n",
       "    </tr>\n",
       "    <tr>\n",
       "      <th>2911</th>\n",
       "      <td>False</td>\n",
       "      <td>None</td>\n",
       "      <td>Action,Adventure,Science Fiction</td>\n",
       "      <td>939345</td>\n",
       "      <td>en</td>\n",
       "      <td>Transformers: Rise of the Beasts 2</td>\n",
       "      <td>The first of two planned sequels to the 2023 f...</td>\n",
       "      <td>18.436</td>\n",
       "      <td>/f4PFiwOHVcNUXRcOmxX2hUYdAx7.jpg</td>\n",
       "      <td>NaT</td>\n",
       "      <td>Transformers: Rise of the Beasts 2</td>\n",
       "      <td>False</td>\n",
       "      <td>0.0</td>\n",
       "      <td>0.0</td>\n",
       "      <td>NaN</td>\n",
       "    </tr>\n",
       "    <tr>\n",
       "      <th>2912</th>\n",
       "      <td>False</td>\n",
       "      <td>None</td>\n",
       "      <td>Action,Adventure,Science Fiction,Fantasy</td>\n",
       "      <td>939347</td>\n",
       "      <td>en</td>\n",
       "      <td>Transformers: Rise of the Beasts 3</td>\n",
       "      <td>The second of two planned sequels to the 2023 ...</td>\n",
       "      <td>13.508</td>\n",
       "      <td>/zjDGpjRj9M9pLqVVZPpaFhG6BLx.jpg</td>\n",
       "      <td>NaT</td>\n",
       "      <td>Transformers: Rise of the Beasts 3</td>\n",
       "      <td>False</td>\n",
       "      <td>0.0</td>\n",
       "      <td>0.0</td>\n",
       "      <td>NaN</td>\n",
       "    </tr>\n",
       "    <tr>\n",
       "      <th>2934</th>\n",
       "      <td>False</td>\n",
       "      <td>None</td>\n",
       "      <td>Action,Crime,Thriller</td>\n",
       "      <td>755679</td>\n",
       "      <td>en</td>\n",
       "      <td>Fast X: Part 2</td>\n",
       "      <td>The eleventh installment in The Fast Saga, whi...</td>\n",
       "      <td>73.241</td>\n",
       "      <td>/lD8V3DBban95Mxz4sjuA81Tw771.jpg</td>\n",
       "      <td>NaT</td>\n",
       "      <td>Fast X: Part 2</td>\n",
       "      <td>False</td>\n",
       "      <td>0.0</td>\n",
       "      <td>0.0</td>\n",
       "      <td>NaN</td>\n",
       "    </tr>\n",
       "    <tr>\n",
       "      <th>2961</th>\n",
       "      <td>False</td>\n",
       "      <td>None</td>\n",
       "      <td>unknown</td>\n",
       "      <td>1195165</td>\n",
       "      <td>en</td>\n",
       "      <td>Dungeons &amp; Derrick</td>\n",
       "      <td>Derrick and Tori, best friends and avid player...</td>\n",
       "      <td>0.001</td>\n",
       "      <td>None</td>\n",
       "      <td>NaT</td>\n",
       "      <td>Dungeons &amp; Derrick</td>\n",
       "      <td>False</td>\n",
       "      <td>0.0</td>\n",
       "      <td>0.0</td>\n",
       "      <td>NaN</td>\n",
       "    </tr>\n",
       "    <tr>\n",
       "      <th>2963</th>\n",
       "      <td>False</td>\n",
       "      <td>None</td>\n",
       "      <td>Comedy,Horror</td>\n",
       "      <td>601823</td>\n",
       "      <td>en</td>\n",
       "      <td>Playdate in a Dungeon</td>\n",
       "      <td>Three strangers wake up in the basement of the...</td>\n",
       "      <td>0.672</td>\n",
       "      <td>/xT9qSpG5W1zMUEKnJsrGp7yuIlX.jpg</td>\n",
       "      <td>NaT</td>\n",
       "      <td>Playdate in a Dungeon</td>\n",
       "      <td>False</td>\n",
       "      <td>0.0</td>\n",
       "      <td>0.0</td>\n",
       "      <td>NaN</td>\n",
       "    </tr>\n",
       "  </tbody>\n",
       "</table>\n",
       "<p>147 rows × 15 columns</p>\n",
       "</div>"
      ]
     },
     "execution_count": 20,
     "metadata": {},
     "output_type": "execute_result"
    }
   ],
   "execution_count": 20
  },
  {
   "metadata": {
    "ExecuteTime": {
     "end_time": "2024-12-25T19:41:47.512178Z",
     "start_time": "2024-12-25T19:41:47.503883Z"
    }
   },
   "cell_type": "code",
   "source": [
    "#Fill in those nan with some arbitrary value so you can avoid any type conversion errors\n",
    "api_df['release_year'] = api_df.release_year.fillna(1900)"
   ],
   "id": "97faffa6934007e",
   "outputs": [],
   "execution_count": 21
  },
  {
   "metadata": {
    "ExecuteTime": {
     "end_time": "2024-12-25T19:41:49.379302Z",
     "start_time": "2024-12-25T19:41:49.373625Z"
    }
   },
   "cell_type": "code",
   "source": [
    "#conver floats to ints now\n",
    "api_df[\"release_year\"] = api_df.release_year.astype('int64')"
   ],
   "id": "76a635b2209ed072",
   "outputs": [],
   "execution_count": 22
  },
  {
   "metadata": {
    "ExecuteTime": {
     "end_time": "2024-12-25T19:41:54.821452Z",
     "start_time": "2024-12-25T19:41:54.815751Z"
    }
   },
   "cell_type": "code",
   "source": [
    "# checks if any of columns in the data have null values - should print False\n",
    "api_df.isnull().sum().any()"
   ],
   "id": "128d227846f6bf57",
   "outputs": [
    {
     "data": {
      "text/plain": [
       "True"
      ]
     },
     "execution_count": 23,
     "metadata": {},
     "output_type": "execute_result"
    }
   ],
   "execution_count": 23
  },
  {
   "metadata": {
    "ExecuteTime": {
     "end_time": "2024-12-25T19:41:56.839270Z",
     "start_time": "2024-12-25T19:41:56.830314Z"
    }
   },
   "cell_type": "code",
   "source": "api_df.dropna(inplace=True)",
   "id": "4a33144a65c3766a",
   "outputs": [],
   "execution_count": 24
  },
  {
   "metadata": {
    "ExecuteTime": {
     "end_time": "2024-12-25T19:41:59.170349Z",
     "start_time": "2024-12-25T19:41:59.163323Z"
    }
   },
   "cell_type": "code",
   "source": "api_df.shape",
   "id": "c7bd110da7580992",
   "outputs": [
    {
     "data": {
      "text/plain": [
       "(1896, 15)"
      ]
     },
     "execution_count": 25,
     "metadata": {},
     "output_type": "execute_result"
    }
   ],
   "execution_count": 25
  },
  {
   "metadata": {
    "ExecuteTime": {
     "end_time": "2024-12-25T19:42:01.298087Z",
     "start_time": "2024-12-25T19:42:01.279268Z"
    }
   },
   "cell_type": "code",
   "source": "api_df.head()",
   "id": "6ee0bd94176aad0",
   "outputs": [
    {
     "data": {
      "text/plain": [
       "   adult                     backdrop_path  \\\n",
       "0  False  /npCPnwDyWfQltGfIZKN6WqeUXGI.jpg   \n",
       "1  False  /u2bZhH3nTf0So0UIC1QxAqBvC07.jpg   \n",
       "2  False  /vD1yKObsRS2cvpmtuaCaMhr4zxe.jpg   \n",
       "3  False  /sGjhRHNiQSkgVec18D3oX45hPmz.jpg   \n",
       "6  False  /9PxXSAnbVfvFacsGTJu1aXEWVg7.jpg   \n",
       "\n",
       "                            genre_ids      id original_language  \\\n",
       "0            Fantasy,Adventure,Action   57158                en   \n",
       "1  Animation,Family,Adventure,Fantasy  109445                en   \n",
       "2                            Thriller   44363                en   \n",
       "3                            Thriller   26041                en   \n",
       "6   Animation,Adventure,Comedy,Family  573171                es   \n",
       "\n",
       "                        original_title  \\\n",
       "0  The Hobbit: The Desolation of Smaug   \n",
       "1                               Frozen   \n",
       "2                               Frozen   \n",
       "3                               Frozen   \n",
       "6                  Huevitos Congelados   \n",
       "\n",
       "                                            overview  popularity  \\\n",
       "0  The Dwarves, Bilbo and Gandalf have successful...      68.486   \n",
       "1  Young princess Anna of Arendelle dreams about ...     136.920   \n",
       "2  When three skiers find themselves stranded on ...      21.316   \n",
       "3  It's two years since the mysterious disappeara...       2.648   \n",
       "6  In the final Huevos adventure, Toto and his fa...      33.602   \n",
       "\n",
       "                        poster_path release_date  \\\n",
       "0  /xQYiXsheRCDBA39DOrmaw1aSpbk.jpg   2013-12-11   \n",
       "1  /mmWheq3cFI4tYrZDiATOkCNTqgK.jpg   2013-11-20   \n",
       "2  /2J3URUnDrIpNvh0uVqINQvr4HhW.jpg   2010-02-05   \n",
       "3  /a6RlPQUerliQLkAieku5B8Loamk.jpg   2005-03-12   \n",
       "6  /8xCO3IarklLD4tK1rPn0e4gSMoV.jpg   2022-12-14   \n",
       "\n",
       "                                 title  video  vote_average  vote_count  \\\n",
       "0  The Hobbit: The Desolation of Smaug  False         7.575     13167.0   \n",
       "1                               Frozen  False         7.200     16539.0   \n",
       "2                               Frozen  False         6.000      1820.0   \n",
       "3                               Frozen  False         5.700        18.0   \n",
       "6         Little Eggs: A Frozen Rescue  False         7.700       345.0   \n",
       "\n",
       "   release_year  \n",
       "0          2013  \n",
       "1          2013  \n",
       "2          2010  \n",
       "3          2005  \n",
       "6          2022  "
      ],
      "text/html": [
       "<div>\n",
       "<style scoped>\n",
       "    .dataframe tbody tr th:only-of-type {\n",
       "        vertical-align: middle;\n",
       "    }\n",
       "\n",
       "    .dataframe tbody tr th {\n",
       "        vertical-align: top;\n",
       "    }\n",
       "\n",
       "    .dataframe thead th {\n",
       "        text-align: right;\n",
       "    }\n",
       "</style>\n",
       "<table border=\"1\" class=\"dataframe\">\n",
       "  <thead>\n",
       "    <tr style=\"text-align: right;\">\n",
       "      <th></th>\n",
       "      <th>adult</th>\n",
       "      <th>backdrop_path</th>\n",
       "      <th>genre_ids</th>\n",
       "      <th>id</th>\n",
       "      <th>original_language</th>\n",
       "      <th>original_title</th>\n",
       "      <th>overview</th>\n",
       "      <th>popularity</th>\n",
       "      <th>poster_path</th>\n",
       "      <th>release_date</th>\n",
       "      <th>title</th>\n",
       "      <th>video</th>\n",
       "      <th>vote_average</th>\n",
       "      <th>vote_count</th>\n",
       "      <th>release_year</th>\n",
       "    </tr>\n",
       "  </thead>\n",
       "  <tbody>\n",
       "    <tr>\n",
       "      <th>0</th>\n",
       "      <td>False</td>\n",
       "      <td>/npCPnwDyWfQltGfIZKN6WqeUXGI.jpg</td>\n",
       "      <td>Fantasy,Adventure,Action</td>\n",
       "      <td>57158</td>\n",
       "      <td>en</td>\n",
       "      <td>The Hobbit: The Desolation of Smaug</td>\n",
       "      <td>The Dwarves, Bilbo and Gandalf have successful...</td>\n",
       "      <td>68.486</td>\n",
       "      <td>/xQYiXsheRCDBA39DOrmaw1aSpbk.jpg</td>\n",
       "      <td>2013-12-11</td>\n",
       "      <td>The Hobbit: The Desolation of Smaug</td>\n",
       "      <td>False</td>\n",
       "      <td>7.575</td>\n",
       "      <td>13167.0</td>\n",
       "      <td>2013</td>\n",
       "    </tr>\n",
       "    <tr>\n",
       "      <th>1</th>\n",
       "      <td>False</td>\n",
       "      <td>/u2bZhH3nTf0So0UIC1QxAqBvC07.jpg</td>\n",
       "      <td>Animation,Family,Adventure,Fantasy</td>\n",
       "      <td>109445</td>\n",
       "      <td>en</td>\n",
       "      <td>Frozen</td>\n",
       "      <td>Young princess Anna of Arendelle dreams about ...</td>\n",
       "      <td>136.920</td>\n",
       "      <td>/mmWheq3cFI4tYrZDiATOkCNTqgK.jpg</td>\n",
       "      <td>2013-11-20</td>\n",
       "      <td>Frozen</td>\n",
       "      <td>False</td>\n",
       "      <td>7.200</td>\n",
       "      <td>16539.0</td>\n",
       "      <td>2013</td>\n",
       "    </tr>\n",
       "    <tr>\n",
       "      <th>2</th>\n",
       "      <td>False</td>\n",
       "      <td>/vD1yKObsRS2cvpmtuaCaMhr4zxe.jpg</td>\n",
       "      <td>Thriller</td>\n",
       "      <td>44363</td>\n",
       "      <td>en</td>\n",
       "      <td>Frozen</td>\n",
       "      <td>When three skiers find themselves stranded on ...</td>\n",
       "      <td>21.316</td>\n",
       "      <td>/2J3URUnDrIpNvh0uVqINQvr4HhW.jpg</td>\n",
       "      <td>2010-02-05</td>\n",
       "      <td>Frozen</td>\n",
       "      <td>False</td>\n",
       "      <td>6.000</td>\n",
       "      <td>1820.0</td>\n",
       "      <td>2010</td>\n",
       "    </tr>\n",
       "    <tr>\n",
       "      <th>3</th>\n",
       "      <td>False</td>\n",
       "      <td>/sGjhRHNiQSkgVec18D3oX45hPmz.jpg</td>\n",
       "      <td>Thriller</td>\n",
       "      <td>26041</td>\n",
       "      <td>en</td>\n",
       "      <td>Frozen</td>\n",
       "      <td>It's two years since the mysterious disappeara...</td>\n",
       "      <td>2.648</td>\n",
       "      <td>/a6RlPQUerliQLkAieku5B8Loamk.jpg</td>\n",
       "      <td>2005-03-12</td>\n",
       "      <td>Frozen</td>\n",
       "      <td>False</td>\n",
       "      <td>5.700</td>\n",
       "      <td>18.0</td>\n",
       "      <td>2005</td>\n",
       "    </tr>\n",
       "    <tr>\n",
       "      <th>6</th>\n",
       "      <td>False</td>\n",
       "      <td>/9PxXSAnbVfvFacsGTJu1aXEWVg7.jpg</td>\n",
       "      <td>Animation,Adventure,Comedy,Family</td>\n",
       "      <td>573171</td>\n",
       "      <td>es</td>\n",
       "      <td>Huevitos Congelados</td>\n",
       "      <td>In the final Huevos adventure, Toto and his fa...</td>\n",
       "      <td>33.602</td>\n",
       "      <td>/8xCO3IarklLD4tK1rPn0e4gSMoV.jpg</td>\n",
       "      <td>2022-12-14</td>\n",
       "      <td>Little Eggs: A Frozen Rescue</td>\n",
       "      <td>False</td>\n",
       "      <td>7.700</td>\n",
       "      <td>345.0</td>\n",
       "      <td>2022</td>\n",
       "    </tr>\n",
       "  </tbody>\n",
       "</table>\n",
       "</div>"
      ]
     },
     "execution_count": 26,
     "metadata": {},
     "output_type": "execute_result"
    }
   ],
   "execution_count": 26
  },
  {
   "metadata": {
    "ExecuteTime": {
     "end_time": "2024-12-25T19:42:04.069530Z",
     "start_time": "2024-12-25T19:42:04.062005Z"
    }
   },
   "cell_type": "code",
   "source": "api_df.columns",
   "id": "5742979a809d5c10",
   "outputs": [
    {
     "data": {
      "text/plain": [
       "Index(['adult', 'backdrop_path', 'genre_ids', 'id', 'original_language',\n",
       "       'original_title', 'overview', 'popularity', 'poster_path',\n",
       "       'release_date', 'title', 'video', 'vote_average', 'vote_count',\n",
       "       'release_year'],\n",
       "      dtype='object')"
      ]
     },
     "execution_count": 27,
     "metadata": {},
     "output_type": "execute_result"
    }
   ],
   "execution_count": 27
  },
  {
   "metadata": {},
   "cell_type": "code",
   "outputs": [],
   "execution_count": null,
   "source": "#### Step : Convert key column title to lowercase",
   "id": "f46795d107c40f7d"
  },
  {
   "metadata": {
    "ExecuteTime": {
     "end_time": "2024-12-25T19:42:07.183136Z",
     "start_time": "2024-12-25T19:42:07.170664Z"
    }
   },
   "cell_type": "code",
   "source": "api_df['title'] = api_df.title.str.lower()",
   "id": "ac8395b2014ffcc3",
   "outputs": [],
   "execution_count": 28
  },
  {
   "metadata": {},
   "cell_type": "markdown",
   "source": "#### Step : Drop unused columns",
   "id": "27e1d2a3f834f3be"
  },
  {
   "metadata": {
    "ExecuteTime": {
     "end_time": "2024-12-25T19:42:15.699862Z",
     "start_time": "2024-12-25T19:42:15.689234Z"
    }
   },
   "cell_type": "code",
   "source": "api_df.drop(['id','adult','backdrop_path','poster_path','video'], axis=1, inplace=True)",
   "id": "4f78d598d2e8f775",
   "outputs": [],
   "execution_count": 29
  },
  {
   "metadata": {
    "ExecuteTime": {
     "end_time": "2024-12-25T19:42:17.419018Z",
     "start_time": "2024-12-25T19:42:17.411928Z"
    }
   },
   "cell_type": "code",
   "source": "api_df.rename(columns={'genre_ids': 'genres'}, inplace=True)",
   "id": "ce8112122392d049",
   "outputs": [],
   "execution_count": 30
  },
  {
   "metadata": {
    "ExecuteTime": {
     "end_time": "2024-12-25T19:42:19.435527Z",
     "start_time": "2024-12-25T19:42:19.412212Z"
    }
   },
   "cell_type": "code",
   "source": [
    "new_col_order=['title', 'release_year','genres', 'popularity', 'vote_average','vote_count', 'original_title', 'overview'\n",
    "                ,'release_date','original_language'\n",
    "               ]\n",
    "\n",
    "for i,col in enumerate(new_col_order):\n",
    "    tmp = api_df[col]\n",
    "    api_df.drop(labels=[col],axis=1,inplace=True)\n",
    "    api_df.insert(i,col,tmp)\n",
    "\n",
    "sum(api_df.duplicated())\n",
    "api_df.drop_duplicates(inplace=True)    "
   ],
   "id": "25bf4915f970d9b3",
   "outputs": [],
   "execution_count": 31
  },
  {
   "metadata": {
    "ExecuteTime": {
     "end_time": "2024-12-25T19:42:27.199539Z",
     "start_time": "2024-12-25T19:42:27.187409Z"
    }
   },
   "cell_type": "code",
   "source": "api_df.head()",
   "id": "422ff9f6afefe808",
   "outputs": [
    {
     "data": {
      "text/plain": [
       "                                 title  release_year  \\\n",
       "0  the hobbit: the desolation of smaug          2013   \n",
       "1                               frozen          2013   \n",
       "2                               frozen          2010   \n",
       "3                               frozen          2005   \n",
       "6         little eggs: a frozen rescue          2022   \n",
       "\n",
       "                               genres  popularity  vote_average  vote_count  \\\n",
       "0            Fantasy,Adventure,Action      68.486         7.575     13167.0   \n",
       "1  Animation,Family,Adventure,Fantasy     136.920         7.200     16539.0   \n",
       "2                            Thriller      21.316         6.000      1820.0   \n",
       "3                            Thriller       2.648         5.700        18.0   \n",
       "6   Animation,Adventure,Comedy,Family      33.602         7.700       345.0   \n",
       "\n",
       "                        original_title  \\\n",
       "0  The Hobbit: The Desolation of Smaug   \n",
       "1                               Frozen   \n",
       "2                               Frozen   \n",
       "3                               Frozen   \n",
       "6                  Huevitos Congelados   \n",
       "\n",
       "                                            overview release_date  \\\n",
       "0  The Dwarves, Bilbo and Gandalf have successful...   2013-12-11   \n",
       "1  Young princess Anna of Arendelle dreams about ...   2013-11-20   \n",
       "2  When three skiers find themselves stranded on ...   2010-02-05   \n",
       "3  It's two years since the mysterious disappeara...   2005-03-12   \n",
       "6  In the final Huevos adventure, Toto and his fa...   2022-12-14   \n",
       "\n",
       "  original_language  \n",
       "0                en  \n",
       "1                en  \n",
       "2                en  \n",
       "3                en  \n",
       "6                es  "
      ],
      "text/html": [
       "<div>\n",
       "<style scoped>\n",
       "    .dataframe tbody tr th:only-of-type {\n",
       "        vertical-align: middle;\n",
       "    }\n",
       "\n",
       "    .dataframe tbody tr th {\n",
       "        vertical-align: top;\n",
       "    }\n",
       "\n",
       "    .dataframe thead th {\n",
       "        text-align: right;\n",
       "    }\n",
       "</style>\n",
       "<table border=\"1\" class=\"dataframe\">\n",
       "  <thead>\n",
       "    <tr style=\"text-align: right;\">\n",
       "      <th></th>\n",
       "      <th>title</th>\n",
       "      <th>release_year</th>\n",
       "      <th>genres</th>\n",
       "      <th>popularity</th>\n",
       "      <th>vote_average</th>\n",
       "      <th>vote_count</th>\n",
       "      <th>original_title</th>\n",
       "      <th>overview</th>\n",
       "      <th>release_date</th>\n",
       "      <th>original_language</th>\n",
       "    </tr>\n",
       "  </thead>\n",
       "  <tbody>\n",
       "    <tr>\n",
       "      <th>0</th>\n",
       "      <td>the hobbit: the desolation of smaug</td>\n",
       "      <td>2013</td>\n",
       "      <td>Fantasy,Adventure,Action</td>\n",
       "      <td>68.486</td>\n",
       "      <td>7.575</td>\n",
       "      <td>13167.0</td>\n",
       "      <td>The Hobbit: The Desolation of Smaug</td>\n",
       "      <td>The Dwarves, Bilbo and Gandalf have successful...</td>\n",
       "      <td>2013-12-11</td>\n",
       "      <td>en</td>\n",
       "    </tr>\n",
       "    <tr>\n",
       "      <th>1</th>\n",
       "      <td>frozen</td>\n",
       "      <td>2013</td>\n",
       "      <td>Animation,Family,Adventure,Fantasy</td>\n",
       "      <td>136.920</td>\n",
       "      <td>7.200</td>\n",
       "      <td>16539.0</td>\n",
       "      <td>Frozen</td>\n",
       "      <td>Young princess Anna of Arendelle dreams about ...</td>\n",
       "      <td>2013-11-20</td>\n",
       "      <td>en</td>\n",
       "    </tr>\n",
       "    <tr>\n",
       "      <th>2</th>\n",
       "      <td>frozen</td>\n",
       "      <td>2010</td>\n",
       "      <td>Thriller</td>\n",
       "      <td>21.316</td>\n",
       "      <td>6.000</td>\n",
       "      <td>1820.0</td>\n",
       "      <td>Frozen</td>\n",
       "      <td>When three skiers find themselves stranded on ...</td>\n",
       "      <td>2010-02-05</td>\n",
       "      <td>en</td>\n",
       "    </tr>\n",
       "    <tr>\n",
       "      <th>3</th>\n",
       "      <td>frozen</td>\n",
       "      <td>2005</td>\n",
       "      <td>Thriller</td>\n",
       "      <td>2.648</td>\n",
       "      <td>5.700</td>\n",
       "      <td>18.0</td>\n",
       "      <td>Frozen</td>\n",
       "      <td>It's two years since the mysterious disappeara...</td>\n",
       "      <td>2005-03-12</td>\n",
       "      <td>en</td>\n",
       "    </tr>\n",
       "    <tr>\n",
       "      <th>6</th>\n",
       "      <td>little eggs: a frozen rescue</td>\n",
       "      <td>2022</td>\n",
       "      <td>Animation,Adventure,Comedy,Family</td>\n",
       "      <td>33.602</td>\n",
       "      <td>7.700</td>\n",
       "      <td>345.0</td>\n",
       "      <td>Huevitos Congelados</td>\n",
       "      <td>In the final Huevos adventure, Toto and his fa...</td>\n",
       "      <td>2022-12-14</td>\n",
       "      <td>es</td>\n",
       "    </tr>\n",
       "  </tbody>\n",
       "</table>\n",
       "</div>"
      ]
     },
     "execution_count": 32,
     "metadata": {},
     "output_type": "execute_result"
    }
   ],
   "execution_count": 32
  },
  {
   "metadata": {
    "ExecuteTime": {
     "end_time": "2024-12-25T19:42:38.731608Z",
     "start_time": "2024-12-25T19:42:38.705566Z"
    }
   },
   "cell_type": "code",
   "source": "api_df.to_csv(r'./project_datasets/clean-api_data.csv',index=False)",
   "id": "e992e1a35d8dfbdc",
   "outputs": [],
   "execution_count": 33
  }
 ],
 "metadata": {
  "kernelspec": {
   "display_name": "Python 3",
   "language": "python",
   "name": "python3"
  },
  "language_info": {
   "codemirror_mode": {
    "name": "ipython",
    "version": 2
   },
   "file_extension": ".py",
   "mimetype": "text/x-python",
   "name": "python",
   "nbconvert_exporter": "python",
   "pygments_lexer": "ipython2",
   "version": "2.7.6"
  }
 },
 "nbformat": 4,
 "nbformat_minor": 5
}
