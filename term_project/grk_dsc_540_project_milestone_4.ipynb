{
 "cells": [
  {
   "metadata": {},
   "cell_type": "markdown",
   "source": [
    "# DSC 540- Milestone-4 API\n",
    "# Kannur, Gyan\n",
    "# Instructor Catherine Williams"
   ],
   "id": "2888eafe884f4120"
  },
  {
   "metadata": {},
   "cell_type": "code",
   "outputs": [],
   "execution_count": null,
   "source": "",
   "id": "a158874ce76d07"
  },
  {
   "metadata": {},
   "cell_type": "code",
   "outputs": [],
   "execution_count": 40,
   "source": [
    "import pandas as pd\n",
    "import requests\n",
    "import traceback\n",
    "import warnings\n",
    "warnings.filterwarnings(\"ignore\")\n",
    "%matplotlib inline"
   ],
   "id": "initial_id"
  },
  {
   "metadata": {},
   "cell_type": "markdown",
   "source": "##### Load the previously webscraped clean data",
   "id": "18a89c14a79fe8df"
  },
  {
   "metadata": {
    "ExecuteTime": {
     "end_time": "2025-01-13T17:37:37.350060Z",
     "start_time": "2025-01-13T17:37:37.338634Z"
    }
   },
   "cell_type": "code",
   "source": "web_scraped_data = pd.read_csv(\"./project_datasets/clean-webscraped.csv\")",
   "id": "963346357974f341",
   "outputs": [],
   "execution_count": 70
  },
  {
   "metadata": {},
   "cell_type": "markdown",
   "source": "##### Step 1: Reading API data using \"requests\" library available in Python",
   "id": "36c0530ba19dbfe7"
  },
  {
   "metadata": {},
   "cell_type": "markdown",
   "source": "Before invoking the API, you need to signup for your [TMDB](https://www.themoviedb.org/) account and get your api key to work with tmdb API.",
   "id": "7fb3af14febba4ee"
  },
  {
   "metadata": {
    "ExecuteTime": {
     "end_time": "2025-01-13T17:31:41.834231Z",
     "start_time": "2025-01-13T17:31:41.831332Z"
    }
   },
   "cell_type": "code",
   "source": [
    "api_key = '5a51d21e02c0baae3a96d6a5e7687635'\n",
    "genre_dict = dict()"
   ],
   "id": "828a43017fe8dfb0",
   "outputs": [],
   "execution_count": 42
  },
  {
   "metadata": {
    "ExecuteTime": {
     "end_time": "2025-01-13T17:31:59.149378Z",
     "start_time": "2025-01-13T17:31:58.978769Z"
    }
   },
   "cell_type": "code",
   "source": [
    "genre_url=f'https://api.themoviedb.org/3/genre/movie/list?api_key={api_key}'\n",
    "\n",
    "try:\n",
    "    response = requests.get(genre_url)\n",
    "    if response.status_code == 200:\n",
    "        genre_dict = { genre_json['id']:genre_json['name'] for genre_json in response.json()['genres'] }\n",
    "except Exception as e:\n",
    "    print('Error downloading genres: ',e)\n",
    "    traceback.print_exc()\n",
    "\n",
    "#Lets add a unique key for movies without any genre\n",
    "if 0 not in genre_dict.keys():\n",
    "    genre_dict[0] = 'unknown'\n"
   ],
   "id": "d96dff888bd9f2e8",
   "outputs": [],
   "execution_count": 44
  },
  {
   "metadata": {
    "ExecuteTime": {
     "end_time": "2025-01-13T17:37:44.176742Z",
     "start_time": "2025-01-13T17:37:44.168159Z"
    }
   },
   "cell_type": "code",
   "source": [
    "#Genre Names\n",
    "genre_dict"
   ],
   "id": "320d8f428d294999",
   "outputs": [
    {
     "data": {
      "text/plain": [
       "{'28': 'Action',\n",
       " '12': 'Adventure',\n",
       " '16': 'Animation',\n",
       " '35': 'Comedy',\n",
       " '80': 'Crime',\n",
       " '99': 'Documentary',\n",
       " '18': 'Drama',\n",
       " '10751': 'Family',\n",
       " '14': 'Fantasy',\n",
       " '36': 'History',\n",
       " '27': 'Horror',\n",
       " '10402': 'Music',\n",
       " '9648': 'Mystery',\n",
       " '10749': 'Romance',\n",
       " '878': 'Science Fiction',\n",
       " '10770': 'TV Movie',\n",
       " '53': 'Thriller',\n",
       " '10752': 'War',\n",
       " '37': 'Western',\n",
       " '0': 'unknown'}"
      ]
     },
     "execution_count": 71,
     "metadata": {},
     "output_type": "execute_result"
    }
   ],
   "execution_count": 71
  },
  {
   "metadata": {
    "ExecuteTime": {
     "end_time": "2025-01-13T17:37:53.736263Z",
     "start_time": "2025-01-13T17:37:53.716439Z"
    }
   },
   "cell_type": "code",
   "source": [
    "#Display the standard list of genres\n",
    "\n",
    "genre_dict"
   ],
   "id": "b6ac4acaef04d49c",
   "outputs": [
    {
     "data": {
      "text/plain": [
       "{'28': 'Action',\n",
       " '12': 'Adventure',\n",
       " '16': 'Animation',\n",
       " '35': 'Comedy',\n",
       " '80': 'Crime',\n",
       " '99': 'Documentary',\n",
       " '18': 'Drama',\n",
       " '10751': 'Family',\n",
       " '14': 'Fantasy',\n",
       " '36': 'History',\n",
       " '27': 'Horror',\n",
       " '10402': 'Music',\n",
       " '9648': 'Mystery',\n",
       " '10749': 'Romance',\n",
       " '878': 'Science Fiction',\n",
       " '10770': 'TV Movie',\n",
       " '53': 'Thriller',\n",
       " '10752': 'War',\n",
       " '37': 'Western',\n",
       " '0': 'unknown'}"
      ]
     },
     "execution_count": 72,
     "metadata": {},
     "output_type": "execute_result"
    }
   ],
   "execution_count": 72
  },
  {
   "metadata": {
    "ExecuteTime": {
     "end_time": "2025-01-13T17:32:14.709512Z",
     "start_time": "2025-01-13T17:32:14.702865Z"
    }
   },
   "cell_type": "code",
   "source": [
    "#Get the list of unique movie titles\n",
    "scraped_movie_list=web_scraped_data['movie_title'].unique()\n",
    "len(scraped_movie_list)"
   ],
   "id": "f4c1251e366897cb",
   "outputs": [
    {
     "data": {
      "text/plain": [
       "353"
      ]
     },
     "execution_count": 46,
     "metadata": {},
     "output_type": "execute_result"
    }
   ],
   "execution_count": 46
  },
  {
   "metadata": {},
   "cell_type": "markdown",
   "source": "## Fetch the movie details using the api keys",
   "id": "1512183c6e922a21"
  },
  {
   "metadata": {
    "ExecuteTime": {
     "end_time": "2025-01-13T17:32:55.302795Z",
     "start_time": "2025-01-13T17:32:21.192286Z"
    }
   },
   "cell_type": "code",
   "source": [
    "%%time\n",
    "# We will first create an empty dataframe to store all the movie detail\n",
    "api_df = pd.DataFrame()\n",
    "# Our for loop will iterate through each page, get json data convert it into dataframe and append it to original dataframe\n",
    "for title in scraped_movie_list:\n",
    "    url = f\"https://api.themoviedb.org/3/search/movie?api_key={api_key}&query={title}\"\n",
    "    response = requests.get(url)\n",
    "    if 'results' in response.json():\n",
    "        temporary_df = pd.DataFrame(response.json()['results'])\n",
    "        api_df = pd.concat([api_df,temporary_df],ignore_index=True)"
   ],
   "id": "fc2883cfcab2a3d8",
   "outputs": [
    {
     "name": "stdout",
     "output_type": "stream",
     "text": [
      "CPU times: total: 984 ms\n",
      "Wall time: 34.1 s\n"
     ]
    }
   ],
   "execution_count": 47
  },
  {
   "metadata": {
    "ExecuteTime": {
     "end_time": "2025-01-13T17:38:05.915494Z",
     "start_time": "2025-01-13T17:38:05.902771Z"
    }
   },
   "cell_type": "code",
   "source": "api_df.head()",
   "id": "4bb896f0355a1b27",
   "outputs": [
    {
     "data": {
      "text/plain": [
       "   adult                     backdrop_path  \\\n",
       "0  False  /npCPnwDyWfQltGfIZKN6WqeUXGI.jpg   \n",
       "1  False  /u2bZhH3nTf0So0UIC1QxAqBvC07.jpg   \n",
       "2  False  /vD1yKObsRS2cvpmtuaCaMhr4zxe.jpg   \n",
       "3  False  /sGjhRHNiQSkgVec18D3oX45hPmz.jpg   \n",
       "4  False                              None   \n",
       "\n",
       "                                 genre_ids      id original_language  \\\n",
       "0             [Fantasy, Adventure, Action]   57158                en   \n",
       "1  [Animation, Family, Adventure, Fantasy]  109445                en   \n",
       "2                               [Thriller]   44363                en   \n",
       "3                               [Thriller]   26041                en   \n",
       "4                          [Drama, Horror]  170986                hi   \n",
       "\n",
       "                        original_title  \\\n",
       "0  The Hobbit: The Desolation of Smaug   \n",
       "1                               Frozen   \n",
       "2                               Frozen   \n",
       "3                               Frozen   \n",
       "4                               Frozen   \n",
       "\n",
       "                                            overview  popularity  \\\n",
       "0  The Dwarves, Bilbo and Gandalf have successful...      87.340   \n",
       "1  Young princess Anna of Arendelle dreams about ...     191.622   \n",
       "2  When three skiers find themselves stranded on ...      40.401   \n",
       "3  It's two years since the mysterious disappeara...       7.794   \n",
       "4  This is a touching and somber journey of Lasya...       4.000   \n",
       "\n",
       "                        poster_path release_date  \\\n",
       "0  /xQYiXsheRCDBA39DOrmaw1aSpbk.jpg   2013-12-11   \n",
       "1  /mmWheq3cFI4tYrZDiATOkCNTqgK.jpg   2013-11-20   \n",
       "2  /2J3URUnDrIpNvh0uVqINQvr4HhW.jpg   2010-02-05   \n",
       "3  /a6RlPQUerliQLkAieku5B8Loamk.jpg   2005-03-12   \n",
       "4  /2GL9yZtrgbYKCeKBc3TF9gGfZpX.jpg   2007-07-21   \n",
       "\n",
       "                                 title  video  vote_average  vote_count  \n",
       "0  The Hobbit: The Desolation of Smaug  False         7.574     13227.0  \n",
       "1                               Frozen  False         7.246     16611.0  \n",
       "2                               Frozen  False         5.996      1831.0  \n",
       "3                               Frozen  False         5.700        18.0  \n",
       "4                               Frozen  False         7.200         4.0  "
      ],
      "text/html": [
       "<div>\n",
       "<style scoped>\n",
       "    .dataframe tbody tr th:only-of-type {\n",
       "        vertical-align: middle;\n",
       "    }\n",
       "\n",
       "    .dataframe tbody tr th {\n",
       "        vertical-align: top;\n",
       "    }\n",
       "\n",
       "    .dataframe thead th {\n",
       "        text-align: right;\n",
       "    }\n",
       "</style>\n",
       "<table border=\"1\" class=\"dataframe\">\n",
       "  <thead>\n",
       "    <tr style=\"text-align: right;\">\n",
       "      <th></th>\n",
       "      <th>adult</th>\n",
       "      <th>backdrop_path</th>\n",
       "      <th>genre_ids</th>\n",
       "      <th>id</th>\n",
       "      <th>original_language</th>\n",
       "      <th>original_title</th>\n",
       "      <th>overview</th>\n",
       "      <th>popularity</th>\n",
       "      <th>poster_path</th>\n",
       "      <th>release_date</th>\n",
       "      <th>title</th>\n",
       "      <th>video</th>\n",
       "      <th>vote_average</th>\n",
       "      <th>vote_count</th>\n",
       "    </tr>\n",
       "  </thead>\n",
       "  <tbody>\n",
       "    <tr>\n",
       "      <th>0</th>\n",
       "      <td>False</td>\n",
       "      <td>/npCPnwDyWfQltGfIZKN6WqeUXGI.jpg</td>\n",
       "      <td>[Fantasy, Adventure, Action]</td>\n",
       "      <td>57158</td>\n",
       "      <td>en</td>\n",
       "      <td>The Hobbit: The Desolation of Smaug</td>\n",
       "      <td>The Dwarves, Bilbo and Gandalf have successful...</td>\n",
       "      <td>87.340</td>\n",
       "      <td>/xQYiXsheRCDBA39DOrmaw1aSpbk.jpg</td>\n",
       "      <td>2013-12-11</td>\n",
       "      <td>The Hobbit: The Desolation of Smaug</td>\n",
       "      <td>False</td>\n",
       "      <td>7.574</td>\n",
       "      <td>13227.0</td>\n",
       "    </tr>\n",
       "    <tr>\n",
       "      <th>1</th>\n",
       "      <td>False</td>\n",
       "      <td>/u2bZhH3nTf0So0UIC1QxAqBvC07.jpg</td>\n",
       "      <td>[Animation, Family, Adventure, Fantasy]</td>\n",
       "      <td>109445</td>\n",
       "      <td>en</td>\n",
       "      <td>Frozen</td>\n",
       "      <td>Young princess Anna of Arendelle dreams about ...</td>\n",
       "      <td>191.622</td>\n",
       "      <td>/mmWheq3cFI4tYrZDiATOkCNTqgK.jpg</td>\n",
       "      <td>2013-11-20</td>\n",
       "      <td>Frozen</td>\n",
       "      <td>False</td>\n",
       "      <td>7.246</td>\n",
       "      <td>16611.0</td>\n",
       "    </tr>\n",
       "    <tr>\n",
       "      <th>2</th>\n",
       "      <td>False</td>\n",
       "      <td>/vD1yKObsRS2cvpmtuaCaMhr4zxe.jpg</td>\n",
       "      <td>[Thriller]</td>\n",
       "      <td>44363</td>\n",
       "      <td>en</td>\n",
       "      <td>Frozen</td>\n",
       "      <td>When three skiers find themselves stranded on ...</td>\n",
       "      <td>40.401</td>\n",
       "      <td>/2J3URUnDrIpNvh0uVqINQvr4HhW.jpg</td>\n",
       "      <td>2010-02-05</td>\n",
       "      <td>Frozen</td>\n",
       "      <td>False</td>\n",
       "      <td>5.996</td>\n",
       "      <td>1831.0</td>\n",
       "    </tr>\n",
       "    <tr>\n",
       "      <th>3</th>\n",
       "      <td>False</td>\n",
       "      <td>/sGjhRHNiQSkgVec18D3oX45hPmz.jpg</td>\n",
       "      <td>[Thriller]</td>\n",
       "      <td>26041</td>\n",
       "      <td>en</td>\n",
       "      <td>Frozen</td>\n",
       "      <td>It's two years since the mysterious disappeara...</td>\n",
       "      <td>7.794</td>\n",
       "      <td>/a6RlPQUerliQLkAieku5B8Loamk.jpg</td>\n",
       "      <td>2005-03-12</td>\n",
       "      <td>Frozen</td>\n",
       "      <td>False</td>\n",
       "      <td>5.700</td>\n",
       "      <td>18.0</td>\n",
       "    </tr>\n",
       "    <tr>\n",
       "      <th>4</th>\n",
       "      <td>False</td>\n",
       "      <td>None</td>\n",
       "      <td>[Drama, Horror]</td>\n",
       "      <td>170986</td>\n",
       "      <td>hi</td>\n",
       "      <td>Frozen</td>\n",
       "      <td>This is a touching and somber journey of Lasya...</td>\n",
       "      <td>4.000</td>\n",
       "      <td>/2GL9yZtrgbYKCeKBc3TF9gGfZpX.jpg</td>\n",
       "      <td>2007-07-21</td>\n",
       "      <td>Frozen</td>\n",
       "      <td>False</td>\n",
       "      <td>7.200</td>\n",
       "      <td>4.0</td>\n",
       "    </tr>\n",
       "  </tbody>\n",
       "</table>\n",
       "</div>"
      ]
     },
     "execution_count": 73,
     "metadata": {},
     "output_type": "execute_result"
    }
   ],
   "execution_count": 73
  },
  {
   "metadata": {
    "ExecuteTime": {
     "end_time": "2025-01-13T17:38:32.372631Z",
     "start_time": "2025-01-13T17:38:32.365630Z"
    }
   },
   "cell_type": "code",
   "source": "api_df.shape",
   "id": "d22b8b9a0d285c4d",
   "outputs": [
    {
     "data": {
      "text/plain": [
       "(3001, 14)"
      ]
     },
     "execution_count": 74,
     "metadata": {},
     "output_type": "execute_result"
    }
   ],
   "execution_count": 74
  },
  {
   "metadata": {},
   "cell_type": "markdown",
   "source": "##### Check if the genre_ids have any empty data like [] as genre_ids column is a list",
   "id": "5ae478c5d3910aba"
  },
  {
   "metadata": {
    "ExecuteTime": {
     "end_time": "2025-01-13T17:38:37.604209Z",
     "start_time": "2025-01-13T17:38:37.578620Z"
    }
   },
   "cell_type": "code",
   "source": "api_df.genre_ids.value_counts()",
   "id": "af25ccb9bd0aa519",
   "outputs": [
    {
     "data": {
      "text/plain": [
       "genre_ids\n",
       "[unknown]                                                  329\n",
       "[Documentary]                                              262\n",
       "[Drama]                                                    190\n",
       "[Comedy]                                                   128\n",
       "[Horror]                                                   125\n",
       "                                                          ... \n",
       "[Documentary, History, Crime]                                1\n",
       "[Crime, Thriller, Action]                                    1\n",
       "[TV Movie, Action, Adventure, Fantasy, Science Fiction]      1\n",
       "[Action, Animation, Fantasy, Science Fiction]                1\n",
       "[Animation, Fantasy, Comedy]                                 1\n",
       "Name: count, Length: 761, dtype: int64"
      ]
     },
     "execution_count": 75,
     "metadata": {},
     "output_type": "execute_result"
    }
   ],
   "execution_count": 75
  },
  {
   "metadata": {},
   "cell_type": "markdown",
   "source": "##### pandas replace empty square brackets with [0], here genre[0] is unknown which we created earlier",
   "id": "10c39baffccd662e"
  },
  {
   "metadata": {
    "ExecuteTime": {
     "end_time": "2025-01-13T17:38:48.301708Z",
     "start_time": "2025-01-13T17:38:48.296561Z"
    }
   },
   "cell_type": "code",
   "source": [
    "# pandas replace empty square brackets with [0], here genre[0] is unknown which we created earlier\n",
    "api_df['genre_ids'] = api_df['genre_ids'].apply(lambda  x : [0] if not x else x)"
   ],
   "id": "4c56a69cc46262df",
   "outputs": [],
   "execution_count": 76
  },
  {
   "metadata": {
    "ExecuteTime": {
     "end_time": "2025-01-13T17:38:50.736297Z",
     "start_time": "2025-01-13T17:38:50.711712Z"
    }
   },
   "cell_type": "code",
   "source": "api_df.genre_ids.value_counts()",
   "id": "245a6a99176a750e",
   "outputs": [
    {
     "data": {
      "text/plain": [
       "genre_ids\n",
       "[unknown]                                                  329\n",
       "[Documentary]                                              262\n",
       "[Drama]                                                    190\n",
       "[Comedy]                                                   128\n",
       "[Horror]                                                   125\n",
       "                                                          ... \n",
       "[Documentary, History, Crime]                                1\n",
       "[Crime, Thriller, Action]                                    1\n",
       "[TV Movie, Action, Adventure, Fantasy, Science Fiction]      1\n",
       "[Action, Animation, Fantasy, Science Fiction]                1\n",
       "[Animation, Fantasy, Comedy]                                 1\n",
       "Name: count, Length: 761, dtype: int64"
      ]
     },
     "execution_count": 77,
     "metadata": {},
     "output_type": "execute_result"
    }
   ],
   "execution_count": 77
  },
  {
   "metadata": {},
   "cell_type": "markdown",
   "source": "##### Removing brackets [] from list type inside pandas cell",
   "id": "9e50d45346cae819"
  },
  {
   "metadata": {
    "ExecuteTime": {
     "end_time": "2025-01-13T17:39:02.765534Z",
     "start_time": "2025-01-13T17:39:02.757114Z"
    }
   },
   "cell_type": "code",
   "source": [
    "#removing brackets [] from list type inside pandas cell\n",
    "api_df['genre_ids'] = api_df['genre_ids'].str.join(',')"
   ],
   "id": "dec6241d513ac756",
   "outputs": [],
   "execution_count": 78
  },
  {
   "metadata": {
    "ExecuteTime": {
     "end_time": "2025-01-13T17:39:19.385117Z",
     "start_time": "2025-01-13T17:39:19.378607Z"
    }
   },
   "cell_type": "code",
   "source": [
    "#List out the genre and its count, observe there are no square braces [] \n",
    "api_df['genre_ids'].value_counts()"
   ],
   "id": "9f7f323c306571f2",
   "outputs": [
    {
     "data": {
      "text/plain": [
       "genre_ids\n",
       "unknown                                              329\n",
       "Documentary                                          262\n",
       "Drama                                                190\n",
       "Comedy                                               128\n",
       "Horror                                               125\n",
       "                                                    ... \n",
       "Documentary,History,Crime                              1\n",
       "Crime,Thriller,Action                                  1\n",
       "TV Movie,Action,Adventure,Fantasy,Science Fiction      1\n",
       "Action,Animation,Fantasy,Science Fiction               1\n",
       "Animation,Fantasy,Comedy                               1\n",
       "Name: count, Length: 761, dtype: int64"
      ]
     },
     "execution_count": 79,
     "metadata": {},
     "output_type": "execute_result"
    }
   ],
   "execution_count": 79
  },
  {
   "metadata": {},
   "cell_type": "markdown",
   "source": "## Extract year as a separate column from release_date",
   "id": "50275be4d654d7a3"
  },
  {
   "metadata": {
    "ExecuteTime": {
     "end_time": "2025-01-13T17:39:25.748409Z",
     "start_time": "2025-01-13T17:39:25.723957Z"
    }
   },
   "cell_type": "code",
   "source": [
    "#extract year as a separate column from release_date\n",
    "api_df['release_date']=pd.to_datetime(api_df['release_date'],format=\"%Y-%m-%d\")\n",
    "api_df[\"release_year\"] = pd.to_datetime(api_df['release_date'], format=\"%Y-%m-%d\").dt.year\n",
    "api_df.head()"
   ],
   "id": "eead48c049a30cc",
   "outputs": [
    {
     "data": {
      "text/plain": [
       "   adult                     backdrop_path  \\\n",
       "0  False  /npCPnwDyWfQltGfIZKN6WqeUXGI.jpg   \n",
       "1  False  /u2bZhH3nTf0So0UIC1QxAqBvC07.jpg   \n",
       "2  False  /vD1yKObsRS2cvpmtuaCaMhr4zxe.jpg   \n",
       "3  False  /sGjhRHNiQSkgVec18D3oX45hPmz.jpg   \n",
       "4  False                              None   \n",
       "\n",
       "                            genre_ids      id original_language  \\\n",
       "0            Fantasy,Adventure,Action   57158                en   \n",
       "1  Animation,Family,Adventure,Fantasy  109445                en   \n",
       "2                            Thriller   44363                en   \n",
       "3                            Thriller   26041                en   \n",
       "4                        Drama,Horror  170986                hi   \n",
       "\n",
       "                        original_title  \\\n",
       "0  The Hobbit: The Desolation of Smaug   \n",
       "1                               Frozen   \n",
       "2                               Frozen   \n",
       "3                               Frozen   \n",
       "4                               Frozen   \n",
       "\n",
       "                                            overview  popularity  \\\n",
       "0  The Dwarves, Bilbo and Gandalf have successful...      87.340   \n",
       "1  Young princess Anna of Arendelle dreams about ...     191.622   \n",
       "2  When three skiers find themselves stranded on ...      40.401   \n",
       "3  It's two years since the mysterious disappeara...       7.794   \n",
       "4  This is a touching and somber journey of Lasya...       4.000   \n",
       "\n",
       "                        poster_path release_date  \\\n",
       "0  /xQYiXsheRCDBA39DOrmaw1aSpbk.jpg   2013-12-11   \n",
       "1  /mmWheq3cFI4tYrZDiATOkCNTqgK.jpg   2013-11-20   \n",
       "2  /2J3URUnDrIpNvh0uVqINQvr4HhW.jpg   2010-02-05   \n",
       "3  /a6RlPQUerliQLkAieku5B8Loamk.jpg   2005-03-12   \n",
       "4  /2GL9yZtrgbYKCeKBc3TF9gGfZpX.jpg   2007-07-21   \n",
       "\n",
       "                                 title  video  vote_average  vote_count  \\\n",
       "0  The Hobbit: The Desolation of Smaug  False         7.574     13227.0   \n",
       "1                               Frozen  False         7.246     16611.0   \n",
       "2                               Frozen  False         5.996      1831.0   \n",
       "3                               Frozen  False         5.700        18.0   \n",
       "4                               Frozen  False         7.200         4.0   \n",
       "\n",
       "   release_year  \n",
       "0        2013.0  \n",
       "1        2013.0  \n",
       "2        2010.0  \n",
       "3        2005.0  \n",
       "4        2007.0  "
      ],
      "text/html": [
       "<div>\n",
       "<style scoped>\n",
       "    .dataframe tbody tr th:only-of-type {\n",
       "        vertical-align: middle;\n",
       "    }\n",
       "\n",
       "    .dataframe tbody tr th {\n",
       "        vertical-align: top;\n",
       "    }\n",
       "\n",
       "    .dataframe thead th {\n",
       "        text-align: right;\n",
       "    }\n",
       "</style>\n",
       "<table border=\"1\" class=\"dataframe\">\n",
       "  <thead>\n",
       "    <tr style=\"text-align: right;\">\n",
       "      <th></th>\n",
       "      <th>adult</th>\n",
       "      <th>backdrop_path</th>\n",
       "      <th>genre_ids</th>\n",
       "      <th>id</th>\n",
       "      <th>original_language</th>\n",
       "      <th>original_title</th>\n",
       "      <th>overview</th>\n",
       "      <th>popularity</th>\n",
       "      <th>poster_path</th>\n",
       "      <th>release_date</th>\n",
       "      <th>title</th>\n",
       "      <th>video</th>\n",
       "      <th>vote_average</th>\n",
       "      <th>vote_count</th>\n",
       "      <th>release_year</th>\n",
       "    </tr>\n",
       "  </thead>\n",
       "  <tbody>\n",
       "    <tr>\n",
       "      <th>0</th>\n",
       "      <td>False</td>\n",
       "      <td>/npCPnwDyWfQltGfIZKN6WqeUXGI.jpg</td>\n",
       "      <td>Fantasy,Adventure,Action</td>\n",
       "      <td>57158</td>\n",
       "      <td>en</td>\n",
       "      <td>The Hobbit: The Desolation of Smaug</td>\n",
       "      <td>The Dwarves, Bilbo and Gandalf have successful...</td>\n",
       "      <td>87.340</td>\n",
       "      <td>/xQYiXsheRCDBA39DOrmaw1aSpbk.jpg</td>\n",
       "      <td>2013-12-11</td>\n",
       "      <td>The Hobbit: The Desolation of Smaug</td>\n",
       "      <td>False</td>\n",
       "      <td>7.574</td>\n",
       "      <td>13227.0</td>\n",
       "      <td>2013.0</td>\n",
       "    </tr>\n",
       "    <tr>\n",
       "      <th>1</th>\n",
       "      <td>False</td>\n",
       "      <td>/u2bZhH3nTf0So0UIC1QxAqBvC07.jpg</td>\n",
       "      <td>Animation,Family,Adventure,Fantasy</td>\n",
       "      <td>109445</td>\n",
       "      <td>en</td>\n",
       "      <td>Frozen</td>\n",
       "      <td>Young princess Anna of Arendelle dreams about ...</td>\n",
       "      <td>191.622</td>\n",
       "      <td>/mmWheq3cFI4tYrZDiATOkCNTqgK.jpg</td>\n",
       "      <td>2013-11-20</td>\n",
       "      <td>Frozen</td>\n",
       "      <td>False</td>\n",
       "      <td>7.246</td>\n",
       "      <td>16611.0</td>\n",
       "      <td>2013.0</td>\n",
       "    </tr>\n",
       "    <tr>\n",
       "      <th>2</th>\n",
       "      <td>False</td>\n",
       "      <td>/vD1yKObsRS2cvpmtuaCaMhr4zxe.jpg</td>\n",
       "      <td>Thriller</td>\n",
       "      <td>44363</td>\n",
       "      <td>en</td>\n",
       "      <td>Frozen</td>\n",
       "      <td>When three skiers find themselves stranded on ...</td>\n",
       "      <td>40.401</td>\n",
       "      <td>/2J3URUnDrIpNvh0uVqINQvr4HhW.jpg</td>\n",
       "      <td>2010-02-05</td>\n",
       "      <td>Frozen</td>\n",
       "      <td>False</td>\n",
       "      <td>5.996</td>\n",
       "      <td>1831.0</td>\n",
       "      <td>2010.0</td>\n",
       "    </tr>\n",
       "    <tr>\n",
       "      <th>3</th>\n",
       "      <td>False</td>\n",
       "      <td>/sGjhRHNiQSkgVec18D3oX45hPmz.jpg</td>\n",
       "      <td>Thriller</td>\n",
       "      <td>26041</td>\n",
       "      <td>en</td>\n",
       "      <td>Frozen</td>\n",
       "      <td>It's two years since the mysterious disappeara...</td>\n",
       "      <td>7.794</td>\n",
       "      <td>/a6RlPQUerliQLkAieku5B8Loamk.jpg</td>\n",
       "      <td>2005-03-12</td>\n",
       "      <td>Frozen</td>\n",
       "      <td>False</td>\n",
       "      <td>5.700</td>\n",
       "      <td>18.0</td>\n",
       "      <td>2005.0</td>\n",
       "    </tr>\n",
       "    <tr>\n",
       "      <th>4</th>\n",
       "      <td>False</td>\n",
       "      <td>None</td>\n",
       "      <td>Drama,Horror</td>\n",
       "      <td>170986</td>\n",
       "      <td>hi</td>\n",
       "      <td>Frozen</td>\n",
       "      <td>This is a touching and somber journey of Lasya...</td>\n",
       "      <td>4.000</td>\n",
       "      <td>/2GL9yZtrgbYKCeKBc3TF9gGfZpX.jpg</td>\n",
       "      <td>2007-07-21</td>\n",
       "      <td>Frozen</td>\n",
       "      <td>False</td>\n",
       "      <td>7.200</td>\n",
       "      <td>4.0</td>\n",
       "      <td>2007.0</td>\n",
       "    </tr>\n",
       "  </tbody>\n",
       "</table>\n",
       "</div>"
      ]
     },
     "execution_count": 80,
     "metadata": {},
     "output_type": "execute_result"
    }
   ],
   "execution_count": 80
  },
  {
   "metadata": {
    "ExecuteTime": {
     "end_time": "2025-01-13T17:39:28.981013Z",
     "start_time": "2025-01-13T17:39:28.956853Z"
    }
   },
   "cell_type": "code",
   "source": [
    "#Check if there are any nan in release year\n",
    "api_df.loc[api_df.release_year.isna()]"
   ],
   "id": "5ab176e528bb5b5d",
   "outputs": [
    {
     "data": {
      "text/plain": [
       "      adult                     backdrop_path  \\\n",
       "5     False                              None   \n",
       "32    False                              None   \n",
       "75    False  /xcIqtToUFrie1o4g4ZtYVKj5R1f.jpg   \n",
       "88    False                              None   \n",
       "113   False                              None   \n",
       "...     ...                               ...   \n",
       "2902  False  /46Br5afTklXva5gRI6wXcAApaGP.jpg   \n",
       "2924  False                              None   \n",
       "2925  False                              None   \n",
       "2974  False                              None   \n",
       "2976  False                              None   \n",
       "\n",
       "                                       genre_ids       id original_language  \\\n",
       "5                                        unknown   950554                en   \n",
       "32                                       unknown   566990                en   \n",
       "75                        Science Fiction,Action   374771                en   \n",
       "88                                Comedy,Romance   887567                en   \n",
       "113                                      unknown  1159811                ko   \n",
       "...                                          ...      ...               ...   \n",
       "2902  Animation,Action,Adventure,Science Fiction   911916                en   \n",
       "2924            Action,Adventure,Science Fiction   939345                en   \n",
       "2925    Action,Adventure,Science Fiction,Fantasy   939347                en   \n",
       "2974                                     unknown  1195165                en   \n",
       "2976                               Comedy,Horror   601823                en   \n",
       "\n",
       "                           original_title  \\\n",
       "5                                  Frozen   \n",
       "32                                Gravity   \n",
       "75                         Riddick: Furya   \n",
       "88                             The Butler   \n",
       "113                                   극락전   \n",
       "...                                   ...   \n",
       "2902  Spider-Man: Beyond the Spider-Verse   \n",
       "2924   Transformers: Rise of the Beasts 2   \n",
       "2925   Transformers: Rise of the Beasts 3   \n",
       "2974                   Dungeons & Derrick   \n",
       "2976                Playdate in a Dungeon   \n",
       "\n",
       "                                               overview  popularity  \\\n",
       "5                           A film by Adonia Bouchehri.       0.402   \n",
       "32    Three boys power play with a gun. Gravity is a...       0.001   \n",
       "75    Riddick finally returns to his home world, a p...      16.738   \n",
       "88    A story of a butler who is in love with their ...       0.001   \n",
       "113   Srey Na, a female immigrant from Cambodia, who...       0.001   \n",
       "...                                                 ...         ...   \n",
       "2902  The third installment in the Spider-Verse fran...      29.473   \n",
       "2924  The first of two planned sequels to the 2023 f...      19.756   \n",
       "2925  The second of two planned sequels to the 2023 ...      14.596   \n",
       "2974  Derrick and Tori, best friends and avid player...       0.001   \n",
       "2976  Three strangers wake up in the basement of the...       0.600   \n",
       "\n",
       "                           poster_path release_date  \\\n",
       "5                                 None          NaT   \n",
       "32                                None          NaT   \n",
       "75                                None          NaT   \n",
       "88                                None          NaT   \n",
       "113                               None          NaT   \n",
       "...                                ...          ...   \n",
       "2902  /rZ4arzyaDyI8l9Y7VIPPsDGARwh.jpg          NaT   \n",
       "2924  /f4PFiwOHVcNUXRcOmxX2hUYdAx7.jpg          NaT   \n",
       "2925  /zjDGpjRj9M9pLqVVZPpaFhG6BLx.jpg          NaT   \n",
       "2974                              None          NaT   \n",
       "2976  /xT9qSpG5W1zMUEKnJsrGp7yuIlX.jpg          NaT   \n",
       "\n",
       "                                    title  video  vote_average  vote_count  \\\n",
       "5                                  Frozen  False           0.0         0.0   \n",
       "32                                Gravity  False           0.0         0.0   \n",
       "75                         Riddick: Furya  False           0.0         0.0   \n",
       "88                             The Butler  False           0.0         0.0   \n",
       "113                   The Road to Elysium  False           0.0         0.0   \n",
       "...                                   ...    ...           ...         ...   \n",
       "2902  Spider-Man: Beyond the Spider-Verse  False           0.0         0.0   \n",
       "2924   Transformers: Rise of the Beasts 2  False           0.0         0.0   \n",
       "2925   Transformers: Rise of the Beasts 3  False           0.0         0.0   \n",
       "2974                   Dungeons & Derrick  False           0.0         0.0   \n",
       "2976                Playdate in a Dungeon  False           0.0         0.0   \n",
       "\n",
       "      release_year  \n",
       "5              NaN  \n",
       "32             NaN  \n",
       "75             NaN  \n",
       "88             NaN  \n",
       "113            NaN  \n",
       "...            ...  \n",
       "2902           NaN  \n",
       "2924           NaN  \n",
       "2925           NaN  \n",
       "2974           NaN  \n",
       "2976           NaN  \n",
       "\n",
       "[150 rows x 15 columns]"
      ],
      "text/html": [
       "<div>\n",
       "<style scoped>\n",
       "    .dataframe tbody tr th:only-of-type {\n",
       "        vertical-align: middle;\n",
       "    }\n",
       "\n",
       "    .dataframe tbody tr th {\n",
       "        vertical-align: top;\n",
       "    }\n",
       "\n",
       "    .dataframe thead th {\n",
       "        text-align: right;\n",
       "    }\n",
       "</style>\n",
       "<table border=\"1\" class=\"dataframe\">\n",
       "  <thead>\n",
       "    <tr style=\"text-align: right;\">\n",
       "      <th></th>\n",
       "      <th>adult</th>\n",
       "      <th>backdrop_path</th>\n",
       "      <th>genre_ids</th>\n",
       "      <th>id</th>\n",
       "      <th>original_language</th>\n",
       "      <th>original_title</th>\n",
       "      <th>overview</th>\n",
       "      <th>popularity</th>\n",
       "      <th>poster_path</th>\n",
       "      <th>release_date</th>\n",
       "      <th>title</th>\n",
       "      <th>video</th>\n",
       "      <th>vote_average</th>\n",
       "      <th>vote_count</th>\n",
       "      <th>release_year</th>\n",
       "    </tr>\n",
       "  </thead>\n",
       "  <tbody>\n",
       "    <tr>\n",
       "      <th>5</th>\n",
       "      <td>False</td>\n",
       "      <td>None</td>\n",
       "      <td>unknown</td>\n",
       "      <td>950554</td>\n",
       "      <td>en</td>\n",
       "      <td>Frozen</td>\n",
       "      <td>A film by Adonia Bouchehri.</td>\n",
       "      <td>0.402</td>\n",
       "      <td>None</td>\n",
       "      <td>NaT</td>\n",
       "      <td>Frozen</td>\n",
       "      <td>False</td>\n",
       "      <td>0.0</td>\n",
       "      <td>0.0</td>\n",
       "      <td>NaN</td>\n",
       "    </tr>\n",
       "    <tr>\n",
       "      <th>32</th>\n",
       "      <td>False</td>\n",
       "      <td>None</td>\n",
       "      <td>unknown</td>\n",
       "      <td>566990</td>\n",
       "      <td>en</td>\n",
       "      <td>Gravity</td>\n",
       "      <td>Three boys power play with a gun. Gravity is a...</td>\n",
       "      <td>0.001</td>\n",
       "      <td>None</td>\n",
       "      <td>NaT</td>\n",
       "      <td>Gravity</td>\n",
       "      <td>False</td>\n",
       "      <td>0.0</td>\n",
       "      <td>0.0</td>\n",
       "      <td>NaN</td>\n",
       "    </tr>\n",
       "    <tr>\n",
       "      <th>75</th>\n",
       "      <td>False</td>\n",
       "      <td>/xcIqtToUFrie1o4g4ZtYVKj5R1f.jpg</td>\n",
       "      <td>Science Fiction,Action</td>\n",
       "      <td>374771</td>\n",
       "      <td>en</td>\n",
       "      <td>Riddick: Furya</td>\n",
       "      <td>Riddick finally returns to his home world, a p...</td>\n",
       "      <td>16.738</td>\n",
       "      <td>None</td>\n",
       "      <td>NaT</td>\n",
       "      <td>Riddick: Furya</td>\n",
       "      <td>False</td>\n",
       "      <td>0.0</td>\n",
       "      <td>0.0</td>\n",
       "      <td>NaN</td>\n",
       "    </tr>\n",
       "    <tr>\n",
       "      <th>88</th>\n",
       "      <td>False</td>\n",
       "      <td>None</td>\n",
       "      <td>Comedy,Romance</td>\n",
       "      <td>887567</td>\n",
       "      <td>en</td>\n",
       "      <td>The Butler</td>\n",
       "      <td>A story of a butler who is in love with their ...</td>\n",
       "      <td>0.001</td>\n",
       "      <td>None</td>\n",
       "      <td>NaT</td>\n",
       "      <td>The Butler</td>\n",
       "      <td>False</td>\n",
       "      <td>0.0</td>\n",
       "      <td>0.0</td>\n",
       "      <td>NaN</td>\n",
       "    </tr>\n",
       "    <tr>\n",
       "      <th>113</th>\n",
       "      <td>False</td>\n",
       "      <td>None</td>\n",
       "      <td>unknown</td>\n",
       "      <td>1159811</td>\n",
       "      <td>ko</td>\n",
       "      <td>극락전</td>\n",
       "      <td>Srey Na, a female immigrant from Cambodia, who...</td>\n",
       "      <td>0.001</td>\n",
       "      <td>None</td>\n",
       "      <td>NaT</td>\n",
       "      <td>The Road to Elysium</td>\n",
       "      <td>False</td>\n",
       "      <td>0.0</td>\n",
       "      <td>0.0</td>\n",
       "      <td>NaN</td>\n",
       "    </tr>\n",
       "    <tr>\n",
       "      <th>...</th>\n",
       "      <td>...</td>\n",
       "      <td>...</td>\n",
       "      <td>...</td>\n",
       "      <td>...</td>\n",
       "      <td>...</td>\n",
       "      <td>...</td>\n",
       "      <td>...</td>\n",
       "      <td>...</td>\n",
       "      <td>...</td>\n",
       "      <td>...</td>\n",
       "      <td>...</td>\n",
       "      <td>...</td>\n",
       "      <td>...</td>\n",
       "      <td>...</td>\n",
       "      <td>...</td>\n",
       "    </tr>\n",
       "    <tr>\n",
       "      <th>2902</th>\n",
       "      <td>False</td>\n",
       "      <td>/46Br5afTklXva5gRI6wXcAApaGP.jpg</td>\n",
       "      <td>Animation,Action,Adventure,Science Fiction</td>\n",
       "      <td>911916</td>\n",
       "      <td>en</td>\n",
       "      <td>Spider-Man: Beyond the Spider-Verse</td>\n",
       "      <td>The third installment in the Spider-Verse fran...</td>\n",
       "      <td>29.473</td>\n",
       "      <td>/rZ4arzyaDyI8l9Y7VIPPsDGARwh.jpg</td>\n",
       "      <td>NaT</td>\n",
       "      <td>Spider-Man: Beyond the Spider-Verse</td>\n",
       "      <td>False</td>\n",
       "      <td>0.0</td>\n",
       "      <td>0.0</td>\n",
       "      <td>NaN</td>\n",
       "    </tr>\n",
       "    <tr>\n",
       "      <th>2924</th>\n",
       "      <td>False</td>\n",
       "      <td>None</td>\n",
       "      <td>Action,Adventure,Science Fiction</td>\n",
       "      <td>939345</td>\n",
       "      <td>en</td>\n",
       "      <td>Transformers: Rise of the Beasts 2</td>\n",
       "      <td>The first of two planned sequels to the 2023 f...</td>\n",
       "      <td>19.756</td>\n",
       "      <td>/f4PFiwOHVcNUXRcOmxX2hUYdAx7.jpg</td>\n",
       "      <td>NaT</td>\n",
       "      <td>Transformers: Rise of the Beasts 2</td>\n",
       "      <td>False</td>\n",
       "      <td>0.0</td>\n",
       "      <td>0.0</td>\n",
       "      <td>NaN</td>\n",
       "    </tr>\n",
       "    <tr>\n",
       "      <th>2925</th>\n",
       "      <td>False</td>\n",
       "      <td>None</td>\n",
       "      <td>Action,Adventure,Science Fiction,Fantasy</td>\n",
       "      <td>939347</td>\n",
       "      <td>en</td>\n",
       "      <td>Transformers: Rise of the Beasts 3</td>\n",
       "      <td>The second of two planned sequels to the 2023 ...</td>\n",
       "      <td>14.596</td>\n",
       "      <td>/zjDGpjRj9M9pLqVVZPpaFhG6BLx.jpg</td>\n",
       "      <td>NaT</td>\n",
       "      <td>Transformers: Rise of the Beasts 3</td>\n",
       "      <td>False</td>\n",
       "      <td>0.0</td>\n",
       "      <td>0.0</td>\n",
       "      <td>NaN</td>\n",
       "    </tr>\n",
       "    <tr>\n",
       "      <th>2974</th>\n",
       "      <td>False</td>\n",
       "      <td>None</td>\n",
       "      <td>unknown</td>\n",
       "      <td>1195165</td>\n",
       "      <td>en</td>\n",
       "      <td>Dungeons &amp; Derrick</td>\n",
       "      <td>Derrick and Tori, best friends and avid player...</td>\n",
       "      <td>0.001</td>\n",
       "      <td>None</td>\n",
       "      <td>NaT</td>\n",
       "      <td>Dungeons &amp; Derrick</td>\n",
       "      <td>False</td>\n",
       "      <td>0.0</td>\n",
       "      <td>0.0</td>\n",
       "      <td>NaN</td>\n",
       "    </tr>\n",
       "    <tr>\n",
       "      <th>2976</th>\n",
       "      <td>False</td>\n",
       "      <td>None</td>\n",
       "      <td>Comedy,Horror</td>\n",
       "      <td>601823</td>\n",
       "      <td>en</td>\n",
       "      <td>Playdate in a Dungeon</td>\n",
       "      <td>Three strangers wake up in the basement of the...</td>\n",
       "      <td>0.600</td>\n",
       "      <td>/xT9qSpG5W1zMUEKnJsrGp7yuIlX.jpg</td>\n",
       "      <td>NaT</td>\n",
       "      <td>Playdate in a Dungeon</td>\n",
       "      <td>False</td>\n",
       "      <td>0.0</td>\n",
       "      <td>0.0</td>\n",
       "      <td>NaN</td>\n",
       "    </tr>\n",
       "  </tbody>\n",
       "</table>\n",
       "<p>150 rows × 15 columns</p>\n",
       "</div>"
      ]
     },
     "execution_count": 81,
     "metadata": {},
     "output_type": "execute_result"
    }
   ],
   "execution_count": 81
  },
  {
   "metadata": {
    "ExecuteTime": {
     "end_time": "2025-01-13T17:39:31.962994Z",
     "start_time": "2025-01-13T17:39:31.957543Z"
    }
   },
   "cell_type": "code",
   "source": [
    "#Fill in those nan with some arbitrary value so you can avoid any type conversion errors\n",
    "api_df['release_year'] = api_df.release_year.fillna(1900)"
   ],
   "id": "97faffa6934007e",
   "outputs": [],
   "execution_count": 82
  },
  {
   "metadata": {
    "ExecuteTime": {
     "end_time": "2025-01-13T17:39:34.062813Z",
     "start_time": "2025-01-13T17:39:34.057426Z"
    }
   },
   "cell_type": "code",
   "source": [
    "#conver floats to ints now\n",
    "api_df[\"release_year\"] = api_df.release_year.astype('int64')"
   ],
   "id": "76a635b2209ed072",
   "outputs": [],
   "execution_count": 83
  },
  {
   "metadata": {
    "ExecuteTime": {
     "end_time": "2025-01-13T17:39:36.588086Z",
     "start_time": "2025-01-13T17:39:36.579498Z"
    }
   },
   "cell_type": "code",
   "source": [
    "# checks if any of columns in the data have null values - should print False\n",
    "api_df.isnull().sum().any()"
   ],
   "id": "128d227846f6bf57",
   "outputs": [
    {
     "data": {
      "text/plain": [
       "True"
      ]
     },
     "execution_count": 84,
     "metadata": {},
     "output_type": "execute_result"
    }
   ],
   "execution_count": 84
  },
  {
   "metadata": {
    "ExecuteTime": {
     "end_time": "2025-01-13T17:39:38.491609Z",
     "start_time": "2025-01-13T17:39:38.483316Z"
    }
   },
   "cell_type": "code",
   "source": "api_df.dropna(inplace=True)",
   "id": "4a33144a65c3766a",
   "outputs": [],
   "execution_count": 85
  },
  {
   "metadata": {
    "ExecuteTime": {
     "end_time": "2025-01-13T17:39:40.352719Z",
     "start_time": "2025-01-13T17:39:40.343919Z"
    }
   },
   "cell_type": "code",
   "source": "api_df.shape",
   "id": "c7bd110da7580992",
   "outputs": [
    {
     "data": {
      "text/plain": [
       "(1893, 15)"
      ]
     },
     "execution_count": 86,
     "metadata": {},
     "output_type": "execute_result"
    }
   ],
   "execution_count": 86
  },
  {
   "metadata": {
    "ExecuteTime": {
     "end_time": "2025-01-13T17:39:43.286810Z",
     "start_time": "2025-01-13T17:39:43.265413Z"
    }
   },
   "cell_type": "code",
   "source": "api_df.head()",
   "id": "6ee0bd94176aad0",
   "outputs": [
    {
     "data": {
      "text/plain": [
       "   adult                     backdrop_path  \\\n",
       "0  False  /npCPnwDyWfQltGfIZKN6WqeUXGI.jpg   \n",
       "1  False  /u2bZhH3nTf0So0UIC1QxAqBvC07.jpg   \n",
       "2  False  /vD1yKObsRS2cvpmtuaCaMhr4zxe.jpg   \n",
       "3  False  /sGjhRHNiQSkgVec18D3oX45hPmz.jpg   \n",
       "6  False  /9PxXSAnbVfvFacsGTJu1aXEWVg7.jpg   \n",
       "\n",
       "                            genre_ids      id original_language  \\\n",
       "0            Fantasy,Adventure,Action   57158                en   \n",
       "1  Animation,Family,Adventure,Fantasy  109445                en   \n",
       "2                            Thriller   44363                en   \n",
       "3                            Thriller   26041                en   \n",
       "6   Animation,Adventure,Comedy,Family  573171                es   \n",
       "\n",
       "                        original_title  \\\n",
       "0  The Hobbit: The Desolation of Smaug   \n",
       "1                               Frozen   \n",
       "2                               Frozen   \n",
       "3                               Frozen   \n",
       "6                  Huevitos Congelados   \n",
       "\n",
       "                                            overview  popularity  \\\n",
       "0  The Dwarves, Bilbo and Gandalf have successful...      87.340   \n",
       "1  Young princess Anna of Arendelle dreams about ...     191.622   \n",
       "2  When three skiers find themselves stranded on ...      40.401   \n",
       "3  It's two years since the mysterious disappeara...       7.794   \n",
       "6  In the final Huevos adventure, Toto and his fa...      37.370   \n",
       "\n",
       "                        poster_path release_date  \\\n",
       "0  /xQYiXsheRCDBA39DOrmaw1aSpbk.jpg   2013-12-11   \n",
       "1  /mmWheq3cFI4tYrZDiATOkCNTqgK.jpg   2013-11-20   \n",
       "2  /2J3URUnDrIpNvh0uVqINQvr4HhW.jpg   2010-02-05   \n",
       "3  /a6RlPQUerliQLkAieku5B8Loamk.jpg   2005-03-12   \n",
       "6  /8xCO3IarklLD4tK1rPn0e4gSMoV.jpg   2022-12-14   \n",
       "\n",
       "                                 title  video  vote_average  vote_count  \\\n",
       "0  The Hobbit: The Desolation of Smaug  False         7.574     13227.0   \n",
       "1                               Frozen  False         7.246     16611.0   \n",
       "2                               Frozen  False         5.996      1831.0   \n",
       "3                               Frozen  False         5.700        18.0   \n",
       "6         Little Eggs: A Frozen Rescue  False         7.670       348.0   \n",
       "\n",
       "   release_year  \n",
       "0          2013  \n",
       "1          2013  \n",
       "2          2010  \n",
       "3          2005  \n",
       "6          2022  "
      ],
      "text/html": [
       "<div>\n",
       "<style scoped>\n",
       "    .dataframe tbody tr th:only-of-type {\n",
       "        vertical-align: middle;\n",
       "    }\n",
       "\n",
       "    .dataframe tbody tr th {\n",
       "        vertical-align: top;\n",
       "    }\n",
       "\n",
       "    .dataframe thead th {\n",
       "        text-align: right;\n",
       "    }\n",
       "</style>\n",
       "<table border=\"1\" class=\"dataframe\">\n",
       "  <thead>\n",
       "    <tr style=\"text-align: right;\">\n",
       "      <th></th>\n",
       "      <th>adult</th>\n",
       "      <th>backdrop_path</th>\n",
       "      <th>genre_ids</th>\n",
       "      <th>id</th>\n",
       "      <th>original_language</th>\n",
       "      <th>original_title</th>\n",
       "      <th>overview</th>\n",
       "      <th>popularity</th>\n",
       "      <th>poster_path</th>\n",
       "      <th>release_date</th>\n",
       "      <th>title</th>\n",
       "      <th>video</th>\n",
       "      <th>vote_average</th>\n",
       "      <th>vote_count</th>\n",
       "      <th>release_year</th>\n",
       "    </tr>\n",
       "  </thead>\n",
       "  <tbody>\n",
       "    <tr>\n",
       "      <th>0</th>\n",
       "      <td>False</td>\n",
       "      <td>/npCPnwDyWfQltGfIZKN6WqeUXGI.jpg</td>\n",
       "      <td>Fantasy,Adventure,Action</td>\n",
       "      <td>57158</td>\n",
       "      <td>en</td>\n",
       "      <td>The Hobbit: The Desolation of Smaug</td>\n",
       "      <td>The Dwarves, Bilbo and Gandalf have successful...</td>\n",
       "      <td>87.340</td>\n",
       "      <td>/xQYiXsheRCDBA39DOrmaw1aSpbk.jpg</td>\n",
       "      <td>2013-12-11</td>\n",
       "      <td>The Hobbit: The Desolation of Smaug</td>\n",
       "      <td>False</td>\n",
       "      <td>7.574</td>\n",
       "      <td>13227.0</td>\n",
       "      <td>2013</td>\n",
       "    </tr>\n",
       "    <tr>\n",
       "      <th>1</th>\n",
       "      <td>False</td>\n",
       "      <td>/u2bZhH3nTf0So0UIC1QxAqBvC07.jpg</td>\n",
       "      <td>Animation,Family,Adventure,Fantasy</td>\n",
       "      <td>109445</td>\n",
       "      <td>en</td>\n",
       "      <td>Frozen</td>\n",
       "      <td>Young princess Anna of Arendelle dreams about ...</td>\n",
       "      <td>191.622</td>\n",
       "      <td>/mmWheq3cFI4tYrZDiATOkCNTqgK.jpg</td>\n",
       "      <td>2013-11-20</td>\n",
       "      <td>Frozen</td>\n",
       "      <td>False</td>\n",
       "      <td>7.246</td>\n",
       "      <td>16611.0</td>\n",
       "      <td>2013</td>\n",
       "    </tr>\n",
       "    <tr>\n",
       "      <th>2</th>\n",
       "      <td>False</td>\n",
       "      <td>/vD1yKObsRS2cvpmtuaCaMhr4zxe.jpg</td>\n",
       "      <td>Thriller</td>\n",
       "      <td>44363</td>\n",
       "      <td>en</td>\n",
       "      <td>Frozen</td>\n",
       "      <td>When three skiers find themselves stranded on ...</td>\n",
       "      <td>40.401</td>\n",
       "      <td>/2J3URUnDrIpNvh0uVqINQvr4HhW.jpg</td>\n",
       "      <td>2010-02-05</td>\n",
       "      <td>Frozen</td>\n",
       "      <td>False</td>\n",
       "      <td>5.996</td>\n",
       "      <td>1831.0</td>\n",
       "      <td>2010</td>\n",
       "    </tr>\n",
       "    <tr>\n",
       "      <th>3</th>\n",
       "      <td>False</td>\n",
       "      <td>/sGjhRHNiQSkgVec18D3oX45hPmz.jpg</td>\n",
       "      <td>Thriller</td>\n",
       "      <td>26041</td>\n",
       "      <td>en</td>\n",
       "      <td>Frozen</td>\n",
       "      <td>It's two years since the mysterious disappeara...</td>\n",
       "      <td>7.794</td>\n",
       "      <td>/a6RlPQUerliQLkAieku5B8Loamk.jpg</td>\n",
       "      <td>2005-03-12</td>\n",
       "      <td>Frozen</td>\n",
       "      <td>False</td>\n",
       "      <td>5.700</td>\n",
       "      <td>18.0</td>\n",
       "      <td>2005</td>\n",
       "    </tr>\n",
       "    <tr>\n",
       "      <th>6</th>\n",
       "      <td>False</td>\n",
       "      <td>/9PxXSAnbVfvFacsGTJu1aXEWVg7.jpg</td>\n",
       "      <td>Animation,Adventure,Comedy,Family</td>\n",
       "      <td>573171</td>\n",
       "      <td>es</td>\n",
       "      <td>Huevitos Congelados</td>\n",
       "      <td>In the final Huevos adventure, Toto and his fa...</td>\n",
       "      <td>37.370</td>\n",
       "      <td>/8xCO3IarklLD4tK1rPn0e4gSMoV.jpg</td>\n",
       "      <td>2022-12-14</td>\n",
       "      <td>Little Eggs: A Frozen Rescue</td>\n",
       "      <td>False</td>\n",
       "      <td>7.670</td>\n",
       "      <td>348.0</td>\n",
       "      <td>2022</td>\n",
       "    </tr>\n",
       "  </tbody>\n",
       "</table>\n",
       "</div>"
      ]
     },
     "execution_count": 87,
     "metadata": {},
     "output_type": "execute_result"
    }
   ],
   "execution_count": 87
  },
  {
   "metadata": {
    "ExecuteTime": {
     "end_time": "2025-01-13T17:39:46.147607Z",
     "start_time": "2025-01-13T17:39:46.140552Z"
    }
   },
   "cell_type": "code",
   "source": "api_df.columns",
   "id": "5742979a809d5c10",
   "outputs": [
    {
     "data": {
      "text/plain": [
       "Index(['adult', 'backdrop_path', 'genre_ids', 'id', 'original_language',\n",
       "       'original_title', 'overview', 'popularity', 'poster_path',\n",
       "       'release_date', 'title', 'video', 'vote_average', 'vote_count',\n",
       "       'release_year'],\n",
       "      dtype='object')"
      ]
     },
     "execution_count": 88,
     "metadata": {},
     "output_type": "execute_result"
    }
   ],
   "execution_count": 88
  },
  {
   "metadata": {},
   "cell_type": "markdown",
   "source": "#### Convert key column title to lowercase",
   "id": "5542ce8595e83ec"
  },
  {
   "metadata": {
    "ExecuteTime": {
     "end_time": "2025-01-13T17:39:49.453577Z",
     "start_time": "2025-01-13T17:39:49.448595Z"
    }
   },
   "cell_type": "code",
   "source": "api_df['title'] = api_df.title.str.lower()",
   "id": "ac8395b2014ffcc3",
   "outputs": [],
   "execution_count": 89
  },
  {
   "metadata": {},
   "cell_type": "markdown",
   "source": "#### Drop unused columns",
   "id": "27e1d2a3f834f3be"
  },
  {
   "metadata": {
    "ExecuteTime": {
     "end_time": "2025-01-13T17:39:52.055764Z",
     "start_time": "2025-01-13T17:39:52.049786Z"
    }
   },
   "cell_type": "code",
   "source": "api_df.drop(['id','adult','backdrop_path','poster_path','video'], axis=1, inplace=True)",
   "id": "4f78d598d2e8f775",
   "outputs": [],
   "execution_count": 90
  },
  {
   "metadata": {
    "ExecuteTime": {
     "end_time": "2025-01-13T17:39:56.079101Z",
     "start_time": "2025-01-13T17:39:56.074435Z"
    }
   },
   "cell_type": "code",
   "source": "api_df.rename(columns={'genre_ids': 'genres'}, inplace=True)",
   "id": "ce8112122392d049",
   "outputs": [],
   "execution_count": 91
  },
  {
   "metadata": {
    "ExecuteTime": {
     "end_time": "2025-01-13T17:39:57.854603Z",
     "start_time": "2025-01-13T17:39:57.833686Z"
    }
   },
   "cell_type": "code",
   "source": [
    "new_col_order=['title', 'release_year','genres', 'popularity', 'vote_average','vote_count', 'original_title', 'overview'\n",
    "                ,'release_date','original_language'\n",
    "               ]\n",
    "\n",
    "for i,col in enumerate(new_col_order):\n",
    "    tmp = api_df[col]\n",
    "    api_df.drop(labels=[col],axis=1,inplace=True)\n",
    "    api_df.insert(i,col,tmp)\n",
    "\n",
    "sum(api_df.duplicated())\n",
    "api_df.drop_duplicates(inplace=True)    "
   ],
   "id": "25bf4915f970d9b3",
   "outputs": [],
   "execution_count": 92
  },
  {
   "metadata": {
    "ExecuteTime": {
     "end_time": "2025-01-13T17:40:01.626194Z",
     "start_time": "2025-01-13T17:40:01.613822Z"
    }
   },
   "cell_type": "code",
   "source": [
    "#Final data of cleaned and transformed data\n",
    "api_df.head()"
   ],
   "id": "422ff9f6afefe808",
   "outputs": [
    {
     "data": {
      "text/plain": [
       "                                 title  release_year  \\\n",
       "0  the hobbit: the desolation of smaug          2013   \n",
       "1                               frozen          2013   \n",
       "2                               frozen          2010   \n",
       "3                               frozen          2005   \n",
       "6         little eggs: a frozen rescue          2022   \n",
       "\n",
       "                               genres  popularity  vote_average  vote_count  \\\n",
       "0            Fantasy,Adventure,Action      87.340         7.574     13227.0   \n",
       "1  Animation,Family,Adventure,Fantasy     191.622         7.246     16611.0   \n",
       "2                            Thriller      40.401         5.996      1831.0   \n",
       "3                            Thriller       7.794         5.700        18.0   \n",
       "6   Animation,Adventure,Comedy,Family      37.370         7.670       348.0   \n",
       "\n",
       "                        original_title  \\\n",
       "0  The Hobbit: The Desolation of Smaug   \n",
       "1                               Frozen   \n",
       "2                               Frozen   \n",
       "3                               Frozen   \n",
       "6                  Huevitos Congelados   \n",
       "\n",
       "                                            overview release_date  \\\n",
       "0  The Dwarves, Bilbo and Gandalf have successful...   2013-12-11   \n",
       "1  Young princess Anna of Arendelle dreams about ...   2013-11-20   \n",
       "2  When three skiers find themselves stranded on ...   2010-02-05   \n",
       "3  It's two years since the mysterious disappeara...   2005-03-12   \n",
       "6  In the final Huevos adventure, Toto and his fa...   2022-12-14   \n",
       "\n",
       "  original_language  \n",
       "0                en  \n",
       "1                en  \n",
       "2                en  \n",
       "3                en  \n",
       "6                es  "
      ],
      "text/html": [
       "<div>\n",
       "<style scoped>\n",
       "    .dataframe tbody tr th:only-of-type {\n",
       "        vertical-align: middle;\n",
       "    }\n",
       "\n",
       "    .dataframe tbody tr th {\n",
       "        vertical-align: top;\n",
       "    }\n",
       "\n",
       "    .dataframe thead th {\n",
       "        text-align: right;\n",
       "    }\n",
       "</style>\n",
       "<table border=\"1\" class=\"dataframe\">\n",
       "  <thead>\n",
       "    <tr style=\"text-align: right;\">\n",
       "      <th></th>\n",
       "      <th>title</th>\n",
       "      <th>release_year</th>\n",
       "      <th>genres</th>\n",
       "      <th>popularity</th>\n",
       "      <th>vote_average</th>\n",
       "      <th>vote_count</th>\n",
       "      <th>original_title</th>\n",
       "      <th>overview</th>\n",
       "      <th>release_date</th>\n",
       "      <th>original_language</th>\n",
       "    </tr>\n",
       "  </thead>\n",
       "  <tbody>\n",
       "    <tr>\n",
       "      <th>0</th>\n",
       "      <td>the hobbit: the desolation of smaug</td>\n",
       "      <td>2013</td>\n",
       "      <td>Fantasy,Adventure,Action</td>\n",
       "      <td>87.340</td>\n",
       "      <td>7.574</td>\n",
       "      <td>13227.0</td>\n",
       "      <td>The Hobbit: The Desolation of Smaug</td>\n",
       "      <td>The Dwarves, Bilbo and Gandalf have successful...</td>\n",
       "      <td>2013-12-11</td>\n",
       "      <td>en</td>\n",
       "    </tr>\n",
       "    <tr>\n",
       "      <th>1</th>\n",
       "      <td>frozen</td>\n",
       "      <td>2013</td>\n",
       "      <td>Animation,Family,Adventure,Fantasy</td>\n",
       "      <td>191.622</td>\n",
       "      <td>7.246</td>\n",
       "      <td>16611.0</td>\n",
       "      <td>Frozen</td>\n",
       "      <td>Young princess Anna of Arendelle dreams about ...</td>\n",
       "      <td>2013-11-20</td>\n",
       "      <td>en</td>\n",
       "    </tr>\n",
       "    <tr>\n",
       "      <th>2</th>\n",
       "      <td>frozen</td>\n",
       "      <td>2010</td>\n",
       "      <td>Thriller</td>\n",
       "      <td>40.401</td>\n",
       "      <td>5.996</td>\n",
       "      <td>1831.0</td>\n",
       "      <td>Frozen</td>\n",
       "      <td>When three skiers find themselves stranded on ...</td>\n",
       "      <td>2010-02-05</td>\n",
       "      <td>en</td>\n",
       "    </tr>\n",
       "    <tr>\n",
       "      <th>3</th>\n",
       "      <td>frozen</td>\n",
       "      <td>2005</td>\n",
       "      <td>Thriller</td>\n",
       "      <td>7.794</td>\n",
       "      <td>5.700</td>\n",
       "      <td>18.0</td>\n",
       "      <td>Frozen</td>\n",
       "      <td>It's two years since the mysterious disappeara...</td>\n",
       "      <td>2005-03-12</td>\n",
       "      <td>en</td>\n",
       "    </tr>\n",
       "    <tr>\n",
       "      <th>6</th>\n",
       "      <td>little eggs: a frozen rescue</td>\n",
       "      <td>2022</td>\n",
       "      <td>Animation,Adventure,Comedy,Family</td>\n",
       "      <td>37.370</td>\n",
       "      <td>7.670</td>\n",
       "      <td>348.0</td>\n",
       "      <td>Huevitos Congelados</td>\n",
       "      <td>In the final Huevos adventure, Toto and his fa...</td>\n",
       "      <td>2022-12-14</td>\n",
       "      <td>es</td>\n",
       "    </tr>\n",
       "  </tbody>\n",
       "</table>\n",
       "</div>"
      ]
     },
     "execution_count": 93,
     "metadata": {},
     "output_type": "execute_result"
    }
   ],
   "execution_count": 93
  },
  {
   "metadata": {},
   "cell_type": "markdown",
   "source": "# Store the transformed api data to be used in future",
   "id": "a0cfe47c6c802e7"
  },
  {
   "metadata": {
    "ExecuteTime": {
     "end_time": "2024-12-25T19:42:38.731608Z",
     "start_time": "2024-12-25T19:42:38.705566Z"
    }
   },
   "cell_type": "code",
   "source": "api_df.to_csv(r'./project_datasets/clean-api_data.csv',index=False)",
   "id": "e992e1a35d8dfbdc",
   "outputs": [],
   "execution_count": 33
  },
  {
   "metadata": {},
   "cell_type": "markdown",
   "source": "# API Ethical Implications and Assumptions:",
   "id": "43d0f4531792a4e4"
  },
  {
   "metadata": {},
   "cell_type": "markdown",
   "source": [
    "What changes were made to the data?\n",
    "\n",
    "The api may provide some of the dollar amounts separate by commas. I had to create columns which tells within what range the production cost was, this user friendly representation is easier to read. Example:\n",
    "\n",
    "production cost= 365,000,000\n",
    "prod_cost_range_million = 361-366\n",
    "\n",
    "The genres are listed as numbers, Example genre_id 28 which maps to Action and 12 maps to Adventure.\n",
    "\n",
    "I had to call another api to fetch the standard genre list and covert the genre_ids to its equivalent names.\n",
    "\n",
    "I also created a separate year column from the release date. The year the movie released is significant for my future analysis and visualizations.\n",
    "\n",
    "\n",
    "Are there any legal or regulatory guidelines for your data or project topic?\n",
    "\n",
    "There is a huge number of movies release every year and this would be a problem when making several calls and the api can be rate limited, hence I had to cut down the analysis to last 10 years.\n",
    "\n",
    "What risks could be created based on the transformations done?\n",
    "\n",
    "Care should be taken when saving the files into csv and later persisting them in database. Some of the database like SQLite does not allow a list of values to be stored.\n",
    " \n",
    "Did you make any assumptions in cleaning/transforming the data?\n",
    "\n",
    "I had to drop some  columns such as adult - which was to indicate the age recommendations for that movie. I also dropped columns like backdrop_path and poster_path which as not part of the analysis. The genre was tricky as some movies fall under more than one. As it had square braces, that would throw an exception when I have to save it in database. \n",
    "\n",
    "How was your data sourced / verified for credibility?\n",
    "\n",
    "I initially signed up for an account in imdb for an api key.The api had limitations on the number of requests I can make, therefore I signed up with tmdb api key which was far more flexible. TMDB is a very well know movie analytics website catering the needs of several projects wanting the movie data.\n",
    "\n",
    "Was your data acquired in an ethical way?\n",
    "\n",
    "The api keys ensure the api is accessed only via verified sources. The service hosted can only be accessed via the api keys\n"
   ],
   "id": "1e8b0063e62ba94d"
  }
 ],
 "metadata": {
  "kernelspec": {
   "display_name": "Python 3",
   "language": "python",
   "name": "python3"
  },
  "language_info": {
   "codemirror_mode": {
    "name": "ipython",
    "version": 2
   },
   "file_extension": ".py",
   "mimetype": "text/x-python",
   "name": "python",
   "nbconvert_exporter": "python",
   "pygments_lexer": "ipython2",
   "version": "2.7.6"
  }
 },
 "nbformat": 4,
 "nbformat_minor": 5
}
